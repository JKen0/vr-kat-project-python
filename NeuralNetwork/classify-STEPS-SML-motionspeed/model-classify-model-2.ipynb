{
 "cells": [
  {
   "cell_type": "code",
   "execution_count": 50,
   "metadata": {},
   "outputs": [],
   "source": [
    "import os\n",
    "import numpy as np\n",
    "import json\n",
    "from tensorflow.keras.models import Sequential\n",
    "from tensorflow.keras.layers import Dense, InputLayer, Flatten"
   ]
  },
  {
   "cell_type": "code",
   "execution_count": 51,
   "metadata": {},
   "outputs": [],
   "source": [
    "# Get the current working directory\n",
    "CURRENT_DIRECTORY = os.getcwd()\n",
    "# Get the parent directory\n",
    "PARENT_DIRECTORY = os.path.dirname(CURRENT_DIRECTORY)\n",
    "PARENT_DIRECTORY = os.path.dirname(PARENT_DIRECTORY)\n",
    "\n",
    "# Open the config file and load its content into a dictionary\n",
    "config_file = open(PARENT_DIRECTORY + '\\\\config\\\\config.json')\n",
    "CONFIG_DATA = json.load(config_file)\n",
    "\n",
    "# Close the file after loading the data\n",
    "config_file.close()"
   ]
  },
  {
   "cell_type": "code",
   "execution_count": 52,
   "metadata": {},
   "outputs": [],
   "source": [
    "WINDOW_SIZE = CONFIG_DATA['WINDOW_SIZE']\n",
    "NUMBER_OF_FEATURES = CONFIG_DATA[\"NUMBER_OF_FEATURES\"]\n",
    "NUM_EPOCHS = CONFIG_DATA[\"NUMBER_OF_EPOCHS\"]\n",
    "CLASSICATIONS = CONFIG_DATA['CLASSES_MOTIONSPEED']\n",
    "\n",
    "ALL_X_TRAINING_DATA_PATH = PARENT_DIRECTORY + '\\\\NeuralNetwork\\\\np-saved-data\\\\training\\\\ALL-X-TRAIN-CLASSIFY-MOTIONSPEED-SML-STEPS-V0.npy'\n",
    "ALL_Y_TRAINING_DATA_PATH = PARENT_DIRECTORY + '\\\\NeuralNetwork\\\\np-saved-data\\\\training\\\\ALL-Y-TRAIN-CLASSIFY-MOTIONSPEED-SML-STEPS-V0.npy'\n",
    "\n",
    "ALL_X_TEST_DATA_PATH = PARENT_DIRECTORY + '\\\\NeuralNetwork\\\\np-saved-data\\\\test\\\\ALL-X-TEST-CLASSIFY-MOTIONSPEED-SML-STEPS-V0.npy'\n",
    "ALL_Y_TEST_DATA_PATH = PARENT_DIRECTORY + '\\\\NeuralNetwork\\\\np-saved-data\\\\test\\\\ALL-Y-TEST-CLASSIFY-MOTIONSPEED-SML-STEPS-V0.npy'\n",
    "\n",
    "MOTION_MODEL_SAVE_PATH =  PARENT_DIRECTORY + '\\\\NeuralNetwork\\\\models\\\\standard-backprop-motionspeed-sml-steps-2.h5'"
   ]
  },
  {
   "cell_type": "code",
   "execution_count": 53,
   "metadata": {},
   "outputs": [
    {
     "name": "stdout",
     "output_type": "stream",
     "text": [
      "(46587, 2)\n",
      "(46587,)\n",
      "(53071, 2)\n",
      "(53071,)\n"
     ]
    }
   ],
   "source": [
    "ALL_X_TRAIN_DATA = np.load(ALL_X_TRAINING_DATA_PATH)\n",
    "ALL_Y_TRAIN_DATA = np.load(ALL_Y_TRAINING_DATA_PATH)\n",
    "\n",
    "ALL_X_TEST_DATA = np.load(ALL_X_TEST_DATA_PATH)\n",
    "ALL_Y_TEST_DATA = np.load(ALL_Y_TEST_DATA_PATH)\n",
    "\n",
    "ALL_X_TRAIN_DATA = ALL_X_TRAIN_DATA[:, [0, 2, 4, 6]]\n",
    "ALL_X_TEST_DATA = ALL_X_TEST_DATA[:, [0, 2, 4, 6]]\n",
    "\n",
    "# Sum between columns 0 and 1\n",
    "sum_cols_01 = np.sum(ALL_X_TRAIN_DATA[:, 0:2], axis=1)\n",
    "\n",
    "# Sum between columns 2 and 3\n",
    "sum_cols_23 = np.sum(ALL_X_TRAIN_DATA[:, 2:4], axis=1)\n",
    "\n",
    "ALL_X_TRAIN_DATA =  np.column_stack((sum_cols_01, sum_cols_23))\n",
    "\n",
    "# Sum between columns 0 and 1\n",
    "sum_cols_01 = np.sum(ALL_X_TEST_DATA[:, 0:2], axis=1)\n",
    "# Sum between columns 2 and 3\n",
    "sum_cols_23 = np.sum(ALL_X_TEST_DATA[:, 2:4], axis=1)\n",
    "\n",
    "ALL_X_TEST_DATA =  np.column_stack((sum_cols_01, sum_cols_23))\n",
    "\n",
    "print(ALL_X_TRAIN_DATA.shape)\n",
    "print(ALL_Y_TRAIN_DATA.shape)\n",
    "\n",
    "print(ALL_X_TEST_DATA.shape)\n",
    "print(ALL_Y_TEST_DATA.shape)"
   ]
  },
  {
   "cell_type": "code",
   "execution_count": 54,
   "metadata": {},
   "outputs": [],
   "source": [
    "# Generate random permutation indices\n",
    "random_indices_1 = np.random.permutation(len(ALL_X_TRAIN_DATA))\n",
    "\n",
    "\n",
    "# Shuffle the input features and target labels using the random indices\n",
    "shuffled_X_TRAIN_DATA = ALL_X_TRAIN_DATA[random_indices_1]\n",
    "shuffled_Y_TRAIN_DATA = ALL_Y_TRAIN_DATA[random_indices_1]"
   ]
  },
  {
   "cell_type": "code",
   "execution_count": 55,
   "metadata": {},
   "outputs": [],
   "source": [
    "# Generate random permutation indices\n",
    "random_indices_2 = np.random.permutation(len(ALL_X_TEST_DATA))\n",
    "\n",
    "# Shuffle the input features and target labels using the random indices\n",
    "shuffled_X_TEST_DATA = ALL_X_TEST_DATA[random_indices_2]\n",
    "shuffled_Y_TEST_DATA = ALL_Y_TEST_DATA[random_indices_2]"
   ]
  },
  {
   "cell_type": "code",
   "execution_count": 56,
   "metadata": {},
   "outputs": [],
   "source": [
    "output_activation_function = 'sigmoid' if len(CLASSICATIONS) == 2 else 'softmax'\n",
    "loss_algorithm = 'binary_crossentropy' if len(CLASSICATIONS) == 2 else 'sparse_categorical_crossentropy'\n",
    "output_size = 1 if len(CLASSICATIONS) == 2 else len(CLASSICATIONS)"
   ]
  },
  {
   "cell_type": "code",
   "execution_count": 57,
   "metadata": {},
   "outputs": [
    {
     "name": "stdout",
     "output_type": "stream",
     "text": [
      "Model: \"sequential_7\"\n",
      "_________________________________________________________________\n",
      " Layer (type)                Output Shape              Param #   \n",
      "=================================================================\n",
      " dense_15 (Dense)            (None, 8)                 24        \n",
      "                                                                 \n",
      " dense_16 (Dense)            (None, 4)                 36        \n",
      "                                                                 \n",
      " dense_17 (Dense)            (None, 3)                 15        \n",
      "                                                                 \n",
      "=================================================================\n",
      "Total params: 75\n",
      "Trainable params: 75\n",
      "Non-trainable params: 0\n",
      "_________________________________________________________________\n"
     ]
    }
   ],
   "source": [
    "model2_motion = Sequential()\n",
    "model2_motion.add(InputLayer((2)))\n",
    "model2_motion.add(Dense(8, activation='relu'))\n",
    "model2_motion.add(Dense(4, activation='relu'))\n",
    "model2_motion.add(Dense(output_size, activation=output_activation_function))\n",
    "\n",
    "model2_motion.summary()"
   ]
  },
  {
   "cell_type": "code",
   "execution_count": 58,
   "metadata": {},
   "outputs": [
    {
     "name": "stdout",
     "output_type": "stream",
     "text": [
      "Epoch 1/12\n",
      "1456/1456 [==============================] - 6s 3ms/step - loss: 0.2618 - acc: 0.9286 - val_loss: 0.3539 - val_acc: 0.8327\n",
      "Epoch 2/12\n",
      "1456/1456 [==============================] - 6s 4ms/step - loss: 0.1011 - acc: 0.9670 - val_loss: 0.5252 - val_acc: 0.8024\n",
      "Epoch 3/12\n",
      "1456/1456 [==============================] - 4s 3ms/step - loss: 0.0966 - acc: 0.9680 - val_loss: 0.4350 - val_acc: 0.8415\n",
      "Epoch 4/12\n",
      "1456/1456 [==============================] - 5s 3ms/step - loss: 0.0973 - acc: 0.9677 - val_loss: 0.4705 - val_acc: 0.8276\n",
      "Epoch 5/12\n",
      "1456/1456 [==============================] - 5s 3ms/step - loss: 0.0961 - acc: 0.9677 - val_loss: 0.4671 - val_acc: 0.8339\n",
      "Epoch 6/12\n",
      "1456/1456 [==============================] - 5s 3ms/step - loss: 0.0960 - acc: 0.9681 - val_loss: 0.4624 - val_acc: 0.8352\n",
      "Epoch 7/12\n",
      "1456/1456 [==============================] - 5s 3ms/step - loss: 0.0951 - acc: 0.9681 - val_loss: 0.4993 - val_acc: 0.8272\n",
      "Epoch 8/12\n",
      "1456/1456 [==============================] - 5s 3ms/step - loss: 0.0960 - acc: 0.9685 - val_loss: 0.4365 - val_acc: 0.8476\n",
      "Epoch 9/12\n",
      "1456/1456 [==============================] - 5s 3ms/step - loss: 0.0951 - acc: 0.9677 - val_loss: 0.4784 - val_acc: 0.8272\n",
      "Epoch 10/12\n",
      "1456/1456 [==============================] - 5s 3ms/step - loss: 0.0959 - acc: 0.9674 - val_loss: 0.4949 - val_acc: 0.8272\n",
      "Epoch 11/12\n",
      "1456/1456 [==============================] - 5s 3ms/step - loss: 0.0950 - acc: 0.9678 - val_loss: 0.4521 - val_acc: 0.8407\n",
      "Epoch 12/12\n",
      "1456/1456 [==============================] - 5s 3ms/step - loss: 0.0947 - acc: 0.9680 - val_loss: 0.5033 - val_acc: 0.8207\n"
     ]
    }
   ],
   "source": [
    "# Compile the model\n",
    "model2_motion.compile(optimizer='adam', loss=loss_algorithm, metrics=['acc'])\n",
    "\n",
    "history2_motion = model2_motion.fit(shuffled_X_TRAIN_DATA, shuffled_Y_TRAIN_DATA, validation_data=(shuffled_X_TEST_DATA, shuffled_Y_TEST_DATA), epochs=NUM_EPOCHS)\n",
    "\n",
    "# Save the model to a file\n",
    "model2_motion.save(MOTION_MODEL_SAVE_PATH)"
   ]
  }
 ],
 "metadata": {
  "kernelspec": {
   "display_name": "Python 3",
   "language": "python",
   "name": "python3"
  },
  "language_info": {
   "codemirror_mode": {
    "name": "ipython",
    "version": 3
   },
   "file_extension": ".py",
   "mimetype": "text/x-python",
   "name": "python",
   "nbconvert_exporter": "python",
   "pygments_lexer": "ipython3",
   "version": "3.11.2"
  },
  "orig_nbformat": 4
 },
 "nbformat": 4,
 "nbformat_minor": 2
}
