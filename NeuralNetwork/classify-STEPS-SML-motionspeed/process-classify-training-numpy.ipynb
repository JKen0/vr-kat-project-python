{
 "cells": [
  {
   "cell_type": "code",
   "execution_count": 1,
   "metadata": {},
   "outputs": [],
   "source": [
    "import os\n",
    "import pandas as pd\n",
    "import numpy as np\n",
    "import json"
   ]
  },
  {
   "cell_type": "code",
   "execution_count": 2,
   "metadata": {},
   "outputs": [],
   "source": [
    "# Get the current working directory\n",
    "CURRENT_DIRECTORY = os.getcwd()\n",
    "# Get the parent directory\n",
    "PARENT_DIRECTORY = os.path.dirname(CURRENT_DIRECTORY)\n",
    "PARENT_DIRECTORY = os.path.dirname(PARENT_DIRECTORY)\n",
    "\n",
    "# Open the config file and load its content into a dictionary\n",
    "config_file = open(PARENT_DIRECTORY + '\\\\config\\\\config.json')\n",
    "CONFIG_DATA = json.load(config_file)\n",
    "\n",
    "# Close the file after loading the data\n",
    "config_file.close()"
   ]
  },
  {
   "cell_type": "code",
   "execution_count": 3,
   "metadata": {},
   "outputs": [],
   "source": [
    "WINDOW_SIZE = CONFIG_DATA['WINDOW_SIZE']\n",
    "NUMBER_OF_FEATURES = CONFIG_DATA['NUMBER_OF_FEATURES']\n",
    "\n",
    "CLASSIFICATIONS = CONFIG_DATA['CLASSES_MOTIONSPEED']\n",
    "\n",
    "LABEL_COLUMN = 'Class_MotionSpeed'\n",
    "\n",
    "# processed data folder path\n",
    "DATA_FOLDER = PARENT_DIRECTORY + '\\\\processed-training-data\\\\4-PROCESSED-DATA\\TRAIN2\\\\'\n",
    "\n",
    "# save numpy data folder\n",
    "NUMPY_DATA_FOLDER_FILE_PATH = PARENT_DIRECTORY + '\\\\NeuralNetwork\\\\np-saved-data\\\\'\n",
    "\n",
    "# v0 data (not normalized, use to generate more data)\n",
    "ALL_X_TRAIN_CLASSIFY_PATH = PARENT_DIRECTORY + '\\\\NeuralNetwork\\\\np-saved-data\\\\training\\\\ALL-X-TRAIN-CLASSIFY-MOTIONSPEED-SML-STEPS-V0.npy'\n",
    "ALL_Y_TRAIN_CLASSIFY_PATH = PARENT_DIRECTORY + '\\\\NeuralNetwork\\\\np-saved-data\\\\training\\\\ALL-Y-TRAIN-CLASSIFY-MOTIONSPEED-SML-STEPS-V0.npy'"
   ]
  },
  {
   "cell_type": "code",
   "execution_count": 4,
   "metadata": {},
   "outputs": [
    {
     "name": "stdout",
     "output_type": "stream",
     "text": [
      "{'SLOW': 0, 'AVERAGE': 1, 'FAST': 2}\n"
     ]
    }
   ],
   "source": [
    "LABEL_TO_CATEGORY = {label: category for category, label in enumerate(CLASSIFICATIONS)}\n",
    "\n",
    "print(LABEL_TO_CATEGORY)"
   ]
  },
  {
   "cell_type": "code",
   "execution_count": 5,
   "metadata": {},
   "outputs": [
    {
     "name": "stdout",
     "output_type": "stream",
     "text": [
      "['PROC-TRAIN2-SIDESTEPS-L-SML-120BPM-AUGMENT.xlsx', 'PROC-TRAIN2-SIDESTEPS-L-SML-160BPM-AUGMENT.xlsx', 'PROC-TRAIN2-SIDESTEPS-L-SML-30BPM-AUGMENT.xlsx', 'PROC-TRAIN2-SIDESTEPS-L-SML-40BPM-AUGMENT.xlsx', 'PROC-TRAIN2-SIDESTEPS-L-SML-60BPM.xlsx', 'PROC-TRAIN2-SIDESTEPS-L-SML-80BPM.xlsx', 'PROC-TRAIN2-SIDESTEPS-R-SML-120BPM-AUGMENT.xlsx', 'PROC-TRAIN2-SIDESTEPS-R-SML-160BPM-AUGMENT.xlsx', 'PROC-TRAIN2-SIDESTEPS-R-SML-30BPM-AUGMENT.xlsx', 'PROC-TRAIN2-SIDESTEPS-R-SML-40BPM-AUGMENT.xlsx', 'PROC-TRAIN2-SIDESTEPS-R-SML-60BPM.xlsx', 'PROC-TRAIN2-SIDESTEPS-R-SML-80BPM.xlsx', 'PROC-TRAIN2-STEPS-LR-SML-110BPM.xlsx', 'PROC-TRAIN2-STEPS-LR-SML-120BPM-AUGMENT.xlsx', 'PROC-TRAIN2-STEPS-LR-SML-160BPM-AUGMENT.xlsx', 'PROC-TRAIN2-STEPS-LR-SML-220BPM-AUGMENT.xlsx', 'PROC-TRAIN2-STEPS-LR-SML-30BPM-AUGMENT.xlsx', 'PROC-TRAIN2-STEPS-LR-SML-40BPM-AUGMENT.xlsx', 'PROC-TRAIN2-STEPS-LR-SML-55BPM-AUGMENT.xlsx', 'PROC-TRAIN2-STEPS-LR-SML-60BPM.xlsx', 'PROC-TRAIN2-STEPS-LR-SML-80BPM.xlsx']\n"
     ]
    }
   ],
   "source": [
    "file_names = [file for file in os.listdir(DATA_FOLDER) if file.endswith('.xlsx') and \"SML\" in file and \"STEPS\" in file and os.path.isfile(os.path.join(DATA_FOLDER, file))]\n",
    "\n",
    "print(file_names)"
   ]
  },
  {
   "cell_type": "code",
   "execution_count": 6,
   "metadata": {},
   "outputs": [],
   "source": [
    "def normalizeSensorData(sensor_input):\n",
    "    return (sensor_input + 180)/360\n"
   ]
  },
  {
   "cell_type": "code",
   "execution_count": 7,
   "metadata": {},
   "outputs": [],
   "source": [
    "def df2Xy(df, windowSize=5):\n",
    "  X = []\n",
    "  y = []\n",
    "\n",
    "  # NORMALIZE THE SENSOR DATA\n",
    "  #df[\"L_Pitch_Delta\"] = df[\"L_Pitch_Delta\"].apply(normalizeSensorData)\n",
    "  #df[\"L_Roll_Delta\"] = df[\"L_Roll_Delta\"].apply(normalizeSensorData)\n",
    "  #df[\"R_Pitch_Delta\"] = df[\"R_Pitch_Delta\"].apply(normalizeSensorData)\n",
    "  #df[\"R_Roll_Delta\"] = df[\"R_Roll_Delta\"].apply(normalizeSensorData)\n",
    "\n",
    "  for i in range( len(df) - windowSize + 1):\n",
    "    # inputs: X rows\n",
    "    # form a new input which has size of our windowSize\n",
    "    input_data_list = []\n",
    "\n",
    "    # loop through each row in our windowsize\n",
    "    for j in range(windowSize):\n",
    "        # fetch sensor data for this row\n",
    "        row_values = df.loc[i + j, ['L_Pitch_Delta', 'L_Roll_Delta', 'R_Pitch_Delta', 'R_Roll_Delta']].values.tolist()\n",
    "\n",
    "        # add row values to the input\n",
    "        input_data_list.append(row_values)\n",
    "\n",
    "    # turnn list into array to do arthimetic\n",
    "    input_data_array = np.array(input_data_list)\n",
    "\n",
    "    # remove all negative sinces we want to the total change (we dont care which direction)\n",
    "    input_data_array = np.abs(input_data_array)\n",
    "\n",
    "    # calculate the total change for each sennsor value (TOTAL POSITIVE SENSOR CHANGES)\n",
    "    input_data_array = np.sum(input_data_array, axis=0)\n",
    "\n",
    "    if(np.isnan(input_data_array).any() == False):\n",
    "      # turn back to list\n",
    "      input_data_list = input_data_array.tolist()\n",
    "\n",
    "      # add our input to our total inputs, marked as X\n",
    "      X.append(input_data_list)\n",
    "\n",
    "      # outputs: y labels\n",
    "      label = df.loc[i + (windowSize - 1), [LABEL_COLUMN]].values.tolist()\n",
    "\n",
    "      y.append(label)\n",
    "\n",
    "  return (np.array(X), np.array(y))"
   ]
  },
  {
   "cell_type": "code",
   "execution_count": 8,
   "metadata": {},
   "outputs": [],
   "source": [
    "ALL_X_TRAIN = np.empty((0, NUMBER_OF_FEATURES))  # List to store all X training data\n",
    "ALL_Y_TRAIN = np.empty((0))  # List to store all Y training data"
   ]
  },
  {
   "cell_type": "code",
   "execution_count": 9,
   "metadata": {},
   "outputs": [],
   "source": [
    "def processData(ALL_X, ALL_Y):\n",
    "    for fileName in file_names:\n",
    "        # Read the Excel file\n",
    "        df = pd.read_excel(DATA_FOLDER + fileName)\n",
    "\n",
    "        xTrain, yTrain = df2Xy(df, WINDOW_SIZE)\n",
    "\n",
    "        yTrain = yTrain.reshape(-1)\n",
    "        \n",
    "        ALL_X = np.concatenate([ALL_X, xTrain])\n",
    "        ALL_Y = np.concatenate([ALL_Y, yTrain])\n",
    "        \n",
    "        print('xTrain.shape:', xTrain.shape)\n",
    "        print('ALL_X_TRAIN.shape:', ALL_X.shape, ' ALL_Y_TRAIN.shape:', ALL_Y.shape)\n",
    "        print('-------------------------------')\n",
    "\n",
    "    # Create the folder if it doesn't exist\n",
    "    if not os.path.exists(NUMPY_DATA_FOLDER_FILE_PATH):\n",
    "        os.makedirs(NUMPY_DATA_FOLDER_FILE_PATH)\n",
    "\n",
    "    # convert to numerical labels (originally text labels)\n",
    "    numerical_label = np.vectorize(LABEL_TO_CATEGORY.get)(ALL_Y)\n",
    "\n",
    "    # Assuming your numpy array is called 'data_array'\n",
    "    np.save(ALL_X_TRAIN_CLASSIFY_PATH, ALL_X)\n",
    "    np.save(ALL_Y_TRAIN_CLASSIFY_PATH, numerical_label)"
   ]
  },
  {
   "cell_type": "code",
   "execution_count": 10,
   "metadata": {},
   "outputs": [
    {
     "name": "stdout",
     "output_type": "stream",
     "text": [
      "xTrain.shape: (3389, 4)\n",
      "ALL_X_TRAIN.shape: (3389, 4)  ALL_Y_TRAIN.shape: (3389,)\n",
      "-------------------------------\n",
      "xTrain.shape: (3060, 4)\n",
      "ALL_X_TRAIN.shape: (6449, 4)  ALL_Y_TRAIN.shape: (6449,)\n",
      "-------------------------------\n",
      "xTrain.shape: (6798, 4)\n",
      "ALL_X_TRAIN.shape: (13247, 4)  ALL_Y_TRAIN.shape: (13247,)\n",
      "-------------------------------\n",
      "xTrain.shape: (6140, 4)\n",
      "ALL_X_TRAIN.shape: (19387, 4)  ALL_Y_TRAIN.shape: (19387,)\n",
      "-------------------------------\n",
      "xTrain.shape: (3390, 4)\n",
      "ALL_X_TRAIN.shape: (22777, 4)  ALL_Y_TRAIN.shape: (22777,)\n",
      "-------------------------------\n",
      "xTrain.shape: (3061, 4)\n",
      "ALL_X_TRAIN.shape: (25838, 4)  ALL_Y_TRAIN.shape: (25838,)\n",
      "-------------------------------\n",
      "xTrain.shape: (4003, 4)\n",
      "ALL_X_TRAIN.shape: (29841, 4)  ALL_Y_TRAIN.shape: (29841,)\n",
      "-------------------------------\n",
      "xTrain.shape: (3699, 4)\n",
      "ALL_X_TRAIN.shape: (33540, 4)  ALL_Y_TRAIN.shape: (33540,)\n",
      "-------------------------------\n",
      "xTrain.shape: (8026, 4)\n",
      "ALL_X_TRAIN.shape: (41566, 4)  ALL_Y_TRAIN.shape: (41566,)\n",
      "-------------------------------\n",
      "xTrain.shape: (7418, 4)\n",
      "ALL_X_TRAIN.shape: (48984, 4)  ALL_Y_TRAIN.shape: (48984,)\n",
      "-------------------------------\n",
      "xTrain.shape: (4004, 4)\n",
      "ALL_X_TRAIN.shape: (52988, 4)  ALL_Y_TRAIN.shape: (52988,)\n",
      "-------------------------------\n",
      "xTrain.shape: (3700, 4)\n",
      "ALL_X_TRAIN.shape: (56688, 4)  ALL_Y_TRAIN.shape: (56688,)\n",
      "-------------------------------\n",
      "xTrain.shape: (3997, 4)\n",
      "ALL_X_TRAIN.shape: (60685, 4)  ALL_Y_TRAIN.shape: (60685,)\n",
      "-------------------------------\n",
      "xTrain.shape: (3285, 4)\n",
      "ALL_X_TRAIN.shape: (63970, 4)  ALL_Y_TRAIN.shape: (63970,)\n",
      "-------------------------------\n",
      "xTrain.shape: (4350, 4)\n",
      "ALL_X_TRAIN.shape: (68320, 4)  ALL_Y_TRAIN.shape: (68320,)\n",
      "-------------------------------\n",
      "xTrain.shape: (3996, 4)\n",
      "ALL_X_TRAIN.shape: (72316, 4)  ALL_Y_TRAIN.shape: (72316,)\n",
      "-------------------------------\n",
      "xTrain.shape: (6590, 4)\n",
      "ALL_X_TRAIN.shape: (78906, 4)  ALL_Y_TRAIN.shape: (78906,)\n",
      "-------------------------------\n",
      "xTrain.shape: (8720, 4)\n",
      "ALL_X_TRAIN.shape: (87626, 4)  ALL_Y_TRAIN.shape: (87626,)\n",
      "-------------------------------\n",
      "xTrain.shape: (8012, 4)\n",
      "ALL_X_TRAIN.shape: (95638, 4)  ALL_Y_TRAIN.shape: (95638,)\n",
      "-------------------------------\n",
      "xTrain.shape: (3286, 4)\n",
      "ALL_X_TRAIN.shape: (98924, 4)  ALL_Y_TRAIN.shape: (98924,)\n",
      "-------------------------------\n",
      "xTrain.shape: (4351, 4)\n",
      "ALL_X_TRAIN.shape: (103275, 4)  ALL_Y_TRAIN.shape: (103275,)\n",
      "-------------------------------\n",
      "(103275, 4)\n",
      "(103275,)\n"
     ]
    }
   ],
   "source": [
    "if not os.path.exists(ALL_X_TRAIN_CLASSIFY_PATH):\n",
    "    processData(ALL_X_TRAIN, ALL_Y_TRAIN)\n",
    "\n",
    "ALL_X_TRAIN_CLASSIFY = np.load(ALL_X_TRAIN_CLASSIFY_PATH)\n",
    "ALL_Y_TRAIN_CLASSIFY = np.load(ALL_Y_TRAIN_CLASSIFY_PATH)\n",
    "\n",
    "print(ALL_X_TRAIN_CLASSIFY.shape)\n",
    "print(ALL_Y_TRAIN_CLASSIFY.shape)"
   ]
  },
  {
   "cell_type": "code",
   "execution_count": 11,
   "metadata": {},
   "outputs": [
    {
     "name": "stdout",
     "output_type": "stream",
     "text": [
      "121.0\n"
     ]
    }
   ],
   "source": [
    "print(np.max(ALL_X_TRAIN_CLASSIFY))"
   ]
  }
 ],
 "metadata": {
  "kernelspec": {
   "display_name": "Python 3",
   "language": "python",
   "name": "python3"
  },
  "language_info": {
   "codemirror_mode": {
    "name": "ipython",
    "version": 3
   },
   "file_extension": ".py",
   "mimetype": "text/x-python",
   "name": "python",
   "nbconvert_exporter": "python",
   "pygments_lexer": "ipython3",
   "version": "3.11.2"
  },
  "orig_nbformat": 4
 },
 "nbformat": 4,
 "nbformat_minor": 2
}
