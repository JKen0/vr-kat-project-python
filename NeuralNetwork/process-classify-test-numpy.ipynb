{
 "cells": [
  {
   "cell_type": "code",
   "execution_count": 31,
   "metadata": {},
   "outputs": [],
   "source": [
    "import os\n",
    "import pandas as pd\n",
    "import numpy as np\n",
    "from tensorflow.keras.utils import to_categorical"
   ]
  },
  {
   "cell_type": "code",
   "execution_count": 32,
   "metadata": {},
   "outputs": [],
   "source": [
    "WINDOW_SIZE = 25\n",
    "NUMBER_OF_FEATURES = 4\n",
    "NUMBER_OF_CLASSES = 2\n",
    "\n",
    "MOTION_CLASSES = ['STAND', 'STEPS']\n",
    "MOTIONTYPE_CLASSES = ['SML', 'MED', 'LAR']\n",
    "MOTIONSPEED_CLASSES = ['SLOW', 'AVERAGE', 'FAST']\n",
    "\n",
    "\n",
    "# Get the current working directory\n",
    "CURRENT_DIRECTORY = os.getcwd()\n",
    "# Get the parent directory\n",
    "PARENT_DIRECTORY = os.path.dirname(CURRENT_DIRECTORY)\n",
    "\n",
    "DATA_FOLDER = PARENT_DIRECTORY + '\\\\processed-training-data\\\\4-PROCESSED-DATA\\TEST2\\\\'\n",
    "\n",
    "# numpy data folder\n",
    "NUMPY_DATA_FOLDER_FILE_PATH = PARENT_DIRECTORY + '\\\\NeuralNetwork\\\\np-saved-data\\\\'\n",
    "\n",
    "# v0 data (not normalized, use to generate more data)\n",
    "ALL_X_TEST_CLASSIFY_PATH = PARENT_DIRECTORY + '\\\\NeuralNetwork\\\\np-saved-data\\\\test\\\\ALL-X-TEST-CLASSIFY-V0.npy'\n",
    "ALL_Y_TEST_CLASSIFY_MOTION_PATH = PARENT_DIRECTORY + '\\\\NeuralNetwork\\\\np-saved-data\\\\test\\\\ALL-Y-TEST-CLASSIFY-MOTION-V0.npy'\n",
    "ALL_Y_TEST_CLASSIFY_MOTIONTYPE_PATH = PARENT_DIRECTORY + '\\\\NeuralNetwork\\\\np-saved-data\\\\test\\\\ALL-Y-TEST-CLASSIFY-MOTIONTYPE-V0.npy'\n",
    "ALL_Y_TEST_CLASSIFY_MOTIONSPEED_PATH = PARENT_DIRECTORY + '\\\\NeuralNetwork\\\\np-saved-data\\\\test\\\\ALL-Y-TEST-CLASSIFY-MOTIONSPEED-V0.npy'"
   ]
  },
  {
   "cell_type": "code",
   "execution_count": 33,
   "metadata": {},
   "outputs": [
    {
     "name": "stdout",
     "output_type": "stream",
     "text": [
      "{'STAND': 0, 'STEPS': 1}\n",
      "{'SML': 0, 'MED': 1, 'LAR': 2}\n",
      "{'SLOW': 0, 'AVERAGE': 1, 'FAST': 2}\n"
     ]
    }
   ],
   "source": [
    "LABEL_TO_CATEGORY_MOTION = {label: category for category, label in enumerate(MOTION_CLASSES)}\n",
    "LABEL_TO_CATEGORY_MOTIONTYPE = {label: category for category, label in enumerate(MOTIONTYPE_CLASSES)}\n",
    "LABEL_TO_CATEGORY_MOTIONSPEED = {label: category for category, label in enumerate(MOTIONSPEED_CLASSES)}\n",
    "\n",
    "print(LABEL_TO_CATEGORY_MOTION)\n",
    "print(LABEL_TO_CATEGORY_MOTIONTYPE)\n",
    "print(LABEL_TO_CATEGORY_MOTIONSPEED)"
   ]
  },
  {
   "cell_type": "code",
   "execution_count": 34,
   "metadata": {},
   "outputs": [
    {
     "name": "stdout",
     "output_type": "stream",
     "text": [
      "['PROC-TEST2-STEPS-LR-LAR-130BPM.xlsx', 'PROC-TEST2-STEPS-LR-LAR-180BPM-AUGMENT.xlsx', 'PROC-TEST2-STEPS-LR-LAR-260BPM-AUGMENT.xlsx', 'PROC-TEST2-STEPS-LR-LAR-45BPM-AUGMENT.xlsx', 'PROC-TEST2-STEPS-LR-LAR-65BPM-AUGMENT.xlsx', 'PROC-TEST2-STEPS-LR-LAR-90BPM.xlsx', 'PROC-TEST2-STEPS-LR-MED-100BPM.xlsx', 'PROC-TEST2-STEPS-LR-MED-130BPM.xlsx', 'PROC-TEST2-STEPS-LR-MED-180BPM-AUGMENT.xlsx', 'PROC-TEST2-STEPS-LR-MED-200BPM-AUGMENT.xlsx', 'PROC-TEST2-STEPS-LR-MED-260BPM-AUGMENT.xlsx', 'PROC-TEST2-STEPS-LR-MED-45BPM-AUGMENT.xlsx', 'PROC-TEST2-STEPS-LR-MED-50BPM-AUGMENT.xlsx', 'PROC-TEST2-STEPS-LR-MED-65BPM-AUGMENT.xlsx', 'PROC-TEST2-STEPS-LR-MED-90BPM.xlsx']\n"
     ]
    }
   ],
   "source": [
    "file_names = [file for file in os.listdir(DATA_FOLDER) if file.endswith('.xlsx') and os.path.isfile(os.path.join(DATA_FOLDER, file))]\n",
    "\n",
    "print(file_names)"
   ]
  },
  {
   "cell_type": "code",
   "execution_count": 35,
   "metadata": {},
   "outputs": [],
   "source": [
    "def normalizeSensorData(sensor_input):\n",
    "    return (sensor_input + 45)/90"
   ]
  },
  {
   "cell_type": "code",
   "execution_count": 36,
   "metadata": {},
   "outputs": [],
   "source": [
    "def df2Xy(df, windowSize=5):\n",
    "  X = []\n",
    "  y_Motion= []\n",
    "  y_MotionType = []\n",
    "  y_MotionSpeed = []\n",
    "\n",
    "  # NORMALIZE THE SENSOR DATA\n",
    "  df[\"L_Pitch_Delta\"] = df[\"L_Pitch_Delta\"].apply(normalizeSensorData)\n",
    "  df[\"L_Roll_Delta\"] = df[\"L_Roll_Delta\"].apply(normalizeSensorData)\n",
    "  df[\"R_Pitch_Delta\"] = df[\"R_Pitch_Delta\"].apply(normalizeSensorData)\n",
    "  df[\"R_Roll_Delta\"] = df[\"R_Roll_Delta\"].apply(normalizeSensorData)\n",
    "\n",
    "  for i in range( len(df) - windowSize + 1):\n",
    "    # inputs: X rows\n",
    "    # form a new input which has size of our windowSize\n",
    "    input = []\n",
    "\n",
    "    # loop through each row in our windowsize\n",
    "    for j in range(windowSize):\n",
    "        # fetch sensor data for this row\n",
    "        row_values = df.loc[i + j, ['L_Pitch_Delta', 'L_Roll_Delta', 'R_Pitch_Delta', 'R_Roll_Delta']].values.tolist()\n",
    "\n",
    "        # add row values to the input\n",
    "        input.append(row_values)\n",
    "\n",
    "    # add our input to our total inputs, marked as X\n",
    "    X.append(input)\n",
    "\n",
    "  y_Motion = df.iloc[windowSize - 1:, df.columns.get_loc('Class_Motion')].tolist()\n",
    "  y_MotionType = df.iloc[windowSize - 1:, df.columns.get_loc('Class_MotionType')].tolist()\n",
    "  y_MotionSpeed = df.iloc[windowSize - 1:, df.columns.get_loc('Class_MotionSpeed')].tolist()\n",
    "\n",
    "\n",
    "  return (np.array(X), np.array(y_Motion), np.array(y_MotionType), np.array(y_MotionSpeed))"
   ]
  },
  {
   "cell_type": "code",
   "execution_count": 37,
   "metadata": {},
   "outputs": [],
   "source": [
    "ALL_X = np.empty((0, WINDOW_SIZE, NUMBER_OF_FEATURES))  # List to store all X training data\n",
    "ALL_Y_MOTION = np.empty((0))  # List to store all Y training data\n",
    "ALL_Y_MOTIONTYPE = np.empty((0))  # List to store all Y training data\n",
    "ALL_Y_MOTIONSPEED = np.empty((0))  # List to store all Y training data"
   ]
  },
  {
   "cell_type": "code",
   "execution_count": 38,
   "metadata": {},
   "outputs": [],
   "source": [
    "def processData(ALL_X, ALL_Y_MOTION, ALL_Y_MOTIONTYPE, ALL_Y_MOTIONSPEED):\n",
    "    for fileName in file_names:\n",
    "        # Read the Excel file\n",
    "        df = pd.read_excel(DATA_FOLDER + fileName)\n",
    "\n",
    "        xTest, yTest_Motion, yTest_MotionType, yTest_MotionSpeed = df2Xy(df, WINDOW_SIZE)\n",
    "        \n",
    "        ALL_X = np.concatenate([ALL_X, xTest])\n",
    "        ALL_Y_MOTION = np.concatenate([ALL_Y_MOTION, yTest_Motion])\n",
    "        ALL_Y_MOTIONTYPE = np.concatenate([ALL_Y_MOTIONTYPE, yTest_MotionType])\n",
    "        ALL_Y_MOTIONSPEED = np.concatenate([ALL_Y_MOTIONSPEED, yTest_MotionSpeed])\n",
    "        \n",
    "        print('xTest.shape:', xTest.shape)\n",
    "        print('ALL_X.shape:', ALL_X.shape, ' ALL_Y_MOTION.shape:', ALL_Y_MOTION.shape)\n",
    "        print('-------------------------------')\n",
    "\n",
    "    # Create the folder if it doesn't exist\n",
    "    if not os.path.exists(NUMPY_DATA_FOLDER_FILE_PATH):\n",
    "        os.makedirs(NUMPY_DATA_FOLDER_FILE_PATH)\n",
    "\n",
    "    # convert to numerical labels (originally text labels)\n",
    "    numerical_motion_label = np.vectorize(LABEL_TO_CATEGORY_MOTION.get)(ALL_Y_MOTION)\n",
    "    numerical_motiontype_label = np.vectorize(LABEL_TO_CATEGORY_MOTIONTYPE.get)(ALL_Y_MOTIONTYPE)\n",
    "    numerical_motionspeed_label = np.vectorize(LABEL_TO_CATEGORY_MOTIONSPEED.get)(ALL_Y_MOTIONSPEED)\n",
    "    \n",
    "\n",
    "    # Assuming your numpy array is called 'data_array'\n",
    "    np.save(ALL_X_TEST_CLASSIFY_PATH, ALL_X)\n",
    "    np.save(ALL_Y_TEST_CLASSIFY_MOTION_PATH, numerical_motion_label)\n",
    "    np.save(ALL_Y_TEST_CLASSIFY_MOTIONTYPE_PATH, numerical_motiontype_label)\n",
    "    np.save(ALL_Y_TEST_CLASSIFY_MOTIONSPEED_PATH, numerical_motionspeed_label)\n"
   ]
  },
  {
   "cell_type": "code",
   "execution_count": 39,
   "metadata": {},
   "outputs": [
    {
     "name": "stdout",
     "output_type": "stream",
     "text": [
      "xTest.shape: (3771, 25, 4)\n",
      "ALL_X.shape: (3771, 25, 4)  ALL_Y_MOTION.shape: (3771,)\n",
      "-------------------------------\n",
      "xTest.shape: (3582, 25, 4)\n",
      "ALL_X.shape: (7353, 25, 4)  ALL_Y_MOTION.shape: (7353,)\n",
      "-------------------------------\n",
      "xTest.shape: (3771, 25, 4)\n",
      "ALL_X.shape: (11124, 25, 4)  ALL_Y_MOTION.shape: (11124,)\n",
      "-------------------------------\n",
      "xTest.shape: (7183, 25, 4)\n",
      "ALL_X.shape: (18307, 25, 4)  ALL_Y_MOTION.shape: (18307,)\n",
      "-------------------------------\n",
      "xTest.shape: (7561, 25, 4)\n",
      "ALL_X.shape: (25868, 25, 4)  ALL_Y_MOTION.shape: (25868,)\n",
      "-------------------------------\n",
      "xTest.shape: (3582, 25, 4)\n",
      "ALL_X.shape: (29450, 25, 4)  ALL_Y_MOTION.shape: (29450,)\n",
      "-------------------------------\n",
      "xTest.shape: (3501, 25, 4)\n",
      "ALL_X.shape: (32951, 25, 4)  ALL_Y_MOTION.shape: (32951,)\n",
      "-------------------------------\n",
      "xTest.shape: (3618, 25, 4)\n",
      "ALL_X.shape: (36569, 25, 4)  ALL_Y_MOTION.shape: (36569,)\n",
      "-------------------------------\n",
      "xTest.shape: (3488, 25, 4)\n",
      "ALL_X.shape: (40057, 25, 4)  ALL_Y_MOTION.shape: (40057,)\n",
      "-------------------------------\n",
      "xTest.shape: (3501, 25, 4)\n",
      "ALL_X.shape: (43558, 25, 4)  ALL_Y_MOTION.shape: (43558,)\n",
      "-------------------------------\n",
      "xTest.shape: (3618, 25, 4)\n",
      "ALL_X.shape: (47176, 25, 4)  ALL_Y_MOTION.shape: (47176,)\n",
      "-------------------------------\n",
      "xTest.shape: (6995, 25, 4)\n",
      "ALL_X.shape: (54171, 25, 4)  ALL_Y_MOTION.shape: (54171,)\n",
      "-------------------------------\n",
      "xTest.shape: (7021, 25, 4)\n",
      "ALL_X.shape: (61192, 25, 4)  ALL_Y_MOTION.shape: (61192,)\n",
      "-------------------------------\n",
      "xTest.shape: (7255, 25, 4)\n",
      "ALL_X.shape: (68447, 25, 4)  ALL_Y_MOTION.shape: (68447,)\n",
      "-------------------------------\n",
      "xTest.shape: (3488, 25, 4)\n",
      "ALL_X.shape: (71935, 25, 4)  ALL_Y_MOTION.shape: (71935,)\n",
      "-------------------------------\n",
      "(71935, 25, 4)\n",
      "(71935, 2)\n",
      "(71935, 3)\n",
      "(71935, 3)\n"
     ]
    }
   ],
   "source": [
    "if not os.path.exists(ALL_X_TEST_CLASSIFY_PATH):\n",
    "    processData(ALL_X, ALL_Y_MOTION, ALL_Y_MOTIONTYPE, ALL_Y_MOTIONSPEED)\n",
    "\n",
    "ALL_X_TEST_CLASSIFY = np.load(ALL_X_TEST_CLASSIFY_PATH)\n",
    "ALL_Y_TEST_CLASSIFY_MOTION = np.load(ALL_Y_TEST_CLASSIFY_MOTION_PATH)\n",
    "ALL_Y_TEST_CLASSIFY_MOTIONTYPE = np.load(ALL_Y_TEST_CLASSIFY_MOTIONTYPE_PATH)\n",
    "ALL_Y_TEST_CLASSIFY_MOTIONSPEED = np.load(ALL_Y_TEST_CLASSIFY_MOTIONSPEED_PATH)\n",
    "\n",
    "print(ALL_X_TEST_CLASSIFY.shape)\n",
    "print(ALL_Y_TEST_CLASSIFY_MOTION.shape)\n",
    "print(ALL_Y_TEST_CLASSIFY_MOTIONTYPE.shape)\n",
    "print(ALL_Y_TEST_CLASSIFY_MOTIONSPEED.shape)\n",
    "\n"
   ]
  }
 ],
 "metadata": {
  "kernelspec": {
   "display_name": "Python 3",
   "language": "python",
   "name": "python3"
  },
  "language_info": {
   "codemirror_mode": {
    "name": "ipython",
    "version": 3
   },
   "file_extension": ".py",
   "mimetype": "text/x-python",
   "name": "python",
   "nbconvert_exporter": "python",
   "pygments_lexer": "ipython3",
   "version": "3.11.3"
  },
  "orig_nbformat": 4
 },
 "nbformat": 4,
 "nbformat_minor": 2
}
