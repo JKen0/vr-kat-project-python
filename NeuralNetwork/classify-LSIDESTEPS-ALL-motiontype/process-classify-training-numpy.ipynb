{
 "cells": [
  {
   "cell_type": "code",
   "execution_count": 10,
   "metadata": {},
   "outputs": [],
   "source": [
    "import os\n",
    "import pandas as pd\n",
    "import numpy as np\n",
    "import json\n",
    "import sys"
   ]
  },
  {
   "cell_type": "code",
   "execution_count": 11,
   "metadata": {},
   "outputs": [],
   "source": [
    "# Get the current working directory\n",
    "CURRENT_DIRECTORY = os.getcwd()\n",
    "# Get the parent directory\n",
    "PARENT_DIRECTORY = os.path.dirname(CURRENT_DIRECTORY)\n",
    "PARENT_DIRECTORY = os.path.dirname(PARENT_DIRECTORY)\n",
    "\n",
    "sys.path.append(PARENT_DIRECTORY + '//config/')\n",
    "from config import count_sequences_above_threshold, count_sequences_below_threshold, normalize_sensor_data\n",
    "\n",
    "# Open the config file and load its content into a dictionary\n",
    "config_file = open(PARENT_DIRECTORY + '\\\\config\\\\config.json')\n",
    "CONFIG_DATA = json.load(config_file)\n",
    "\n",
    "# Close the file after loading the data\n",
    "config_file.close()"
   ]
  },
  {
   "cell_type": "code",
   "execution_count": 12,
   "metadata": {},
   "outputs": [],
   "source": [
    "NORMALIZE_SENSOR_DATA = CONFIG_DATA['NORMALIZE_SENSOR_DATA']\n",
    "WINDOW_SIZE = CONFIG_DATA['WINDOW_SIZE']\n",
    "NUMBER_OF_FEATURES = 8\n",
    "\n",
    "CLASSIFICATIONS = CONFIG_DATA['CLASSES_MOTIONTYPE']\n",
    "\n",
    "LABEL_COLUMN = 'Class_MotionType'\n",
    "\n",
    "# processed data folder path\n",
    "DATA_FOLDER = PARENT_DIRECTORY + '\\\\processed-training-data\\\\4-PROCESSED-DATA\\TRAIN2\\\\'\n",
    "\n",
    "# save numpy data folder\n",
    "NUMPY_DATA_FOLDER_FILE_PATH = PARENT_DIRECTORY + '\\\\NeuralNetwork\\\\np-saved-data\\\\'\n",
    "\n",
    "# v0 data (not normalized, use to generate more data)\n",
    "ALL_X_TRAIN_CLASSIFY_PATH = PARENT_DIRECTORY + '\\\\NeuralNetwork\\\\np-saved-data\\\\training\\\\ALL-X-TRAIN-CLASSIFY-MOTIONTYPE-LSIDESTEPS-V0.npy'\n",
    "ALL_Y_TRAIN_CLASSIFY_PATH = PARENT_DIRECTORY + '\\\\NeuralNetwork\\\\np-saved-data\\\\training\\\\ALL-Y-TRAIN-CLASSIFY-MOTIONTYPE-LSIDESTEPS-V0.npy'"
   ]
  },
  {
   "cell_type": "code",
   "execution_count": 13,
   "metadata": {},
   "outputs": [
    {
     "name": "stdout",
     "output_type": "stream",
     "text": [
      "{'LAR': 0, 'SML': 1}\n"
     ]
    }
   ],
   "source": [
    "LABEL_TO_CATEGORY = {label: category for category, label in enumerate(CLASSIFICATIONS)}\n",
    "\n",
    "print(LABEL_TO_CATEGORY)"
   ]
  },
  {
   "cell_type": "code",
   "execution_count": 14,
   "metadata": {},
   "outputs": [
    {
     "name": "stdout",
     "output_type": "stream",
     "text": [
      "['PROC-TRAIN2-SIDESTEPS-L-LAR-110BPM.xlsx', 'PROC-TRAIN2-SIDESTEPS-L-LAR-120BPM-AUGMENT.xlsx', 'PROC-TRAIN2-SIDESTEPS-L-LAR-160BPM-AUGMENT.xlsx', 'PROC-TRAIN2-SIDESTEPS-L-LAR-164BPM-AUGMENT.xlsx', 'PROC-TRAIN2-SIDESTEPS-L-LAR-220BPM-AUGMENT.xlsx', 'PROC-TRAIN2-SIDESTEPS-L-LAR-30BPM-AUGMENT.xlsx', 'PROC-TRAIN2-SIDESTEPS-L-LAR-40BPM-AUGMENT.xlsx', 'PROC-TRAIN2-SIDESTEPS-L-LAR-41BPM-AUGMENT.xlsx', 'PROC-TRAIN2-SIDESTEPS-L-LAR-55BPM-AUGMENT.xlsx', 'PROC-TRAIN2-SIDESTEPS-L-LAR-60BPM.xlsx', 'PROC-TRAIN2-SIDESTEPS-L-LAR-80BPM.xlsx', 'PROC-TRAIN2-SIDESTEPS-L-LAR-82BPM.xlsx', 'PROC-TRAIN2-SIDESTEPS-L-SML-120BPM-AUGMENT.xlsx', 'PROC-TRAIN2-SIDESTEPS-L-SML-160BPM-AUGMENT.xlsx', 'PROC-TRAIN2-SIDESTEPS-L-SML-30BPM-AUGMENT.xlsx', 'PROC-TRAIN2-SIDESTEPS-L-SML-40BPM-AUGMENT.xlsx', 'PROC-TRAIN2-SIDESTEPS-L-SML-60BPM.xlsx', 'PROC-TRAIN2-SIDESTEPS-L-SML-80BPM.xlsx']\n"
     ]
    }
   ],
   "source": [
    "file_names = [file for file in os.listdir(DATA_FOLDER) if file.endswith('.xlsx') and \"SIDESTEPS-L-\" in file and os.path.isfile(os.path.join(DATA_FOLDER, file))]\n",
    "\n",
    "print(file_names)"
   ]
  },
  {
   "cell_type": "code",
   "execution_count": 15,
   "metadata": {},
   "outputs": [],
   "source": [
    "def df2Xy(df, windowSize=5):\n",
    "  X = []\n",
    "  y = []\n",
    "\n",
    "  # NORMALIZE THE SENSOR DATA\n",
    "  if NORMALIZE_SENSOR_DATA == True:\n",
    "    df[\"L_Pitch\"] = df[\"L_Pitch\"].apply(normalize_sensor_data)\n",
    "    df[\"L_Roll\"] = df[\"L_Roll\"].apply(normalize_sensor_data)\n",
    "    df[\"R_Pitch\"] = df[\"R_Pitch\"].apply(normalize_sensor_data)\n",
    "    df[\"R_Roll\"] = df[\"R_Roll\"].apply(normalize_sensor_data)\n",
    "    df[\"L_Pitch_Delta\"] = df[\"L_Pitch_Delta\"].apply(normalize_sensor_data)\n",
    "    df[\"L_Roll_Delta\"] = df[\"L_Roll_Delta\"].apply(normalize_sensor_data)\n",
    "    df[\"R_Pitch_Delta\"] = df[\"R_Pitch_Delta\"].apply(normalize_sensor_data)\n",
    "    df[\"R_Roll_Delta\"] = df[\"R_Roll_Delta\"].apply(normalize_sensor_data)\n",
    "\n",
    "  for i in range( len(df) - windowSize + 1):\n",
    "    # inputs: X rows\n",
    "    # form a new input which has size of our windowSize\n",
    "    input_data_list_readings = []\n",
    "\n",
    "    # loop through each row in our windowsize\n",
    "    for j in range(windowSize):\n",
    "        # fetch sensor data for this row\n",
    "        row_values_readings = df.loc[i + j, ['L_Pitch', 'L_Roll', 'R_Pitch', 'R_Roll']].values.tolist()\n",
    "\n",
    "        # add row values to the input\n",
    "        input_data_list_readings.append(row_values_readings)\n",
    "\n",
    "    # turnn list into array to do arthimetic\n",
    "    raw_sensor_data = np.array(input_data_list_readings)\n",
    "\n",
    "    min_sensor_reading = np.min(raw_sensor_data, axis=0)\n",
    "    max_sensor_reading = np.max(raw_sensor_data, axis=0)\n",
    "\n",
    "    input_data_array = np.concatenate((min_sensor_reading, max_sensor_reading))\n",
    "\n",
    "    if(np.isnan(input_data_array).any() == False):\n",
    "      # turn back to list\n",
    "      input_data_list = input_data_array.tolist()\n",
    "\n",
    "      # add our input to our total inputs, marked as X\n",
    "      X.append(input_data_list)\n",
    "\n",
    "      # outputs: y labels\n",
    "      label = df.loc[i + (windowSize - 1), [LABEL_COLUMN]].values.tolist()\n",
    "\n",
    "      y.append(label)\n",
    "\n",
    "  return (np.array(X), np.array(y))"
   ]
  },
  {
   "cell_type": "code",
   "execution_count": 16,
   "metadata": {},
   "outputs": [],
   "source": [
    "ALL_X_TRAIN = np.empty((0, NUMBER_OF_FEATURES))  # List to store all X training data\n",
    "ALL_Y_TRAIN = np.empty((0))  # List to store all Y training data"
   ]
  },
  {
   "cell_type": "code",
   "execution_count": 17,
   "metadata": {},
   "outputs": [],
   "source": [
    "def processData(ALL_X, ALL_Y):\n",
    "    for fileName in file_names:\n",
    "        # Read the Excel file\n",
    "        df = pd.read_excel(DATA_FOLDER + fileName)\n",
    "\n",
    "        xTrain, yTrain = df2Xy(df, WINDOW_SIZE)\n",
    "\n",
    "        yTrain = yTrain.reshape(-1)\n",
    "        \n",
    "        ALL_X = np.concatenate([ALL_X, xTrain])\n",
    "        ALL_Y = np.concatenate([ALL_Y, yTrain])\n",
    "        \n",
    "        print('xTrain.shape:', xTrain.shape)\n",
    "        print('ALL_X_TRAIN.shape:', ALL_X.shape, ' ALL_Y_TRAIN.shape:', ALL_Y.shape)\n",
    "        print('-------------------------------')\n",
    "\n",
    "    # Create the folder if it doesn't exist\n",
    "    if not os.path.exists(NUMPY_DATA_FOLDER_FILE_PATH):\n",
    "        os.makedirs(NUMPY_DATA_FOLDER_FILE_PATH)\n",
    "\n",
    "    # convert to numerical labels (originally text labels)\n",
    "    numerical_label = np.vectorize(LABEL_TO_CATEGORY.get)(ALL_Y)\n",
    "\n",
    "    # Assuming your numpy array is called 'data_array'\n",
    "    np.save(ALL_X_TRAIN_CLASSIFY_PATH, ALL_X)\n",
    "    np.save(ALL_Y_TRAIN_CLASSIFY_PATH, numerical_label)"
   ]
  },
  {
   "cell_type": "code",
   "execution_count": 18,
   "metadata": {},
   "outputs": [
    {
     "name": "stdout",
     "output_type": "stream",
     "text": [
      "xTrain.shape: (2285, 8)\n",
      "ALL_X_TRAIN.shape: (2285, 8)  ALL_Y_TRAIN.shape: (2285,)\n",
      "-------------------------------\n",
      "xTrain.shape: (4078, 8)\n",
      "ALL_X_TRAIN.shape: (6363, 8)  ALL_Y_TRAIN.shape: (6363,)\n",
      "-------------------------------\n",
      "xTrain.shape: (3795, 8)\n",
      "ALL_X_TRAIN.shape: (10158, 8)  ALL_Y_TRAIN.shape: (10158,)\n",
      "-------------------------------\n",
      "xTrain.shape: (3135, 8)\n",
      "ALL_X_TRAIN.shape: (13293, 8)  ALL_Y_TRAIN.shape: (13293,)\n",
      "-------------------------------\n",
      "xTrain.shape: (2285, 8)\n",
      "ALL_X_TRAIN.shape: (15578, 8)  ALL_Y_TRAIN.shape: (15578,)\n",
      "-------------------------------\n",
      "xTrain.shape: (8175, 8)\n",
      "ALL_X_TRAIN.shape: (23753, 8)  ALL_Y_TRAIN.shape: (23753,)\n",
      "-------------------------------\n",
      "xTrain.shape: (7609, 8)\n",
      "ALL_X_TRAIN.shape: (31362, 8)  ALL_Y_TRAIN.shape: (31362,)\n",
      "-------------------------------\n",
      "xTrain.shape: (6289, 8)\n",
      "ALL_X_TRAIN.shape: (37651, 8)  ALL_Y_TRAIN.shape: (37651,)\n",
      "-------------------------------\n",
      "xTrain.shape: (4588, 8)\n",
      "ALL_X_TRAIN.shape: (42239, 8)  ALL_Y_TRAIN.shape: (42239,)\n",
      "-------------------------------\n",
      "xTrain.shape: (4078, 8)\n",
      "ALL_X_TRAIN.shape: (46317, 8)  ALL_Y_TRAIN.shape: (46317,)\n",
      "-------------------------------\n",
      "xTrain.shape: (3795, 8)\n",
      "ALL_X_TRAIN.shape: (50112, 8)  ALL_Y_TRAIN.shape: (50112,)\n",
      "-------------------------------\n",
      "xTrain.shape: (3135, 8)\n",
      "ALL_X_TRAIN.shape: (53247, 8)  ALL_Y_TRAIN.shape: (53247,)\n",
      "-------------------------------\n",
      "xTrain.shape: (3390, 8)\n",
      "ALL_X_TRAIN.shape: (56637, 8)  ALL_Y_TRAIN.shape: (56637,)\n",
      "-------------------------------\n",
      "xTrain.shape: (3061, 8)\n",
      "ALL_X_TRAIN.shape: (59698, 8)  ALL_Y_TRAIN.shape: (59698,)\n",
      "-------------------------------\n",
      "xTrain.shape: (6799, 8)\n",
      "ALL_X_TRAIN.shape: (66497, 8)  ALL_Y_TRAIN.shape: (66497,)\n",
      "-------------------------------\n",
      "xTrain.shape: (6141, 8)\n",
      "ALL_X_TRAIN.shape: (72638, 8)  ALL_Y_TRAIN.shape: (72638,)\n",
      "-------------------------------\n",
      "xTrain.shape: (3390, 8)\n",
      "ALL_X_TRAIN.shape: (76028, 8)  ALL_Y_TRAIN.shape: (76028,)\n",
      "-------------------------------\n",
      "xTrain.shape: (3061, 8)\n",
      "ALL_X_TRAIN.shape: (79089, 8)  ALL_Y_TRAIN.shape: (79089,)\n",
      "-------------------------------\n",
      "(79089, 8)\n",
      "(79089,)\n"
     ]
    }
   ],
   "source": [
    "processData(ALL_X_TRAIN, ALL_Y_TRAIN)\n",
    "\n",
    "ALL_X_TRAIN_CLASSIFY = np.load(ALL_X_TRAIN_CLASSIFY_PATH)\n",
    "ALL_Y_TRAIN_CLASSIFY = np.load(ALL_Y_TRAIN_CLASSIFY_PATH, allow_pickle=True)\n",
    "\n",
    "print(ALL_X_TRAIN_CLASSIFY.shape)\n",
    "print(ALL_Y_TRAIN_CLASSIFY.shape)"
   ]
  },
  {
   "cell_type": "code",
   "execution_count": 19,
   "metadata": {},
   "outputs": [
    {
     "name": "stdout",
     "output_type": "stream",
     "text": [
      "37.0\n"
     ]
    }
   ],
   "source": [
    "print(np.max(ALL_X_TRAIN_CLASSIFY))"
   ]
  }
 ],
 "metadata": {
  "kernelspec": {
   "display_name": "Python 3",
   "language": "python",
   "name": "python3"
  },
  "language_info": {
   "codemirror_mode": {
    "name": "ipython",
    "version": 3
   },
   "file_extension": ".py",
   "mimetype": "text/x-python",
   "name": "python",
   "nbconvert_exporter": "python",
   "pygments_lexer": "ipython3",
   "version": "3.11.2"
  },
  "orig_nbformat": 4
 },
 "nbformat": 4,
 "nbformat_minor": 2
}
