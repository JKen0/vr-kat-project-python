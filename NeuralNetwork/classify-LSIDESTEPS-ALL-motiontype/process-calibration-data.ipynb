{
 "cells": [
  {
   "cell_type": "code",
   "execution_count": 1,
   "metadata": {},
   "outputs": [],
   "source": [
    "import os\n",
    "import numpy as np\n",
    "import json"
   ]
  },
  {
   "cell_type": "code",
   "execution_count": 2,
   "metadata": {},
   "outputs": [],
   "source": [
    "# Get the current working directory\n",
    "CURRENT_DIRECTORY = os.getcwd()\n",
    "# Get the parent directory\n",
    "PARENT_DIRECTORY = os.path.dirname(CURRENT_DIRECTORY)\n",
    "PARENT_DIRECTORY = os.path.dirname(PARENT_DIRECTORY)\n",
    "\n",
    "# Open the config file and load its content into a dictionary\n",
    "config_file = open(PARENT_DIRECTORY + '\\\\config\\\\config.json')\n",
    "CONFIG_DATA = json.load(config_file)\n",
    "\n",
    "# Close the file after loading the data\n",
    "config_file.close()"
   ]
  },
  {
   "cell_type": "code",
   "execution_count": 3,
   "metadata": {},
   "outputs": [],
   "source": [
    "REST_LPITCH = CONFIG_DATA[\"REST_LPITCH\"]\n",
    "REST_LROLL = CONFIG_DATA[\"REST_LROLL\"]\n",
    "REST_RPITCH = CONFIG_DATA[\"REST_RPITCH\"]\n",
    "REST_RROLL = CONFIG_DATA[\"REST_RROLL\"]\n",
    "\n",
    "ALL_X_TRAINING_DATA_PATH = PARENT_DIRECTORY + '\\\\NeuralNetwork\\\\np-saved-data\\\\training\\\\ALL-X-TRAIN-CLASSIFY-MOTIONTYPE-LSIDESTEPS-V0.npy'\n",
    "ALL_Y_TRAINING_DATA_PATH = PARENT_DIRECTORY + '\\\\NeuralNetwork\\\\np-saved-data\\\\training\\\\ALL-Y-TRAIN-CLASSIFY-MOTIONTYPE-LSIDESTEPS-V0.npy'\n",
    "ALL_X_TEST_DATA_PATH = PARENT_DIRECTORY + '\\\\NeuralNetwork\\\\np-saved-data\\\\test\\\\ALL-X-TEST-CLASSIFY-MOTIONTYPE-LSIDESTEPS-V0.npy'\n",
    "ALL_Y_TEST_DATA_PATH = PARENT_DIRECTORY + '\\\\NeuralNetwork\\\\np-saved-data\\\\test\\\\ALL-Y-TEST-CLASSIFY-MOTIONTYPE-LSIDESTEPS-V0.npy'\n",
    "\n",
    "\n",
    "NEW_ALL_X_TRAINING_DATA_PATH = PARENT_DIRECTORY + '\\\\NeuralNetwork\\\\np-saved-data\\\\training\\\\ALL-X-TRAIN-CLASSIFY-MOTIONTYPE-LSIDESTEPS-V4.npy'\n",
    "NEW_ALL_Y_TRAINING_DATA_PATH = PARENT_DIRECTORY + '\\\\NeuralNetwork\\\\np-saved-data\\\\training\\\\ALL-Y-TRAIN-CLASSIFY-MOTIONTYPE-LSIDESTEPS-V4.npy'\n",
    "NEW_ALL_X_TEST_DATA_PATH = PARENT_DIRECTORY + '\\\\NeuralNetwork\\\\np-saved-data\\\\test\\\\ALL-X-TEST-CLASSIFY-MOTIONTYPE-LSIDESTEPS-V4.npy'\n",
    "NEW_ALL_Y_TEST_DATA_PATH = PARENT_DIRECTORY + '\\\\NeuralNetwork\\\\np-saved-data\\\\test\\\\ALL-Y-TEST-CLASSIFY-MOTIONTYPE-LSIDESTEPS-V4.npy'\n"
   ]
  },
  {
   "cell_type": "code",
   "execution_count": 9,
   "metadata": {},
   "outputs": [
    {
     "name": "stdout",
     "output_type": "stream",
     "text": [
      "[[ 13. -18.  19.  -5.  28.   4.  21.  -3.]\n",
      " [ 13. -18.  19.  -5.  28.   4.  21.  -3.]\n",
      " [ 13. -18.  19.  -5.  28.   9.  21.  -3.]\n",
      " [ 13. -18.  19.  -5.  28.  15.  21.  -3.]\n",
      " [ 13. -18.  19.  -5.  28.  17.  21.  -3.]\n",
      " [ 13. -18.  19.  -5.  28.  17.  21.  -3.]\n",
      " [ 13. -18.  19.  -5.  28.  17.  21.  -3.]\n",
      " [ 13. -18.  19.  -5.  28.  17.  21.  -2.]\n",
      " [ 13. -18.  19.  -5.  28.  17.  21.  -1.]\n",
      " [ 13. -18.  19.  -5.  28.  17.  21.  -1.]]\n"
     ]
    }
   ],
   "source": [
    "ALL_X_TRAIN_DATA = np.load(ALL_X_TRAINING_DATA_PATH)\n",
    "ALL_Y_TRAIN_DATA = np.load(ALL_Y_TRAINING_DATA_PATH)\n",
    "\n",
    "ALL_X_TEST_DATA = np.load(ALL_X_TEST_DATA_PATH)\n",
    "ALL_Y_TEST_DATA = np.load(ALL_Y_TEST_DATA_PATH)\n",
    "\n",
    "print(ALL_X_TRAIN_DATA[0:10, :])"
   ]
  },
  {
   "cell_type": "code",
   "execution_count": 10,
   "metadata": {},
   "outputs": [
    {
     "name": "stdout",
     "output_type": "stream",
     "text": [
      "[[ -5. -21.   2.  -3.  10.   1.   4.  -1.]\n",
      " [ -5. -21.   2.  -3.  10.   1.   4.  -1.]\n",
      " [ -5. -21.   2.  -3.  10.   6.   4.  -1.]\n",
      " [ -5. -21.   2.  -3.  10.  12.   4.  -1.]\n",
      " [ -5. -21.   2.  -3.  10.  14.   4.  -1.]\n",
      " [ -5. -21.   2.  -3.  10.  14.   4.  -1.]\n",
      " [ -5. -21.   2.  -3.  10.  14.   4.  -1.]\n",
      " [ -5. -21.   2.  -3.  10.  14.   4.   0.]\n",
      " [ -5. -21.   2.  -3.  10.  14.   4.   1.]\n",
      " [ -5. -21.   2.  -3.  10.  14.   4.   1.]]\n"
     ]
    }
   ],
   "source": [
    "ALL_X_TRAIN_DATA[:, 0] = ALL_X_TRAIN_DATA[:, 0] - REST_LPITCH\n",
    "ALL_X_TRAIN_DATA[:, 1] = ALL_X_TRAIN_DATA[:, 1] - REST_LROLL\n",
    "ALL_X_TRAIN_DATA[:, 2] = ALL_X_TRAIN_DATA[:, 2] - REST_RPITCH\n",
    "ALL_X_TRAIN_DATA[:, 3] = ALL_X_TRAIN_DATA[:, 3] - REST_RROLL\n",
    "\n",
    "ALL_X_TRAIN_DATA[:, 4] = ALL_X_TRAIN_DATA[:, 4] - REST_LPITCH\n",
    "ALL_X_TRAIN_DATA[:, 5] = ALL_X_TRAIN_DATA[:, 5] - REST_LROLL\n",
    "ALL_X_TRAIN_DATA[:, 6] = ALL_X_TRAIN_DATA[:, 6] - REST_RPITCH\n",
    "ALL_X_TRAIN_DATA[:, 7] = ALL_X_TRAIN_DATA[:, 7] - REST_RROLL\n",
    "\n",
    "\n",
    "print(ALL_X_TRAIN_DATA[0:10, :])"
   ]
  },
  {
   "cell_type": "code",
   "execution_count": 11,
   "metadata": {},
   "outputs": [
    {
     "name": "stdout",
     "output_type": "stream",
     "text": [
      "[[ 19. -13.  18.  -4.  28.  17.  20.  -1.]\n",
      " [ 19. -13.  18.  -4.  28.  17.  20.  -1.]\n",
      " [ 19. -13.  18.  -4.  28.  17.  20.  -1.]\n",
      " [ 19. -13.  18.  -4.  28.  17.  20.  -1.]\n",
      " [ 19. -13.  18.  -4.  28.  17.  20.  -1.]\n",
      " [ 19. -13.  18.  -4.  28.  17.  20.  -1.]\n",
      " [ 17. -13.  18.  -4.  28.  17.  20.  -1.]\n",
      " [ 17. -13.  18.  -4.  28.  17.  20.  -1.]\n",
      " [ 17. -13.  18.  -4.  28.  17.  20.  -1.]\n",
      " [ 17. -13.  18.  -4.  28.  17.  20.  -1.]]\n",
      "[[  1. -16.   1.  -2.  10.  14.   3.   1.]\n",
      " [  1. -16.   1.  -2.  10.  14.   3.   1.]\n",
      " [  1. -16.   1.  -2.  10.  14.   3.   1.]\n",
      " [  1. -16.   1.  -2.  10.  14.   3.   1.]\n",
      " [  1. -16.   1.  -2.  10.  14.   3.   1.]\n",
      " [  1. -16.   1.  -2.  10.  14.   3.   1.]\n",
      " [ -1. -16.   1.  -2.  10.  14.   3.   1.]\n",
      " [ -1. -16.   1.  -2.  10.  14.   3.   1.]\n",
      " [ -1. -16.   1.  -2.  10.  14.   3.   1.]\n",
      " [ -1. -16.   1.  -2.  10.  14.   3.   1.]]\n"
     ]
    }
   ],
   "source": [
    "print(ALL_X_TEST_DATA[0:10, :])\n",
    "\n",
    "ALL_X_TEST_DATA[:, 0] = ALL_X_TEST_DATA[:, 0] - REST_LPITCH\n",
    "ALL_X_TEST_DATA[:, 1] = ALL_X_TEST_DATA[:, 1] - REST_LROLL\n",
    "ALL_X_TEST_DATA[:, 2] = ALL_X_TEST_DATA[:, 2] - REST_RPITCH\n",
    "ALL_X_TEST_DATA[:, 3] = ALL_X_TEST_DATA[:, 3] - REST_RROLL\n",
    "\n",
    "ALL_X_TEST_DATA[:, 4] = ALL_X_TEST_DATA[:, 4] - REST_LPITCH\n",
    "ALL_X_TEST_DATA[:, 5] = ALL_X_TEST_DATA[:, 5] - REST_LROLL\n",
    "ALL_X_TEST_DATA[:, 6] = ALL_X_TEST_DATA[:, 6] - REST_RPITCH\n",
    "ALL_X_TEST_DATA[:, 7] = ALL_X_TEST_DATA[:, 7] - REST_RROLL\n",
    "\n",
    "print(ALL_X_TEST_DATA[0:10, :])"
   ]
  },
  {
   "cell_type": "code",
   "execution_count": 22,
   "metadata": {},
   "outputs": [],
   "source": [
    "np.save(NEW_ALL_X_TRAINING_DATA_PATH, ALL_X_TRAIN_DATA)\n",
    "np.save(NEW_ALL_Y_TRAINING_DATA_PATH, ALL_Y_TRAIN_DATA)\n",
    "np.save(NEW_ALL_X_TEST_DATA_PATH, ALL_X_TEST_DATA)\n",
    "np.save(NEW_ALL_Y_TEST_DATA_PATH, ALL_Y_TEST_DATA)"
   ]
  }
 ],
 "metadata": {
  "kernelspec": {
   "display_name": "Python 3",
   "language": "python",
   "name": "python3"
  },
  "language_info": {
   "codemirror_mode": {
    "name": "ipython",
    "version": 3
   },
   "file_extension": ".py",
   "mimetype": "text/x-python",
   "name": "python",
   "nbconvert_exporter": "python",
   "pygments_lexer": "ipython3",
   "version": "3.11.2"
  },
  "orig_nbformat": 4
 },
 "nbformat": 4,
 "nbformat_minor": 2
}
