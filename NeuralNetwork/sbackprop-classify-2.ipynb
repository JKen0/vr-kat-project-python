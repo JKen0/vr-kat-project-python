{
 "cells": [
  {
   "cell_type": "code",
   "execution_count": 1,
   "metadata": {},
   "outputs": [],
   "source": [
    "import os\n",
    "import numpy as np\n",
    "from tensorflow.keras.models import Sequential\n",
    "from tensorflow.keras.layers import Dense, InputLayer, Flatten"
   ]
  },
  {
   "cell_type": "code",
   "execution_count": 2,
   "metadata": {},
   "outputs": [],
   "source": [
    "WINDOW_SIZE = 25\n",
    "NUMBER_OF_FEATURES = 4\n",
    "\n",
    "MOTION_CLASSES = ['STAND', 'STEPS']\n",
    "MOTIONTYPE_CLASSES = ['SML', 'MED', 'LAR']\n",
    "MOTIONSPEED_CLASSES = ['SLOW', 'AVERAGE', 'FAST']\n",
    "\n",
    "# Get the current working directory\n",
    "CURRENT_DIRECTORY = os.getcwd()\n",
    "\n",
    "ALL_X_TRAINING_DATA_PATH = CURRENT_DIRECTORY + '\\\\np-saved-data\\\\training\\\\ALL-X-TRAIN-CLASSIFY-V0.npy'\n",
    "ALL_Y_TRAINING_MOTION_DATA_PATH = CURRENT_DIRECTORY + '\\\\np-saved-data\\\\training\\\\ALL-Y-TRAIN-CLASSIFY-MOTION-V0.npy'\n",
    "ALL_Y_TRAINING_MOTIONTYPE_DATA_PATH = CURRENT_DIRECTORY + '\\\\np-saved-data\\\\training\\\\ALL-Y-TRAIN-CLASSIFY-MOTIONTYPE-V0.npy'\n",
    "ALL_Y_TRAINING_MOTIONSPEED_DATA_PATH = CURRENT_DIRECTORY + '\\\\np-saved-data\\\\training\\\\ALL-Y-TRAIN-CLASSIFY-MOTIONSPEED-V0.npy'\n",
    "\n",
    "ALL_X_TEST_DATA_PATH = CURRENT_DIRECTORY + '\\\\np-saved-data\\\\test\\\\ALL-X-TEST-CLASSIFY-V0.npy'\n",
    "ALL_Y_TEST_MOTION_DATA_PATH = CURRENT_DIRECTORY + '\\\\np-saved-data\\\\test\\\\ALL-Y-TEST-CLASSIFY-MOTION-V0.npy'\n",
    "ALL_Y_TEST_MOTIONTYPE_DATA_PATH = CURRENT_DIRECTORY + '\\\\np-saved-data\\\\test\\\\ALL-Y-TEST-CLASSIFY-MOTIONTYPE-V0.npy'\n",
    "ALL_Y_TEST_MOTIONSPEED_DATA_PATH = CURRENT_DIRECTORY + '\\\\np-saved-data\\\\test\\\\ALL-Y-TEST-CLASSIFY-MOTIONSPEED-V0.npy'\n",
    "\n",
    "MOTION_MODEL_SAVE_PATH =  CURRENT_DIRECTORY + '\\\\models\\\\standard-backprop-motion-2.h5'\n",
    "MOTIONTYPE_MODEL_SAVE_PATH =  CURRENT_DIRECTORY + '\\\\models\\\\standard-backprop-motiontype-2.h5'\n",
    "MOTIONSPEED_MODEL_SAVE_PATH =  CURRENT_DIRECTORY + '\\\\models\\\\standard-backprop-motionspeed-2.h5'"
   ]
  },
  {
   "cell_type": "code",
   "execution_count": 3,
   "metadata": {},
   "outputs": [
    {
     "name": "stdout",
     "output_type": "stream",
     "text": [
      "(124694, 25, 4)\n",
      "(124694,)\n",
      "(71935, 25, 4)\n",
      "(71935,)\n"
     ]
    }
   ],
   "source": [
    "ALL_X_TRAIN_DATA = np.load(ALL_X_TRAINING_DATA_PATH)\n",
    "ALL_Y_TRAIN_MOTION_DATA = np.load(ALL_Y_TRAINING_MOTION_DATA_PATH)\n",
    "ALL_Y_TRAIN_MOTIONTYPE_DATA = np.load(ALL_Y_TRAINING_MOTIONTYPE_DATA_PATH)\n",
    "ALL_Y_TRAIN_MOTIONSPEED_DATA = np.load(ALL_Y_TRAINING_MOTIONSPEED_DATA_PATH)\n",
    "\n",
    "ALL_X_TEST_DATA = np.load(ALL_X_TEST_DATA_PATH)\n",
    "ALL_Y_TEST_MOTION_DATA = np.load(ALL_Y_TEST_MOTION_DATA_PATH)\n",
    "ALL_Y_TEST_MOTIONTYPE_DATA = np.load(ALL_Y_TEST_MOTIONTYPE_DATA_PATH)\n",
    "ALL_Y_TEST_MOTIONSPEED_DATA = np.load(ALL_Y_TEST_MOTIONSPEED_DATA_PATH)\n",
    "\n",
    "\n",
    "print(ALL_X_TRAIN_DATA.shape)\n",
    "print(ALL_Y_TRAIN_MOTION_DATA.shape)\n",
    "\n",
    "print(ALL_X_TEST_DATA.shape)\n",
    "print(ALL_Y_TEST_MOTION_DATA.shape)"
   ]
  },
  {
   "cell_type": "code",
   "execution_count": 4,
   "metadata": {},
   "outputs": [],
   "source": [
    "# Generate random permutation indices\n",
    "random_indices_1 = np.random.permutation(len(ALL_X_TRAIN_DATA))\n",
    "\n",
    "\n",
    "# Shuffle the input features and target labels using the random indices\n",
    "shuffled_X_TRAIN_DATA = ALL_X_TRAIN_DATA[random_indices_1]\n",
    "shuffled_Y_TRAIN_MOTION_DATA = ALL_Y_TRAIN_MOTION_DATA[random_indices_1]\n",
    "shuffled_Y_TRAIN_MOTIONTYPE_DATA = ALL_Y_TRAIN_MOTIONTYPE_DATA[random_indices_1]\n",
    "shuffled_Y_TRAIN_MOTIONSPEED_DATA = ALL_Y_TRAIN_MOTIONSPEED_DATA[random_indices_1]"
   ]
  },
  {
   "cell_type": "code",
   "execution_count": 5,
   "metadata": {},
   "outputs": [],
   "source": [
    "# Generate random permutation indices\n",
    "random_indices_2 = np.random.permutation(len(ALL_X_TEST_DATA))\n",
    "\n",
    "\n",
    "# Shuffle the input features and target labels using the random indices\n",
    "shuffled_X_TEST_DATA = ALL_X_TEST_DATA[random_indices_2]\n",
    "shuffled_Y_TEST_MOTION_DATA = ALL_Y_TEST_MOTION_DATA[random_indices_2]\n",
    "shuffled_Y_TEST_MOTIONTYPE_DATA = ALL_Y_TEST_MOTIONTYPE_DATA[random_indices_2]\n",
    "shuffled_Y_TEST_MOTIONSPEED_DATA = ALL_Y_TEST_MOTIONSPEED_DATA[random_indices_2]"
   ]
  },
  {
   "cell_type": "code",
   "execution_count": 6,
   "metadata": {},
   "outputs": [
    {
     "name": "stdout",
     "output_type": "stream",
     "text": [
      "Model: \"sequential\"\n",
      "_________________________________________________________________\n",
      " Layer (type)                Output Shape              Param #   \n",
      "=================================================================\n",
      " flatten (Flatten)           (None, 100)               0         \n",
      "                                                                 \n",
      " dense (Dense)               (None, 64)                6464      \n",
      "                                                                 \n",
      " dense_1 (Dense)             (None, 32)                2080      \n",
      "                                                                 \n",
      " dense_2 (Dense)             (None, 2)                 66        \n",
      "                                                                 \n",
      "=================================================================\n",
      "Total params: 8,610\n",
      "Trainable params: 8,610\n",
      "Non-trainable params: 0\n",
      "_________________________________________________________________\n"
     ]
    }
   ],
   "source": [
    "model2_motion = Sequential()\n",
    "model2_motion.add(InputLayer((WINDOW_SIZE, NUMBER_OF_FEATURES)))\n",
    "model2_motion.add(Flatten())\n",
    "model2_motion.add(Dense(64, activation='relu'))\n",
    "model2_motion.add(Dense(32, activation='relu'))\n",
    "model2_motion.add(Dense(len(MOTION_CLASSES), activation='softmax'))\n",
    "\n",
    "model2_motion.summary()"
   ]
  },
  {
   "cell_type": "code",
   "execution_count": 7,
   "metadata": {},
   "outputs": [
    {
     "name": "stdout",
     "output_type": "stream",
     "text": [
      "Epoch 1/20\n",
      "3897/3897 [==============================] - 5s 1ms/step - loss: nan - acc: 0.0668 - val_loss: nan - val_acc: 0.0000e+00\n",
      "Epoch 2/20\n",
      "3897/3897 [==============================] - 4s 994us/step - loss: nan - acc: 0.0511 - val_loss: nan - val_acc: 0.0000e+00\n",
      "Epoch 3/20\n",
      "3897/3897 [==============================] - 4s 1ms/step - loss: nan - acc: 0.0511 - val_loss: nan - val_acc: 0.0000e+00\n",
      "Epoch 4/20\n",
      "3897/3897 [==============================] - 4s 994us/step - loss: nan - acc: 0.0511 - val_loss: nan - val_acc: 0.0000e+00\n",
      "Epoch 5/20\n",
      "1173/3897 [========>.....................] - ETA: 1s - loss: nan - acc: 0.0518"
     ]
    }
   ],
   "source": [
    "# Compile the model\n",
    "model2_motion.compile(optimizer='adam', loss='sparse_categorical_crossentropy', metrics=['acc'])\n",
    "\n",
    "history2_motion = model2_motion.fit(shuffled_X_TRAIN_DATA, shuffled_Y_TRAIN_MOTION_DATA, validation_data=(shuffled_X_TEST_DATA, shuffled_Y_TEST_MOTION_DATA), epochs=20)\n",
    "\n",
    "# Save the model to a file\n",
    "model2_motion.save(MOTION_MODEL_SAVE_PATH)"
   ]
  },
  {
   "cell_type": "code",
   "execution_count": null,
   "metadata": {},
   "outputs": [
    {
     "name": "stdout",
     "output_type": "stream",
     "text": [
      "Model: \"sequential_8\"\n",
      "_________________________________________________________________\n",
      " Layer (type)                Output Shape              Param #   \n",
      "=================================================================\n",
      " flatten_8 (Flatten)         (None, 100)               0         \n",
      "                                                                 \n",
      " dense_24 (Dense)            (None, 64)                6464      \n",
      "                                                                 \n",
      " dense_25 (Dense)            (None, 32)                2080      \n",
      "                                                                 \n",
      " dense_26 (Dense)            (None, 3)                 99        \n",
      "                                                                 \n",
      "=================================================================\n",
      "Total params: 8,643\n",
      "Trainable params: 8,643\n",
      "Non-trainable params: 0\n",
      "_________________________________________________________________\n"
     ]
    }
   ],
   "source": [
    "model2_motiontype = Sequential()\n",
    "model2_motiontype.add(InputLayer((WINDOW_SIZE, NUMBER_OF_FEATURES)))\n",
    "model2_motiontype.add(Flatten())\n",
    "model2_motiontype.add(Dense(64, activation='relu'))\n",
    "model2_motiontype.add(Dense(32, activation='relu'))\n",
    "model2_motiontype.add(Dense(len(MOTIONTYPE_CLASSES), activation='softmax'))\n",
    "\n",
    "model2_motiontype.summary()"
   ]
  },
  {
   "cell_type": "code",
   "execution_count": null,
   "metadata": {},
   "outputs": [
    {
     "name": "stdout",
     "output_type": "stream",
     "text": [
      "Epoch 1/20\n",
      "3897/3897 [==============================] - 5s 1ms/step - loss: nan - acc: 0.1324 - val_loss: nan - val_acc: 0.0000e+00\n",
      "Epoch 2/20\n",
      "3897/3897 [==============================] - 4s 1ms/step - loss: nan - acc: 0.0511 - val_loss: nan - val_acc: 0.0000e+00\n",
      "Epoch 3/20\n",
      "3897/3897 [==============================] - 4s 1ms/step - loss: nan - acc: 0.0511 - val_loss: nan - val_acc: 0.0000e+00\n",
      "Epoch 4/20\n",
      "3897/3897 [==============================] - 4s 1ms/step - loss: nan - acc: 0.0511 - val_loss: nan - val_acc: 0.0000e+00\n",
      "Epoch 5/20\n",
      "3897/3897 [==============================] - 4s 1ms/step - loss: nan - acc: 0.0511 - val_loss: nan - val_acc: 0.0000e+00\n",
      "Epoch 6/20\n",
      "3897/3897 [==============================] - 4s 1ms/step - loss: nan - acc: 0.0511 - val_loss: nan - val_acc: 0.0000e+00\n",
      "Epoch 7/20\n",
      "3897/3897 [==============================] - 4s 1ms/step - loss: nan - acc: 0.0511 - val_loss: nan - val_acc: 0.0000e+00\n",
      "Epoch 8/20\n",
      "3897/3897 [==============================] - 4s 1ms/step - loss: nan - acc: 0.0511 - val_loss: nan - val_acc: 0.0000e+00\n",
      "Epoch 9/20\n",
      "3897/3897 [==============================] - 4s 1ms/step - loss: nan - acc: 0.0511 - val_loss: nan - val_acc: 0.0000e+00\n",
      "Epoch 10/20\n",
      "3897/3897 [==============================] - 4s 1ms/step - loss: nan - acc: 0.0511 - val_loss: nan - val_acc: 0.0000e+00\n",
      "Epoch 11/20\n",
      "3897/3897 [==============================] - 4s 1ms/step - loss: nan - acc: 0.0511 - val_loss: nan - val_acc: 0.0000e+00\n",
      "Epoch 12/20\n",
      "3897/3897 [==============================] - 4s 1ms/step - loss: nan - acc: 0.0511 - val_loss: nan - val_acc: 0.0000e+00\n",
      "Epoch 13/20\n",
      "3897/3897 [==============================] - 4s 1ms/step - loss: nan - acc: 0.0511 - val_loss: nan - val_acc: 0.0000e+00\n",
      "Epoch 14/20\n",
      "3897/3897 [==============================] - 4s 1ms/step - loss: nan - acc: 0.0511 - val_loss: nan - val_acc: 0.0000e+00\n",
      "Epoch 15/20\n",
      "3897/3897 [==============================] - 4s 1ms/step - loss: nan - acc: 0.0511 - val_loss: nan - val_acc: 0.0000e+00\n",
      "Epoch 16/20\n",
      "3897/3897 [==============================] - 4s 1ms/step - loss: nan - acc: 0.0511 - val_loss: nan - val_acc: 0.0000e+00\n",
      "Epoch 17/20\n",
      "3897/3897 [==============================] - 4s 1ms/step - loss: nan - acc: 0.0511 - val_loss: nan - val_acc: 0.0000e+00\n",
      "Epoch 18/20\n",
      "3897/3897 [==============================] - 4s 1ms/step - loss: nan - acc: 0.0511 - val_loss: nan - val_acc: 0.0000e+00\n",
      "Epoch 19/20\n",
      "3897/3897 [==============================] - 4s 1ms/step - loss: nan - acc: 0.0511 - val_loss: nan - val_acc: 0.0000e+00\n",
      "Epoch 20/20\n",
      "3897/3897 [==============================] - 4s 1ms/step - loss: nan - acc: 0.0511 - val_loss: nan - val_acc: 0.0000e+00\n"
     ]
    }
   ],
   "source": [
    "# Compile the model\n",
    "model2_motiontype.compile(optimizer='adam', loss='sparse_categorical_crossentropy', metrics=['acc'])\n",
    "\n",
    "# fit the model\n",
    "history2_motiontype = model2_motiontype.fit(shuffled_X_TRAIN_DATA, shuffled_Y_TRAIN_MOTIONTYPE_DATA, validation_data=(shuffled_X_TEST_DATA, shuffled_Y_TEST_MOTIONTYPE_DATA), epochs=20)\n",
    "\n",
    "# Save the model to a file\n",
    "model2_motiontype.save(MOTIONTYPE_MODEL_SAVE_PATH)"
   ]
  },
  {
   "cell_type": "code",
   "execution_count": null,
   "metadata": {},
   "outputs": [],
   "source": [
    "model2_motionspeed = Sequential()\n",
    "model2_motionspeed.add(InputLayer((WINDOW_SIZE, NUMBER_OF_FEATURES)))\n",
    "model2_motionspeed.add(Flatten())\n",
    "model2_motionspeed.add(Dense(64, activation='relu'))\n",
    "model2_motionspeed.add(Dense(32, activation='relu'))\n",
    "model2_motionspeed.add(Dense(len(MOTIONSPEED_CLASSES), activation='softmax'))\n",
    "\n",
    "model2_motionspeed.summary()"
   ]
  },
  {
   "cell_type": "code",
   "execution_count": null,
   "metadata": {},
   "outputs": [],
   "source": [
    "# Compile the model\n",
    "model2_motionspeed.compile(optimizer='adam', loss='sparse_categorical_crossentropy', metrics=['acc'])\n",
    "\n",
    "# fit the model\n",
    "history2_motionspeed = model2_motionspeed.fit(shuffled_X_TRAIN_DATA, shuffled_Y_TRAIN_MOTIONSPEED_DATA, validation_data=(shuffled_X_TEST_DATA, shuffled_Y_TEST_MOTIONSPEED_DATA), epochs=20)\n",
    "\n",
    "# Save the model to a file\n",
    "model2_motionspeed.save(MOTIONSPEED_MODEL_SAVE_PATH)"
   ]
  }
 ],
 "metadata": {
  "kernelspec": {
   "display_name": "Python 3",
   "language": "python",
   "name": "python3"
  },
  "language_info": {
   "codemirror_mode": {
    "name": "ipython",
    "version": 3
   },
   "file_extension": ".py",
   "mimetype": "text/x-python",
   "name": "python",
   "nbconvert_exporter": "python",
   "pygments_lexer": "ipython3",
   "version": "3.11.3"
  },
  "orig_nbformat": 4
 },
 "nbformat": 4,
 "nbformat_minor": 2
}
