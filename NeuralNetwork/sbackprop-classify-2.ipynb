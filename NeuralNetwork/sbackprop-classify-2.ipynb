{
 "cells": [
  {
   "cell_type": "code",
   "execution_count": 1,
   "metadata": {},
   "outputs": [],
   "source": [
    "import os\n",
    "import numpy as np\n",
    "from tensorflow.keras.models import Sequential\n",
    "from tensorflow.keras.layers import Dense, InputLayer, Flatten"
   ]
  },
  {
   "cell_type": "code",
   "execution_count": 2,
   "metadata": {},
   "outputs": [],
   "source": [
    "WINDOW_SIZE = 25\n",
    "NUMBER_OF_FEATURES = 4\n",
    "\n",
    "MOTION_CLASSES = ['STAND', 'STEPS']\n",
    "MOTIONTYPE_CLASSES = ['SML', 'MED', 'LAR']\n",
    "MOTIONSPEED_CLASSES = ['SLOW', 'AVERAGE', 'FAST']\n",
    "\n",
    "# Get the current working directory\n",
    "CURRENT_DIRECTORY = os.getcwd()\n",
    "\n",
    "ALL_X_TRAINING_DATA_PATH = CURRENT_DIRECTORY + '\\\\np-saved-data\\\\training\\\\ALL-X-TRAIN-CLASSIFY-V0.npy'\n",
    "ALL_Y_TRAINING_MOTION_DATA_PATH = CURRENT_DIRECTORY + '\\\\np-saved-data\\\\training\\\\ALL-Y-TRAIN-CLASSIFY-MOTION-V0.npy'\n",
    "ALL_Y_TRAINING_MOTIONTYPE_DATA_PATH = CURRENT_DIRECTORY + '\\\\np-saved-data\\\\training\\\\ALL-Y-TRAIN-CLASSIFY-MOTIONTYPE-V0.npy'\n",
    "ALL_Y_TRAINING_MOTIONSPEED_DATA_PATH = CURRENT_DIRECTORY + '\\\\np-saved-data\\\\training\\\\ALL-Y-TRAIN-CLASSIFY-MOTIONSPEED-V0.npy'\n",
    "\n",
    "ALL_X_TEST_DATA_PATH = CURRENT_DIRECTORY + '\\\\np-saved-data\\\\test\\\\ALL-X-TEST-CLASSIFY-V0.npy'\n",
    "ALL_Y_TEST_MOTION_DATA_PATH = CURRENT_DIRECTORY + '\\\\np-saved-data\\\\test\\\\ALL-Y-TEST-CLASSIFY-MOTION-V0.npy'\n",
    "ALL_Y_TEST_MOTIONTYPE_DATA_PATH = CURRENT_DIRECTORY + '\\\\np-saved-data\\\\test\\\\ALL-Y-TEST-CLASSIFY-MOTIONTYPE-V0.npy'\n",
    "ALL_Y_TEST_MOTIONSPEED_DATA_PATH = CURRENT_DIRECTORY + '\\\\np-saved-data\\\\test\\\\ALL-Y-TEST-CLASSIFY-MOTIONSPEED-V0.npy'\n",
    "\n",
    "MOTION_MODEL_SAVE_PATH =  CURRENT_DIRECTORY + '\\\\models\\\\standard-backprop-motion-2.h5'\n",
    "MOTIONTYPE_MODEL_SAVE_PATH =  CURRENT_DIRECTORY + '\\\\models\\\\standard-backprop-motiontype-2.h5'\n",
    "MOTIONSPEED_MODEL_SAVE_PATH =  CURRENT_DIRECTORY + '\\\\models\\\\standard-backprop-motionspeed-2.h5'"
   ]
  },
  {
   "cell_type": "code",
   "execution_count": 3,
   "metadata": {},
   "outputs": [
    {
     "name": "stdout",
     "output_type": "stream",
     "text": [
      "(124694, 25, 4)\n",
      "(124694,)\n",
      "(71935, 25, 4)\n",
      "(71935,)\n"
     ]
    }
   ],
   "source": [
    "ALL_X_TRAIN_DATA = np.load(ALL_X_TRAINING_DATA_PATH)\n",
    "ALL_Y_TRAIN_MOTION_DATA = np.load(ALL_Y_TRAINING_MOTION_DATA_PATH)\n",
    "ALL_Y_TRAIN_MOTIONTYPE_DATA = np.load(ALL_Y_TRAINING_MOTIONTYPE_DATA_PATH)\n",
    "ALL_Y_TRAIN_MOTIONSPEED_DATA = np.load(ALL_Y_TRAINING_MOTIONSPEED_DATA_PATH)\n",
    "\n",
    "ALL_X_TEST_DATA = np.load(ALL_X_TEST_DATA_PATH)\n",
    "ALL_Y_TEST_MOTION_DATA = np.load(ALL_Y_TEST_MOTION_DATA_PATH)\n",
    "ALL_Y_TEST_MOTIONTYPE_DATA = np.load(ALL_Y_TEST_MOTIONTYPE_DATA_PATH)\n",
    "ALL_Y_TEST_MOTIONSPEED_DATA = np.load(ALL_Y_TEST_MOTIONSPEED_DATA_PATH)\n",
    "\n",
    "\n",
    "print(ALL_X_TRAIN_DATA.shape)\n",
    "print(ALL_Y_TRAIN_MOTION_DATA.shape)\n",
    "\n",
    "print(ALL_X_TEST_DATA.shape)\n",
    "print(ALL_Y_TEST_MOTION_DATA.shape)"
   ]
  },
  {
   "cell_type": "code",
   "execution_count": 4,
   "metadata": {},
   "outputs": [],
   "source": [
    "# Generate random permutation indices\n",
    "random_indices_1 = np.random.permutation(len(ALL_X_TRAIN_DATA))\n",
    "\n",
    "\n",
    "# Shuffle the input features and target labels using the random indices\n",
    "shuffled_X_TRAIN_DATA = ALL_X_TRAIN_DATA[random_indices_1]\n",
    "shuffled_Y_TRAIN_MOTION_DATA = ALL_Y_TRAIN_MOTION_DATA[random_indices_1]\n",
    "shuffled_Y_TRAIN_MOTIONTYPE_DATA = ALL_Y_TRAIN_MOTIONTYPE_DATA[random_indices_1]\n",
    "shuffled_Y_TRAIN_MOTIONSPEED_DATA = ALL_Y_TRAIN_MOTIONSPEED_DATA[random_indices_1]"
   ]
  },
  {
   "cell_type": "code",
   "execution_count": 5,
   "metadata": {},
   "outputs": [],
   "source": [
    "# Generate random permutation indices\n",
    "random_indices_2 = np.random.permutation(len(ALL_X_TEST_DATA))\n",
    "\n",
    "\n",
    "# Shuffle the input features and target labels using the random indices\n",
    "shuffled_X_TEST_DATA = ALL_X_TEST_DATA[random_indices_2]\n",
    "shuffled_Y_TEST_MOTION_DATA = ALL_Y_TEST_MOTION_DATA[random_indices_2]\n",
    "shuffled_Y_TEST_MOTIONTYPE_DATA = ALL_Y_TEST_MOTIONTYPE_DATA[random_indices_2]\n",
    "shuffled_Y_TEST_MOTIONSPEED_DATA = ALL_Y_TEST_MOTIONSPEED_DATA[random_indices_2]"
   ]
  },
  {
   "cell_type": "code",
   "execution_count": 6,
   "metadata": {},
   "outputs": [
    {
     "name": "stdout",
     "output_type": "stream",
     "text": [
      "Model: \"sequential\"\n",
      "_________________________________________________________________\n",
      " Layer (type)                Output Shape              Param #   \n",
      "=================================================================\n",
      " flatten (Flatten)           (None, 100)               0         \n",
      "                                                                 \n",
      " dense (Dense)               (None, 64)                6464      \n",
      "                                                                 \n",
      " dense_1 (Dense)             (None, 32)                2080      \n",
      "                                                                 \n",
      " dense_2 (Dense)             (None, 2)                 66        \n",
      "                                                                 \n",
      "=================================================================\n",
      "Total params: 8,610\n",
      "Trainable params: 8,610\n",
      "Non-trainable params: 0\n",
      "_________________________________________________________________\n"
     ]
    }
   ],
   "source": [
    "model2_motion = Sequential()\n",
    "model2_motion.add(InputLayer((WINDOW_SIZE, NUMBER_OF_FEATURES)))\n",
    "model2_motion.add(Flatten())\n",
    "model2_motion.add(Dense(64, activation='relu'))\n",
    "model2_motion.add(Dense(32, activation='relu'))\n",
    "model2_motion.add(Dense(len(MOTION_CLASSES), activation='softmax'))\n",
    "\n",
    "model2_motion.summary()"
   ]
  },
  {
   "cell_type": "code",
   "execution_count": 7,
   "metadata": {},
   "outputs": [
    {
     "name": "stdout",
     "output_type": "stream",
     "text": [
      "Epoch 1/20\n",
      "3897/3897 [==============================] - 5s 1ms/step - loss: nan - acc: 0.0668 - val_loss: nan - val_acc: 0.0000e+00\n",
      "Epoch 2/20\n",
      "3897/3897 [==============================] - 4s 994us/step - loss: nan - acc: 0.0511 - val_loss: nan - val_acc: 0.0000e+00\n",
      "Epoch 3/20\n",
      "3897/3897 [==============================] - 4s 1ms/step - loss: nan - acc: 0.0511 - val_loss: nan - val_acc: 0.0000e+00\n",
      "Epoch 4/20\n",
      "3897/3897 [==============================] - 4s 994us/step - loss: nan - acc: 0.0511 - val_loss: nan - val_acc: 0.0000e+00\n",
      "Epoch 5/20\n",
      "1173/3897 [========>.....................] - ETA: 1s - loss: nan - acc: 0.0518"
     ]
    },
    {
     "ename": "KeyboardInterrupt",
     "evalue": "",
     "output_type": "error",
     "traceback": [
      "\u001b[1;31m---------------------------------------------------------------------------\u001b[0m",
      "\u001b[1;31mKeyboardInterrupt\u001b[0m                         Traceback (most recent call last)",
      "Cell \u001b[1;32mIn[7], line 4\u001b[0m\n\u001b[0;32m      1\u001b[0m \u001b[39m# Compile the model\u001b[39;00m\n\u001b[0;32m      2\u001b[0m model2_motion\u001b[39m.\u001b[39mcompile(optimizer\u001b[39m=\u001b[39m\u001b[39m'\u001b[39m\u001b[39madam\u001b[39m\u001b[39m'\u001b[39m, loss\u001b[39m=\u001b[39m\u001b[39m'\u001b[39m\u001b[39msparse_categorical_crossentropy\u001b[39m\u001b[39m'\u001b[39m, metrics\u001b[39m=\u001b[39m[\u001b[39m'\u001b[39m\u001b[39macc\u001b[39m\u001b[39m'\u001b[39m])\n\u001b[1;32m----> 4\u001b[0m history2_motion \u001b[39m=\u001b[39m model2_motion\u001b[39m.\u001b[39;49mfit(shuffled_X_TRAIN_DATA, shuffled_Y_TRAIN_MOTION_DATA, validation_data\u001b[39m=\u001b[39;49m(shuffled_X_TEST_DATA, shuffled_Y_TEST_MOTION_DATA), epochs\u001b[39m=\u001b[39;49m\u001b[39m20\u001b[39;49m)\n\u001b[0;32m      6\u001b[0m \u001b[39m# Save the model to a file\u001b[39;00m\n\u001b[0;32m      7\u001b[0m model2_motion\u001b[39m.\u001b[39msave(MOTION_MODEL_SAVE_PATH)\n",
      "File \u001b[1;32mc:\\Users\\KennethDesktop\\AppData\\Local\\Programs\\Python\\Python311\\Lib\\site-packages\\keras\\utils\\traceback_utils.py:65\u001b[0m, in \u001b[0;36mfilter_traceback.<locals>.error_handler\u001b[1;34m(*args, **kwargs)\u001b[0m\n\u001b[0;32m     63\u001b[0m filtered_tb \u001b[39m=\u001b[39m \u001b[39mNone\u001b[39;00m\n\u001b[0;32m     64\u001b[0m \u001b[39mtry\u001b[39;00m:\n\u001b[1;32m---> 65\u001b[0m     \u001b[39mreturn\u001b[39;00m fn(\u001b[39m*\u001b[39;49margs, \u001b[39m*\u001b[39;49m\u001b[39m*\u001b[39;49mkwargs)\n\u001b[0;32m     66\u001b[0m \u001b[39mexcept\u001b[39;00m \u001b[39mException\u001b[39;00m \u001b[39mas\u001b[39;00m e:\n\u001b[0;32m     67\u001b[0m     filtered_tb \u001b[39m=\u001b[39m _process_traceback_frames(e\u001b[39m.\u001b[39m__traceback__)\n",
      "File \u001b[1;32mc:\\Users\\KennethDesktop\\AppData\\Local\\Programs\\Python\\Python311\\Lib\\site-packages\\keras\\engine\\training.py:1685\u001b[0m, in \u001b[0;36mModel.fit\u001b[1;34m(self, x, y, batch_size, epochs, verbose, callbacks, validation_split, validation_data, shuffle, class_weight, sample_weight, initial_epoch, steps_per_epoch, validation_steps, validation_batch_size, validation_freq, max_queue_size, workers, use_multiprocessing)\u001b[0m\n\u001b[0;32m   1677\u001b[0m \u001b[39mwith\u001b[39;00m tf\u001b[39m.\u001b[39mprofiler\u001b[39m.\u001b[39mexperimental\u001b[39m.\u001b[39mTrace(\n\u001b[0;32m   1678\u001b[0m     \u001b[39m\"\u001b[39m\u001b[39mtrain\u001b[39m\u001b[39m\"\u001b[39m,\n\u001b[0;32m   1679\u001b[0m     epoch_num\u001b[39m=\u001b[39mepoch,\n\u001b[1;32m   (...)\u001b[0m\n\u001b[0;32m   1682\u001b[0m     _r\u001b[39m=\u001b[39m\u001b[39m1\u001b[39m,\n\u001b[0;32m   1683\u001b[0m ):\n\u001b[0;32m   1684\u001b[0m     callbacks\u001b[39m.\u001b[39mon_train_batch_begin(step)\n\u001b[1;32m-> 1685\u001b[0m     tmp_logs \u001b[39m=\u001b[39m \u001b[39mself\u001b[39;49m\u001b[39m.\u001b[39;49mtrain_function(iterator)\n\u001b[0;32m   1686\u001b[0m     \u001b[39mif\u001b[39;00m data_handler\u001b[39m.\u001b[39mshould_sync:\n\u001b[0;32m   1687\u001b[0m         context\u001b[39m.\u001b[39masync_wait()\n",
      "File \u001b[1;32mc:\\Users\\KennethDesktop\\AppData\\Local\\Programs\\Python\\Python311\\Lib\\site-packages\\tensorflow\\python\\util\\traceback_utils.py:150\u001b[0m, in \u001b[0;36mfilter_traceback.<locals>.error_handler\u001b[1;34m(*args, **kwargs)\u001b[0m\n\u001b[0;32m    148\u001b[0m filtered_tb \u001b[39m=\u001b[39m \u001b[39mNone\u001b[39;00m\n\u001b[0;32m    149\u001b[0m \u001b[39mtry\u001b[39;00m:\n\u001b[1;32m--> 150\u001b[0m   \u001b[39mreturn\u001b[39;00m fn(\u001b[39m*\u001b[39;49margs, \u001b[39m*\u001b[39;49m\u001b[39m*\u001b[39;49mkwargs)\n\u001b[0;32m    151\u001b[0m \u001b[39mexcept\u001b[39;00m \u001b[39mException\u001b[39;00m \u001b[39mas\u001b[39;00m e:\n\u001b[0;32m    152\u001b[0m   filtered_tb \u001b[39m=\u001b[39m _process_traceback_frames(e\u001b[39m.\u001b[39m__traceback__)\n",
      "File \u001b[1;32mc:\\Users\\KennethDesktop\\AppData\\Local\\Programs\\Python\\Python311\\Lib\\site-packages\\tensorflow\\python\\eager\\polymorphic_function\\polymorphic_function.py:894\u001b[0m, in \u001b[0;36mFunction.__call__\u001b[1;34m(self, *args, **kwds)\u001b[0m\n\u001b[0;32m    891\u001b[0m compiler \u001b[39m=\u001b[39m \u001b[39m\"\u001b[39m\u001b[39mxla\u001b[39m\u001b[39m\"\u001b[39m \u001b[39mif\u001b[39;00m \u001b[39mself\u001b[39m\u001b[39m.\u001b[39m_jit_compile \u001b[39melse\u001b[39;00m \u001b[39m\"\u001b[39m\u001b[39mnonXla\u001b[39m\u001b[39m\"\u001b[39m\n\u001b[0;32m    893\u001b[0m \u001b[39mwith\u001b[39;00m OptionalXlaContext(\u001b[39mself\u001b[39m\u001b[39m.\u001b[39m_jit_compile):\n\u001b[1;32m--> 894\u001b[0m   result \u001b[39m=\u001b[39m \u001b[39mself\u001b[39;49m\u001b[39m.\u001b[39;49m_call(\u001b[39m*\u001b[39;49margs, \u001b[39m*\u001b[39;49m\u001b[39m*\u001b[39;49mkwds)\n\u001b[0;32m    896\u001b[0m new_tracing_count \u001b[39m=\u001b[39m \u001b[39mself\u001b[39m\u001b[39m.\u001b[39mexperimental_get_tracing_count()\n\u001b[0;32m    897\u001b[0m without_tracing \u001b[39m=\u001b[39m (tracing_count \u001b[39m==\u001b[39m new_tracing_count)\n",
      "File \u001b[1;32mc:\\Users\\KennethDesktop\\AppData\\Local\\Programs\\Python\\Python311\\Lib\\site-packages\\tensorflow\\python\\eager\\polymorphic_function\\polymorphic_function.py:926\u001b[0m, in \u001b[0;36mFunction._call\u001b[1;34m(self, *args, **kwds)\u001b[0m\n\u001b[0;32m    923\u001b[0m   \u001b[39mself\u001b[39m\u001b[39m.\u001b[39m_lock\u001b[39m.\u001b[39mrelease()\n\u001b[0;32m    924\u001b[0m   \u001b[39m# In this case we have created variables on the first call, so we run the\u001b[39;00m\n\u001b[0;32m    925\u001b[0m   \u001b[39m# defunned version which is guaranteed to never create variables.\u001b[39;00m\n\u001b[1;32m--> 926\u001b[0m   \u001b[39mreturn\u001b[39;00m \u001b[39mself\u001b[39;49m\u001b[39m.\u001b[39;49m_no_variable_creation_fn(\u001b[39m*\u001b[39;49margs, \u001b[39m*\u001b[39;49m\u001b[39m*\u001b[39;49mkwds)  \u001b[39m# pylint: disable=not-callable\u001b[39;00m\n\u001b[0;32m    927\u001b[0m \u001b[39melif\u001b[39;00m \u001b[39mself\u001b[39m\u001b[39m.\u001b[39m_variable_creation_fn \u001b[39mis\u001b[39;00m \u001b[39mnot\u001b[39;00m \u001b[39mNone\u001b[39;00m:\n\u001b[0;32m    928\u001b[0m   \u001b[39m# Release the lock early so that multiple threads can perform the call\u001b[39;00m\n\u001b[0;32m    929\u001b[0m   \u001b[39m# in parallel.\u001b[39;00m\n\u001b[0;32m    930\u001b[0m   \u001b[39mself\u001b[39m\u001b[39m.\u001b[39m_lock\u001b[39m.\u001b[39mrelease()\n",
      "File \u001b[1;32mc:\\Users\\KennethDesktop\\AppData\\Local\\Programs\\Python\\Python311\\Lib\\site-packages\\tensorflow\\python\\eager\\polymorphic_function\\tracing_compiler.py:143\u001b[0m, in \u001b[0;36mTracingCompiler.__call__\u001b[1;34m(self, *args, **kwargs)\u001b[0m\n\u001b[0;32m    140\u001b[0m \u001b[39mwith\u001b[39;00m \u001b[39mself\u001b[39m\u001b[39m.\u001b[39m_lock:\n\u001b[0;32m    141\u001b[0m   (concrete_function,\n\u001b[0;32m    142\u001b[0m    filtered_flat_args) \u001b[39m=\u001b[39m \u001b[39mself\u001b[39m\u001b[39m.\u001b[39m_maybe_define_function(args, kwargs)\n\u001b[1;32m--> 143\u001b[0m \u001b[39mreturn\u001b[39;00m concrete_function\u001b[39m.\u001b[39;49m_call_flat(\n\u001b[0;32m    144\u001b[0m     filtered_flat_args, captured_inputs\u001b[39m=\u001b[39;49mconcrete_function\u001b[39m.\u001b[39;49mcaptured_inputs)\n",
      "File \u001b[1;32mc:\\Users\\KennethDesktop\\AppData\\Local\\Programs\\Python\\Python311\\Lib\\site-packages\\tensorflow\\python\\eager\\polymorphic_function\\monomorphic_function.py:1757\u001b[0m, in \u001b[0;36mConcreteFunction._call_flat\u001b[1;34m(self, args, captured_inputs, cancellation_manager)\u001b[0m\n\u001b[0;32m   1753\u001b[0m possible_gradient_type \u001b[39m=\u001b[39m gradients_util\u001b[39m.\u001b[39mPossibleTapeGradientTypes(args)\n\u001b[0;32m   1754\u001b[0m \u001b[39mif\u001b[39;00m (possible_gradient_type \u001b[39m==\u001b[39m gradients_util\u001b[39m.\u001b[39mPOSSIBLE_GRADIENT_TYPES_NONE\n\u001b[0;32m   1755\u001b[0m     \u001b[39mand\u001b[39;00m executing_eagerly):\n\u001b[0;32m   1756\u001b[0m   \u001b[39m# No tape is watching; skip to running the function.\u001b[39;00m\n\u001b[1;32m-> 1757\u001b[0m   \u001b[39mreturn\u001b[39;00m \u001b[39mself\u001b[39m\u001b[39m.\u001b[39m_build_call_outputs(\u001b[39mself\u001b[39;49m\u001b[39m.\u001b[39;49m_inference_function\u001b[39m.\u001b[39;49mcall(\n\u001b[0;32m   1758\u001b[0m       ctx, args, cancellation_manager\u001b[39m=\u001b[39;49mcancellation_manager))\n\u001b[0;32m   1759\u001b[0m forward_backward \u001b[39m=\u001b[39m \u001b[39mself\u001b[39m\u001b[39m.\u001b[39m_select_forward_and_backward_functions(\n\u001b[0;32m   1760\u001b[0m     args,\n\u001b[0;32m   1761\u001b[0m     possible_gradient_type,\n\u001b[0;32m   1762\u001b[0m     executing_eagerly)\n\u001b[0;32m   1763\u001b[0m forward_function, args_with_tangents \u001b[39m=\u001b[39m forward_backward\u001b[39m.\u001b[39mforward()\n",
      "File \u001b[1;32mc:\\Users\\KennethDesktop\\AppData\\Local\\Programs\\Python\\Python311\\Lib\\site-packages\\tensorflow\\python\\eager\\polymorphic_function\\monomorphic_function.py:381\u001b[0m, in \u001b[0;36m_EagerDefinedFunction.call\u001b[1;34m(self, ctx, args, cancellation_manager)\u001b[0m\n\u001b[0;32m    379\u001b[0m \u001b[39mwith\u001b[39;00m _InterpolateFunctionError(\u001b[39mself\u001b[39m):\n\u001b[0;32m    380\u001b[0m   \u001b[39mif\u001b[39;00m cancellation_manager \u001b[39mis\u001b[39;00m \u001b[39mNone\u001b[39;00m:\n\u001b[1;32m--> 381\u001b[0m     outputs \u001b[39m=\u001b[39m execute\u001b[39m.\u001b[39;49mexecute(\n\u001b[0;32m    382\u001b[0m         \u001b[39mstr\u001b[39;49m(\u001b[39mself\u001b[39;49m\u001b[39m.\u001b[39;49msignature\u001b[39m.\u001b[39;49mname),\n\u001b[0;32m    383\u001b[0m         num_outputs\u001b[39m=\u001b[39;49m\u001b[39mself\u001b[39;49m\u001b[39m.\u001b[39;49m_num_outputs,\n\u001b[0;32m    384\u001b[0m         inputs\u001b[39m=\u001b[39;49margs,\n\u001b[0;32m    385\u001b[0m         attrs\u001b[39m=\u001b[39;49mattrs,\n\u001b[0;32m    386\u001b[0m         ctx\u001b[39m=\u001b[39;49mctx)\n\u001b[0;32m    387\u001b[0m   \u001b[39melse\u001b[39;00m:\n\u001b[0;32m    388\u001b[0m     outputs \u001b[39m=\u001b[39m execute\u001b[39m.\u001b[39mexecute_with_cancellation(\n\u001b[0;32m    389\u001b[0m         \u001b[39mstr\u001b[39m(\u001b[39mself\u001b[39m\u001b[39m.\u001b[39msignature\u001b[39m.\u001b[39mname),\n\u001b[0;32m    390\u001b[0m         num_outputs\u001b[39m=\u001b[39m\u001b[39mself\u001b[39m\u001b[39m.\u001b[39m_num_outputs,\n\u001b[1;32m   (...)\u001b[0m\n\u001b[0;32m    393\u001b[0m         ctx\u001b[39m=\u001b[39mctx,\n\u001b[0;32m    394\u001b[0m         cancellation_manager\u001b[39m=\u001b[39mcancellation_manager)\n",
      "File \u001b[1;32mc:\\Users\\KennethDesktop\\AppData\\Local\\Programs\\Python\\Python311\\Lib\\site-packages\\tensorflow\\python\\eager\\execute.py:52\u001b[0m, in \u001b[0;36mquick_execute\u001b[1;34m(op_name, num_outputs, inputs, attrs, ctx, name)\u001b[0m\n\u001b[0;32m     50\u001b[0m \u001b[39mtry\u001b[39;00m:\n\u001b[0;32m     51\u001b[0m   ctx\u001b[39m.\u001b[39mensure_initialized()\n\u001b[1;32m---> 52\u001b[0m   tensors \u001b[39m=\u001b[39m pywrap_tfe\u001b[39m.\u001b[39;49mTFE_Py_Execute(ctx\u001b[39m.\u001b[39;49m_handle, device_name, op_name,\n\u001b[0;32m     53\u001b[0m                                       inputs, attrs, num_outputs)\n\u001b[0;32m     54\u001b[0m \u001b[39mexcept\u001b[39;00m core\u001b[39m.\u001b[39m_NotOkStatusException \u001b[39mas\u001b[39;00m e:\n\u001b[0;32m     55\u001b[0m   \u001b[39mif\u001b[39;00m name \u001b[39mis\u001b[39;00m \u001b[39mnot\u001b[39;00m \u001b[39mNone\u001b[39;00m:\n",
      "\u001b[1;31mKeyboardInterrupt\u001b[0m: "
     ]
    }
   ],
   "source": [
    "# Compile the model\n",
    "model2_motion.compile(optimizer='adam', loss='sparse_categorical_crossentropy', metrics=['acc'])\n",
    "\n",
    "history2_motion = model2_motion.fit(shuffled_X_TRAIN_DATA, shuffled_Y_TRAIN_MOTION_DATA, validation_data=(shuffled_X_TEST_DATA, shuffled_Y_TEST_MOTION_DATA), epochs=20)\n",
    "\n",
    "# Save the model to a file\n",
    "model2_motion.save(MOTION_MODEL_SAVE_PATH)"
   ]
  },
  {
   "cell_type": "code",
   "execution_count": null,
   "metadata": {},
   "outputs": [
    {
     "name": "stdout",
     "output_type": "stream",
     "text": [
      "Model: \"sequential_8\"\n",
      "_________________________________________________________________\n",
      " Layer (type)                Output Shape              Param #   \n",
      "=================================================================\n",
      " flatten_8 (Flatten)         (None, 100)               0         \n",
      "                                                                 \n",
      " dense_24 (Dense)            (None, 64)                6464      \n",
      "                                                                 \n",
      " dense_25 (Dense)            (None, 32)                2080      \n",
      "                                                                 \n",
      " dense_26 (Dense)            (None, 3)                 99        \n",
      "                                                                 \n",
      "=================================================================\n",
      "Total params: 8,643\n",
      "Trainable params: 8,643\n",
      "Non-trainable params: 0\n",
      "_________________________________________________________________\n"
     ]
    }
   ],
   "source": [
    "model2_motiontype = Sequential()\n",
    "model2_motiontype.add(InputLayer((WINDOW_SIZE, NUMBER_OF_FEATURES)))\n",
    "model2_motiontype.add(Flatten())\n",
    "model2_motiontype.add(Dense(64, activation='relu'))\n",
    "model2_motiontype.add(Dense(32, activation='relu'))\n",
    "model2_motiontype.add(Dense(len(MOTIONTYPE_CLASSES), activation='softmax'))\n",
    "\n",
    "model2_motiontype.summary()"
   ]
  },
  {
   "cell_type": "code",
   "execution_count": null,
   "metadata": {},
   "outputs": [
    {
     "name": "stdout",
     "output_type": "stream",
     "text": [
      "Epoch 1/20\n",
      "3897/3897 [==============================] - 5s 1ms/step - loss: nan - acc: 0.1324 - val_loss: nan - val_acc: 0.0000e+00\n",
      "Epoch 2/20\n",
      "3897/3897 [==============================] - 4s 1ms/step - loss: nan - acc: 0.0511 - val_loss: nan - val_acc: 0.0000e+00\n",
      "Epoch 3/20\n",
      "3897/3897 [==============================] - 4s 1ms/step - loss: nan - acc: 0.0511 - val_loss: nan - val_acc: 0.0000e+00\n",
      "Epoch 4/20\n",
      "3897/3897 [==============================] - 4s 1ms/step - loss: nan - acc: 0.0511 - val_loss: nan - val_acc: 0.0000e+00\n",
      "Epoch 5/20\n",
      "3897/3897 [==============================] - 4s 1ms/step - loss: nan - acc: 0.0511 - val_loss: nan - val_acc: 0.0000e+00\n",
      "Epoch 6/20\n",
      "3897/3897 [==============================] - 4s 1ms/step - loss: nan - acc: 0.0511 - val_loss: nan - val_acc: 0.0000e+00\n",
      "Epoch 7/20\n",
      "3897/3897 [==============================] - 4s 1ms/step - loss: nan - acc: 0.0511 - val_loss: nan - val_acc: 0.0000e+00\n",
      "Epoch 8/20\n",
      "3897/3897 [==============================] - 4s 1ms/step - loss: nan - acc: 0.0511 - val_loss: nan - val_acc: 0.0000e+00\n",
      "Epoch 9/20\n",
      "3897/3897 [==============================] - 4s 1ms/step - loss: nan - acc: 0.0511 - val_loss: nan - val_acc: 0.0000e+00\n",
      "Epoch 10/20\n",
      "3897/3897 [==============================] - 4s 1ms/step - loss: nan - acc: 0.0511 - val_loss: nan - val_acc: 0.0000e+00\n",
      "Epoch 11/20\n",
      "3897/3897 [==============================] - 4s 1ms/step - loss: nan - acc: 0.0511 - val_loss: nan - val_acc: 0.0000e+00\n",
      "Epoch 12/20\n",
      "3897/3897 [==============================] - 4s 1ms/step - loss: nan - acc: 0.0511 - val_loss: nan - val_acc: 0.0000e+00\n",
      "Epoch 13/20\n",
      "3897/3897 [==============================] - 4s 1ms/step - loss: nan - acc: 0.0511 - val_loss: nan - val_acc: 0.0000e+00\n",
      "Epoch 14/20\n",
      "3897/3897 [==============================] - 4s 1ms/step - loss: nan - acc: 0.0511 - val_loss: nan - val_acc: 0.0000e+00\n",
      "Epoch 15/20\n",
      "3897/3897 [==============================] - 4s 1ms/step - loss: nan - acc: 0.0511 - val_loss: nan - val_acc: 0.0000e+00\n",
      "Epoch 16/20\n",
      "3897/3897 [==============================] - 4s 1ms/step - loss: nan - acc: 0.0511 - val_loss: nan - val_acc: 0.0000e+00\n",
      "Epoch 17/20\n",
      "3897/3897 [==============================] - 4s 1ms/step - loss: nan - acc: 0.0511 - val_loss: nan - val_acc: 0.0000e+00\n",
      "Epoch 18/20\n",
      "3897/3897 [==============================] - 4s 1ms/step - loss: nan - acc: 0.0511 - val_loss: nan - val_acc: 0.0000e+00\n",
      "Epoch 19/20\n",
      "3897/3897 [==============================] - 4s 1ms/step - loss: nan - acc: 0.0511 - val_loss: nan - val_acc: 0.0000e+00\n",
      "Epoch 20/20\n",
      "3897/3897 [==============================] - 4s 1ms/step - loss: nan - acc: 0.0511 - val_loss: nan - val_acc: 0.0000e+00\n"
     ]
    }
   ],
   "source": [
    "# Compile the model\n",
    "model2_motiontype.compile(optimizer='adam', loss='sparse_categorical_crossentropy', metrics=['acc'])\n",
    "\n",
    "# fit the model\n",
    "history2_motiontype = model2_motiontype.fit(shuffled_X_TRAIN_DATA, shuffled_Y_TRAIN_MOTIONTYPE_DATA, validation_data=(shuffled_X_TEST_DATA, shuffled_Y_TEST_MOTIONTYPE_DATA), epochs=20)\n",
    "\n",
    "# Save the model to a file\n",
    "model2_motiontype.save(MOTIONTYPE_MODEL_SAVE_PATH)"
   ]
  },
  {
   "cell_type": "code",
   "execution_count": null,
   "metadata": {},
   "outputs": [],
   "source": [
    "model2_motionspeed = Sequential()\n",
    "model2_motionspeed.add(InputLayer((WINDOW_SIZE, NUMBER_OF_FEATURES)))\n",
    "model2_motionspeed.add(Flatten())\n",
    "model2_motionspeed.add(Dense(64, activation='relu'))\n",
    "model2_motionspeed.add(Dense(32, activation='relu'))\n",
    "model2_motionspeed.add(Dense(len(MOTIONSPEED_CLASSES), activation='softmax'))\n",
    "\n",
    "model2_motionspeed.summary()"
   ]
  },
  {
   "cell_type": "code",
   "execution_count": null,
   "metadata": {},
   "outputs": [],
   "source": [
    "# Compile the model\n",
    "model2_motionspeed.compile(optimizer='adam', loss='sparse_categorical_crossentropy', metrics=['acc'])\n",
    "\n",
    "# fit the model\n",
    "history2_motionspeed = model2_motionspeed.fit(shuffled_X_TRAIN_DATA, shuffled_Y_TRAIN_MOTIONSPEED_DATA, validation_data=(shuffled_X_TEST_DATA, shuffled_Y_TEST_MOTIONSPEED_DATA), epochs=20)\n",
    "\n",
    "# Save the model to a file\n",
    "model2_motionspeed.save(MOTIONSPEED_MODEL_SAVE_PATH)"
   ]
  }
 ],
 "metadata": {
  "kernelspec": {
   "display_name": "Python 3",
   "language": "python",
   "name": "python3"
  },
  "language_info": {
   "codemirror_mode": {
    "name": "ipython",
    "version": 3
   },
   "file_extension": ".py",
   "mimetype": "text/x-python",
   "name": "python",
   "nbconvert_exporter": "python",
   "pygments_lexer": "ipython3",
   "version": "3.11.3"
  },
  "orig_nbformat": 4
 },
 "nbformat": 4,
 "nbformat_minor": 2
}
