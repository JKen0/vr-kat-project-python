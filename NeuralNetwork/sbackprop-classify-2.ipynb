{
 "cells": [
  {
   "cell_type": "code",
   "execution_count": 24,
   "metadata": {},
   "outputs": [],
   "source": [
    "import os\n",
    "import numpy as np\n",
    "from tensorflow.keras.models import Sequential\n",
    "from tensorflow.keras.layers import Dense, InputLayer, Dropout, Flatten\n",
    "from tensorflow.keras.callbacks import ModelCheckpoint\n",
    "from tensorflow.keras.losses import MeanSquaredError, MeanAbsoluteError\n",
    "from tensorflow.keras.metrics import RootMeanSquaredError\n",
    "from tensorflow.keras.optimizers import Adam"
   ]
  },
  {
   "cell_type": "code",
   "execution_count": 25,
   "metadata": {},
   "outputs": [],
   "source": [
    "WINDOW_SIZE = 25\n",
    "NUMBER_OF_FEATURES = 4\n",
    "\n",
    "MOTION_CLASSES = ['STAND', 'STEPS']\n",
    "MOTIONTYPE_CLASSES = ['SML', 'MED', 'LAR']\n",
    "MOTIONSPEED_CLASSES = ['SLOW', 'AVERAGE', 'FAST']\n",
    "\n",
    "# Get the current working directory\n",
    "CURRENT_DIRECTORY = os.getcwd()\n",
    "\n",
    "ALL_X_TRAINING_DATA_PATH = CURRENT_DIRECTORY + '\\\\np-saved-data\\\\training\\\\ALL-X-TRAIN-CLASSIFY-V0.npy'\n",
    "ALL_Y_TRAINING_MOTION_DATA_PATH = CURRENT_DIRECTORY + '\\\\np-saved-data\\\\training\\\\ALL-Y-TRAIN-CLASSIFY-MOTION-V0.npy'\n",
    "ALL_Y_TRAINING_MOTIONTYPE_DATA_PATH = CURRENT_DIRECTORY + '\\\\np-saved-data\\\\training\\\\ALL-Y-TRAIN-CLASSIFY-MOTIONTYPE-V0.npy'\n",
    "ALL_Y_TRAINING_MOTIONSPEED_DATA_PATH = CURRENT_DIRECTORY + '\\\\np-saved-data\\\\training\\\\ALL-Y-TRAIN-CLASSIFY-MOTIONSPEED-V0.npy'\n",
    "\n",
    "ALL_X_TEST_DATA_PATH = CURRENT_DIRECTORY + '\\\\np-saved-data\\\\test\\\\ALL-X-TEST-CLASSIFY-V0.npy'\n",
    "ALL_Y_TEST_MOTION_DATA_PATH = CURRENT_DIRECTORY + '\\\\np-saved-data\\\\test\\\\ALL-Y-TEST-CLASSIFY-MOTION-V0.npy'\n",
    "ALL_Y_TEST_MOTIONTYPE_DATA_PATH = CURRENT_DIRECTORY + '\\\\np-saved-data\\\\test\\\\ALL-Y-TEST-CLASSIFY-MOTIONTYPE-V0.npy'\n",
    "ALL_Y_TEST_MOTIONSPEED_DATA_PATH = CURRENT_DIRECTORY + '\\\\np-saved-data\\\\test\\\\ALL-Y-TEST-CLASSIFY-MOTIONSPEED-V0.npy'\n",
    "\n",
    "MOTION_MODEL_SAVE_PATH =  CURRENT_DIRECTORY + '\\\\models\\\\standard-backprop-motion-2.h5'\n",
    "MOTIONTYPE_MODEL_SAVE_PATH =  CURRENT_DIRECTORY + '\\\\models\\\\standard-backprop-motiontype-2.h5'\n",
    "MOTIONSPEED_MODEL_SAVE_PATH =  CURRENT_DIRECTORY + '\\\\models\\\\standard-backprop-motionspeed-2.h5'"
   ]
  },
  {
   "cell_type": "code",
   "execution_count": 26,
   "metadata": {},
   "outputs": [
    {
     "name": "stdout",
     "output_type": "stream",
     "text": [
      "(124694, 25, 4)\n",
      "(124694, 2)\n",
      "(71935, 25, 4)\n",
      "(71935, 2)\n"
     ]
    }
   ],
   "source": [
    "ALL_X_TRAIN_DATA = np.load(ALL_X_TRAINING_DATA_PATH)\n",
    "ALL_Y_TRAIN_MOTION_DATA = np.load(ALL_Y_TRAINING_MOTION_DATA_PATH)\n",
    "ALL_Y_TRAIN_MOTIONTYPE_DATA = np.load(ALL_Y_TRAINING_MOTIONTYPE_DATA_PATH)\n",
    "ALL_Y_TRAIN_MOTIONSPEED_DATA = np.load(ALL_Y_TRAINING_MOTIONSPEED_DATA_PATH)\n",
    "\n",
    "ALL_X_TEST_DATA = np.load(ALL_X_TEST_DATA_PATH)\n",
    "ALL_Y_TEST_MOTION_DATA = np.load(ALL_Y_TEST_MOTION_DATA_PATH)\n",
    "ALL_Y_TEST_MOTIONTYPE_DATA = np.load(ALL_Y_TEST_MOTIONTYPE_DATA_PATH)\n",
    "ALL_Y_TEST_MOTIONSPEED_DATA = np.load(ALL_Y_TEST_MOTIONSPEED_DATA_PATH)\n",
    "\n",
    "\n",
    "print(ALL_X_TRAIN_DATA.shape)\n",
    "print(ALL_Y_TRAIN_MOTION_DATA.shape)\n",
    "\n",
    "print(ALL_X_TEST_DATA.shape)\n",
    "print(ALL_Y_TEST_MOTION_DATA.shape)"
   ]
  },
  {
   "cell_type": "code",
   "execution_count": 27,
   "metadata": {},
   "outputs": [],
   "source": [
    "# Generate random permutation indices\n",
    "random_indices_1 = np.random.permutation(len(ALL_X_TRAIN_DATA))\n",
    "\n",
    "\n",
    "# Shuffle the input features and target labels using the random indices\n",
    "shuffled_X_TRAIN_DATA = ALL_X_TRAIN_DATA[random_indices_1]\n",
    "shuffled_Y_TRAIN_MOTION_DATA = ALL_Y_TRAIN_MOTION_DATA[random_indices_1]\n",
    "shuffled_Y_TRAIN_MOTIONTYPE_DATA = ALL_Y_TRAIN_MOTIONTYPE_DATA[random_indices_1]\n",
    "shuffled_Y_TRAIN_MOTIONSPEED_DATA = ALL_Y_TRAIN_MOTIONSPEED_DATA[random_indices_1]"
   ]
  },
  {
   "cell_type": "code",
   "execution_count": 28,
   "metadata": {},
   "outputs": [],
   "source": [
    "# Generate random permutation indices\n",
    "random_indices_2 = np.random.permutation(len(ALL_X_TEST_DATA))\n",
    "\n",
    "\n",
    "# Shuffle the input features and target labels using the random indices\n",
    "shuffled_X_TEST_DATA = ALL_X_TEST_DATA[random_indices_2]\n",
    "shuffled_Y_TEST_MOTION_DATA = ALL_Y_TEST_MOTION_DATA[random_indices_2]\n",
    "shuffled_Y_TEST_MOTIONTYPE_DATA = ALL_Y_TEST_MOTIONTYPE_DATA[random_indices_2]\n",
    "shuffled_Y_TEST_MOTIONSPEED_DATA = ALL_Y_TEST_MOTIONSPEED_DATA[random_indices_2]"
   ]
  },
  {
   "cell_type": "code",
   "execution_count": 29,
   "metadata": {},
   "outputs": [
    {
     "name": "stdout",
     "output_type": "stream",
     "text": [
      "Model: \"sequential_5\"\n",
      "_________________________________________________________________\n",
      " Layer (type)                Output Shape              Param #   \n",
      "=================================================================\n",
      " flatten_5 (Flatten)         (None, 100)               0         \n",
      "                                                                 \n",
      " dense_15 (Dense)            (None, 64)                6464      \n",
      "                                                                 \n",
      " dense_16 (Dense)            (None, 32)                2080      \n",
      "                                                                 \n",
      " dense_17 (Dense)            (None, 2)                 66        \n",
      "                                                                 \n",
      "=================================================================\n",
      "Total params: 8,610\n",
      "Trainable params: 8,610\n",
      "Non-trainable params: 0\n",
      "_________________________________________________________________\n"
     ]
    }
   ],
   "source": [
    "model2_motion = Sequential()\n",
    "model2_motion.add(InputLayer((WINDOW_SIZE, NUMBER_OF_FEATURES)))\n",
    "model2_motion.add(Flatten())\n",
    "model2_motion.add(Dense(64, activation='relu'))\n",
    "model2_motion.add(Dense(32, activation='relu'))\n",
    "model2_motion.add(Dense(len(MOTION_CLASSES), activation='softmax'))\n",
    "\n",
    "model2_motion.summary()"
   ]
  },
  {
   "cell_type": "code",
   "execution_count": 30,
   "metadata": {},
   "outputs": [
    {
     "name": "stdout",
     "output_type": "stream",
     "text": [
      "Epoch 1/20\n",
      "3897/3897 [==============================] - 5s 1ms/step - loss: nan - accuracy: 0.0728 - val_loss: nan - val_accuracy: 0.0000e+00\n",
      "Epoch 2/20\n",
      "3897/3897 [==============================] - 4s 1ms/step - loss: nan - accuracy: 0.0511 - val_loss: nan - val_accuracy: 0.0000e+00\n",
      "Epoch 3/20\n",
      "3897/3897 [==============================] - 4s 1ms/step - loss: nan - accuracy: 0.0511 - val_loss: nan - val_accuracy: 0.0000e+00\n",
      "Epoch 4/20\n",
      "3897/3897 [==============================] - 4s 1ms/step - loss: nan - accuracy: 0.0511 - val_loss: nan - val_accuracy: 0.0000e+00\n",
      "Epoch 5/20\n",
      "3897/3897 [==============================] - 4s 1ms/step - loss: nan - accuracy: 0.0511 - val_loss: nan - val_accuracy: 0.0000e+00\n",
      "Epoch 6/20\n",
      "3897/3897 [==============================] - 4s 1ms/step - loss: nan - accuracy: 0.0511 - val_loss: nan - val_accuracy: 0.0000e+00\n",
      "Epoch 7/20\n",
      "3897/3897 [==============================] - 4s 1ms/step - loss: nan - accuracy: 0.0511 - val_loss: nan - val_accuracy: 0.0000e+00\n",
      "Epoch 8/20\n",
      "3897/3897 [==============================] - 4s 1ms/step - loss: nan - accuracy: 0.0511 - val_loss: nan - val_accuracy: 0.0000e+00\n",
      "Epoch 9/20\n",
      "3897/3897 [==============================] - 4s 1ms/step - loss: nan - accuracy: 0.0511 - val_loss: nan - val_accuracy: 0.0000e+00\n",
      "Epoch 10/20\n",
      "3897/3897 [==============================] - 4s 1ms/step - loss: nan - accuracy: 0.0511 - val_loss: nan - val_accuracy: 0.0000e+00\n",
      "Epoch 11/20\n",
      "3897/3897 [==============================] - 4s 1ms/step - loss: nan - accuracy: 0.0511 - val_loss: nan - val_accuracy: 0.0000e+00\n",
      "Epoch 12/20\n",
      "3897/3897 [==============================] - 4s 1ms/step - loss: nan - accuracy: 0.0511 - val_loss: nan - val_accuracy: 0.0000e+00\n",
      "Epoch 13/20\n",
      "3897/3897 [==============================] - 4s 1ms/step - loss: nan - accuracy: 0.0511 - val_loss: nan - val_accuracy: 0.0000e+00\n",
      "Epoch 14/20\n",
      "3897/3897 [==============================] - 4s 1ms/step - loss: nan - accuracy: 0.0511 - val_loss: nan - val_accuracy: 0.0000e+00\n",
      "Epoch 15/20\n",
      "3897/3897 [==============================] - 4s 1ms/step - loss: nan - accuracy: 0.0511 - val_loss: nan - val_accuracy: 0.0000e+00\n",
      "Epoch 16/20\n",
      "1582/3897 [===========>..................] - ETA: 1s - loss: nan - accuracy: 0.0515"
     ]
    },
    {
     "ename": "KeyboardInterrupt",
     "evalue": "",
     "output_type": "error",
     "traceback": [
      "\u001b[1;31m---------------------------------------------------------------------------\u001b[0m",
      "\u001b[1;31mKeyboardInterrupt\u001b[0m                         Traceback (most recent call last)",
      "Cell \u001b[1;32mIn[30], line 4\u001b[0m\n\u001b[0;32m      1\u001b[0m \u001b[39m# Compile the model\u001b[39;00m\n\u001b[0;32m      2\u001b[0m model2_motion\u001b[39m.\u001b[39mcompile(optimizer\u001b[39m=\u001b[39m\u001b[39m'\u001b[39m\u001b[39madam\u001b[39m\u001b[39m'\u001b[39m, loss\u001b[39m=\u001b[39m\u001b[39m'\u001b[39m\u001b[39mcategorical_crossentropy\u001b[39m\u001b[39m'\u001b[39m, metrics\u001b[39m=\u001b[39m[\u001b[39m'\u001b[39m\u001b[39maccuracy\u001b[39m\u001b[39m'\u001b[39m])\n\u001b[1;32m----> 4\u001b[0m history2_motion \u001b[39m=\u001b[39m model2_motion\u001b[39m.\u001b[39;49mfit(shuffled_X_TRAIN_DATA, shuffled_Y_TRAIN_MOTION_DATA, validation_data\u001b[39m=\u001b[39;49m(shuffled_X_TEST_DATA, shuffled_Y_TEST_MOTION_DATA), epochs\u001b[39m=\u001b[39;49m\u001b[39m20\u001b[39;49m)\n\u001b[0;32m      6\u001b[0m \u001b[39m# Save the model to a file\u001b[39;00m\n\u001b[0;32m      7\u001b[0m model2_motion\u001b[39m.\u001b[39msave(MOTION_MODEL_SAVE_PATH)\n",
      "File \u001b[1;32mc:\\Users\\KennethDesktop\\AppData\\Local\\Programs\\Python\\Python311\\Lib\\site-packages\\keras\\utils\\traceback_utils.py:65\u001b[0m, in \u001b[0;36mfilter_traceback.<locals>.error_handler\u001b[1;34m(*args, **kwargs)\u001b[0m\n\u001b[0;32m     63\u001b[0m filtered_tb \u001b[39m=\u001b[39m \u001b[39mNone\u001b[39;00m\n\u001b[0;32m     64\u001b[0m \u001b[39mtry\u001b[39;00m:\n\u001b[1;32m---> 65\u001b[0m     \u001b[39mreturn\u001b[39;00m fn(\u001b[39m*\u001b[39;49margs, \u001b[39m*\u001b[39;49m\u001b[39m*\u001b[39;49mkwargs)\n\u001b[0;32m     66\u001b[0m \u001b[39mexcept\u001b[39;00m \u001b[39mException\u001b[39;00m \u001b[39mas\u001b[39;00m e:\n\u001b[0;32m     67\u001b[0m     filtered_tb \u001b[39m=\u001b[39m _process_traceback_frames(e\u001b[39m.\u001b[39m__traceback__)\n",
      "File \u001b[1;32mc:\\Users\\KennethDesktop\\AppData\\Local\\Programs\\Python\\Python311\\Lib\\site-packages\\keras\\engine\\training.py:1676\u001b[0m, in \u001b[0;36mModel.fit\u001b[1;34m(self, x, y, batch_size, epochs, verbose, callbacks, validation_split, validation_data, shuffle, class_weight, sample_weight, initial_epoch, steps_per_epoch, validation_steps, validation_batch_size, validation_freq, max_queue_size, workers, use_multiprocessing)\u001b[0m\n\u001b[0;32m   1674\u001b[0m callbacks\u001b[39m.\u001b[39mon_epoch_begin(epoch)\n\u001b[0;32m   1675\u001b[0m \u001b[39mwith\u001b[39;00m data_handler\u001b[39m.\u001b[39mcatch_stop_iteration():\n\u001b[1;32m-> 1676\u001b[0m     \u001b[39mfor\u001b[39;00m step \u001b[39min\u001b[39;00m data_handler\u001b[39m.\u001b[39msteps():\n\u001b[0;32m   1677\u001b[0m         \u001b[39mwith\u001b[39;00m tf\u001b[39m.\u001b[39mprofiler\u001b[39m.\u001b[39mexperimental\u001b[39m.\u001b[39mTrace(\n\u001b[0;32m   1678\u001b[0m             \u001b[39m\"\u001b[39m\u001b[39mtrain\u001b[39m\u001b[39m\"\u001b[39m,\n\u001b[0;32m   1679\u001b[0m             epoch_num\u001b[39m=\u001b[39mepoch,\n\u001b[1;32m   (...)\u001b[0m\n\u001b[0;32m   1682\u001b[0m             _r\u001b[39m=\u001b[39m\u001b[39m1\u001b[39m,\n\u001b[0;32m   1683\u001b[0m         ):\n\u001b[0;32m   1684\u001b[0m             callbacks\u001b[39m.\u001b[39mon_train_batch_begin(step)\n",
      "File \u001b[1;32mc:\\Users\\KennethDesktop\\AppData\\Local\\Programs\\Python\\Python311\\Lib\\site-packages\\keras\\engine\\data_adapter.py:1375\u001b[0m, in \u001b[0;36mDataHandler.steps\u001b[1;34m(self)\u001b[0m\n\u001b[0;32m   1373\u001b[0m \u001b[39mif\u001b[39;00m \u001b[39mself\u001b[39m\u001b[39m.\u001b[39m_insufficient_data:  \u001b[39m# Set by `catch_stop_iteration`.\u001b[39;00m\n\u001b[0;32m   1374\u001b[0m     \u001b[39mbreak\u001b[39;00m\n\u001b[1;32m-> 1375\u001b[0m original_spe \u001b[39m=\u001b[39m \u001b[39mself\u001b[39;49m\u001b[39m.\u001b[39;49m_steps_per_execution\u001b[39m.\u001b[39;49mnumpy()\u001b[39m.\u001b[39mitem()\n\u001b[0;32m   1376\u001b[0m can_run_full_execution \u001b[39m=\u001b[39m (\n\u001b[0;32m   1377\u001b[0m     original_spe \u001b[39m==\u001b[39m \u001b[39m1\u001b[39m\n\u001b[0;32m   1378\u001b[0m     \u001b[39mor\u001b[39;00m \u001b[39mself\u001b[39m\u001b[39m.\u001b[39m_inferred_steps \u001b[39mis\u001b[39;00m \u001b[39mNone\u001b[39;00m\n\u001b[0;32m   1379\u001b[0m     \u001b[39mor\u001b[39;00m \u001b[39mself\u001b[39m\u001b[39m.\u001b[39m_inferred_steps \u001b[39m-\u001b[39m \u001b[39mself\u001b[39m\u001b[39m.\u001b[39m_current_step \u001b[39m>\u001b[39m\u001b[39m=\u001b[39m original_spe\n\u001b[0;32m   1380\u001b[0m )\n\u001b[0;32m   1382\u001b[0m \u001b[39mif\u001b[39;00m can_run_full_execution:\n",
      "File \u001b[1;32mc:\\Users\\KennethDesktop\\AppData\\Local\\Programs\\Python\\Python311\\Lib\\site-packages\\tensorflow\\python\\ops\\resource_variable_ops.py:647\u001b[0m, in \u001b[0;36mBaseResourceVariable.numpy\u001b[1;34m(self)\u001b[0m\n\u001b[0;32m    645\u001b[0m \u001b[39mdef\u001b[39;00m \u001b[39mnumpy\u001b[39m(\u001b[39mself\u001b[39m):\n\u001b[0;32m    646\u001b[0m   \u001b[39mif\u001b[39;00m context\u001b[39m.\u001b[39mexecuting_eagerly():\n\u001b[1;32m--> 647\u001b[0m     \u001b[39mreturn\u001b[39;00m \u001b[39mself\u001b[39;49m\u001b[39m.\u001b[39;49mread_value()\u001b[39m.\u001b[39mnumpy()\n\u001b[0;32m    648\u001b[0m   \u001b[39mraise\u001b[39;00m \u001b[39mNotImplementedError\u001b[39;00m(\n\u001b[0;32m    649\u001b[0m       \u001b[39m\"\u001b[39m\u001b[39mnumpy() is only available when eager execution is enabled.\u001b[39m\u001b[39m\"\u001b[39m)\n",
      "File \u001b[1;32mc:\\Users\\KennethDesktop\\AppData\\Local\\Programs\\Python\\Python311\\Lib\\site-packages\\tensorflow\\python\\ops\\resource_variable_ops.py:774\u001b[0m, in \u001b[0;36mBaseResourceVariable.read_value\u001b[1;34m(self)\u001b[0m\n\u001b[0;32m    765\u001b[0m \u001b[39m\u001b[39m\u001b[39m\"\"\"Constructs an op which reads the value of this variable.\u001b[39;00m\n\u001b[0;32m    766\u001b[0m \n\u001b[0;32m    767\u001b[0m \u001b[39mShould be used when there are multiple reads, or when it is desirable to\u001b[39;00m\n\u001b[1;32m   (...)\u001b[0m\n\u001b[0;32m    771\u001b[0m \u001b[39m  The value of the variable.\u001b[39;00m\n\u001b[0;32m    772\u001b[0m \u001b[39m\"\"\"\u001b[39;00m\n\u001b[0;32m    773\u001b[0m \u001b[39mwith\u001b[39;00m ops\u001b[39m.\u001b[39mname_scope(\u001b[39m\"\u001b[39m\u001b[39mRead\u001b[39m\u001b[39m\"\u001b[39m):\n\u001b[1;32m--> 774\u001b[0m   value \u001b[39m=\u001b[39m \u001b[39mself\u001b[39;49m\u001b[39m.\u001b[39;49m_read_variable_op()\n\u001b[0;32m    775\u001b[0m \u001b[39m# Return an identity so it can get placed on whatever device the context\u001b[39;00m\n\u001b[0;32m    776\u001b[0m \u001b[39m# specifies instead of the device where the variable is.\u001b[39;00m\n\u001b[0;32m    777\u001b[0m \u001b[39mreturn\u001b[39;00m array_ops\u001b[39m.\u001b[39midentity(value)\n",
      "File \u001b[1;32mc:\\Users\\KennethDesktop\\AppData\\Local\\Programs\\Python\\Python311\\Lib\\site-packages\\tensorflow\\python\\ops\\resource_variable_ops.py:753\u001b[0m, in \u001b[0;36mBaseResourceVariable._read_variable_op\u001b[1;34m(self, no_copy)\u001b[0m\n\u001b[0;32m    751\u001b[0m       result \u001b[39m=\u001b[39m read_and_set_handle(no_copy)\n\u001b[0;32m    752\u001b[0m \u001b[39melse\u001b[39;00m:\n\u001b[1;32m--> 753\u001b[0m   result \u001b[39m=\u001b[39m read_and_set_handle(no_copy)\n\u001b[0;32m    755\u001b[0m \u001b[39mif\u001b[39;00m \u001b[39mnot\u001b[39;00m context\u001b[39m.\u001b[39mexecuting_eagerly():\n\u001b[0;32m    756\u001b[0m   \u001b[39m# Note that if a control flow context is active the input of the read op\u001b[39;00m\n\u001b[0;32m    757\u001b[0m   \u001b[39m# might not actually be the handle. This line bypasses it.\u001b[39;00m\n\u001b[0;32m    758\u001b[0m   tape\u001b[39m.\u001b[39mrecord_operation(\n\u001b[0;32m    759\u001b[0m       \u001b[39m\"\u001b[39m\u001b[39mReadVariableOp\u001b[39m\u001b[39m\"\u001b[39m, [result], [\u001b[39mself\u001b[39m\u001b[39m.\u001b[39mhandle],\n\u001b[0;32m    760\u001b[0m       backward_function\u001b[39m=\u001b[39m\u001b[39mlambda\u001b[39;00m x: [x],\n\u001b[0;32m    761\u001b[0m       forward_function\u001b[39m=\u001b[39m\u001b[39mlambda\u001b[39;00m x: [x])\n",
      "File \u001b[1;32mc:\\Users\\KennethDesktop\\AppData\\Local\\Programs\\Python\\Python311\\Lib\\site-packages\\tensorflow\\python\\ops\\resource_variable_ops.py:743\u001b[0m, in \u001b[0;36mBaseResourceVariable._read_variable_op.<locals>.read_and_set_handle\u001b[1;34m(no_copy)\u001b[0m\n\u001b[0;32m    741\u001b[0m \u001b[39mif\u001b[39;00m no_copy \u001b[39mand\u001b[39;00m forward_compat\u001b[39m.\u001b[39mforward_compatible(\u001b[39m2022\u001b[39m, \u001b[39m5\u001b[39m, \u001b[39m3\u001b[39m):\n\u001b[0;32m    742\u001b[0m   gen_resource_variable_ops\u001b[39m.\u001b[39mdisable_copy_on_read(\u001b[39mself\u001b[39m\u001b[39m.\u001b[39mhandle)\n\u001b[1;32m--> 743\u001b[0m result \u001b[39m=\u001b[39m gen_resource_variable_ops\u001b[39m.\u001b[39;49mread_variable_op(\n\u001b[0;32m    744\u001b[0m     \u001b[39mself\u001b[39;49m\u001b[39m.\u001b[39;49mhandle, \u001b[39mself\u001b[39;49m\u001b[39m.\u001b[39;49m_dtype)\n\u001b[0;32m    745\u001b[0m _maybe_set_handle_data(\u001b[39mself\u001b[39m\u001b[39m.\u001b[39m_dtype, \u001b[39mself\u001b[39m\u001b[39m.\u001b[39mhandle, result)\n\u001b[0;32m    746\u001b[0m \u001b[39mreturn\u001b[39;00m result\n",
      "File \u001b[1;32mc:\\Users\\KennethDesktop\\AppData\\Local\\Programs\\Python\\Python311\\Lib\\site-packages\\tensorflow\\python\\ops\\gen_resource_variable_ops.py:580\u001b[0m, in \u001b[0;36mread_variable_op\u001b[1;34m(resource, dtype, name)\u001b[0m\n\u001b[0;32m    578\u001b[0m \u001b[39mif\u001b[39;00m tld\u001b[39m.\u001b[39mis_eager:\n\u001b[0;32m    579\u001b[0m   \u001b[39mtry\u001b[39;00m:\n\u001b[1;32m--> 580\u001b[0m     _result \u001b[39m=\u001b[39m pywrap_tfe\u001b[39m.\u001b[39;49mTFE_Py_FastPathExecute(\n\u001b[0;32m    581\u001b[0m       _ctx, \u001b[39m\"\u001b[39;49m\u001b[39mReadVariableOp\u001b[39;49m\u001b[39m\"\u001b[39;49m, name, resource, \u001b[39m\"\u001b[39;49m\u001b[39mdtype\u001b[39;49m\u001b[39m\"\u001b[39;49m, dtype)\n\u001b[0;32m    582\u001b[0m     \u001b[39mreturn\u001b[39;00m _result\n\u001b[0;32m    583\u001b[0m   \u001b[39mexcept\u001b[39;00m _core\u001b[39m.\u001b[39m_NotOkStatusException \u001b[39mas\u001b[39;00m e:\n",
      "\u001b[1;31mKeyboardInterrupt\u001b[0m: "
     ]
    }
   ],
   "source": [
    "# Compile the model\n",
    "model2_motion.compile(optimizer='adam', loss='categorical_crossentropy', metrics=['accuracy'])\n",
    "\n",
    "history2_motion = model2_motion.fit(shuffled_X_TRAIN_DATA, shuffled_Y_TRAIN_MOTION_DATA, validation_data=(shuffled_X_TEST_DATA, shuffled_Y_TEST_MOTION_DATA), epochs=20)\n",
    "\n",
    "# Save the model to a file\n",
    "model2_motion.save(MOTION_MODEL_SAVE_PATH)"
   ]
  },
  {
   "cell_type": "code",
   "execution_count": null,
   "metadata": {},
   "outputs": [],
   "source": [
    "model2_motiontype = Sequential()\n",
    "model2_motiontype.add(InputLayer((WINDOW_SIZE, NUMBER_OF_FEATURES)))\n",
    "model2_motiontype.add(Flatten())\n",
    "model2_motiontype.add(Dense(64, activation='relu'))\n",
    "model2_motiontype.add(Dense(32, activation='relu'))\n",
    "model2_motiontype.add(Dense(len(MOTIONTYPE_CLASSES), activation='softmax'))\n",
    "\n",
    "model2_motiontype.summary()"
   ]
  },
  {
   "cell_type": "code",
   "execution_count": null,
   "metadata": {},
   "outputs": [],
   "source": [
    "# Compile the model\n",
    "model2_motion.compile(optimizer='adam', loss='categorical_crossentropy', metrics=['accuracy'])\n",
    "\n",
    "# fit the model\n",
    "history2_motiontype = model2_motion.fit(shuffled_X_TRAIN_DATA, shuffled_Y_TRAIN_MOTIONTYPE_DATA, validation_data=(shuffled_X_TEST_DATA, shuffled_Y_TEST_MOTIONTYPE_DATA), epochs=20)\n",
    "\n",
    "# Save the model to a file\n",
    "model2_motiontype.save(MOTIONTYPE_MODEL_SAVE_PATH)"
   ]
  },
  {
   "cell_type": "code",
   "execution_count": null,
   "metadata": {},
   "outputs": [],
   "source": [
    "model2_motionspeed = Sequential()\n",
    "model2_motionspeed.add(InputLayer((WINDOW_SIZE, NUMBER_OF_FEATURES)))\n",
    "model2_motionspeed.add(Flatten())\n",
    "model2_motionspeed.add(Dense(64, activation='relu'))\n",
    "model2_motionspeed.add(Dense(32, activation='relu'))\n",
    "model2_motionspeed.add(Dense(len(MOTIONSPEED_CLASSES), activation='softmax'))\n",
    "\n",
    "model2_motionspeed.summary()"
   ]
  },
  {
   "cell_type": "code",
   "execution_count": null,
   "metadata": {},
   "outputs": [],
   "source": [
    "# Compile the model\n",
    "model2_motionspeed.compile(optimizer='adam', loss='categorical_crossentropy', metrics=['accuracy'])\n",
    "\n",
    "# fit the model\n",
    "history2_motionspeed = model2.fit(shuffled_X_TRAIN_DATA, shuffled_Y_TRAIN_MOTIONSPEED_DATA, validation_data=(shuffled_X_TEST_DATA, shuffled_Y_TEST_MOTIONSPEED_DATA), epochs=20)\n",
    "\n",
    "# Save the model to a file\n",
    "model2_motionspeed.save(MOTIONSPEED_MODEL_SAVE_PATH)"
   ]
  }
 ],
 "metadata": {
  "kernelspec": {
   "display_name": "Python 3",
   "language": "python",
   "name": "python3"
  },
  "language_info": {
   "codemirror_mode": {
    "name": "ipython",
    "version": 3
   },
   "file_extension": ".py",
   "mimetype": "text/x-python",
   "name": "python",
   "nbconvert_exporter": "python",
   "pygments_lexer": "ipython3",
   "version": "3.11.3"
  },
  "orig_nbformat": 4
 },
 "nbformat": 4,
 "nbformat_minor": 2
}
