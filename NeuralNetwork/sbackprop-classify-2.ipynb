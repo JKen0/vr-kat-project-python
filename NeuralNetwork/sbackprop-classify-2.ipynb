{
 "cells": [
  {
   "cell_type": "code",
   "execution_count": null,
   "metadata": {},
   "outputs": [],
   "source": [
    "import os\n",
    "import numpy as np\n",
    "from tensorflow.keras.models import Sequential\n",
    "from tensorflow.keras.layers import Dense, InputLayer, Dropout, Flatten\n",
    "from tensorflow.keras.callbacks import ModelCheckpoint\n",
    "from tensorflow.keras.losses import MeanSquaredError, MeanAbsoluteError\n",
    "from tensorflow.keras.metrics import RootMeanSquaredError\n",
    "from tensorflow.keras.optimizers import Adam"
   ]
  },
  {
   "cell_type": "code",
   "execution_count": null,
   "metadata": {},
   "outputs": [],
   "source": [
    "WINDOW_SIZE = 25\n",
    "NUMBER_OF_FEATURES = 4\n",
    "\n",
    "MOTION_CLASSES = ['STAND', 'STEPS']\n",
    "MOTIONTYPE_CLASSES = ['SML', 'MED', 'LAR']\n",
    "MOTIONSPEED_CLASSES = ['SLOW', 'AVERAGE', 'FAST']\n",
    "\n",
    "# Get the current working directory\n",
    "CURRENT_DIRECTORY = os.getcwd()\n",
    "\n",
    "ALL_X_TRAINING_DATA_PATH = CURRENT_DIRECTORY + '\\\\np-saved-data\\\\training\\\\ALL-X-TRAIN-CLASSIFY-V0.npy'\n",
    "ALL_Y_TRAINING_MOTION_DATA_PATH = CURRENT_DIRECTORY + '\\\\np-saved-data\\\\training\\\\ALL-Y-TRAIN-CLASSIFY-MOTION-V0.npy'\n",
    "ALL_Y_TRAINING_MOTIONTYPE_DATA_PATH = CURRENT_DIRECTORY + '\\\\np-saved-data\\\\training\\\\ALL-Y-TRAIN-CLASSIFY-MOTIONTYPE-V0.npy'\n",
    "ALL_Y_TRAINING_MOTIONSPEED_DATA_PATH = CURRENT_DIRECTORY + '\\\\np-saved-data\\\\training\\\\ALL-Y-TRAIN-CLASSIFY-MOTIONSPEED-V0.npy'\n",
    "\n",
    "ALL_X_TEST_DATA_PATH = CURRENT_DIRECTORY + '\\\\np-saved-data\\\\test\\\\ALL-X-TEST-CLASSIFY-V0.npy'\n",
    "ALL_Y_TEST_MOTION_DATA_PATH = CURRENT_DIRECTORY + '\\\\np-saved-data\\\\test\\\\ALL-Y-TEST-CLASSIFY-MOTION-V0.npy'\n",
    "ALL_Y_TEST_MOTIONTYPE_DATA_PATH = CURRENT_DIRECTORY + '\\\\np-saved-data\\\\test\\\\ALL-Y-TEST-CLASSIFY-MOTIONTYPE-V0.npy'\n",
    "ALL_Y_TEST_MOTIONSPEED_DATA_PATH = CURRENT_DIRECTORY + '\\\\np-saved-data\\\\test\\\\ALL-Y-TEST-CLASSIFY-MOTIONSPEED-V0.npy'\n",
    "\n",
    "MOTION_MODEL_SAVE_PATH =  CURRENT_DIRECTORY + '\\\\models\\\\standard-backprop-motion-2.h5'\n",
    "MOTIONTYPE_MODEL_SAVE_PATH =  CURRENT_DIRECTORY + '\\\\models\\\\standard-backprop-motiontype-2.h5'\n",
    "MOTIONSPEED_MODEL_SAVE_PATH =  CURRENT_DIRECTORY + '\\\\models\\\\standard-backprop-motionspeed-2.h5'"
   ]
  },
  {
   "cell_type": "code",
   "execution_count": null,
   "metadata": {},
   "outputs": [],
   "source": [
    "ALL_X_TRAIN_DATA = np.load(ALL_X_TRAINING_DATA_PATH)\n",
    "ALL_Y_TRAIN_MOTION_DATA = np.load(ALL_Y_TRAINING_MOTION_DATA_PATH)\n",
    "ALL_Y_TRAIN_MOTIONTYPE_DATA = np.load(ALL_Y_TRAINING_MOTIONTYPE_DATA_PATH)\n",
    "ALL_Y_TRAIN_MOTIONSPEED_DATA = np.load(ALL_Y_TRAINING_MOTIONSPEED_DATA_PATH)\n",
    "\n",
    "ALL_X_TEST_DATA = np.load(ALL_X_TEST_DATA_PATH)\n",
    "ALL_Y_TEST_MOTION_DATA = np.load(ALL_Y_TEST_MOTION_DATA_PATH)\n",
    "ALL_Y_TEST_MOTIONTYPE_DATA = np.load(ALL_Y_TEST_MOTIONTYPE_DATA_PATH)\n",
    "ALL_Y_TEST_MOTIONSPEED_DATA = np.load(ALL_Y_TEST_MOTIONSPEED_DATA_PATH)\n",
    "\n",
    "\n",
    "print(ALL_X_TRAIN_DATA.shape)\n",
    "print(ALL_Y_TRAIN_MOTION_DATA.shape)\n",
    "\n",
    "print(ALL_X_TEST_DATA.shape)\n",
    "print(ALL_Y_TEST_MOTION_DATA.shape)"
   ]
  },
  {
   "cell_type": "code",
   "execution_count": null,
   "metadata": {},
   "outputs": [],
   "source": [
    "# Generate random permutation indices\n",
    "random_indices_1 = np.random.permutation(len(ALL_X_TRAIN_DATA))\n",
    "\n",
    "\n",
    "# Shuffle the input features and target labels using the random indices\n",
    "shuffled_X_TRAIN_DATA = ALL_X_TRAIN_DATA[random_indices_1]\n",
    "shuffled_Y_TRAIN_MOTION_DATA = ALL_Y_TRAIN_MOTION_DATA[random_indices_1]\n",
    "shuffled_Y_TRAIN_MOTIONTYPE_DATA = ALL_Y_TRAIN_MOTIONTYPE_DATA[random_indices_1]\n",
    "shuffled_Y_TRAIN_MOTIONSPEED_DATA = ALL_Y_TRAIN_MOTIONSPEED_DATA[random_indices_1]"
   ]
  },
  {
   "cell_type": "code",
   "execution_count": null,
   "metadata": {},
   "outputs": [],
   "source": [
    "# Generate random permutation indices\n",
    "random_indices_2 = np.random.permutation(len(ALL_X_TEST_DATA))\n",
    "\n",
    "\n",
    "# Shuffle the input features and target labels using the random indices\n",
    "shuffled_X_TEST_DATA = ALL_X_TEST_DATA[random_indices_2]\n",
    "shuffled_Y_TEST_MOTION_DATA = ALL_Y_TEST_MOTION_DATA[random_indices_2]\n",
    "shuffled_Y_TEST_MOTIONTYPE_DATA = ALL_Y_TEST_MOTIONTYPE_DATA[random_indices_2]\n",
    "shuffled_Y_TEST_MOTIONSPEED_DATA = ALL_Y_TEST_MOTIONSPEED_DATA[random_indices_2]"
   ]
  },
  {
   "cell_type": "code",
   "execution_count": null,
   "metadata": {},
   "outputs": [],
   "source": [
    "model2_motion = Sequential()\n",
    "model2_motion.add(InputLayer((WINDOW_SIZE, NUMBER_OF_FEATURES)))\n",
    "model2_motion.add(Flatten())\n",
    "model2_motion.add(Dense(64, activation='relu'))\n",
    "model2_motion.add(Dense(32, activation='relu'))\n",
    "model2_motion.add(Dense(len(MOTION_CLASSES), activation='softmax'))\n",
    "\n",
    "model2_motion.summary()"
   ]
  },
  {
   "cell_type": "code",
   "execution_count": null,
   "metadata": {},
   "outputs": [],
   "source": [
    "history2_motion = model2.fit(shuffled_X_TRAIN_DATA, shuffled_Y_TRAIN_MOTION_DATA, validation_data=(shuffled_X_TEST_DATA, shuffled_Y_TEST_MOTION_DATA), epochs=20)\n",
    "\n",
    "# Save the model to a file\n",
    "model2_motion.save(MOTION_MODEL_SAVE_PATH)"
   ]
  },
  {
   "cell_type": "code",
   "execution_count": null,
   "metadata": {},
   "outputs": [],
   "source": [
    "model2_motiontype = Sequential()\n",
    "model2_motiontype.add(InputLayer((WINDOW_SIZE, NUMBER_OF_FEATURES)))\n",
    "model2_motiontype.add(Flatten())\n",
    "model2_motiontype.add(Dense(64, activation='relu'))\n",
    "model2_motiontype.add(Dense(32, activation='relu'))\n",
    "model2_motiontype.add(Dense(len(MOTIONTYPE_CLASSES), activation='softmax'))\n",
    "\n",
    "model2_motiontype.summary()"
   ]
  },
  {
   "cell_type": "code",
   "execution_count": null,
   "metadata": {},
   "outputs": [],
   "source": [
    "history2_motiontype = model2.fit(shuffled_X_TRAIN_DATA, shuffled_Y_TRAIN_MOTIONTYPE_DATA, validation_data=(shuffled_X_TEST_DATA, shuffled_Y_TEST_MOTIONTYPE_DATA), epochs=20)\n",
    "\n",
    "# Save the model to a file\n",
    "model2_motiontype.save(MOTIONTYPE_MODEL_SAVE_PATH)"
   ]
  },
  {
   "cell_type": "code",
   "execution_count": null,
   "metadata": {},
   "outputs": [],
   "source": [
    "model2_motionspeed = Sequential()\n",
    "model2_motionspeed.add(InputLayer((WINDOW_SIZE, NUMBER_OF_FEATURES)))\n",
    "model2_motionspeed.add(Flatten())\n",
    "model2_motionspeed.add(Dense(64, activation='relu'))\n",
    "model2_motionspeed.add(Dense(32, activation='relu'))\n",
    "model2_motionspeed.add(Dense(len(MOTIONSPEED_CLASSES), activation='softmax'))\n",
    "\n",
    "model2_motionspeed.summary()"
   ]
  },
  {
   "cell_type": "code",
   "execution_count": null,
   "metadata": {},
   "outputs": [],
   "source": [
    "history2_motionspeed = model2.fit(shuffled_X_TRAIN_DATA, shuffled_Y_TRAIN_MOTIONSPEED_DATA, validation_data=(shuffled_X_TEST_DATA, shuffled_Y_TEST_MOTIONSPEED_DATA), epochs=20)\n",
    "\n",
    "# Save the model to a file\n",
    "model2_motionspeed.save(MOTIONSPEED_MODEL_SAVE_PATH)"
   ]
  }
 ],
 "metadata": {
  "kernelspec": {
   "display_name": "Python 3",
   "language": "python",
   "name": "python3"
  },
  "language_info": {
   "codemirror_mode": {
    "name": "ipython",
    "version": 3
   },
   "file_extension": ".py",
   "mimetype": "text/x-python",
   "name": "python",
   "nbconvert_exporter": "python",
   "pygments_lexer": "ipython3",
   "version": "3.11.3"
  },
  "orig_nbformat": 4
 },
 "nbformat": 4,
 "nbformat_minor": 2
}
