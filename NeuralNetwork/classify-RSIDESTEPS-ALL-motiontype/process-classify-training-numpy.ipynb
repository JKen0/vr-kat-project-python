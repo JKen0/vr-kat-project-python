{
 "cells": [
  {
   "cell_type": "code",
   "execution_count": 1,
   "metadata": {},
   "outputs": [],
   "source": [
    "import os\n",
    "import pandas as pd\n",
    "import numpy as np\n",
    "import json\n",
    "import sys"
   ]
  },
  {
   "cell_type": "code",
   "execution_count": 2,
   "metadata": {},
   "outputs": [],
   "source": [
    "# Get the current working directory\n",
    "CURRENT_DIRECTORY = os.getcwd()\n",
    "# Get the parent directory\n",
    "PARENT_DIRECTORY = os.path.dirname(CURRENT_DIRECTORY)\n",
    "PARENT_DIRECTORY = os.path.dirname(PARENT_DIRECTORY)\n",
    "\n",
    "sys.path.append(PARENT_DIRECTORY + '//config/')\n",
    "from config import count_sequences_above_threshold, count_sequences_below_threshold, normalize_sensor_data\n",
    "\n",
    "# Open the config file and load its content into a dictionary\n",
    "config_file = open(PARENT_DIRECTORY + '\\\\config\\\\config.json')\n",
    "CONFIG_DATA = json.load(config_file)\n",
    "\n",
    "# Close the file after loading the data\n",
    "config_file.close()"
   ]
  },
  {
   "cell_type": "code",
   "execution_count": 3,
   "metadata": {},
   "outputs": [],
   "source": [
    "NORMALIZE_SENSOR_DATA = CONFIG_DATA['NORMALIZE_SENSOR_DATA']\n",
    "WINDOW_SIZE = CONFIG_DATA['WINDOW_SIZE']\n",
    "NUMBER_OF_FEATURES = 8\n",
    "\n",
    "CLASSIFICATIONS = CONFIG_DATA['CLASSES_MOTIONTYPE']\n",
    "\n",
    "LABEL_COLUMN = 'Class_MotionType'\n",
    "\n",
    "# processed data folder path\n",
    "DATA_FOLDER = PARENT_DIRECTORY + '\\\\processed-training-data\\\\4-PROCESSED-DATA\\TRAIN2\\\\'\n",
    "\n",
    "# save numpy data folder\n",
    "NUMPY_DATA_FOLDER_FILE_PATH = PARENT_DIRECTORY + '\\\\NeuralNetwork\\\\np-saved-data\\\\'\n",
    "\n",
    "# v0 data (not normalized, use to generate more data)\n",
    "ALL_X_TRAIN_CLASSIFY_PATH = PARENT_DIRECTORY + '\\\\NeuralNetwork\\\\np-saved-data\\\\training\\\\ALL-X-TRAIN-CLASSIFY-MOTIONTYPE-RSIDESTEPS-V0.npy'\n",
    "ALL_Y_TRAIN_CLASSIFY_PATH = PARENT_DIRECTORY + '\\\\NeuralNetwork\\\\np-saved-data\\\\training\\\\ALL-Y-TRAIN-CLASSIFY-MOTIONTYPE-RSIDESTEPS-V0.npy'"
   ]
  },
  {
   "cell_type": "code",
   "execution_count": 4,
   "metadata": {},
   "outputs": [
    {
     "name": "stdout",
     "output_type": "stream",
     "text": [
      "{'LAR': 0, 'SML': 1}\n"
     ]
    }
   ],
   "source": [
    "LABEL_TO_CATEGORY = {label: category for category, label in enumerate(CLASSIFICATIONS)}\n",
    "\n",
    "print(LABEL_TO_CATEGORY)"
   ]
  },
  {
   "cell_type": "code",
   "execution_count": 5,
   "metadata": {},
   "outputs": [
    {
     "name": "stdout",
     "output_type": "stream",
     "text": [
      "['PROC-TRAIN2-SIDESTEPS-R-LAR-110BPM.xlsx', 'PROC-TRAIN2-SIDESTEPS-R-LAR-120BPM-AUGMENT.xlsx', 'PROC-TRAIN2-SIDESTEPS-R-LAR-160BPM-AUGMENT.xlsx', 'PROC-TRAIN2-SIDESTEPS-R-LAR-164BPM-AUGMENT.xlsx', 'PROC-TRAIN2-SIDESTEPS-R-LAR-220BPM-AUGMENT.xlsx', 'PROC-TRAIN2-SIDESTEPS-R-LAR-30BPM-AUGMENT.xlsx', 'PROC-TRAIN2-SIDESTEPS-R-LAR-40BPM-AUGMENT.xlsx', 'PROC-TRAIN2-SIDESTEPS-R-LAR-41BPM-AUGMENT.xlsx', 'PROC-TRAIN2-SIDESTEPS-R-LAR-55BPM-AUGMENT.xlsx', 'PROC-TRAIN2-SIDESTEPS-R-LAR-60BPM.xlsx', 'PROC-TRAIN2-SIDESTEPS-R-LAR-80BPM.xlsx', 'PROC-TRAIN2-SIDESTEPS-R-LAR-82BPM.xlsx', 'PROC-TRAIN2-SIDESTEPS-R-SML-120BPM-AUGMENT.xlsx', 'PROC-TRAIN2-SIDESTEPS-R-SML-160BPM-AUGMENT.xlsx', 'PROC-TRAIN2-SIDESTEPS-R-SML-30BPM-AUGMENT.xlsx', 'PROC-TRAIN2-SIDESTEPS-R-SML-40BPM-AUGMENT.xlsx', 'PROC-TRAIN2-SIDESTEPS-R-SML-60BPM.xlsx', 'PROC-TRAIN2-SIDESTEPS-R-SML-80BPM.xlsx']\n"
     ]
    }
   ],
   "source": [
    "file_names = [file for file in os.listdir(DATA_FOLDER) if file.endswith('.xlsx') and \"SIDESTEPS-R-\" in file and os.path.isfile(os.path.join(DATA_FOLDER, file))]\n",
    "\n",
    "print(file_names)"
   ]
  },
  {
   "cell_type": "code",
   "execution_count": 6,
   "metadata": {},
   "outputs": [],
   "source": [
    "def df2Xy(df, windowSize=5):\n",
    "  X = []\n",
    "  y = []\n",
    "\n",
    "  # NORMALIZE THE SENSOR DATA\n",
    "  if NORMALIZE_SENSOR_DATA == True:\n",
    "    df[\"L_Pitch\"] = df[\"L_Pitch\"].apply(normalize_sensor_data)\n",
    "    df[\"L_Roll\"] = df[\"L_Roll\"].apply(normalize_sensor_data)\n",
    "    df[\"R_Pitch\"] = df[\"R_Pitch\"].apply(normalize_sensor_data)\n",
    "    df[\"R_Roll\"] = df[\"R_Roll\"].apply(normalize_sensor_data)\n",
    "    df[\"L_Pitch_Delta\"] = df[\"L_Pitch_Delta\"].apply(normalize_sensor_data)\n",
    "    df[\"L_Roll_Delta\"] = df[\"L_Roll_Delta\"].apply(normalize_sensor_data)\n",
    "    df[\"R_Pitch_Delta\"] = df[\"R_Pitch_Delta\"].apply(normalize_sensor_data)\n",
    "    df[\"R_Roll_Delta\"] = df[\"R_Roll_Delta\"].apply(normalize_sensor_data)\n",
    "\n",
    "  for i in range( len(df) - windowSize + 1):\n",
    "    # inputs: X rows\n",
    "    # form a new input which has size of our windowSize\n",
    "    input_data_list_readings = []\n",
    "\n",
    "    # loop through each row in our windowsize\n",
    "    for j in range(windowSize):\n",
    "        # fetch sensor data for this row\n",
    "        row_values_readings = df.loc[i + j, ['L_Pitch', 'L_Roll', 'R_Pitch', 'R_Roll']].values.tolist()\n",
    "\n",
    "        # add row values to the input\n",
    "        input_data_list_readings.append(row_values_readings)\n",
    "\n",
    "    # turnn list into array to do arthimetic\n",
    "    raw_sensor_data = np.array(input_data_list_readings)\n",
    "\n",
    "    min_sensor_reading = np.min(raw_sensor_data, axis=0)\n",
    "    max_sensor_reading = np.max(raw_sensor_data, axis=0)\n",
    "\n",
    "    input_data_array = np.concatenate((min_sensor_reading, max_sensor_reading))\n",
    "\n",
    "    if(np.isnan(input_data_array).any() == False):\n",
    "      # turn back to list\n",
    "      input_data_list = input_data_array.tolist()\n",
    "\n",
    "      # add our input to our total inputs, marked as X\n",
    "      X.append(input_data_list)\n",
    "\n",
    "      # outputs: y labels\n",
    "      label = df.loc[i + (windowSize - 1), [LABEL_COLUMN]].values.tolist()\n",
    "\n",
    "      y.append(label)\n",
    "\n",
    "  return (np.array(X), np.array(y))"
   ]
  },
  {
   "cell_type": "code",
   "execution_count": 7,
   "metadata": {},
   "outputs": [],
   "source": [
    "ALL_X_TRAIN = np.empty((0, NUMBER_OF_FEATURES))  # List to store all X training data\n",
    "ALL_Y_TRAIN = np.empty((0))  # List to store all Y training data"
   ]
  },
  {
   "cell_type": "code",
   "execution_count": 8,
   "metadata": {},
   "outputs": [],
   "source": [
    "def processData(ALL_X, ALL_Y):\n",
    "    for fileName in file_names:\n",
    "        # Read the Excel file\n",
    "        df = pd.read_excel(DATA_FOLDER + fileName)\n",
    "\n",
    "        xTrain, yTrain = df2Xy(df, WINDOW_SIZE)\n",
    "\n",
    "        yTrain = yTrain.reshape(-1)\n",
    "        \n",
    "        ALL_X = np.concatenate([ALL_X, xTrain])\n",
    "        ALL_Y = np.concatenate([ALL_Y, yTrain])\n",
    "        \n",
    "        print('xTrain.shape:', xTrain.shape)\n",
    "        print('ALL_X_TRAIN.shape:', ALL_X.shape, ' ALL_Y_TRAIN.shape:', ALL_Y.shape)\n",
    "        print('-------------------------------')\n",
    "\n",
    "    # Create the folder if it doesn't exist\n",
    "    if not os.path.exists(NUMPY_DATA_FOLDER_FILE_PATH):\n",
    "        os.makedirs(NUMPY_DATA_FOLDER_FILE_PATH)\n",
    "\n",
    "    # convert to numerical labels (originally text labels)\n",
    "    numerical_label = np.vectorize(LABEL_TO_CATEGORY.get)(ALL_Y)\n",
    "\n",
    "    # Assuming your numpy array is called 'data_array'\n",
    "    np.save(ALL_X_TRAIN_CLASSIFY_PATH, ALL_X)\n",
    "    np.save(ALL_Y_TRAIN_CLASSIFY_PATH, numerical_label)"
   ]
  },
  {
   "cell_type": "code",
   "execution_count": 9,
   "metadata": {},
   "outputs": [
    {
     "name": "stdout",
     "output_type": "stream",
     "text": [
      "xTrain.shape: (2568, 8)\n",
      "ALL_X_TRAIN.shape: (2568, 8)  ALL_Y_TRAIN.shape: (2568,)\n",
      "-------------------------------\n",
      "xTrain.shape: (3511, 8)\n",
      "ALL_X_TRAIN.shape: (6079, 8)  ALL_Y_TRAIN.shape: (6079,)\n",
      "-------------------------------\n",
      "xTrain.shape: (3492, 8)\n",
      "ALL_X_TRAIN.shape: (9571, 8)  ALL_Y_TRAIN.shape: (9571,)\n",
      "-------------------------------\n",
      "xTrain.shape: (3166, 8)\n",
      "ALL_X_TRAIN.shape: (12737, 8)  ALL_Y_TRAIN.shape: (12737,)\n",
      "-------------------------------\n",
      "xTrain.shape: (2568, 8)\n",
      "ALL_X_TRAIN.shape: (15305, 8)  ALL_Y_TRAIN.shape: (15305,)\n",
      "-------------------------------\n",
      "xTrain.shape: (7041, 8)\n",
      "ALL_X_TRAIN.shape: (22346, 8)  ALL_Y_TRAIN.shape: (22346,)\n",
      "-------------------------------\n",
      "xTrain.shape: (7003, 8)\n",
      "ALL_X_TRAIN.shape: (29349, 8)  ALL_Y_TRAIN.shape: (29349,)\n",
      "-------------------------------\n",
      "xTrain.shape: (6351, 8)\n",
      "ALL_X_TRAIN.shape: (35700, 8)  ALL_Y_TRAIN.shape: (35700,)\n",
      "-------------------------------\n",
      "xTrain.shape: (5155, 8)\n",
      "ALL_X_TRAIN.shape: (40855, 8)  ALL_Y_TRAIN.shape: (40855,)\n",
      "-------------------------------\n",
      "xTrain.shape: (3511, 8)\n",
      "ALL_X_TRAIN.shape: (44366, 8)  ALL_Y_TRAIN.shape: (44366,)\n",
      "-------------------------------\n",
      "xTrain.shape: (3492, 8)\n",
      "ALL_X_TRAIN.shape: (47858, 8)  ALL_Y_TRAIN.shape: (47858,)\n",
      "-------------------------------\n",
      "xTrain.shape: (3166, 8)\n",
      "ALL_X_TRAIN.shape: (51024, 8)  ALL_Y_TRAIN.shape: (51024,)\n",
      "-------------------------------\n",
      "xTrain.shape: (4004, 8)\n",
      "ALL_X_TRAIN.shape: (55028, 8)  ALL_Y_TRAIN.shape: (55028,)\n",
      "-------------------------------\n",
      "xTrain.shape: (3700, 8)\n",
      "ALL_X_TRAIN.shape: (58728, 8)  ALL_Y_TRAIN.shape: (58728,)\n",
      "-------------------------------\n",
      "xTrain.shape: (8027, 8)\n",
      "ALL_X_TRAIN.shape: (66755, 8)  ALL_Y_TRAIN.shape: (66755,)\n",
      "-------------------------------\n",
      "xTrain.shape: (7419, 8)\n",
      "ALL_X_TRAIN.shape: (74174, 8)  ALL_Y_TRAIN.shape: (74174,)\n",
      "-------------------------------\n",
      "xTrain.shape: (4004, 8)\n",
      "ALL_X_TRAIN.shape: (78178, 8)  ALL_Y_TRAIN.shape: (78178,)\n",
      "-------------------------------\n",
      "xTrain.shape: (3700, 8)\n",
      "ALL_X_TRAIN.shape: (81878, 8)  ALL_Y_TRAIN.shape: (81878,)\n",
      "-------------------------------\n",
      "[0 0 0 ... 1 1 1]\n",
      "(81878, 8)\n",
      "(81878,)\n"
     ]
    }
   ],
   "source": [
    "processData(ALL_X_TRAIN, ALL_Y_TRAIN)\n",
    "\n",
    "ALL_X_TRAIN_CLASSIFY = np.load(ALL_X_TRAIN_CLASSIFY_PATH)\n",
    "ALL_Y_TRAIN_CLASSIFY = np.load(ALL_Y_TRAIN_CLASSIFY_PATH, allow_pickle=True)\n",
    "\n",
    "print(ALL_Y_TRAIN_CLASSIFY)\n",
    "print(ALL_X_TRAIN_CLASSIFY.shape)\n",
    "print(ALL_Y_TRAIN_CLASSIFY.shape)"
   ]
  },
  {
   "cell_type": "code",
   "execution_count": 10,
   "metadata": {},
   "outputs": [
    {
     "name": "stdout",
     "output_type": "stream",
     "text": [
      "45.0\n"
     ]
    }
   ],
   "source": [
    "print(np.max(ALL_X_TRAIN_CLASSIFY))"
   ]
  }
 ],
 "metadata": {
  "kernelspec": {
   "display_name": "Python 3",
   "language": "python",
   "name": "python3"
  },
  "language_info": {
   "codemirror_mode": {
    "name": "ipython",
    "version": 3
   },
   "file_extension": ".py",
   "mimetype": "text/x-python",
   "name": "python",
   "nbconvert_exporter": "python",
   "pygments_lexer": "ipython3",
   "version": "3.11.2"
  },
  "orig_nbformat": 4
 },
 "nbformat": 4,
 "nbformat_minor": 2
}
