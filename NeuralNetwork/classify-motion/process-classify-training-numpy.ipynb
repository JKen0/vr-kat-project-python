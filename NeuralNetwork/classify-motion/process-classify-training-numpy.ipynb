{
 "cells": [
  {
   "cell_type": "code",
   "execution_count": 66,
   "metadata": {},
   "outputs": [],
   "source": [
    "import os\n",
    "import pandas as pd\n",
    "import numpy as np\n",
    "from tensorflow.keras.utils import to_categorical"
   ]
  },
  {
   "cell_type": "code",
   "execution_count": 67,
   "metadata": {},
   "outputs": [],
   "source": [
    "WINDOW_SIZE = 25\n",
    "NUMBER_OF_FEATURES = 4\n",
    "NUMBER_OF_CLASSES = 2\n",
    "\n",
    "MOTION_CLASSES = ['STAND', 'STEPS']\n",
    "MOTIONTYPE_CLASSES = ['SML', 'MED', 'LAR']\n",
    "MOTIONSPEED_CLASSES = ['SLOW', 'AVERAGE', 'FAST']\n",
    "\n",
    "\n",
    "# Get the current working directory\n",
    "CURRENT_DIRECTORY = os.getcwd()\n",
    "# Get the parent directory\n",
    "PARENT_DIRECTORY = os.path.dirname(CURRENT_DIRECTORY)\n",
    "PARENT_DIRECTORY = os.path.dirname(PARENT_DIRECTORY)\n",
    "\n",
    "DATA_FOLDER = PARENT_DIRECTORY + '\\\\processed-training-data\\\\4-PROCESSED-DATA\\TRAIN2\\\\'\n",
    "\n",
    "# numpy data folder\n",
    "NUMPY_DATA_FOLDER_FILE_PATH = PARENT_DIRECTORY + '\\\\NeuralNetwork\\\\np-saved-data\\\\'\n",
    "\n",
    "# v0 data (not normalized, use to generate more data)\n",
    "ALL_X_TRAIN_CLASSIFY_MOTION_PATH = PARENT_DIRECTORY + '\\\\NeuralNetwork\\\\np-saved-data\\\\training\\\\ALL-X-TRAIN-CLASSIFY-MOTION-V0.npy'\n",
    "ALL_Y_TRAIN_CLASSIFY_MOTION_PATH = PARENT_DIRECTORY + '\\\\NeuralNetwork\\\\np-saved-data\\\\training\\\\ALL-Y-TRAIN-CLASSIFY-MOTION-V0.npy'"
   ]
  },
  {
   "cell_type": "code",
   "execution_count": 68,
   "metadata": {},
   "outputs": [
    {
     "name": "stdout",
     "output_type": "stream",
     "text": [
      "{'STAND': 0, 'STEPS': 1}\n",
      "{'SML': 0, 'MED': 1, 'LAR': 2}\n",
      "{'SLOW': 0, 'AVERAGE': 1, 'FAST': 2}\n"
     ]
    }
   ],
   "source": [
    "LABEL_TO_CATEGORY_MOTION = {label: category for category, label in enumerate(MOTION_CLASSES)}\n",
    "LABEL_TO_CATEGORY_MOTIONTYPE = {label: category for category, label in enumerate(MOTIONTYPE_CLASSES)}\n",
    "LABEL_TO_CATEGORY_MOTIONSPEED = {label: category for category, label in enumerate(MOTIONSPEED_CLASSES)}\n",
    "\n",
    "print(LABEL_TO_CATEGORY_MOTION)\n",
    "print(LABEL_TO_CATEGORY_MOTIONTYPE)\n",
    "print(LABEL_TO_CATEGORY_MOTIONSPEED)"
   ]
  },
  {
   "cell_type": "code",
   "execution_count": 69,
   "metadata": {},
   "outputs": [
    {
     "name": "stdout",
     "output_type": "stream",
     "text": [
      "['PROC-TRAIN2-STAND1.xlsx', 'PROC-TRAIN2-STAND2.xlsx', 'PROC-TRAIN2-STAND3.xlsx', 'PROC-TRAIN2-STEPS-LR-LAR-100BPM.xlsx', 'PROC-TRAIN2-STEPS-LR-LAR-110BPM.xlsx', 'PROC-TRAIN2-STEPS-LR-LAR-112BPM.xlsx', 'PROC-TRAIN2-STEPS-LR-LAR-120BPM-AUGMENT.xlsx', 'PROC-TRAIN2-STEPS-LR-LAR-124BPM-AUGMENT.xlsx', 'PROC-TRAIN2-STEPS-LR-LAR-160BPM-AUGMENT.xlsx', 'PROC-TRAIN2-STEPS-LR-LAR-164BPM-AUGMENT.xlsx', 'PROC-TRAIN2-STEPS-LR-LAR-196BPM-AUGMENT.xlsx', 'PROC-TRAIN2-STEPS-LR-LAR-200BPM-AUGMENT.xlsx', 'PROC-TRAIN2-STEPS-LR-LAR-220BPM-AUGMENT.xlsx', 'PROC-TRAIN2-STEPS-LR-LAR-224BPM-AUGMENT.xlsx', 'PROC-TRAIN2-STEPS-LR-LAR-30BPM-AUGMENT.xlsx', 'PROC-TRAIN2-STEPS-LR-LAR-31BPM-AUGMENT.xlsx', 'PROC-TRAIN2-STEPS-LR-LAR-40BPM-AUGMENT.xlsx', 'PROC-TRAIN2-STEPS-LR-LAR-41BPM-AUGMENT.xlsx', 'PROC-TRAIN2-STEPS-LR-LAR-49BPM-AUGMENT.xlsx', 'PROC-TRAIN2-STEPS-LR-LAR-50BPM-AUGMENT.xlsx', 'PROC-TRAIN2-STEPS-LR-LAR-55BPM-AUGMENT.xlsx', 'PROC-TRAIN2-STEPS-LR-LAR-56BPM-AUGMENT.xlsx', 'PROC-TRAIN2-STEPS-LR-LAR-60BPM.xlsx', 'PROC-TRAIN2-STEPS-LR-LAR-62BPM.xlsx', 'PROC-TRAIN2-STEPS-LR-LAR-80BPM.xlsx', 'PROC-TRAIN2-STEPS-LR-LAR-82BPM.xlsx', 'PROC-TRAIN2-STEPS-LR-LAR-98BPM.xlsx']\n"
     ]
    }
   ],
   "source": [
    "file_names = [file for file in os.listdir(DATA_FOLDER) if file.endswith('.xlsx') and os.path.isfile(os.path.join(DATA_FOLDER, file))]\n",
    "\n",
    "print(file_names)"
   ]
  },
  {
   "cell_type": "code",
   "execution_count": 70,
   "metadata": {},
   "outputs": [],
   "source": [
    "def normalizeSensorData(sensor_input):\n",
    "    return (sensor_input + 180)/360\n"
   ]
  },
  {
   "cell_type": "code",
   "execution_count": 77,
   "metadata": {},
   "outputs": [],
   "source": [
    "def df2Xy(df, windowSize=5):\n",
    "  X = []\n",
    "  y_Motion= []\n",
    "\n",
    "  # NORMALIZE THE SENSOR DATA\n",
    "  #df[\"L_Pitch_Delta\"] = df[\"L_Pitch_Delta\"].apply(normalizeSensorData)\n",
    "  #df[\"L_Roll_Delta\"] = df[\"L_Roll_Delta\"].apply(normalizeSensorData)\n",
    "  #df[\"R_Pitch_Delta\"] = df[\"R_Pitch_Delta\"].apply(normalizeSensorData)\n",
    "  #df[\"R_Roll_Delta\"] = df[\"R_Roll_Delta\"].apply(normalizeSensorData)\n",
    "\n",
    "  for i in range( len(df) - windowSize + 1):\n",
    "    # inputs: X rows\n",
    "    # form a new input which has size of our windowSize\n",
    "    input_data_list = []\n",
    "\n",
    "    # loop through each row in our windowsize\n",
    "    for j in range(windowSize):\n",
    "        # fetch sensor data for this row\n",
    "        row_values = df.loc[i + j, ['L_Pitch_Delta', 'L_Roll_Delta', 'R_Pitch_Delta', 'R_Roll_Delta']].values.tolist()\n",
    "\n",
    "        # add row values to the input\n",
    "        input_data_list.append(row_values)\n",
    "\n",
    "    # turnn list into array to do arthimetic\n",
    "    input_data_array = np.array(input_data_list)\n",
    "\n",
    "    # remove all negative sinces we want to the total change (we dont care which direction)\n",
    "    input_data_array = np.abs(input_data_array)\n",
    "\n",
    "    # calculate the total change for each sennsor value (TOTAL POSITIVE SENSOR CHANGES)\n",
    "    input_data_array = np.sum(input_data_array, axis=0)\n",
    "\n",
    "    if(np.isnan(input_data_array).any() == False):\n",
    "      # turn back to list\n",
    "      input_data_list = input_data_array.tolist()\n",
    "\n",
    "      # add our input to our total inputs, marked as X\n",
    "      X.append(input_data_list)\n",
    "\n",
    "      # outputs: y labels\n",
    "      label = df.loc[i + (windowSize - 1), ['Class_Motion']].values.tolist()\n",
    "\n",
    "      y_Motion.append(label)\n",
    "\n",
    "  return (np.array(X), np.array(y_Motion))"
   ]
  },
  {
   "cell_type": "code",
   "execution_count": 72,
   "metadata": {},
   "outputs": [],
   "source": [
    "ALL_X_TRAIN_MOTION = np.empty((0, NUMBER_OF_FEATURES))  # List to store all X training data\n",
    "ALL_Y_TRAIN_MOTION = np.empty((0))  # List to store all Y training data"
   ]
  },
  {
   "cell_type": "code",
   "execution_count": 78,
   "metadata": {},
   "outputs": [],
   "source": [
    "def processData(ALL_X_TRAIN_MOTION, ALL_Y_TRAIN_MOTION):\n",
    "    for fileName in file_names:\n",
    "        # Read the Excel file\n",
    "        df = pd.read_excel(DATA_FOLDER + fileName)\n",
    "\n",
    "        xTrain, yTrain_Motion = df2Xy(df, WINDOW_SIZE)\n",
    "\n",
    "        yTrain_Motion = yTrain_Motion.reshape(-1)\n",
    "        \n",
    "        ALL_X_TRAIN_MOTION = np.concatenate([ALL_X_TRAIN_MOTION, xTrain])\n",
    "        ALL_Y_TRAIN_MOTION = np.concatenate([ALL_Y_TRAIN_MOTION, yTrain_Motion])\n",
    "        \n",
    "        print('xTrain.shape:', xTrain.shape)\n",
    "        print('ALL_X_TRAIN.shape:', ALL_X_TRAIN_MOTION.shape, ' ALL_Y_TRAIN_CURRVEL.shape:', ALL_Y_TRAIN_MOTION.shape)\n",
    "        print('-------------------------------')\n",
    "\n",
    "    # Create the folder if it doesn't exist\n",
    "    if not os.path.exists(NUMPY_DATA_FOLDER_FILE_PATH):\n",
    "        os.makedirs(NUMPY_DATA_FOLDER_FILE_PATH)\n",
    "\n",
    "    # convert to numerical labels (originally text labels)\n",
    "    numerical_motion_label = np.vectorize(LABEL_TO_CATEGORY_MOTION.get)(ALL_Y_TRAIN_MOTION)\n",
    "\n",
    "    # Assuming your numpy array is called 'data_array'\n",
    "    np.save(ALL_X_TRAIN_CLASSIFY_MOTION_PATH, ALL_X_TRAIN_MOTION)\n",
    "    np.save(ALL_Y_TRAIN_CLASSIFY_MOTION_PATH, numerical_motion_label)"
   ]
  },
  {
   "cell_type": "code",
   "execution_count": 79,
   "metadata": {},
   "outputs": [
    {
     "name": "stdout",
     "output_type": "stream",
     "text": [
      "xTrain.shape: (1334, 4)\n",
      "ALL_X_TRAIN.shape: (1334, 4)  ALL_Y_TRAIN_CURRVEL.shape: (1334,)\n",
      "-------------------------------\n",
      "xTrain.shape: (3287, 4)\n",
      "ALL_X_TRAIN.shape: (4621, 4)  ALL_Y_TRAIN_CURRVEL.shape: (4621,)\n",
      "-------------------------------\n",
      "xTrain.shape: (1742, 4)\n",
      "ALL_X_TRAIN.shape: (6363, 4)  ALL_Y_TRAIN_CURRVEL.shape: (6363,)\n",
      "-------------------------------\n",
      "xTrain.shape: (3381, 4)\n",
      "ALL_X_TRAIN.shape: (9744, 4)  ALL_Y_TRAIN_CURRVEL.shape: (9744,)\n",
      "-------------------------------\n",
      "xTrain.shape: (3274, 4)\n",
      "ALL_X_TRAIN.shape: (13018, 4)  ALL_Y_TRAIN_CURRVEL.shape: (13018,)\n",
      "-------------------------------\n",
      "xTrain.shape: (4560, 4)\n",
      "ALL_X_TRAIN.shape: (17578, 4)  ALL_Y_TRAIN_CURRVEL.shape: (17578,)\n",
      "-------------------------------\n",
      "xTrain.shape: (3772, 4)\n",
      "ALL_X_TRAIN.shape: (21350, 4)  ALL_Y_TRAIN_CURRVEL.shape: (21350,)\n",
      "-------------------------------\n",
      "xTrain.shape: (3180, 4)\n",
      "ALL_X_TRAIN.shape: (24530, 4)  ALL_Y_TRAIN_CURRVEL.shape: (24530,)\n",
      "-------------------------------\n",
      "xTrain.shape: (3071, 4)\n",
      "ALL_X_TRAIN.shape: (27601, 4)  ALL_Y_TRAIN_CURRVEL.shape: (27601,)\n",
      "-------------------------------\n",
      "xTrain.shape: (4504, 4)\n",
      "ALL_X_TRAIN.shape: (32105, 4)  ALL_Y_TRAIN_CURRVEL.shape: (32105,)\n",
      "-------------------------------\n",
      "xTrain.shape: (3795, 4)\n",
      "ALL_X_TRAIN.shape: (35900, 4)  ALL_Y_TRAIN_CURRVEL.shape: (35900,)\n",
      "-------------------------------\n",
      "xTrain.shape: (3380, 4)\n",
      "ALL_X_TRAIN.shape: (39280, 4)  ALL_Y_TRAIN_CURRVEL.shape: (39280,)\n",
      "-------------------------------\n",
      "xTrain.shape: (3273, 4)\n",
      "ALL_X_TRAIN.shape: (42553, 4)  ALL_Y_TRAIN_CURRVEL.shape: (42553,)\n",
      "-------------------------------\n",
      "xTrain.shape: (4559, 4)\n",
      "ALL_X_TRAIN.shape: (47112, 4)  ALL_Y_TRAIN_CURRVEL.shape: (47112,)\n",
      "-------------------------------\n",
      "xTrain.shape: (7564, 4)\n",
      "ALL_X_TRAIN.shape: (54676, 4)  ALL_Y_TRAIN_CURRVEL.shape: (54676,)\n",
      "-------------------------------\n",
      "xTrain.shape: (6381, 4)\n",
      "ALL_X_TRAIN.shape: (61057, 4)  ALL_Y_TRAIN_CURRVEL.shape: (61057,)\n",
      "-------------------------------\n",
      "xTrain.shape: (6163, 4)\n",
      "ALL_X_TRAIN.shape: (67220, 4)  ALL_Y_TRAIN_CURRVEL.shape: (67220,)\n",
      "-------------------------------\n",
      "xTrain.shape: (9029, 4)\n",
      "ALL_X_TRAIN.shape: (76249, 4)  ALL_Y_TRAIN_CURRVEL.shape: (76249,)\n",
      "-------------------------------\n",
      "xTrain.shape: (7612, 4)\n",
      "ALL_X_TRAIN.shape: (83861, 4)  ALL_Y_TRAIN_CURRVEL.shape: (83861,)\n",
      "-------------------------------\n",
      "xTrain.shape: (6781, 4)\n",
      "ALL_X_TRAIN.shape: (90642, 4)  ALL_Y_TRAIN_CURRVEL.shape: (90642,)\n",
      "-------------------------------\n",
      "xTrain.shape: (6567, 4)\n",
      "ALL_X_TRAIN.shape: (97209, 4)  ALL_Y_TRAIN_CURRVEL.shape: (97209,)\n",
      "-------------------------------\n",
      "xTrain.shape: (9139, 4)\n",
      "ALL_X_TRAIN.shape: (106348, 4)  ALL_Y_TRAIN_CURRVEL.shape: (106348,)\n",
      "-------------------------------\n",
      "xTrain.shape: (3773, 4)\n",
      "ALL_X_TRAIN.shape: (110121, 4)  ALL_Y_TRAIN_CURRVEL.shape: (110121,)\n",
      "-------------------------------\n",
      "xTrain.shape: (3181, 4)\n",
      "ALL_X_TRAIN.shape: (113302, 4)  ALL_Y_TRAIN_CURRVEL.shape: (113302,)\n",
      "-------------------------------\n",
      "xTrain.shape: (3072, 4)\n",
      "ALL_X_TRAIN.shape: (116374, 4)  ALL_Y_TRAIN_CURRVEL.shape: (116374,)\n",
      "-------------------------------\n",
      "xTrain.shape: (4505, 4)\n",
      "ALL_X_TRAIN.shape: (120879, 4)  ALL_Y_TRAIN_CURRVEL.shape: (120879,)\n",
      "-------------------------------\n",
      "xTrain.shape: (3796, 4)\n",
      "ALL_X_TRAIN.shape: (124675, 4)  ALL_Y_TRAIN_CURRVEL.shape: (124675,)\n",
      "-------------------------------\n",
      "(124675, 4)\n",
      "(124675,)\n"
     ]
    }
   ],
   "source": [
    "if not os.path.exists(ALL_X_TRAIN_CLASSIFY_MOTION_PATH):\n",
    "    processData(ALL_X_TRAIN_MOTION, ALL_Y_TRAIN_MOTION)\n",
    "\n",
    "ALL_X_TRAIN_CLASSIFY_MOTION = np.load(ALL_X_TRAIN_CLASSIFY_MOTION_PATH)\n",
    "ALL_Y_TRAIN_CLASSIFY_MOTION = np.load(ALL_Y_TRAIN_CLASSIFY_MOTION_PATH)\n",
    "\n",
    "print(ALL_X_TRAIN_CLASSIFY_MOTION.shape)\n",
    "print(ALL_Y_TRAIN_CLASSIFY_MOTION.shape)"
   ]
  },
  {
   "cell_type": "code",
   "execution_count": 81,
   "metadata": {},
   "outputs": [
    {
     "name": "stdout",
     "output_type": "stream",
     "text": [
      "227.0\n"
     ]
    }
   ],
   "source": [
    "print(np.max(ALL_X_TRAIN_CLASSIFY_MOTION))"
   ]
  }
 ],
 "metadata": {
  "kernelspec": {
   "display_name": "Python 3",
   "language": "python",
   "name": "python3"
  },
  "language_info": {
   "codemirror_mode": {
    "name": "ipython",
    "version": 3
   },
   "file_extension": ".py",
   "mimetype": "text/x-python",
   "name": "python",
   "nbconvert_exporter": "python",
   "pygments_lexer": "ipython3",
   "version": "3.11.2"
  },
  "orig_nbformat": 4
 },
 "nbformat": 4,
 "nbformat_minor": 2
}
