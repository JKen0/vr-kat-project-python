{
 "cells": [
  {
   "cell_type": "code",
   "execution_count": 6,
   "metadata": {},
   "outputs": [],
   "source": [
    "import os\n",
    "import numpy as np\n",
    "from tensorflow.keras.models import Sequential\n",
    "from tensorflow.keras.layers import Dense, InputLayer, Flatten\n",
    "import json"
   ]
  },
  {
   "cell_type": "code",
   "execution_count": 7,
   "metadata": {},
   "outputs": [],
   "source": [
    "# Get the current working directory\n",
    "CURRENT_DIRECTORY = os.getcwd()\n",
    "# Get the parent directory\n",
    "PARENT_DIRECTORY = os.path.dirname(CURRENT_DIRECTORY)\n",
    "PARENT_DIRECTORY = os.path.dirname(PARENT_DIRECTORY)\n",
    "\n",
    "# Open the config file and load its content into a dictionary\n",
    "config_file = open(PARENT_DIRECTORY + '\\\\config\\\\config.json')\n",
    "CONFIG_DATA = json.load(config_file)\n",
    "\n",
    "# Close the file after loading the data\n",
    "config_file.close()"
   ]
  },
  {
   "cell_type": "code",
   "execution_count": 8,
   "metadata": {},
   "outputs": [],
   "source": [
    "WINDOW_SIZE = CONFIG_DATA[\"WINDOW_SIZE\"]\n",
    "NUMBER_OF_FEATURES = CONFIG_DATA[\"NUMBER_OF_FEATURES\"]\n",
    "NUM_EPOCHS = CONFIG_DATA[\"NUMBER_OF_EPOCHS\"]\n",
    "CLASSICATIONS = CONFIG_DATA[\"CLASSES_MOTION\"]\n",
    "\n",
    "ALL_X_TRAINING_DATA_PATH = PARENT_DIRECTORY + '\\\\NeuralNetwork\\\\np-saved-data\\\\training\\\\ALL-X-TRAIN-CLASSIFY-MOTION-V0.npy'\n",
    "ALL_Y_TRAINING_DATA_PATH = PARENT_DIRECTORY + '\\\\NeuralNetwork\\\\np-saved-data\\\\training\\\\ALL-Y-TRAIN-CLASSIFY-MOTION-V0.npy'\n",
    "\n",
    "ALL_X_TEST_DATA_PATH = PARENT_DIRECTORY + '\\\\NeuralNetwork\\\\np-saved-data\\\\test\\\\ALL-X-TEST-CLASSIFY-MOTION-V0.npy'\n",
    "ALL_Y_TEST_DATA_PATH = PARENT_DIRECTORY + '\\\\NeuralNetwork\\\\np-saved-data\\\\test\\\\ALL-Y-TEST-CLASSIFY-MOTION-V0.npy'\n",
    "\n",
    "MOTION_MODEL_SAVE_PATH =  PARENT_DIRECTORY + '\\\\NeuralNetwork\\\\models\\\\standard-backprop-motion-2.h5'"
   ]
  },
  {
   "cell_type": "code",
   "execution_count": 9,
   "metadata": {},
   "outputs": [
    {
     "name": "stdout",
     "output_type": "stream",
     "text": [
      "(124675, 4)\n",
      "(124675,)\n",
      "(71925, 4)\n",
      "(71925,)\n"
     ]
    }
   ],
   "source": [
    "ALL_X_TRAIN_DATA = np.load(ALL_X_TRAINING_DATA_PATH)\n",
    "ALL_Y_TRAIN_DATA = np.load(ALL_Y_TRAINING_DATA_PATH)\n",
    "\n",
    "ALL_X_TEST_DATA = np.load(ALL_X_TEST_DATA_PATH)\n",
    "ALL_Y_TEST_DATA = np.load(ALL_Y_TEST_DATA_PATH)\n",
    "\n",
    "\n",
    "print(ALL_X_TRAIN_DATA.shape)\n",
    "print(ALL_Y_TRAIN_DATA.shape)\n",
    "\n",
    "print(ALL_X_TEST_DATA.shape)\n",
    "print(ALL_Y_TEST_DATA.shape)"
   ]
  },
  {
   "cell_type": "code",
   "execution_count": 10,
   "metadata": {},
   "outputs": [],
   "source": [
    "# Generate random permutation indices\n",
    "random_indices_1 = np.random.permutation(len(ALL_X_TRAIN_DATA))\n",
    "\n",
    "\n",
    "# Shuffle the input features and target labels using the random indices\n",
    "shuffled_X_TRAIN_DATA = ALL_X_TRAIN_DATA[random_indices_1]\n",
    "shuffled_Y_TRAIN_DATA = ALL_Y_TRAIN_DATA[random_indices_1]"
   ]
  },
  {
   "cell_type": "code",
   "execution_count": 11,
   "metadata": {},
   "outputs": [],
   "source": [
    "# Generate random permutation indices\n",
    "random_indices_2 = np.random.permutation(len(ALL_X_TEST_DATA))\n",
    "\n",
    "# Shuffle the input features and target labels using the random indices\n",
    "shuffled_X_TEST_DATA = ALL_X_TEST_DATA[random_indices_2]\n",
    "shuffled_Y_TEST_DATA = ALL_Y_TEST_DATA[random_indices_2]"
   ]
  },
  {
   "cell_type": "code",
   "execution_count": 12,
   "metadata": {},
   "outputs": [
    {
     "name": "stdout",
     "output_type": "stream",
     "text": [
      "Model: \"sequential\"\n",
      "_________________________________________________________________\n",
      " Layer (type)                Output Shape              Param #   \n",
      "=================================================================\n",
      " flatten (Flatten)           (None, 4)                 0         \n",
      "                                                                 \n",
      " dense (Dense)               (None, 8)                 40        \n",
      "                                                                 \n",
      " dense_1 (Dense)             (None, 2)                 18        \n",
      "                                                                 \n",
      "=================================================================\n",
      "Total params: 58\n",
      "Trainable params: 58\n",
      "Non-trainable params: 0\n",
      "_________________________________________________________________\n"
     ]
    }
   ],
   "source": [
    "model2_motion = Sequential()\n",
    "model2_motion.add(InputLayer((NUMBER_OF_FEATURES)))\n",
    "model2_motion.add(Flatten())\n",
    "model2_motion.add(Dense(8, activation='relu'))\n",
    "model2_motion.add(Dense(len(CLASSICATIONS), activation='softmax'))\n",
    "\n",
    "model2_motion.summary()"
   ]
  },
  {
   "cell_type": "code",
   "execution_count": 13,
   "metadata": {},
   "outputs": [
    {
     "name": "stdout",
     "output_type": "stream",
     "text": [
      "Epoch 1/20\n",
      "3897/3897 [==============================] - 7s 2ms/step - loss: 0.4683 - acc: 0.9646 - val_loss: 1.0727e-04 - val_acc: 1.0000\n",
      "Epoch 2/20\n",
      "3897/3897 [==============================] - 6s 2ms/step - loss: 0.0027 - acc: 0.9994 - val_loss: 1.4989e-05 - val_acc: 1.0000\n",
      "Epoch 3/20\n",
      "3897/3897 [==============================] - 7s 2ms/step - loss: 0.0024 - acc: 0.9994 - val_loss: 5.4986e-06 - val_acc: 1.0000\n",
      "Epoch 4/20\n",
      "3897/3897 [==============================] - 6s 1ms/step - loss: 0.0021 - acc: 0.9995 - val_loss: 1.8148e-06 - val_acc: 1.0000\n",
      "Epoch 5/20\n",
      "3897/3897 [==============================] - 6s 2ms/step - loss: 0.0017 - acc: 0.9996 - val_loss: 8.9658e-07 - val_acc: 1.0000\n",
      "Epoch 6/20\n",
      "3897/3897 [==============================] - 6s 2ms/step - loss: 0.0013 - acc: 0.9996 - val_loss: 1.6626e-07 - val_acc: 1.0000\n",
      "Epoch 7/20\n",
      "3897/3897 [==============================] - 6s 2ms/step - loss: 0.0010 - acc: 0.9998 - val_loss: 1.7497e-07 - val_acc: 1.0000\n",
      "Epoch 8/20\n",
      "3897/3897 [==============================] - 6s 1ms/step - loss: 8.1900e-04 - acc: 0.9998 - val_loss: 4.9181e-08 - val_acc: 1.0000\n",
      "Epoch 9/20\n",
      "3897/3897 [==============================] - 6s 1ms/step - loss: 7.4082e-04 - acc: 0.9999 - val_loss: 2.2242e-07 - val_acc: 1.0000\n",
      "Epoch 10/20\n",
      "3897/3897 [==============================] - 6s 1ms/step - loss: 6.8254e-04 - acc: 0.9999 - val_loss: 8.0993e-09 - val_acc: 1.0000\n",
      "Epoch 11/20\n",
      "3897/3897 [==============================] - 6s 1ms/step - loss: 6.6714e-04 - acc: 0.9999 - val_loss: 1.9540e-09 - val_acc: 1.0000\n",
      "Epoch 12/20\n",
      "3897/3897 [==============================] - 6s 2ms/step - loss: 6.4974e-04 - acc: 0.9999 - val_loss: 1.7257e-08 - val_acc: 1.0000\n",
      "Epoch 13/20\n",
      "3897/3897 [==============================] - 6s 2ms/step - loss: 6.3641e-04 - acc: 0.9999 - val_loss: 3.4652e-09 - val_acc: 1.0000\n",
      "Epoch 14/20\n",
      "3897/3897 [==============================] - 6s 2ms/step - loss: 6.2569e-04 - acc: 0.9999 - val_loss: 9.4260e-09 - val_acc: 1.0000\n",
      "Epoch 15/20\n",
      "3897/3897 [==============================] - 6s 1ms/step - loss: 6.1638e-04 - acc: 0.9999 - val_loss: 6.0847e-09 - val_acc: 1.0000\n",
      "Epoch 16/20\n",
      "3897/3897 [==============================] - 6s 2ms/step - loss: 5.9612e-04 - acc: 0.9999 - val_loss: 5.5025e-10 - val_acc: 1.0000\n",
      "Epoch 17/20\n",
      "3897/3897 [==============================] - 6s 2ms/step - loss: 6.0991e-04 - acc: 0.9999 - val_loss: 1.2331e-09 - val_acc: 1.0000\n",
      "Epoch 18/20\n",
      "3897/3897 [==============================] - 7s 2ms/step - loss: 6.0517e-04 - acc: 0.9999 - val_loss: 7.2926e-11 - val_acc: 1.0000\n",
      "Epoch 19/20\n",
      "3897/3897 [==============================] - 6s 2ms/step - loss: 6.0814e-04 - acc: 0.9999 - val_loss: 1.2695e-09 - val_acc: 1.0000\n",
      "Epoch 20/20\n",
      "3897/3897 [==============================] - 6s 1ms/step - loss: 5.9702e-04 - acc: 0.9999 - val_loss: 2.9833e-11 - val_acc: 1.0000\n"
     ]
    }
   ],
   "source": [
    "# Compile the model\n",
    "model2_motion.compile(optimizer='adam', loss='sparse_categorical_crossentropy', metrics=['acc'])\n",
    "\n",
    "history2_motion = model2_motion.fit(shuffled_X_TRAIN_DATA, shuffled_Y_TRAIN_DATA, validation_data=(shuffled_X_TEST_DATA, shuffled_Y_TEST_DATA), epochs=NUM_EPOCHS)\n",
    "\n",
    "# Save the model to a file\n",
    "model2_motion.save(MOTION_MODEL_SAVE_PATH)"
   ]
  }
 ],
 "metadata": {
  "kernelspec": {
   "display_name": "Python 3",
   "language": "python",
   "name": "python3"
  },
  "language_info": {
   "codemirror_mode": {
    "name": "ipython",
    "version": 3
   },
   "file_extension": ".py",
   "mimetype": "text/x-python",
   "name": "python",
   "nbconvert_exporter": "python",
   "pygments_lexer": "ipython3",
   "version": "3.11.2"
  },
  "orig_nbformat": 4
 },
 "nbformat": 4,
 "nbformat_minor": 2
}
