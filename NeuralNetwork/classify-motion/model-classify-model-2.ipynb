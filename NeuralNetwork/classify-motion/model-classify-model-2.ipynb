{
 "cells": [
  {
   "cell_type": "code",
   "execution_count": 15,
   "metadata": {},
   "outputs": [],
   "source": [
    "import os\n",
    "import numpy as np\n",
    "from tensorflow.keras.models import Sequential\n",
    "from tensorflow.keras.layers import Dense, InputLayer, Flatten\n",
    "import json\n",
    "from sklearn.model_selection import train_test_split"
   ]
  },
  {
   "cell_type": "code",
   "execution_count": 16,
   "metadata": {},
   "outputs": [],
   "source": [
    "# Get the current working directory\n",
    "CURRENT_DIRECTORY = os.getcwd()\n",
    "# Get the parent directory\n",
    "PARENT_DIRECTORY = os.path.dirname(CURRENT_DIRECTORY)\n",
    "PARENT_DIRECTORY = os.path.dirname(PARENT_DIRECTORY)\n",
    "\n",
    "# Open the config file and load its content into a dictionary\n",
    "config_file = open(PARENT_DIRECTORY + '\\\\config\\\\config.json')\n",
    "CONFIG_DATA = json.load(config_file)\n",
    "\n",
    "# Close the file after loading the data\n",
    "config_file.close()"
   ]
  },
  {
   "cell_type": "code",
   "execution_count": 17,
   "metadata": {},
   "outputs": [],
   "source": [
    "WINDOW_SIZE = CONFIG_DATA[\"WINDOW_SIZE_MOTION\"]\n",
    "NUMBER_OF_FEATURES = CONFIG_DATA[\"NUMBER_OF_FEATURES\"]\n",
    "NUM_EPOCHS = CONFIG_DATA[\"NUMBER_OF_EPOCHS\"]\n",
    "CLASSICATIONS = CONFIG_DATA[\"CLASSES_MOTION\"]\n",
    "\n",
    "ALL_X_TRAINING_DATA_PATH = PARENT_DIRECTORY + '\\\\NeuralNetwork\\\\np-saved-data\\\\training\\\\ALL-X-TRAIN-CLASSIFY-MOTION-V0.npy'\n",
    "ALL_Y_TRAINING_DATA_PATH = PARENT_DIRECTORY + '\\\\NeuralNetwork\\\\np-saved-data\\\\training\\\\ALL-Y-TRAIN-CLASSIFY-MOTION-V0.npy'\n",
    "\n",
    "ALL_X_TEST_DATA_PATH = PARENT_DIRECTORY + '\\\\NeuralNetwork\\\\np-saved-data\\\\test\\\\ALL-X-TEST-CLASSIFY-MOTION-V0.npy'\n",
    "ALL_Y_TEST_DATA_PATH = PARENT_DIRECTORY + '\\\\NeuralNetwork\\\\np-saved-data\\\\test\\\\ALL-Y-TEST-CLASSIFY-MOTION-V0.npy'\n",
    "\n",
    "MOTION_MODEL_SAVE_PATH =  PARENT_DIRECTORY + '\\\\NeuralNetwork\\\\models\\\\standard-backprop-motion-2.h5'"
   ]
  },
  {
   "cell_type": "code",
   "execution_count": 18,
   "metadata": {},
   "outputs": [
    {
     "name": "stdout",
     "output_type": "stream",
     "text": [
      "(237630, 4)\n",
      "(237630,)\n",
      "(59408, 4)\n",
      "(59408,)\n"
     ]
    }
   ],
   "source": [
    "ALL_X_TRAIN_DATA = np.load(ALL_X_TRAINING_DATA_PATH)\n",
    "ALL_Y_TRAIN_DATA = np.load(ALL_Y_TRAINING_DATA_PATH)\n",
    "\n",
    "ALL_X_TEST_DATA = np.load(ALL_X_TEST_DATA_PATH)\n",
    "ALL_Y_TEST_DATA = np.load(ALL_Y_TEST_DATA_PATH)\n",
    "\n",
    "ALL_X_COMBINED_DATA = np.concatenate((ALL_X_TRAIN_DATA, ALL_X_TEST_DATA))\n",
    "ALL_Y_COMBINED_DATA = np.concatenate((ALL_Y_TRAIN_DATA, ALL_Y_TEST_DATA))\n",
    "\n",
    "\n",
    "ALL_X_TRAIN_DATA, ALL_X_TEST_DATA, ALL_Y_TRAIN_DATA, ALL_Y_TEST_DATA = train_test_split(ALL_X_COMBINED_DATA, ALL_Y_COMBINED_DATA, test_size=0.2, random_state=42)\n",
    "\n",
    "print(ALL_X_TRAIN_DATA.shape)\n",
    "print(ALL_Y_TRAIN_DATA.shape)\n",
    "\n",
    "print(ALL_X_TEST_DATA.shape)\n",
    "print(ALL_Y_TEST_DATA.shape)"
   ]
  },
  {
   "cell_type": "code",
   "execution_count": 19,
   "metadata": {},
   "outputs": [],
   "source": [
    "# Generate random permutation indices\n",
    "random_indices_1 = np.random.permutation(len(ALL_X_TRAIN_DATA))\n",
    "\n",
    "\n",
    "# Shuffle the input features and target labels using the random indices\n",
    "shuffled_X_TRAIN_DATA = ALL_X_TRAIN_DATA[random_indices_1]\n",
    "shuffled_Y_TRAIN_DATA = ALL_Y_TRAIN_DATA[random_indices_1]"
   ]
  },
  {
   "cell_type": "code",
   "execution_count": 20,
   "metadata": {},
   "outputs": [],
   "source": [
    "# Generate random permutation indices\n",
    "random_indices_2 = np.random.permutation(len(ALL_X_TEST_DATA))\n",
    "\n",
    "# Shuffle the input features and target labels using the random indices\n",
    "shuffled_X_TEST_DATA = ALL_X_TEST_DATA[random_indices_2]\n",
    "shuffled_Y_TEST_DATA = ALL_Y_TEST_DATA[random_indices_2]"
   ]
  },
  {
   "cell_type": "code",
   "execution_count": 21,
   "metadata": {},
   "outputs": [
    {
     "name": "stdout",
     "output_type": "stream",
     "text": [
      "Model: \"sequential_2\"\n",
      "_________________________________________________________________\n",
      " Layer (type)                Output Shape              Param #   \n",
      "=================================================================\n",
      " dense_6 (Dense)             (None, 8)                 40        \n",
      "                                                                 \n",
      " dense_7 (Dense)             (None, 4)                 36        \n",
      "                                                                 \n",
      " dense_8 (Dense)             (None, 1)                 5         \n",
      "                                                                 \n",
      "=================================================================\n",
      "Total params: 81\n",
      "Trainable params: 81\n",
      "Non-trainable params: 0\n",
      "_________________________________________________________________\n"
     ]
    }
   ],
   "source": [
    "model2_motion = Sequential()\n",
    "model2_motion.add(InputLayer((NUMBER_OF_FEATURES)))\n",
    "model2_motion.add(Dense(8, activation='relu'))\n",
    "model2_motion.add(Dense(4, activation='relu'))\n",
    "model2_motion.add(Dense(len(CLASSICATIONS), activation='softmax'))\n",
    "\n",
    "model2_motion.summary()"
   ]
  },
  {
   "cell_type": "code",
   "execution_count": 22,
   "metadata": {},
   "outputs": [
    {
     "name": "stdout",
     "output_type": "stream",
     "text": [
      "Epoch 1/12\n"
     ]
    },
    {
     "name": "stdout",
     "output_type": "stream",
     "text": [
      "7426/7426 [==============================] - 11s 1ms/step - loss: 0.3872 - acc: 0.9517 - val_loss: 0.0294 - val_acc: 0.9960\n",
      "Epoch 2/12\n",
      "7426/7426 [==============================] - 10s 1ms/step - loss: 0.0163 - acc: 0.9963 - val_loss: 0.0115 - val_acc: 0.9965\n",
      "Epoch 3/12\n",
      "7426/7426 [==============================] - 10s 1ms/step - loss: 0.0112 - acc: 0.9967 - val_loss: 0.0105 - val_acc: 0.9968\n",
      "Epoch 4/12\n",
      "7426/7426 [==============================] - 11s 2ms/step - loss: 0.0105 - acc: 0.9968 - val_loss: 0.0097 - val_acc: 0.9968\n",
      "Epoch 5/12\n",
      "7426/7426 [==============================] - 11s 1ms/step - loss: 0.0102 - acc: 0.9967 - val_loss: 0.0094 - val_acc: 0.9971\n",
      "Epoch 6/12\n",
      "7426/7426 [==============================] - 10s 1ms/step - loss: 0.0100 - acc: 0.9969 - val_loss: 0.0090 - val_acc: 0.9972\n",
      "Epoch 7/12\n",
      "7426/7426 [==============================] - 12s 2ms/step - loss: 0.0099 - acc: 0.9969 - val_loss: 0.0089 - val_acc: 0.9971\n",
      "Epoch 8/12\n",
      "7426/7426 [==============================] - 10s 1ms/step - loss: 0.0099 - acc: 0.9969 - val_loss: 0.0088 - val_acc: 0.9972\n",
      "Epoch 9/12\n",
      "7426/7426 [==============================] - 13s 2ms/step - loss: 0.0098 - acc: 0.9970 - val_loss: 0.0088 - val_acc: 0.9971\n",
      "Epoch 10/12\n",
      "7426/7426 [==============================] - 11s 2ms/step - loss: 0.0098 - acc: 0.9969 - val_loss: 0.0087 - val_acc: 0.9972\n",
      "Epoch 11/12\n",
      "7426/7426 [==============================] - 10s 1ms/step - loss: 0.0098 - acc: 0.9970 - val_loss: 0.0089 - val_acc: 0.9971\n",
      "Epoch 12/12\n",
      "7426/7426 [==============================] - 11s 1ms/step - loss: 0.0098 - acc: 0.9969 - val_loss: 0.0088 - val_acc: 0.9971\n"
     ]
    }
   ],
   "source": [
    "# Compile the model\n",
    "model2_motion.compile(optimizer='adam', loss='sparse_categorical_crossentropy', metrics=['acc'])\n",
    "\n",
    "history2_motion = model2_motion.fit(shuffled_X_TRAIN_DATA, shuffled_Y_TRAIN_DATA, validation_data=(shuffled_X_TEST_DATA, shuffled_Y_TEST_DATA), epochs=NUM_EPOCHS)\n",
    "\n",
    "# Save the model to a file\n",
    "model2_motion.save(MOTION_MODEL_SAVE_PATH)"
   ]
  }
 ],
 "metadata": {
  "kernelspec": {
   "display_name": "Python 3",
   "language": "python",
   "name": "python3"
  },
  "language_info": {
   "codemirror_mode": {
    "name": "ipython",
    "version": 3
   },
   "file_extension": ".py",
   "mimetype": "text/x-python",
   "name": "python",
   "nbconvert_exporter": "python",
   "pygments_lexer": "ipython3",
   "version": "3.11.2"
  },
  "orig_nbformat": 4
 },
 "nbformat": 4,
 "nbformat_minor": 2
}
