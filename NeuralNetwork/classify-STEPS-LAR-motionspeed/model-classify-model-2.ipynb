{
 "cells": [
  {
   "cell_type": "code",
   "execution_count": 2,
   "metadata": {},
   "outputs": [],
   "source": [
    "import os\n",
    "import numpy as np\n",
    "import json\n",
    "from tensorflow.keras.models import Sequential\n",
    "from tensorflow.keras.layers import Dense, InputLayer, Flatten"
   ]
  },
  {
   "cell_type": "code",
   "execution_count": 3,
   "metadata": {},
   "outputs": [],
   "source": [
    "# Get the current working directory\n",
    "CURRENT_DIRECTORY = os.getcwd()\n",
    "# Get the parent directory\n",
    "PARENT_DIRECTORY = os.path.dirname(CURRENT_DIRECTORY)\n",
    "PARENT_DIRECTORY = os.path.dirname(PARENT_DIRECTORY)\n",
    "\n",
    "# Open the config file and load its content into a dictionary\n",
    "config_file = open(PARENT_DIRECTORY + '\\\\config\\\\config.json')\n",
    "CONFIG_DATA = json.load(config_file)\n",
    "\n",
    "# Close the file after loading the data\n",
    "config_file.close()"
   ]
  },
  {
   "cell_type": "code",
   "execution_count": 4,
   "metadata": {},
   "outputs": [],
   "source": [
    "WINDOW_SIZE = CONFIG_DATA['WINDOW_SIZE']\n",
    "NUMBER_OF_FEATURES = CONFIG_DATA[\"NUMBER_OF_FEATURES\"]\n",
    "NUM_EPOCHS = CONFIG_DATA[\"NUMBER_OF_EPOCHS\"]\n",
    "CLASSICATIONS = CONFIG_DATA['CLASSES_MOTION']\n",
    "\n",
    "ALL_X_TRAINING_DATA_PATH = PARENT_DIRECTORY + '\\\\NeuralNetwork\\\\np-saved-data\\\\training\\\\ALL-X-TRAIN-CLASSIFY-MOTIONSPEED-LAR-STEPS-V0.npy'\n",
    "ALL_Y_TRAINING_DATA_PATH = PARENT_DIRECTORY + '\\\\NeuralNetwork\\\\np-saved-data\\\\training\\\\ALL-Y-TRAIN-CLASSIFY-MOTIONSPEED-LAR-STEPS-V0.npy'\n",
    "\n",
    "ALL_X_TEST_DATA_PATH = PARENT_DIRECTORY + '\\\\NeuralNetwork\\\\np-saved-data\\\\test\\\\ALL-X-TEST-CLASSIFY-MOTIONSPEED-LAR-STEPS-V0.npy'\n",
    "ALL_Y_TEST_DATA_PATH = PARENT_DIRECTORY + '\\\\NeuralNetwork\\\\np-saved-data\\\\test\\\\ALL-Y-TEST-CLASSIFY-MOTIONSPEED-LAR-STEPS-V0.npy'\n",
    "\n",
    "MOTION_MODEL_SAVE_PATH =  PARENT_DIRECTORY + '\\\\NeuralNetwork\\\\models\\\\standard-backprop-motionspeed-lar-steps-2.h5'"
   ]
  },
  {
   "cell_type": "code",
   "execution_count": 5,
   "metadata": {},
   "outputs": [
    {
     "name": "stdout",
     "output_type": "stream",
     "text": [
      "(118312, 2)\n",
      "(118312,)\n",
      "(71925, 2)\n",
      "(71925,)\n"
     ]
    }
   ],
   "source": [
    "ALL_X_TRAIN_DATA = np.load(ALL_X_TRAINING_DATA_PATH)\n",
    "ALL_Y_TRAIN_DATA = np.load(ALL_Y_TRAINING_DATA_PATH)\n",
    "\n",
    "ALL_X_TEST_DATA = np.load(ALL_X_TEST_DATA_PATH)\n",
    "ALL_Y_TEST_DATA = np.load(ALL_Y_TEST_DATA_PATH)\n",
    "\n",
    "# Sum between columns 0 and 1\n",
    "sum_cols_01 = np.sum(ALL_X_TRAIN_DATA[:, 0:2], axis=1)\n",
    "\n",
    "# Sum between columns 2 and 3\n",
    "sum_cols_23 = np.sum(ALL_X_TRAIN_DATA[:, 2:4], axis=1)\n",
    "\n",
    "ALL_X_TRAIN_DATA =  np.column_stack((sum_cols_01, sum_cols_23))\n",
    "\n",
    "# Sum between columns 0 and 1\n",
    "sum_cols_01 = np.sum(ALL_X_TEST_DATA[:, 0:2], axis=1)\n",
    "# Sum between columns 2 and 3\n",
    "sum_cols_23 = np.sum(ALL_X_TEST_DATA[:, 2:4], axis=1)\n",
    "\n",
    "ALL_X_TEST_DATA =  np.column_stack((sum_cols_01, sum_cols_23))\n",
    "\n",
    "print(ALL_X_TRAIN_DATA.shape)\n",
    "print(ALL_Y_TRAIN_DATA.shape)\n",
    "\n",
    "print(ALL_X_TEST_DATA.shape)\n",
    "print(ALL_Y_TEST_DATA.shape)"
   ]
  },
  {
   "cell_type": "code",
   "execution_count": 6,
   "metadata": {},
   "outputs": [],
   "source": [
    "# Generate random permutation indices\n",
    "random_indices_1 = np.random.permutation(len(ALL_X_TRAIN_DATA))\n",
    "\n",
    "\n",
    "# Shuffle the input features and target labels using the random indices\n",
    "shuffled_X_TRAIN_DATA = ALL_X_TRAIN_DATA[random_indices_1]\n",
    "shuffled_Y_TRAIN_DATA = ALL_Y_TRAIN_DATA[random_indices_1]"
   ]
  },
  {
   "cell_type": "code",
   "execution_count": 7,
   "metadata": {},
   "outputs": [],
   "source": [
    "# Generate random permutation indices\n",
    "random_indices_2 = np.random.permutation(len(ALL_X_TEST_DATA))\n",
    "\n",
    "# Shuffle the input features and target labels using the random indices\n",
    "shuffled_X_TEST_DATA = ALL_X_TEST_DATA[random_indices_2]\n",
    "shuffled_Y_TEST_DATA = ALL_Y_TEST_DATA[random_indices_2]"
   ]
  },
  {
   "cell_type": "code",
   "execution_count": 8,
   "metadata": {},
   "outputs": [
    {
     "name": "stdout",
     "output_type": "stream",
     "text": [
      "Model: \"sequential\"\n",
      "_________________________________________________________________\n",
      " Layer (type)                Output Shape              Param #   \n",
      "=================================================================\n",
      " dense (Dense)               (None, 8)                 24        \n",
      "                                                                 \n",
      " dense_1 (Dense)             (None, 4)                 36        \n",
      "                                                                 \n",
      " dense_2 (Dense)             (None, 4)                 20        \n",
      "                                                                 \n",
      "=================================================================\n",
      "Total params: 80\n",
      "Trainable params: 80\n",
      "Non-trainable params: 0\n",
      "_________________________________________________________________\n"
     ]
    }
   ],
   "source": [
    "model2_motion = Sequential()\n",
    "model2_motion.add(InputLayer((2)))\n",
    "model2_motion.add(Dense(8, activation='relu'))\n",
    "model2_motion.add(Dense(4, activation='relu'))\n",
    "model2_motion.add(Dense(len(CLASSICATIONS), activation='softmax'))\n",
    "\n",
    "model2_motion.summary()"
   ]
  },
  {
   "cell_type": "code",
   "execution_count": 9,
   "metadata": {},
   "outputs": [
    {
     "name": "stdout",
     "output_type": "stream",
     "text": [
      "Epoch 1/12\n",
      "3698/3698 [==============================] - 8s 2ms/step - loss: 0.6500 - acc: 0.7150 - val_loss: 0.3445 - val_acc: 0.8937\n",
      "Epoch 2/12\n",
      "3698/3698 [==============================] - 7s 2ms/step - loss: 0.4399 - acc: 0.8003 - val_loss: 0.3636 - val_acc: 0.8840\n",
      "Epoch 3/12\n",
      "3698/3698 [==============================] - 7s 2ms/step - loss: 0.4337 - acc: 0.8034 - val_loss: 0.3369 - val_acc: 0.8895\n",
      "Epoch 4/12\n",
      "3698/3698 [==============================] - 7s 2ms/step - loss: 0.4334 - acc: 0.8048 - val_loss: 0.3501 - val_acc: 0.8894\n",
      "Epoch 5/12\n",
      "3698/3698 [==============================] - 8s 2ms/step - loss: 0.4331 - acc: 0.8040 - val_loss: 0.3551 - val_acc: 0.8814\n",
      "Epoch 6/12\n",
      "3698/3698 [==============================] - 7s 2ms/step - loss: 0.4331 - acc: 0.8045 - val_loss: 0.3085 - val_acc: 0.8986\n",
      "Epoch 7/12\n",
      "3698/3698 [==============================] - 7s 2ms/step - loss: 0.4322 - acc: 0.8050 - val_loss: 0.3679 - val_acc: 0.8790\n",
      "Epoch 8/12\n",
      "3698/3698 [==============================] - 7s 2ms/step - loss: 0.4303 - acc: 0.8064 - val_loss: 0.3235 - val_acc: 0.8859\n",
      "Epoch 9/12\n",
      "3698/3698 [==============================] - 7s 2ms/step - loss: 0.4275 - acc: 0.8081 - val_loss: 0.3368 - val_acc: 0.8826\n",
      "Epoch 10/12\n",
      "3698/3698 [==============================] - 7s 2ms/step - loss: 0.4273 - acc: 0.8074 - val_loss: 0.3233 - val_acc: 0.8837\n",
      "Epoch 11/12\n",
      "3698/3698 [==============================] - 7s 2ms/step - loss: 0.4269 - acc: 0.8085 - val_loss: 0.3310 - val_acc: 0.8876\n",
      "Epoch 12/12\n",
      "3698/3698 [==============================] - 7s 2ms/step - loss: 0.4272 - acc: 0.8081 - val_loss: 0.3107 - val_acc: 0.8866\n"
     ]
    }
   ],
   "source": [
    "# Compile the model\n",
    "model2_motion.compile(optimizer='adam', loss='sparse_categorical_crossentropy', metrics=['acc'])\n",
    "\n",
    "history2_motion = model2_motion.fit(shuffled_X_TRAIN_DATA, shuffled_Y_TRAIN_DATA, validation_data=(shuffled_X_TEST_DATA, shuffled_Y_TEST_DATA), epochs=NUM_EPOCHS)\n",
    "\n",
    "# Save the model to a file\n",
    "model2_motion.save(MOTION_MODEL_SAVE_PATH)"
   ]
  }
 ],
 "metadata": {
  "kernelspec": {
   "display_name": "Python 3",
   "language": "python",
   "name": "python3"
  },
  "language_info": {
   "codemirror_mode": {
    "name": "ipython",
    "version": 3
   },
   "file_extension": ".py",
   "mimetype": "text/x-python",
   "name": "python",
   "nbconvert_exporter": "python",
   "pygments_lexer": "ipython3",
   "version": "3.11.2"
  },
  "orig_nbformat": 4
 },
 "nbformat": 4,
 "nbformat_minor": 2
}
