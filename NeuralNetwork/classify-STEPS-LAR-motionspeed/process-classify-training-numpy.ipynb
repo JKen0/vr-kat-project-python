{
 "cells": [
  {
   "cell_type": "code",
   "execution_count": 47,
   "metadata": {},
   "outputs": [],
   "source": [
    "import os\n",
    "import pandas as pd\n",
    "import numpy as np\n",
    "import json\n",
    "import sys"
   ]
  },
  {
   "cell_type": "code",
   "execution_count": 48,
   "metadata": {},
   "outputs": [],
   "source": [
    "# Get the current working directory\n",
    "CURRENT_DIRECTORY = os.getcwd()\n",
    "# Get the parent directory\n",
    "PARENT_DIRECTORY = os.path.dirname(CURRENT_DIRECTORY)\n",
    "PARENT_DIRECTORY = os.path.dirname(PARENT_DIRECTORY)\n",
    "\n",
    "sys.path.append(PARENT_DIRECTORY + '//config/')\n",
    "from config import count_sequences_above_threshold, count_sequences_below_threshold, normalize_sensor_data\n",
    "\n",
    "# Open the config file and load its content into a dictionary\n",
    "config_file = open(PARENT_DIRECTORY + '\\\\config\\\\config.json')\n",
    "CONFIG_DATA = json.load(config_file)\n",
    "\n",
    "# Close the file after loading the data\n",
    "config_file.close()"
   ]
  },
  {
   "cell_type": "code",
   "execution_count": 49,
   "metadata": {},
   "outputs": [],
   "source": [
    "NORMALIZE_SENSOR_DATA = CONFIG_DATA['NORMALIZE_SENSOR_DATA']\n",
    "WINDOW_SIZE = CONFIG_DATA['WINDOW_SIZE']\n",
    "NUMBER_OF_FEATURES = 8\n",
    "\n",
    "ROTATION_THRESHOLD = CONFIG_DATA['STEPS_PITCH_ROTATION_THRESHOLD'] if NORMALIZE_SENSOR_DATA == False else normalize_sensor_data(CONFIG_DATA['STEPS_PITCH_ROTATION_THRESHOLD'])\n",
    "\n",
    "CLASSIFICATIONS = CONFIG_DATA['CLASSES_MOTIONSPEED']\n",
    "\n",
    "LABEL_COLUMN = 'Class_MotionSpeed'\n",
    "\n",
    "# processed data folder path\n",
    "DATA_FOLDER = PARENT_DIRECTORY + '\\\\processed-training-data\\\\4-PROCESSED-DATA\\TRAIN2\\\\'\n",
    "\n",
    "# save numpy data folder\n",
    "NUMPY_DATA_FOLDER_FILE_PATH = PARENT_DIRECTORY + '\\\\NeuralNetwork\\\\np-saved-data\\\\'\n",
    "\n",
    "# v0 data (not normalized, use to generate more data)\n",
    "ALL_X_TRAIN_CLASSIFY_PATH = PARENT_DIRECTORY + '\\\\NeuralNetwork\\\\np-saved-data\\\\training\\\\ALL-X-TRAIN-CLASSIFY-MOTIONSPEED-LAR-STEPS-V0.npy'\n",
    "ALL_Y_TRAIN_CLASSIFY_PATH = PARENT_DIRECTORY + '\\\\NeuralNetwork\\\\np-saved-data\\\\training\\\\ALL-Y-TRAIN-CLASSIFY-MOTIONSPEED-LAR-STEPS-V0.npy'"
   ]
  },
  {
   "cell_type": "code",
   "execution_count": 50,
   "metadata": {},
   "outputs": [
    {
     "name": "stdout",
     "output_type": "stream",
     "text": [
      "{'SLOW': 0, 'AVERAGE': 1, 'FAST': 2}\n"
     ]
    }
   ],
   "source": [
    "LABEL_TO_CATEGORY = {label: category for category, label in enumerate(CLASSIFICATIONS)}\n",
    "\n",
    "print(LABEL_TO_CATEGORY)"
   ]
  },
  {
   "cell_type": "code",
   "execution_count": 51,
   "metadata": {},
   "outputs": [
    {
     "name": "stdout",
     "output_type": "stream",
     "text": [
      "['PROC-TRAIN2-STEPS-LR-LAR-100BPM.xlsx', 'PROC-TRAIN2-STEPS-LR-LAR-110BPM.xlsx', 'PROC-TRAIN2-STEPS-LR-LAR-112BPM.xlsx', 'PROC-TRAIN2-STEPS-LR-LAR-120BPM-AUGMENT.xlsx', 'PROC-TRAIN2-STEPS-LR-LAR-124BPM-AUGMENT.xlsx', 'PROC-TRAIN2-STEPS-LR-LAR-160BPM-AUGMENT.xlsx', 'PROC-TRAIN2-STEPS-LR-LAR-164BPM-AUGMENT.xlsx', 'PROC-TRAIN2-STEPS-LR-LAR-196BPM-AUGMENT.xlsx', 'PROC-TRAIN2-STEPS-LR-LAR-200BPM-AUGMENT.xlsx', 'PROC-TRAIN2-STEPS-LR-LAR-220BPM-AUGMENT.xlsx', 'PROC-TRAIN2-STEPS-LR-LAR-224BPM-AUGMENT.xlsx', 'PROC-TRAIN2-STEPS-LR-LAR-30BPM-AUGMENT.xlsx', 'PROC-TRAIN2-STEPS-LR-LAR-31BPM-AUGMENT.xlsx', 'PROC-TRAIN2-STEPS-LR-LAR-40BPM-AUGMENT.xlsx', 'PROC-TRAIN2-STEPS-LR-LAR-41BPM-AUGMENT.xlsx', 'PROC-TRAIN2-STEPS-LR-LAR-49BPM-AUGMENT.xlsx', 'PROC-TRAIN2-STEPS-LR-LAR-50BPM-AUGMENT.xlsx', 'PROC-TRAIN2-STEPS-LR-LAR-55BPM-AUGMENT.xlsx', 'PROC-TRAIN2-STEPS-LR-LAR-56BPM-AUGMENT.xlsx', 'PROC-TRAIN2-STEPS-LR-LAR-60BPM.xlsx', 'PROC-TRAIN2-STEPS-LR-LAR-62BPM.xlsx', 'PROC-TRAIN2-STEPS-LR-LAR-80BPM.xlsx', 'PROC-TRAIN2-STEPS-LR-LAR-82BPM.xlsx', 'PROC-TRAIN2-STEPS-LR-LAR-98BPM.xlsx']\n"
     ]
    }
   ],
   "source": [
    "file_names = [file for file in os.listdir(DATA_FOLDER) if file.endswith('.xlsx') and \"STEPS-LR-LAR\" in file and os.path.isfile(os.path.join(DATA_FOLDER, file))]\n",
    "\n",
    "print(file_names)"
   ]
  },
  {
   "cell_type": "code",
   "execution_count": 55,
   "metadata": {},
   "outputs": [],
   "source": [
    "def df2Xy(df, windowSize=5):\n",
    "  X = []\n",
    "  y = []\n",
    "\n",
    "  # NORMALIZE THE SENSOR DATA\n",
    "  if NORMALIZE_SENSOR_DATA == True:\n",
    "    df[\"L_Pitch\"] = df[\"L_Pitch\"].apply(normalize_sensor_data)\n",
    "    df[\"L_Roll\"] = df[\"L_Roll\"].apply(normalize_sensor_data)\n",
    "    df[\"R_Pitch\"] = df[\"R_Pitch\"].apply(normalize_sensor_data)\n",
    "    df[\"R_Roll\"] = df[\"R_Roll\"].apply(normalize_sensor_data)\n",
    "    df[\"L_Pitch_Delta\"] = df[\"L_Pitch_Delta\"].apply(normalize_sensor_data)\n",
    "    df[\"L_Roll_Delta\"] = df[\"L_Roll_Delta\"].apply(normalize_sensor_data)\n",
    "    df[\"R_Pitch_Delta\"] = df[\"R_Pitch_Delta\"].apply(normalize_sensor_data)\n",
    "    df[\"R_Roll_Delta\"] = df[\"R_Roll_Delta\"].apply(normalize_sensor_data)\n",
    "\n",
    "  for i in range( len(df) - windowSize + 1):\n",
    "    # inputs: X rows\n",
    "    # form a new input which has size of our windowSize\n",
    "    input_data_list_deltas = []\n",
    "    input_data_list_readings = []\n",
    "\n",
    "    # loop through each row in our windowsize\n",
    "    for j in range(windowSize):\n",
    "        # fetch sensor data for this row\n",
    "        row_values_deltas = df.loc[i + j, ['L_Pitch_Delta', 'L_Roll_Delta', 'R_Pitch_Delta', 'R_Roll_Delta']].values.tolist()\n",
    "        row_values_readings = df.loc[i + j, ['L_Pitch', 'L_Roll', 'R_Pitch', 'R_Roll']].values.tolist()\n",
    "\n",
    "        # add row values to the input\n",
    "        input_data_list_deltas.append(row_values_deltas)\n",
    "        input_data_list_readings.append(row_values_readings)\n",
    "\n",
    "    # turnn list into array to do arthimetic\n",
    "    raw_sensor_data = np.array(input_data_list_readings)\n",
    "    delta_sensor_data = np.array(input_data_list_deltas)\n",
    "\n",
    "    # remove all negative sinces we want to the total change (we dont care which direction)\n",
    "    input_calculate_deltas = np.abs(delta_sensor_data)\n",
    "\n",
    "    # calculate the total change for each sennsor value (TOTAL POSITIVE SENSOR CHANGES)\n",
    "    input_calculate_deltas = np.sum(input_calculate_deltas, axis=0)\n",
    "\n",
    "    # calculate total sequences\n",
    "    input_total_sequences = count_sequences_above_threshold(raw_sensor_data, ROTATION_THRESHOLD)\n",
    "\n",
    "    input_data_array = np.concatenate((input_calculate_deltas, input_total_sequences))\n",
    "\n",
    "    if(np.isnan(input_data_array).any() == False):\n",
    "      # turn back to list\n",
    "      input_data_list = input_data_array.tolist()\n",
    "\n",
    "      # add our input to our total inputs, marked as X\n",
    "      X.append(input_data_list)\n",
    "\n",
    "      # outputs: y labels\n",
    "      label = df.loc[i + (windowSize - 1), [LABEL_COLUMN]].values.tolist()\n",
    "\n",
    "      y.append(label)\n",
    "\n",
    "  return (np.array(X), np.array(y))"
   ]
  },
  {
   "cell_type": "code",
   "execution_count": 56,
   "metadata": {},
   "outputs": [],
   "source": [
    "ALL_X_TRAIN = np.empty((0, NUMBER_OF_FEATURES))  # List to store all X training data\n",
    "ALL_Y_TRAIN = np.empty((0))  # List to store all Y training data"
   ]
  },
  {
   "cell_type": "code",
   "execution_count": 57,
   "metadata": {},
   "outputs": [],
   "source": [
    "def processData(ALL_X, ALL_Y):\n",
    "    for fileName in file_names:\n",
    "        # Read the Excel file\n",
    "        df = pd.read_excel(DATA_FOLDER + fileName)\n",
    "\n",
    "        xTrain, yTrain = df2Xy(df, WINDOW_SIZE)\n",
    "\n",
    "        yTrain = yTrain.reshape(-1)\n",
    "        \n",
    "        ALL_X = np.concatenate([ALL_X, xTrain])\n",
    "        ALL_Y = np.concatenate([ALL_Y, yTrain])\n",
    "        \n",
    "        print('xTrain.shape:', xTrain.shape)\n",
    "        print('ALL_X_TRAIN.shape:', ALL_X.shape, ' ALL_Y_TRAIN.shape:', ALL_Y.shape)\n",
    "        print('-------------------------------')\n",
    "\n",
    "    # Create the folder if it doesn't exist\n",
    "    if not os.path.exists(NUMPY_DATA_FOLDER_FILE_PATH):\n",
    "        os.makedirs(NUMPY_DATA_FOLDER_FILE_PATH)\n",
    "\n",
    "    # convert to numerical labels (originally text labels)\n",
    "    numerical_label = np.vectorize(LABEL_TO_CATEGORY.get)(ALL_Y)\n",
    "\n",
    "    # Assuming your numpy array is called 'data_array'\n",
    "    np.save(ALL_X_TRAIN_CLASSIFY_PATH, ALL_X)\n",
    "    np.save(ALL_Y_TRAIN_CLASSIFY_PATH, numerical_label)"
   ]
  },
  {
   "cell_type": "code",
   "execution_count": 58,
   "metadata": {},
   "outputs": [
    {
     "name": "stdout",
     "output_type": "stream",
     "text": [
      "xTrain.shape: (3381, 8)\n",
      "ALL_X_TRAIN.shape: (3381, 8)  ALL_Y_TRAIN.shape: (3381,)\n",
      "-------------------------------\n",
      "xTrain.shape: (3274, 8)\n",
      "ALL_X_TRAIN.shape: (6655, 8)  ALL_Y_TRAIN.shape: (6655,)\n",
      "-------------------------------\n",
      "xTrain.shape: (4560, 8)\n",
      "ALL_X_TRAIN.shape: (11215, 8)  ALL_Y_TRAIN.shape: (11215,)\n",
      "-------------------------------\n",
      "xTrain.shape: (3772, 8)\n",
      "ALL_X_TRAIN.shape: (14987, 8)  ALL_Y_TRAIN.shape: (14987,)\n",
      "-------------------------------\n",
      "xTrain.shape: (3180, 8)\n",
      "ALL_X_TRAIN.shape: (18167, 8)  ALL_Y_TRAIN.shape: (18167,)\n",
      "-------------------------------\n",
      "xTrain.shape: (3071, 8)\n",
      "ALL_X_TRAIN.shape: (21238, 8)  ALL_Y_TRAIN.shape: (21238,)\n",
      "-------------------------------\n",
      "xTrain.shape: (4504, 8)\n",
      "ALL_X_TRAIN.shape: (25742, 8)  ALL_Y_TRAIN.shape: (25742,)\n",
      "-------------------------------\n",
      "xTrain.shape: (3795, 8)\n",
      "ALL_X_TRAIN.shape: (29537, 8)  ALL_Y_TRAIN.shape: (29537,)\n",
      "-------------------------------\n",
      "xTrain.shape: (3380, 8)\n",
      "ALL_X_TRAIN.shape: (32917, 8)  ALL_Y_TRAIN.shape: (32917,)\n",
      "-------------------------------\n",
      "xTrain.shape: (3273, 8)\n",
      "ALL_X_TRAIN.shape: (36190, 8)  ALL_Y_TRAIN.shape: (36190,)\n",
      "-------------------------------\n",
      "xTrain.shape: (4559, 8)\n",
      "ALL_X_TRAIN.shape: (40749, 8)  ALL_Y_TRAIN.shape: (40749,)\n",
      "-------------------------------\n",
      "xTrain.shape: (7564, 8)\n",
      "ALL_X_TRAIN.shape: (48313, 8)  ALL_Y_TRAIN.shape: (48313,)\n",
      "-------------------------------\n",
      "xTrain.shape: (6381, 8)\n",
      "ALL_X_TRAIN.shape: (54694, 8)  ALL_Y_TRAIN.shape: (54694,)\n",
      "-------------------------------\n",
      "xTrain.shape: (6163, 8)\n",
      "ALL_X_TRAIN.shape: (60857, 8)  ALL_Y_TRAIN.shape: (60857,)\n",
      "-------------------------------\n",
      "xTrain.shape: (9029, 8)\n",
      "ALL_X_TRAIN.shape: (69886, 8)  ALL_Y_TRAIN.shape: (69886,)\n",
      "-------------------------------\n",
      "xTrain.shape: (7612, 8)\n",
      "ALL_X_TRAIN.shape: (77498, 8)  ALL_Y_TRAIN.shape: (77498,)\n",
      "-------------------------------\n",
      "xTrain.shape: (6781, 8)\n",
      "ALL_X_TRAIN.shape: (84279, 8)  ALL_Y_TRAIN.shape: (84279,)\n",
      "-------------------------------\n",
      "xTrain.shape: (6567, 8)\n",
      "ALL_X_TRAIN.shape: (90846, 8)  ALL_Y_TRAIN.shape: (90846,)\n",
      "-------------------------------\n",
      "xTrain.shape: (9139, 8)\n",
      "ALL_X_TRAIN.shape: (99985, 8)  ALL_Y_TRAIN.shape: (99985,)\n",
      "-------------------------------\n",
      "xTrain.shape: (3773, 8)\n",
      "ALL_X_TRAIN.shape: (103758, 8)  ALL_Y_TRAIN.shape: (103758,)\n",
      "-------------------------------\n",
      "xTrain.shape: (3181, 8)\n",
      "ALL_X_TRAIN.shape: (106939, 8)  ALL_Y_TRAIN.shape: (106939,)\n",
      "-------------------------------\n",
      "xTrain.shape: (3072, 8)\n",
      "ALL_X_TRAIN.shape: (110011, 8)  ALL_Y_TRAIN.shape: (110011,)\n",
      "-------------------------------\n",
      "xTrain.shape: (4505, 8)\n",
      "ALL_X_TRAIN.shape: (114516, 8)  ALL_Y_TRAIN.shape: (114516,)\n",
      "-------------------------------\n",
      "xTrain.shape: (3796, 8)\n",
      "ALL_X_TRAIN.shape: (118312, 8)  ALL_Y_TRAIN.shape: (118312,)\n",
      "-------------------------------\n",
      "(118312, 8)\n",
      "(118312,)\n"
     ]
    }
   ],
   "source": [
    "processData(ALL_X_TRAIN, ALL_Y_TRAIN)\n",
    "\n",
    "ALL_X_TRAIN_CLASSIFY = np.load(ALL_X_TRAIN_CLASSIFY_PATH)\n",
    "ALL_Y_TRAIN_CLASSIFY = np.load(ALL_Y_TRAIN_CLASSIFY_PATH)\n",
    "\n",
    "print(ALL_X_TRAIN_CLASSIFY.shape)\n",
    "print(ALL_Y_TRAIN_CLASSIFY.shape)"
   ]
  },
  {
   "cell_type": "code",
   "execution_count": 59,
   "metadata": {},
   "outputs": [
    {
     "name": "stdout",
     "output_type": "stream",
     "text": [
      "227.0\n"
     ]
    }
   ],
   "source": [
    "print(np.max(ALL_X_TRAIN_CLASSIFY))"
   ]
  }
 ],
 "metadata": {
  "kernelspec": {
   "display_name": "Python 3",
   "language": "python",
   "name": "python3"
  },
  "language_info": {
   "codemirror_mode": {
    "name": "ipython",
    "version": 3
   },
   "file_extension": ".py",
   "mimetype": "text/x-python",
   "name": "python",
   "nbconvert_exporter": "python",
   "pygments_lexer": "ipython3",
   "version": "3.11.2"
  },
  "orig_nbformat": 4
 },
 "nbformat": 4,
 "nbformat_minor": 2
}
