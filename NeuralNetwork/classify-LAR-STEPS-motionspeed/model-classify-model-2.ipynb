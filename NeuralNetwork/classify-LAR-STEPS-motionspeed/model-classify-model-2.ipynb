{
 "cells": [
  {
   "cell_type": "code",
   "execution_count": 17,
   "metadata": {},
   "outputs": [],
   "source": [
    "import os\n",
    "import numpy as np\n",
    "from tensorflow.keras.models import Sequential\n",
    "from tensorflow.keras.layers import Dense, InputLayer, Flatten"
   ]
  },
  {
   "cell_type": "code",
   "execution_count": 18,
   "metadata": {},
   "outputs": [],
   "source": [
    "WINDOW_SIZE = 25\n",
    "NUMBER_OF_FEATURES = 4\n",
    "\n",
    "NUM_EPOCHS = 12\n",
    "\n",
    "CLASSICATIONS = ['SLOW', 'AVERAGE', 'FAST']\n",
    "\n",
    "# Get the current working directory\n",
    "CURRENT_DIRECTORY = os.getcwd()\n",
    "# Get the parent directory\n",
    "PARENT_DIRECTORY = os.path.dirname(CURRENT_DIRECTORY)\n",
    "PARENT_DIRECTORY = os.path.dirname(PARENT_DIRECTORY)\n",
    "\n",
    "ALL_X_TRAINING_DATA_PATH = PARENT_DIRECTORY + '\\\\NeuralNetwork\\\\np-saved-data\\\\training\\\\ALL-X-TRAIN-CLASSIFY-MOTIONSPEED-LAR-STEPS-V0.npy'\n",
    "ALL_Y_TRAINING_DATA_PATH = PARENT_DIRECTORY + '\\\\NeuralNetwork\\\\np-saved-data\\\\training\\\\ALL-Y-TRAIN-CLASSIFY-MOTIONSPEED-LAR-STEPS-V0.npy'\n",
    "\n",
    "ALL_X_TEST_DATA_PATH = PARENT_DIRECTORY + '\\\\NeuralNetwork\\\\np-saved-data\\\\test\\\\ALL-X-TEST-CLASSIFY-MOTIONSPEED-LAR-STEPS-V0.npy'\n",
    "ALL_Y_TEST_DATA_PATH = PARENT_DIRECTORY + '\\\\NeuralNetwork\\\\np-saved-data\\\\test\\\\ALL-Y-TEST-CLASSIFY-MOTIONSPEED-LAR-STEPS-V0.npy'\n",
    "\n",
    "MOTION_MODEL_SAVE_PATH =  PARENT_DIRECTORY + '\\\\NeuralNetwork\\\\models\\\\standard-backprop-motionspeed-lar-steps-2.h5'"
   ]
  },
  {
   "cell_type": "code",
   "execution_count": 19,
   "metadata": {},
   "outputs": [
    {
     "name": "stdout",
     "output_type": "stream",
     "text": [
      "(118312, 4)\n",
      "(118312,)\n",
      "(71925, 4)\n",
      "(71925,)\n"
     ]
    }
   ],
   "source": [
    "ALL_X_TRAIN_DATA = np.load(ALL_X_TRAINING_DATA_PATH)\n",
    "ALL_Y_TRAIN_DATA = np.load(ALL_Y_TRAINING_DATA_PATH)\n",
    "\n",
    "ALL_X_TEST_DATA = np.load(ALL_X_TEST_DATA_PATH)\n",
    "ALL_Y_TEST_DATA = np.load(ALL_Y_TEST_DATA_PATH)\n",
    "\n",
    "\n",
    "print(ALL_X_TRAIN_DATA.shape)\n",
    "print(ALL_Y_TRAIN_DATA.shape)\n",
    "\n",
    "print(ALL_X_TEST_DATA.shape)\n",
    "print(ALL_Y_TEST_DATA.shape)"
   ]
  },
  {
   "cell_type": "code",
   "execution_count": 20,
   "metadata": {},
   "outputs": [],
   "source": [
    "# Generate random permutation indices\n",
    "random_indices_1 = np.random.permutation(len(ALL_X_TRAIN_DATA))\n",
    "\n",
    "\n",
    "# Shuffle the input features and target labels using the random indices\n",
    "shuffled_X_TRAIN_DATA = ALL_X_TRAIN_DATA[random_indices_1]\n",
    "shuffled_Y_TRAIN_DATA = ALL_Y_TRAIN_DATA[random_indices_1]"
   ]
  },
  {
   "cell_type": "code",
   "execution_count": 21,
   "metadata": {},
   "outputs": [],
   "source": [
    "# Generate random permutation indices\n",
    "random_indices_2 = np.random.permutation(len(ALL_X_TEST_DATA))\n",
    "\n",
    "# Shuffle the input features and target labels using the random indices\n",
    "shuffled_X_TEST_DATA = ALL_X_TEST_DATA[random_indices_2]\n",
    "shuffled_Y_TEST_DATA = ALL_Y_TEST_DATA[random_indices_2]"
   ]
  },
  {
   "cell_type": "code",
   "execution_count": 22,
   "metadata": {},
   "outputs": [
    {
     "name": "stdout",
     "output_type": "stream",
     "text": [
      "Model: \"sequential_3\"\n",
      "_________________________________________________________________\n",
      " Layer (type)                Output Shape              Param #   \n",
      "=================================================================\n",
      " flatten_3 (Flatten)         (None, 4)                 0         \n",
      "                                                                 \n",
      " dense_7 (Dense)             (None, 16)                80        \n",
      "                                                                 \n",
      " dense_8 (Dense)             (None, 3)                 51        \n",
      "                                                                 \n",
      "=================================================================\n",
      "Total params: 131\n",
      "Trainable params: 131\n",
      "Non-trainable params: 0\n",
      "_________________________________________________________________\n"
     ]
    }
   ],
   "source": [
    "model2_motion = Sequential()\n",
    "model2_motion.add(InputLayer((NUMBER_OF_FEATURES)))\n",
    "model2_motion.add(Flatten())\n",
    "model2_motion.add(Dense(16, activation='relu'))\n",
    "model2_motion.add(Dense(len(CLASSICATIONS), activation='softmax'))\n",
    "\n",
    "model2_motion.summary()"
   ]
  },
  {
   "cell_type": "code",
   "execution_count": 23,
   "metadata": {},
   "outputs": [
    {
     "name": "stdout",
     "output_type": "stream",
     "text": [
      "Epoch 1/12\n"
     ]
    },
    {
     "name": "stdout",
     "output_type": "stream",
     "text": [
      "3698/3698 [==============================] - 6s 1ms/step - loss: 0.7161 - acc: 0.7744 - val_loss: 0.6121 - val_acc: 0.6995\n",
      "Epoch 2/12\n",
      "3698/3698 [==============================] - 5s 1ms/step - loss: 0.3853 - acc: 0.8330 - val_loss: 0.5262 - val_acc: 0.7524\n",
      "Epoch 3/12\n",
      "3698/3698 [==============================] - 5s 1ms/step - loss: 0.3792 - acc: 0.8328 - val_loss: 0.6212 - val_acc: 0.7256\n",
      "Epoch 4/12\n",
      "3698/3698 [==============================] - 5s 1ms/step - loss: 0.3778 - acc: 0.8344 - val_loss: 0.5624 - val_acc: 0.7415\n",
      "Epoch 5/12\n",
      "3698/3698 [==============================] - 5s 1ms/step - loss: 0.3772 - acc: 0.8349 - val_loss: 0.5134 - val_acc: 0.7416\n",
      "Epoch 6/12\n",
      "3698/3698 [==============================] - 5s 1ms/step - loss: 0.3762 - acc: 0.8347 - val_loss: 0.5861 - val_acc: 0.7163\n",
      "Epoch 7/12\n",
      "3698/3698 [==============================] - 5s 1ms/step - loss: 0.3751 - acc: 0.8351 - val_loss: 0.4895 - val_acc: 0.7745\n",
      "Epoch 8/12\n",
      "3698/3698 [==============================] - 5s 1ms/step - loss: 0.3740 - acc: 0.8359 - val_loss: 0.5462 - val_acc: 0.7538\n",
      "Epoch 9/12\n",
      "3698/3698 [==============================] - 5s 1ms/step - loss: 0.3739 - acc: 0.8357 - val_loss: 0.5858 - val_acc: 0.7191\n",
      "Epoch 10/12\n",
      "3698/3698 [==============================] - 5s 1ms/step - loss: 0.3729 - acc: 0.8365 - val_loss: 0.5600 - val_acc: 0.7373\n",
      "Epoch 11/12\n",
      "3698/3698 [==============================] - 5s 1ms/step - loss: 0.3722 - acc: 0.8359 - val_loss: 0.5714 - val_acc: 0.7241\n",
      "Epoch 12/12\n",
      "3698/3698 [==============================] - 5s 1ms/step - loss: 0.3720 - acc: 0.8367 - val_loss: 0.5403 - val_acc: 0.7643\n"
     ]
    }
   ],
   "source": [
    "# Compile the model\n",
    "model2_motion.compile(optimizer='adam', loss='sparse_categorical_crossentropy', metrics=['acc'])\n",
    "\n",
    "history2_motion = model2_motion.fit(shuffled_X_TRAIN_DATA, shuffled_Y_TRAIN_DATA, validation_data=(shuffled_X_TEST_DATA, shuffled_Y_TEST_DATA), epochs=NUM_EPOCHS)\n",
    "\n",
    "# Save the model to a file\n",
    "model2_motion.save(MOTION_MODEL_SAVE_PATH)"
   ]
  }
 ],
 "metadata": {
  "kernelspec": {
   "display_name": "Python 3",
   "language": "python",
   "name": "python3"
  },
  "language_info": {
   "codemirror_mode": {
    "name": "ipython",
    "version": 3
   },
   "file_extension": ".py",
   "mimetype": "text/x-python",
   "name": "python",
   "nbconvert_exporter": "python",
   "pygments_lexer": "ipython3",
   "version": "3.11.2"
  },
  "orig_nbformat": 4
 },
 "nbformat": 4,
 "nbformat_minor": 2
}
