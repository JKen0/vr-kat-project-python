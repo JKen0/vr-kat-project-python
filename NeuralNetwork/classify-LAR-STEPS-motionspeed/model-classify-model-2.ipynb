{
 "cells": [
  {
   "cell_type": "code",
   "execution_count": 4,
   "metadata": {},
   "outputs": [],
   "source": [
    "import os\n",
    "import numpy as np\n",
    "import json\n",
    "from tensorflow.keras.models import Sequential\n",
    "from tensorflow.keras.layers import Dense, InputLayer, Flatten"
   ]
  },
  {
   "cell_type": "code",
   "execution_count": 5,
   "metadata": {},
   "outputs": [
    {
     "data": {
      "text/plain": [
       "{'WINDOW_SIZE': 25,\n",
       " 'NUMBER_OF_FEATURES': 4,\n",
       " 'STEPS_UPPER_BOUND_SLOW_BPM': 41,\n",
       " 'STEPS_UPPER_BOUND_AVERAGE_BPM': 91,\n",
       " 'WALK_UPPER_BOUND_SLOW_BPM': 41,\n",
       " 'WALK_UPPER_BOUND_AVERAGE_BPM': 91,\n",
       " 'SIDESTEPS_UPPER_BOUND_SLOW_BPM': 41,\n",
       " 'SIDESTEPS_UPPER_BOUND_AVERAGE_BPM': 91,\n",
       " 'CLASSES_MOTION': ['STAND', 'STEPS'],\n",
       " 'CLASSES_MOTIONTYPE': ['LAR', 'SML'],\n",
       " 'CLASSES_MOTIONSPEED': ['SLOW', 'AVERAGE', 'FAST']}"
      ]
     },
     "execution_count": 5,
     "metadata": {},
     "output_type": "execute_result"
    }
   ],
   "source": [
    "# Get the current working directory\n",
    "CURRENT_DIRECTORY = os.getcwd()\n",
    "# Get the parent directory\n",
    "PARENT_DIRECTORY = os.path.dirname(CURRENT_DIRECTORY)\n",
    "PARENT_DIRECTORY = os.path.dirname(PARENT_DIRECTORY)\n",
    "\n",
    "# Open the config file and load its content into a dictionary\n",
    "config_file = open(PARENT_DIRECTORY + '\\\\config\\\\config.json')\n",
    "CONFIG_DATA = json.load(config_file)\n",
    "\n",
    "# Close the file after loading the data\n",
    "config_file.close()"
   ]
  },
  {
   "cell_type": "code",
   "execution_count": 2,
   "metadata": {},
   "outputs": [],
   "source": [
    "WINDOW_SIZE = CONFIG_DATA['WINDOW_SIZE']\n",
    "NUMBER_OF_FEATURES = 4\n",
    "\n",
    "NUM_EPOCHS = 12\n",
    "\n",
    "CLASSICATIONS = CONFIG_DATA['CLASSES_MOTION']\n",
    "\n",
    "ALL_X_TRAINING_DATA_PATH = PARENT_DIRECTORY + '\\\\NeuralNetwork\\\\np-saved-data\\\\training\\\\ALL-X-TRAIN-CLASSIFY-MOTIONSPEED-LAR-STEPS-V0.npy'\n",
    "ALL_Y_TRAINING_DATA_PATH = PARENT_DIRECTORY + '\\\\NeuralNetwork\\\\np-saved-data\\\\training\\\\ALL-Y-TRAIN-CLASSIFY-MOTIONSPEED-LAR-STEPS-V0.npy'\n",
    "\n",
    "ALL_X_TEST_DATA_PATH = PARENT_DIRECTORY + '\\\\NeuralNetwork\\\\np-saved-data\\\\test\\\\ALL-X-TEST-CLASSIFY-MOTIONSPEED-LAR-STEPS-V0.npy'\n",
    "ALL_Y_TEST_DATA_PATH = PARENT_DIRECTORY + '\\\\NeuralNetwork\\\\np-saved-data\\\\test\\\\ALL-Y-TEST-CLASSIFY-MOTIONSPEED-LAR-STEPS-V0.npy'\n",
    "\n",
    "MOTION_MODEL_SAVE_PATH =  PARENT_DIRECTORY + '\\\\NeuralNetwork\\\\models\\\\standard-backprop-motionspeed-lar-steps-2.h5'"
   ]
  },
  {
   "cell_type": "code",
   "execution_count": 3,
   "metadata": {},
   "outputs": [
    {
     "name": "stdout",
     "output_type": "stream",
     "text": [
      "(118312,)\n",
      "(118312,)\n",
      "(71925,)\n",
      "(71925,)\n"
     ]
    }
   ],
   "source": [
    "ALL_X_TRAIN_DATA = np.load(ALL_X_TRAINING_DATA_PATH)\n",
    "ALL_Y_TRAIN_DATA = np.load(ALL_Y_TRAINING_DATA_PATH)\n",
    "\n",
    "ALL_X_TEST_DATA = np.load(ALL_X_TEST_DATA_PATH)\n",
    "ALL_Y_TEST_DATA = np.load(ALL_Y_TEST_DATA_PATH)\n",
    "\n",
    "ALL_X_TRAIN_DATA = ALL_X_TRAIN_DATA[:, [0,2]]\n",
    "ALL_X_TEST_DATA = ALL_X_TEST_DATA[:, [0,2]]\n",
    "\n",
    "ALL_X_TRAIN_DATA = np.sum(ALL_X_TRAIN_DATA, axis=1)\n",
    "ALL_X_TEST_DATA = np.sum(ALL_X_TEST_DATA, axis=1)\n",
    "\n",
    "print(ALL_X_TRAIN_DATA.shape)\n",
    "print(ALL_Y_TRAIN_DATA.shape)\n",
    "\n",
    "print(ALL_X_TEST_DATA.shape)\n",
    "print(ALL_Y_TEST_DATA.shape)"
   ]
  },
  {
   "cell_type": "code",
   "execution_count": 4,
   "metadata": {},
   "outputs": [],
   "source": [
    "# Generate random permutation indices\n",
    "random_indices_1 = np.random.permutation(len(ALL_X_TRAIN_DATA))\n",
    "\n",
    "\n",
    "# Shuffle the input features and target labels using the random indices\n",
    "shuffled_X_TRAIN_DATA = ALL_X_TRAIN_DATA[random_indices_1]\n",
    "shuffled_Y_TRAIN_DATA = ALL_Y_TRAIN_DATA[random_indices_1]"
   ]
  },
  {
   "cell_type": "code",
   "execution_count": 5,
   "metadata": {},
   "outputs": [],
   "source": [
    "# Generate random permutation indices\n",
    "random_indices_2 = np.random.permutation(len(ALL_X_TEST_DATA))\n",
    "\n",
    "# Shuffle the input features and target labels using the random indices\n",
    "shuffled_X_TEST_DATA = ALL_X_TEST_DATA[random_indices_2]\n",
    "shuffled_Y_TEST_DATA = ALL_Y_TEST_DATA[random_indices_2]"
   ]
  },
  {
   "cell_type": "code",
   "execution_count": 6,
   "metadata": {},
   "outputs": [
    {
     "name": "stdout",
     "output_type": "stream",
     "text": [
      "Model: \"sequential\"\n",
      "_________________________________________________________________\n",
      " Layer (type)                Output Shape              Param #   \n",
      "=================================================================\n",
      " dense (Dense)               (None, 8)                 16        \n",
      "                                                                 \n",
      " dense_1 (Dense)             (None, 3)                 27        \n",
      "                                                                 \n",
      "=================================================================\n",
      "Total params: 43\n",
      "Trainable params: 43\n",
      "Non-trainable params: 0\n",
      "_________________________________________________________________\n"
     ]
    }
   ],
   "source": [
    "model2_motion = Sequential()\n",
    "model2_motion.add(InputLayer((1)))\n",
    "model2_motion.add(Dense(4, activation='relu'))\n",
    "model2_motion.add(Dense(len(CLASSICATIONS), activation='softmax'))\n",
    "\n",
    "model2_motion.summary()"
   ]
  },
  {
   "cell_type": "code",
   "execution_count": 7,
   "metadata": {},
   "outputs": [
    {
     "name": "stdout",
     "output_type": "stream",
     "text": [
      "Epoch 1/12\n",
      "3698/3698 [==============================] - 9s 2ms/step - loss: 0.6734 - acc: 0.7436 - val_loss: 0.3586 - val_acc: 0.8866\n",
      "Epoch 2/12\n",
      "3698/3698 [==============================] - 8s 2ms/step - loss: 0.4589 - acc: 0.7889 - val_loss: 0.3454 - val_acc: 0.8778\n",
      "Epoch 3/12\n",
      "3698/3698 [==============================] - 8s 2ms/step - loss: 0.4529 - acc: 0.7902 - val_loss: 0.3532 - val_acc: 0.8825\n",
      "Epoch 4/12\n",
      "3698/3698 [==============================] - 8s 2ms/step - loss: 0.4512 - acc: 0.7898 - val_loss: 0.3814 - val_acc: 0.8754\n",
      "Epoch 5/12\n",
      "3698/3698 [==============================] - 7s 2ms/step - loss: 0.4507 - acc: 0.7910 - val_loss: 0.3399 - val_acc: 0.8858\n",
      "Epoch 6/12\n",
      "3698/3698 [==============================] - 7s 2ms/step - loss: 0.4500 - acc: 0.7913 - val_loss: 0.3796 - val_acc: 0.8782\n",
      "Epoch 7/12\n",
      "3698/3698 [==============================] - 9s 2ms/step - loss: 0.4504 - acc: 0.7908 - val_loss: 0.3882 - val_acc: 0.8776\n",
      "Epoch 8/12\n",
      "3698/3698 [==============================] - 7s 2ms/step - loss: 0.4497 - acc: 0.7916 - val_loss: 0.3824 - val_acc: 0.8701\n",
      "Epoch 9/12\n",
      "3698/3698 [==============================] - 7s 2ms/step - loss: 0.4491 - acc: 0.7916 - val_loss: 0.4020 - val_acc: 0.8673\n",
      "Epoch 10/12\n",
      "3698/3698 [==============================] - 9s 2ms/step - loss: 0.4494 - acc: 0.7914 - val_loss: 0.3305 - val_acc: 0.8858\n",
      "Epoch 11/12\n",
      "3698/3698 [==============================] - 7s 2ms/step - loss: 0.4493 - acc: 0.7911 - val_loss: 0.3493 - val_acc: 0.8844\n",
      "Epoch 12/12\n",
      "3698/3698 [==============================] - 7s 2ms/step - loss: 0.4484 - acc: 0.7920 - val_loss: 0.3696 - val_acc: 0.8764\n"
     ]
    }
   ],
   "source": [
    "# Compile the model\n",
    "model2_motion.compile(optimizer='adam', loss='sparse_categorical_crossentropy', metrics=['acc'])\n",
    "\n",
    "history2_motion = model2_motion.fit(shuffled_X_TRAIN_DATA, shuffled_Y_TRAIN_DATA, validation_data=(shuffled_X_TEST_DATA, shuffled_Y_TEST_DATA), epochs=NUM_EPOCHS)\n",
    "\n",
    "# Save the model to a file\n",
    "model2_motion.save(MOTION_MODEL_SAVE_PATH)"
   ]
  }
 ],
 "metadata": {
  "kernelspec": {
   "display_name": "Python 3",
   "language": "python",
   "name": "python3"
  },
  "language_info": {
   "codemirror_mode": {
    "name": "ipython",
    "version": 3
   },
   "file_extension": ".py",
   "mimetype": "text/x-python",
   "name": "python",
   "nbconvert_exporter": "python",
   "pygments_lexer": "ipython3",
   "version": "3.11.2"
  },
  "orig_nbformat": 4
 },
 "nbformat": 4,
 "nbformat_minor": 2
}
