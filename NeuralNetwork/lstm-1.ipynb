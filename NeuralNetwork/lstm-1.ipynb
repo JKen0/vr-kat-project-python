{
 "cells": [
  {
   "cell_type": "code",
   "execution_count": 7,
   "metadata": {},
   "outputs": [],
   "source": [
    "import os\n",
    "import numpy as np\n",
    "from tensorflow.keras.models import Sequential\n",
    "from tensorflow.keras.layers import LSTM, Dense, InputLayer, Dropout\n",
    "from tensorflow.keras.callbacks import ModelCheckpoint\n",
    "from tensorflow.keras.losses import MeanSquaredError\n",
    "from tensorflow.keras.metrics import RootMeanSquaredError\n",
    "from tensorflow.keras.optimizers import Adam"
   ]
  },
  {
   "cell_type": "code",
   "execution_count": 9,
   "metadata": {},
   "outputs": [],
   "source": [
    "WINDOW_SIZE = 25\n",
    "NUMBER_OF_FEATURES = 6\n",
    "NUMBER_OF_CLASSES = 2\n",
    "\n",
    "# Get the current working directory\n",
    "CURRENT_DIRECTORY = os.getcwd()\n",
    "\n",
    "ALL_X_TRAINING_DATA_PATH = CURRENT_DIRECTORY + '\\\\np-saved-data\\\\training\\\\ALL-X-TRAIN-CURRVEL-V1.npy'\n",
    "ALL_Y_TRAINING_DATA_PATH = CURRENT_DIRECTORY + '\\\\np-saved-data\\\\training\\\\ALL-Y-TRAIN-CURRVEL-V1.npy'\n",
    "\n",
    "ALL_X_TEST_DATA_PATH = CURRENT_DIRECTORY + '\\\\np-saved-data\\\\test\\\\ALL-X-TEST-CURRVEL-V1.npy'\n",
    "ALL_Y_TEST_DATA_PATH = CURRENT_DIRECTORY + '\\\\np-saved-data\\\\test\\\\ALL-Y-TEST-CURRVEL-V1.npy'\n",
    "\n",
    "MODEL_SAVE_PATH =  CURRENT_DIRECTORY + '\\\\models\\\\lstm-1.h5'"
   ]
  },
  {
   "cell_type": "code",
   "execution_count": 10,
   "metadata": {},
   "outputs": [
    {
     "name": "stdout",
     "output_type": "stream",
     "text": [
      "(229679, 10, 6)\n",
      "(128545, 10, 6)\n"
     ]
    }
   ],
   "source": [
    "ALL_X_TRAIN_DATA = np.load(ALL_X_TRAINING_DATA_PATH)\n",
    "ALL_Y_TRAIN_DATA = np.load(ALL_Y_TRAINING_DATA_PATH)\n",
    "\n",
    "ALL_X_TEST_DATA = np.load(ALL_X_TEST_DATA_PATH)\n",
    "ALL_Y_TEST_DATA = np.load(ALL_Y_TEST_DATA_PATH)\n",
    "\n",
    "\n",
    "print(ALL_X_TRAIN_DATA.shape)\n",
    "print(ALL_X_TEST_DATA.shape)"
   ]
  },
  {
   "cell_type": "code",
   "execution_count": 11,
   "metadata": {},
   "outputs": [],
   "source": [
    "# Generate random permutation indices\n",
    "random_indices_1 = np.random.permutation(len(ALL_X_TRAIN_DATA))\n",
    "\n",
    "\n",
    "# Shuffle the input features and target labels using the random indices\n",
    "shuffled_X_TRAIN_DATA = ALL_X_TRAIN_DATA[random_indices_1]\n",
    "shuffled_Y_TRAIN_DATA = ALL_Y_TRAIN_DATA[random_indices_1]"
   ]
  },
  {
   "cell_type": "code",
   "execution_count": 12,
   "metadata": {},
   "outputs": [],
   "source": [
    "# Generate random permutation indices\n",
    "random_indices_2 = np.random.permutation(len(ALL_X_TEST_DATA))\n",
    "\n",
    "\n",
    "# Shuffle the input features and target labels using the random indices\n",
    "shuffled_X_TEST_DATA = ALL_X_TEST_DATA[random_indices_2]\n",
    "shuffled_Y_TEST_DATA = ALL_Y_TEST_DATA[random_indices_2]"
   ]
  },
  {
   "cell_type": "code",
   "execution_count": 14,
   "metadata": {},
   "outputs": [
    {
     "name": "stdout",
     "output_type": "stream",
     "text": [
      "Model: \"sequential_1\"\n",
      "_________________________________________________________________\n",
      " Layer (type)                Output Shape              Param #   \n",
      "=================================================================\n",
      " lstm_1 (LSTM)               (None, 128)               69120     \n",
      "                                                                 \n",
      " dropout_1 (Dropout)         (None, 128)               0         \n",
      "                                                                 \n",
      " dense_3 (Dense)             (None, 16)                2064      \n",
      "                                                                 \n",
      " dense_4 (Dense)             (None, 2)                 34        \n",
      "                                                                 \n",
      "=================================================================\n",
      "Total params: 71,218\n",
      "Trainable params: 71,218\n",
      "Non-trainable params: 0\n",
      "_________________________________________________________________\n"
     ]
    }
   ],
   "source": [
    "model2 = Sequential()\n",
    "model2.add(InputLayer((WINDOW_SIZE, NUMBER_OF_FEATURES)))\n",
    "model2.add(LSTM(128))\n",
    "model2.add(Dropout(0.2))\n",
    "model2.add(Dense(16, 'relu'))\n",
    "model2.add(Dense(NUMBER_OF_CLASSES, 'linear'))\n",
    "\n",
    "model2.summary()"
   ]
  },
  {
   "cell_type": "code",
   "execution_count": 15,
   "metadata": {},
   "outputs": [],
   "source": [
    "model2.compile(loss=MeanSquaredError(), optimizer=Adam(learning_rate=0.0001), metrics=['acc']) #metrics=[RootMeanSquaredError()])"
   ]
  },
  {
   "cell_type": "code",
   "execution_count": 17,
   "metadata": {},
   "outputs": [
    {
     "name": "stdout",
     "output_type": "stream",
     "text": [
      "Epoch 1/20\n",
      "7178/7178 [==============================] - 48s 7ms/step - loss: 3.3740e-04 - acc: 1.0000 - val_loss: 1.3114e-06 - val_acc: 1.0000\n",
      "Epoch 2/20\n",
      "7178/7178 [==============================] - 49s 7ms/step - loss: 2.6110e-05 - acc: 1.0000 - val_loss: 2.1315e-07 - val_acc: 1.0000\n",
      "Epoch 3/20\n",
      "7178/7178 [==============================] - 47s 7ms/step - loss: 2.7550e-07 - acc: 1.0000 - val_loss: 3.8979e-09 - val_acc: 1.0000\n",
      "Epoch 4/20\n",
      "7178/7178 [==============================] - 47s 7ms/step - loss: 7.6651e-09 - acc: 1.0000 - val_loss: 1.0301e-09 - val_acc: 1.0000\n",
      "Epoch 5/20\n",
      "7178/7178 [==============================] - 46s 6ms/step - loss: 1.0312e-09 - acc: 1.0000 - val_loss: 1.3160e-09 - val_acc: 1.0000\n",
      "Epoch 6/20\n",
      "7178/7178 [==============================] - 46s 6ms/step - loss: 4.3741e-10 - acc: 1.0000 - val_loss: 1.0442e-09 - val_acc: 1.0000\n",
      "Epoch 7/20\n",
      "7178/7178 [==============================] - 47s 6ms/step - loss: 3.6142e-10 - acc: 1.0000 - val_loss: 1.6853e-10 - val_acc: 1.0000\n",
      "Epoch 8/20\n",
      "7178/7178 [==============================] - 47s 7ms/step - loss: 3.4504e-10 - acc: 1.0000 - val_loss: 2.6104e-10 - val_acc: 1.0000\n",
      "Epoch 9/20\n",
      "7178/7178 [==============================] - 46s 6ms/step - loss: 3.7979e-10 - acc: 1.0000 - val_loss: 1.0565e-10 - val_acc: 1.0000\n",
      "Epoch 10/20\n",
      "7178/7178 [==============================] - 46s 6ms/step - loss: 3.2698e-10 - acc: 1.0000 - val_loss: 2.9053e-11 - val_acc: 1.0000\n",
      "Epoch 11/20\n",
      "7178/7178 [==============================] - 46s 6ms/step - loss: 3.1726e-10 - acc: 1.0000 - val_loss: 4.5165e-11 - val_acc: 1.0000\n",
      "Epoch 12/20\n",
      "7178/7178 [==============================] - 42s 6ms/step - loss: 2.8862e-10 - acc: 1.0000 - val_loss: 9.7920e-11 - val_acc: 1.0000\n",
      "Epoch 13/20\n",
      "7178/7178 [==============================] - 42s 6ms/step - loss: 3.0096e-10 - acc: 1.0000 - val_loss: 8.7108e-11 - val_acc: 1.0000\n",
      "Epoch 14/20\n",
      "7178/7178 [==============================] - 42s 6ms/step - loss: 2.8185e-10 - acc: 1.0000 - val_loss: 1.2249e-11 - val_acc: 1.0000\n",
      "Epoch 15/20\n",
      "7178/7178 [==============================] - 42s 6ms/step - loss: 2.7350e-10 - acc: 1.0000 - val_loss: 4.2610e-11 - val_acc: 1.0000\n",
      "Epoch 16/20\n",
      "7178/7178 [==============================] - 43s 6ms/step - loss: 2.5991e-10 - acc: 1.0000 - val_loss: 1.2126e-10 - val_acc: 1.0000\n",
      "Epoch 17/20\n",
      "7178/7178 [==============================] - 44s 6ms/step - loss: 2.5131e-10 - acc: 1.0000 - val_loss: 2.1968e-10 - val_acc: 1.0000\n",
      "Epoch 18/20\n",
      "7178/7178 [==============================] - 46s 6ms/step - loss: 2.5124e-10 - acc: 1.0000 - val_loss: 4.7543e-11 - val_acc: 1.0000\n",
      "Epoch 19/20\n",
      "7178/7178 [==============================] - 46s 6ms/step - loss: 2.4240e-10 - acc: 1.0000 - val_loss: 6.9110e-10 - val_acc: 1.0000\n",
      "Epoch 20/20\n",
      "7178/7178 [==============================] - 48s 7ms/step - loss: 2.4528e-10 - acc: 1.0000 - val_loss: 8.5415e-11 - val_acc: 1.0000\n"
     ]
    }
   ],
   "source": [
    "history2 = model2.fit(shuffled_X_TRAIN_DATA, shuffled_Y_TRAIN_DATA, validation_data=(shuffled_X_TEST_DATA, shuffled_Y_TEST_DATA), epochs=20)\n",
    "\n",
    "# Save the model to a file\n",
    "model2.save(MODEL_SAVE_PATH)"
   ]
  }
 ],
 "metadata": {
  "kernelspec": {
   "display_name": "Python 3",
   "language": "python",
   "name": "python3"
  },
  "language_info": {
   "codemirror_mode": {
    "name": "ipython",
    "version": 3
   },
   "file_extension": ".py",
   "mimetype": "text/x-python",
   "name": "python",
   "nbconvert_exporter": "python",
   "pygments_lexer": "ipython3",
   "version": "3.11.3"
  },
  "orig_nbformat": 4
 },
 "nbformat": 4,
 "nbformat_minor": 2
}
