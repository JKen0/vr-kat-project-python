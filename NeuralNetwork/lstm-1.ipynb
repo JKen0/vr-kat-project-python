{
 "cells": [
  {
   "cell_type": "code",
   "execution_count": 35,
   "metadata": {},
   "outputs": [],
   "source": [
    "import os\n",
    "import pandas as pd\n",
    "import numpy as np\n",
    "from tensorflow.keras.models import Sequential\n",
    "from tensorflow.keras.layers import LSTM, Dense, InputLayer\n",
    "from tensorflow.keras.callbacks import ModelCheckpoint\n",
    "from tensorflow.keras.losses import MeanSquaredError\n",
    "from tensorflow.keras.metrics import RootMeanSquaredError\n",
    "from tensorflow.keras.optimizers import Adam"
   ]
  },
  {
   "cell_type": "code",
   "execution_count": 36,
   "metadata": {},
   "outputs": [],
   "source": [
    "WINDOW_SIZE = 10\n",
    "NUMBER_OF_FEATURES = 6\n",
    "NUMBER_OF_CLASSES = 3\n",
    "DATA_FOLDER = 'C:\\Dev\\\\vr-kat-project-python-2\\processed-training-data\\\\4-PROCESSED-DATA\\TRAIN2\\\\'\n",
    "\n",
    "\n",
    "ALL_X_TRAIN_CURRVEL_FILE_PATH = 'C:\\\\Dev\\\\vr-kat-project-python-2\\\\NeuralNetwork\\\\np-saved-data\\\\ALL-X-TRAIN-CURRVEL.npy'\n",
    "ALL_Y_TRAIN_CURRVEL_FILE_PATH = 'C:\\\\Dev\\\\vr-kat-project-python-2\\\\NeuralNetwork\\\\np-saved-data\\\\ALL-Y-TRAIN-CURRVEL.npy'\n",
    "\n",
    "ALL_X_TRAIN_ALLVEL_FILE_PATH = 'C:\\\\Dev\\\\vr-kat-project-python-2\\\\NeuralNetwork\\\\np-saved-data\\\\ALL-X-TRAIN-ALLVEL.npy'\n",
    "ALL_Y_TRAIN_ALLVEL_FILE_PATH = 'C:\\\\Dev\\\\vr-kat-project-python-2\\\\NeuralNetwork\\\\np-saved-data\\\\ALL-Y-TRAIN-ALLVEL.npy'\n",
    "\n"
   ]
  },
  {
   "cell_type": "code",
   "execution_count": 38,
   "metadata": {},
   "outputs": [
    {
     "name": "stdout",
     "output_type": "stream",
     "text": [
      "['PROC-TRAIN2-SIDESTEPS-L-LAR-120BPM-AUGMENT.xlsx', 'PROC-TRAIN2-SIDESTEPS-L-LAR-160BPM-AUGMENT.xlsx', 'PROC-TRAIN2-SIDESTEPS-L-LAR-30BPM-AUGMENT.xlsx', 'PROC-TRAIN2-SIDESTEPS-L-LAR-40BPM-AUGMENT.xlsx', 'PROC-TRAIN2-SIDESTEPS-L-LAR-60BPM.xlsx', 'PROC-TRAIN2-SIDESTEPS-L-LAR-80BPM.xlsx', 'PROC-TRAIN2-SIDESTEPS-L-MED-110BPM.xlsx', 'PROC-TRAIN2-SIDESTEPS-L-MED-160BPM-AUGMENT.xlsx', 'PROC-TRAIN2-SIDESTEPS-L-MED-220BPM-AUGMENT.xlsx', 'PROC-TRAIN2-SIDESTEPS-L-MED-40BPM-AUGMENT.xlsx', 'PROC-TRAIN2-SIDESTEPS-L-MED-55BPM-AUGMENT.xlsx', 'PROC-TRAIN2-SIDESTEPS-L-MED-80BPM.xlsx', 'PROC-TRAIN2-SIDESTEPS-R-LAR-120BPM-AUGMENT.xlsx', 'PROC-TRAIN2-SIDESTEPS-R-LAR-160BPM-AUGMENT.xlsx', 'PROC-TRAIN2-SIDESTEPS-R-LAR-30BPM-AUGMENT.xlsx', 'PROC-TRAIN2-SIDESTEPS-R-LAR-40BPM-AUGMENT.xlsx', 'PROC-TRAIN2-SIDESTEPS-R-LAR-60BPM.xlsx', 'PROC-TRAIN2-SIDESTEPS-R-LAR-80BPM.xlsx', 'PROC-TRAIN2-SIDESTEPS-R-MED-110BPM.xlsx', 'PROC-TRAIN2-SIDESTEPS-R-MED-160BPM-AUGMENT.xlsx', 'PROC-TRAIN2-SIDESTEPS-R-MED-220BPM-AUGMENT.xlsx', 'PROC-TRAIN2-SIDESTEPS-R-MED-40BPM-AUGMENT.xlsx', 'PROC-TRAIN2-SIDESTEPS-R-MED-55BPM-AUGMENT.xlsx', 'PROC-TRAIN2-SIDESTEPS-R-MED-80BPM.xlsx', 'PROC-TRAIN2-STAND1.xlsx', 'PROC-TRAIN2-STAND2.xlsx', 'PROC-TRAIN2-STAND3.xlsx', 'PROC-TRAIN2-STEPS-LR-LAR-100BPM.xlsx', 'PROC-TRAIN2-STEPS-LR-LAR-110BPM.xlsx', 'PROC-TRAIN2-STEPS-LR-LAR-120BPM-AUGMENT.xlsx', 'PROC-TRAIN2-STEPS-LR-LAR-160BPM-AUGMENT.xlsx', 'PROC-TRAIN2-STEPS-LR-LAR-200BPM-AUGMENT.xlsx', 'PROC-TRAIN2-STEPS-LR-LAR-220BPM-AUGMENT.xlsx', 'PROC-TRAIN2-STEPS-LR-LAR-30BPM-AUGMENT.xlsx', 'PROC-TRAIN2-STEPS-LR-LAR-40BPM-AUGMENT.xlsx', 'PROC-TRAIN2-STEPS-LR-LAR-50BPM-AUGMENT.xlsx', 'PROC-TRAIN2-STEPS-LR-LAR-55BPM-AUGMENT.xlsx', 'PROC-TRAIN2-STEPS-LR-LAR-60BPM.xlsx', 'PROC-TRAIN2-STEPS-LR-LAR-80BPM.xlsx', 'PROC-TRAIN2-STEPS-LR-MED-100BPM.xlsx', 'PROC-TRAIN2-STEPS-LR-MED-110BPM.xlsx', 'PROC-TRAIN2-STEPS-LR-MED-120BPM-AUGMENT.xlsx', 'PROC-TRAIN2-STEPS-LR-MED-160BPM-AUGMENT.xlsx', 'PROC-TRAIN2-STEPS-LR-MED-200BPM-AUGMENT.xlsx', 'PROC-TRAIN2-STEPS-LR-MED-220BPM-AUGMENT.xlsx', 'PROC-TRAIN2-STEPS-LR-MED-30BPM-AUGMENT.xlsx', 'PROC-TRAIN2-STEPS-LR-MED-40BPM-AUGMENT.xlsx', 'PROC-TRAIN2-STEPS-LR-MED-50BPM-AUGMENT.xlsx', 'PROC-TRAIN2-STEPS-LR-MED-55BPM-AUGMENT.xlsx', 'PROC-TRAIN2-STEPS-LR-MED-60BPM.xlsx', 'PROC-TRAIN2-STEPS-LR-MED-80BPM.xlsx']\n"
     ]
    }
   ],
   "source": [
    "file_names = [file for file in os.listdir(DATA_FOLDER) if file.endswith('.xlsx') and os.path.isfile(os.path.join(DATA_FOLDER, file))]\n",
    "\n",
    "# TEMP LIMITER REMOVE WHEN READY\n",
    "#file_names = [file_names[20]]\n",
    "\n",
    "print(file_names)"
   ]
  },
  {
   "cell_type": "code",
   "execution_count": 39,
   "metadata": {},
   "outputs": [],
   "source": [
    "def normalizeSensorData(sensor_input):\n",
    "    if(sensor_input < 0):\n",
    "        return np.abs(sensor_input/180)\n",
    "    else:\n",
    "        return 0.5 + np.abs(sensor_input/180)\n",
    "\n",
    "def normalizeXVelocity(velocity_input):\n",
    "    if(velocity_input < 0):\n",
    "        return np.abs(velocity_input/10)\n",
    "    else:\n",
    "        return 0.5 + np.abs(velocity_input/10)\n",
    "    \n",
    "def normalizeZVelocity(velocity_input):\n",
    "    return np.abs(velocity_input/10)\n"
   ]
  },
  {
   "cell_type": "code",
   "execution_count": 40,
   "metadata": {},
   "outputs": [],
   "source": [
    "def df2Xy(df, windowSize=5, fetchAllSpeed=False):\n",
    "  X, y = [], []\n",
    "\n",
    "\n",
    "  for i in range( len(df) - windowSize ):\n",
    "    # inputs: X rows\n",
    "    # form a new input which has size of our windowSize\n",
    "    input = []\n",
    "\n",
    "    # loop through each row in our windowsize\n",
    "    for j in range(windowSize):\n",
    "        # fetch sensor data for this row\n",
    "        row_values = df.loc[i + j, ['L_Pitch', 'L_Roll', 'R_Pitch', 'R_Roll']].values.tolist()\n",
    "        \n",
    "        # If j is the last element, fetch X_Vel and Z_Vel\n",
    "        if (j == windowSize - 1) or (fetchAllSpeed == True):\n",
    "            row_values.extend(df.loc[i + j, ['X_Vel', 'Z_Vel']].values.tolist())\n",
    "        else:\n",
    "            # Fill columns 5 and 6 with zeros\n",
    "            row_values.extend([0.0, 0.0])\n",
    "\n",
    "        # add row values to the input\n",
    "        input.append(row_values)\n",
    "\n",
    "    # add our input to our total inputs, marked as X\n",
    "    X.append(input)\n",
    "\n",
    "\n",
    "    # outputs: y labels\n",
    "    label = df.loc[i + windowSize, ['X_Vel_Positive', 'X_Vel_Negative', 'Z_Vel']].values.tolist()\n",
    "\n",
    "    y.append(label)\n",
    "\n",
    "\n",
    "  return (np.array(X), np.array(y))"
   ]
  },
  {
   "cell_type": "code",
   "execution_count": 49,
   "metadata": {},
   "outputs": [],
   "source": [
    "ALL_X_TRAIN_CURRVEL = np.empty((0, WINDOW_SIZE, NUMBER_OF_FEATURES))  # List to store all X training data\n",
    "ALL_Y_TRAIN_CURRVEL = np.empty((0, NUMBER_OF_CLASSES))  # List to store all Y training data\n",
    "\n",
    "ALL_X_TRAIN_ALLVEL = np.empty((0, WINDOW_SIZE, NUMBER_OF_FEATURES))  # List to store all X training data\n",
    "ALL_Y_TRAIN_ALLVEL = np.empty((0, NUMBER_OF_CLASSES))  # List to store all Y training data"
   ]
  },
  {
   "cell_type": "code",
   "execution_count": 52,
   "metadata": {},
   "outputs": [],
   "source": [
    "def processData(ALL_X_TRAIN_CURRVEL, ALL_Y_TRAIN_CURRVEL, ALL_X_TRAIN_ALLVEL, ALL_Y_TRAIN_ALLVEL):\n",
    "    for fileName in file_names:\n",
    "        # Read the Excel file\n",
    "        df = pd.read_excel(DATA_FOLDER + fileName)\n",
    "\n",
    "        # NORMALIZE THE SENSOR DATA\n",
    "        df[\"L_Pitch\"] = df[\"L_Pitch\"].apply(normalizeSensorData)\n",
    "        df[\"L_Roll\"] = df[\"L_Roll\"].apply(normalizeSensorData)\n",
    "        df[\"R_Pitch\"] = df[\"R_Pitch\"].apply(normalizeSensorData)\n",
    "        df[\"R_Roll\"] = df[\"R_Roll\"].apply(normalizeSensorData)\n",
    "        df[\"X_Vel\"] = df[\"X_Vel\"].apply(normalizeXVelocity)\n",
    "        df[\"Z_Vel\"] = df[\"Z_Vel\"].apply(normalizeZVelocity)\n",
    "\n",
    "        # CREATE NEW COLUMNS FOR Z VELOCITY (POSITIVE AND NEGATIVE)\n",
    "        df['X_Vel_Positive'] = df['X_Vel'].mask(df['X_Vel'] < 0, 0)\n",
    "        df['X_Vel_Negative'] = -1*df['X_Vel'].mask(df['X_Vel'] >= 0, 0)\n",
    "\n",
    "\n",
    "        xTrain_CurrVel, yTrain_CurrVel = df2Xy(df, WINDOW_SIZE, False)\n",
    "        xTrain_AllVel, yTrain_AllVel = df2Xy(df, WINDOW_SIZE, True)\n",
    "\n",
    "        ALL_X_TRAIN_CURRVEL = np.concatenate([ALL_X_TRAIN_CURRVEL, xTrain_CurrVel])\n",
    "        ALL_Y_TRAIN_CURRVEL = np.concatenate([ALL_Y_TRAIN_CURRVEL, yTrain_CurrVel])\n",
    "\n",
    "        ALL_X_TRAIN_ALLVEL = np.concatenate([ALL_X_TRAIN_ALLVEL, xTrain_AllVel])\n",
    "        ALL_Y_TRAIN_ALLVEL = np.concatenate([ALL_Y_TRAIN_ALLVEL, yTrain_AllVel])\n",
    "\n",
    "        \n",
    "        print('xTrain_CurrVel.shape:', xTrain_CurrVel.shape, ' xTrain_CurrVel.shape:', xTrain_CurrVel.shape)\n",
    "        print('ALL_X_TRAIN_CURRVEL.shape:', ALL_X_TRAIN_CURRVEL.shape, ' ALL_Y_TRAIN_CURRVEL.shape:', ALL_Y_TRAIN_CURRVEL.shape)\n",
    "        print('-------------------------------')\n",
    "\n",
    "    # Assuming your numpy array is called 'data_array'\n",
    "    np.save(ALL_X_TRAIN_CURRVEL_FILE_PATH, ALL_X_TRAIN_CURRVEL)\n",
    "    np.save(ALL_Y_TRAIN_CURRVEL_FILE_PATH, ALL_Y_TRAIN_CURRVEL)\n",
    "    np.save(ALL_X_TRAIN_ALLVEL_FILE_PATH, ALL_X_TRAIN_ALLVEL)\n",
    "    np.save(ALL_Y_TRAIN_ALLVEL_FILE_PATH, ALL_Y_TRAIN_ALLVEL)\n"
   ]
  },
  {
   "cell_type": "code",
   "execution_count": 51,
   "metadata": {},
   "outputs": [
    {
     "ename": "UnboundLocalError",
     "evalue": "cannot access local variable 'ALL_X_TRAIN_CURRVEL' where it is not associated with a value",
     "output_type": "error",
     "traceback": [
      "\u001b[1;31m---------------------------------------------------------------------------\u001b[0m",
      "\u001b[1;31mUnboundLocalError\u001b[0m                         Traceback (most recent call last)",
      "Cell \u001b[1;32mIn[51], line 7\u001b[0m\n\u001b[0;32m      5\u001b[0m     ALL_Y_TRAIN_ALLVEL \u001b[39m=\u001b[39m data_array \u001b[39m=\u001b[39m np\u001b[39m.\u001b[39mload(ALL_Y_TRAIN_ALLVEL_FILE_PATH)\n\u001b[0;32m      6\u001b[0m \u001b[39melse\u001b[39;00m:\n\u001b[1;32m----> 7\u001b[0m     processData()\n",
      "Cell \u001b[1;32mIn[50], line 22\u001b[0m, in \u001b[0;36mprocessData\u001b[1;34m()\u001b[0m\n\u001b[0;32m     19\u001b[0m xTrain_CurrVel, yTrain_CurrVel \u001b[39m=\u001b[39m df2Xy(df, WINDOW_SIZE, \u001b[39mFalse\u001b[39;00m)\n\u001b[0;32m     20\u001b[0m xTrain_AllVel, yTrain_AllVel \u001b[39m=\u001b[39m df2Xy(df, WINDOW_SIZE, \u001b[39mTrue\u001b[39;00m)\n\u001b[1;32m---> 22\u001b[0m ALL_X_TRAIN_CURRVEL \u001b[39m=\u001b[39m np\u001b[39m.\u001b[39mconcatenate([ALL_X_TRAIN_CURRVEL, xTrain_CurrVel])\n\u001b[0;32m     23\u001b[0m ALL_Y_TRAIN_CURRVEL \u001b[39m=\u001b[39m np\u001b[39m.\u001b[39mconcatenate([ALL_Y_TRAIN_CURRVEL, yTrain_CurrVel])\n\u001b[0;32m     25\u001b[0m ALL_X_TRAIN_ALLVEL \u001b[39m=\u001b[39m np\u001b[39m.\u001b[39mconcatenate([ALL_X_TRAIN_ALLVEL, xTrain_AllVel])\n",
      "\u001b[1;31mUnboundLocalError\u001b[0m: cannot access local variable 'ALL_X_TRAIN_CURRVEL' where it is not associated with a value"
     ]
    }
   ],
   "source": [
    "if os.path.exists(ALL_X_TRAIN_CURRVEL_FILE_PATH):\n",
    "    ALL_X_TRAIN_CURRVEL = data_array = np.load(ALL_X_TRAIN_CURRVEL_FILE_PATH)\n",
    "    ALL_Y_TRAIN_CURRVEL = data_array = np.load(ALL_Y_TRAIN_CURRVEL_FILE_PATH)\n",
    "    ALL_X_TRAIN_ALLVEL = data_array = np.load(ALL_X_TRAIN_ALLVEL_FILE_PATH)\n",
    "    ALL_Y_TRAIN_ALLVEL = data_array = np.load(ALL_Y_TRAIN_ALLVEL_FILE_PATH)\n",
    "else:\n",
    "    processData(ALL_X_TRAIN_CURRVEL, ALL_Y_TRAIN_CURRVEL, ALL_X_TRAIN_ALLVEL, ALL_Y_TRAIN_ALLVEL)\n"
   ]
  },
  {
   "cell_type": "code",
   "execution_count": 45,
   "metadata": {},
   "outputs": [
    {
     "name": "stdout",
     "output_type": "stream",
     "text": [
      "[]\n"
     ]
    }
   ],
   "source": [
    "# Generate random permutation indices\n",
    "random_indices_1 = np.random.permutation(len(ALL_X_TRAIN_CURRVEL))\n",
    "\n",
    "# Shuffle the input features and target labels using the random indices\n",
    "shuffled_X_TRAIN_CURR_VEL = ALL_X_TRAIN_CURRVEL[random_indices_1]\n",
    "shuffled_Y_TRAIN_CURR_VEL = ALL_Y_TRAIN_CURRVEL[random_indices_1]\n",
    "\n",
    "shuffled_X_TRAIN_ALL_VEL = ALL_X_TRAIN_ALLVEL[random_indices_1]\n",
    "shuffled_Y_TRAIN_ALL_VEL = ALL_Y_TRAIN_ALLVEL[random_indices_1]\n",
    "\n",
    "print(shuffled_X_TRAIN_CURR_VEL)"
   ]
  },
  {
   "cell_type": "code",
   "execution_count": null,
   "metadata": {},
   "outputs": [],
   "source": [
    "\n",
    "shuffled_X_TRAIN_ALL_VEL = ALL_X_TRAIN_ALLVEL[random_indices_2]\n",
    "shuffled_Y_TRAIN_ALL_VEL = ALL_Y_TRAIN_ALLVEL[random_indices_2]"
   ]
  },
  {
   "cell_type": "code",
   "execution_count": 14,
   "metadata": {},
   "outputs": [
    {
     "name": "stdout",
     "output_type": "stream",
     "text": [
      "Model: \"sequential\"\n",
      "_________________________________________________________________\n",
      " Layer (type)                Output Shape              Param #   \n",
      "=================================================================\n",
      " lstm (LSTM)                 (None, 128)               68096     \n",
      "                                                                 \n",
      " dense (Dense)               (None, 16)                2064      \n",
      "                                                                 \n",
      " dense_1 (Dense)             (None, 8)                 136       \n",
      "                                                                 \n",
      " dense_2 (Dense)             (None, 3)                 27        \n",
      "                                                                 \n",
      "=================================================================\n",
      "Total params: 70,323\n",
      "Trainable params: 70,323\n",
      "Non-trainable params: 0\n",
      "_________________________________________________________________\n"
     ]
    }
   ],
   "source": [
    "model2 = Sequential()\n",
    "model2.add(InputLayer((WINDOW_SIZE, NUMBER_OF_FEATURES)))\n",
    "model2.add(LSTM(128))\n",
    "model2.add(Dense(16, 'relu'))\n",
    "model2.add(Dense(8, 'relu'))\n",
    "model2.add(Dense(NUMBER_OF_CLASSES, 'relu'))\n",
    "\n",
    "model2.summary()"
   ]
  },
  {
   "cell_type": "code",
   "execution_count": 47,
   "metadata": {},
   "outputs": [],
   "source": [
    "cp2 = ModelCheckpoint('model2/', save_best_only=True)\n",
    "model2.compile(loss=MeanSquaredError(), optimizer=Adam(learning_rate=0.0001), metrics=['acc']) #metrics=[RootMeanSquaredError()])"
   ]
  },
  {
   "cell_type": "code",
   "execution_count": 48,
   "metadata": {},
   "outputs": [
    {
     "name": "stdout",
     "output_type": "stream",
     "text": [
      "Epoch 1/50\n",
      "4049/4052 [============================>.] - ETA: 0s - loss: 0.1996 - acc: 0.9480WARNING:tensorflow:Can save best model only with val_loss available, skipping.\n",
      "4052/4052 [==============================] - 35s 8ms/step - loss: 0.1995 - acc: 0.9480\n",
      "Epoch 2/50\n",
      "4049/4052 [============================>.] - ETA: 0s - loss: 0.1902 - acc: 0.9583WARNING:tensorflow:Can save best model only with val_loss available, skipping.\n",
      "4052/4052 [==============================] - 37s 9ms/step - loss: 0.1902 - acc: 0.9583\n",
      "Epoch 3/50\n",
      "4048/4052 [============================>.] - ETA: 0s - loss: 0.1890 - acc: 0.9625WARNING:tensorflow:Can save best model only with val_loss available, skipping.\n",
      "4052/4052 [==============================] - 37s 9ms/step - loss: 0.1890 - acc: 0.9625\n",
      "Epoch 4/50\n",
      "4048/4052 [============================>.] - ETA: 0s - loss: 0.1885 - acc: 0.9625WARNING:tensorflow:Can save best model only with val_loss available, skipping.\n",
      "4052/4052 [==============================] - 37s 9ms/step - loss: 0.1885 - acc: 0.9625\n",
      "Epoch 5/50\n",
      "4047/4052 [============================>.] - ETA: 0s - loss: 0.1881 - acc: 0.9628WARNING:tensorflow:Can save best model only with val_loss available, skipping.\n",
      "4052/4052 [==============================] - 38s 9ms/step - loss: 0.1881 - acc: 0.9628\n",
      "Epoch 6/50\n",
      "4051/4052 [============================>.] - ETA: 0s - loss: 0.1874 - acc: 0.9637WARNING:tensorflow:Can save best model only with val_loss available, skipping.\n",
      "4052/4052 [==============================] - 34s 8ms/step - loss: 0.1874 - acc: 0.9637\n",
      "Epoch 7/50\n",
      "4052/4052 [==============================] - ETA: 0s - loss: 0.1845 - acc: 0.9615WARNING:tensorflow:Can save best model only with val_loss available, skipping.\n",
      "4052/4052 [==============================] - 37s 9ms/step - loss: 0.1845 - acc: 0.9615\n",
      "Epoch 8/50\n",
      "4047/4052 [============================>.] - ETA: 0s - loss: 0.1788 - acc: 0.9629WARNING:tensorflow:Can save best model only with val_loss available, skipping.\n",
      "4052/4052 [==============================] - 38s 9ms/step - loss: 0.1788 - acc: 0.9629\n",
      "Epoch 9/50\n",
      "4048/4052 [============================>.] - ETA: 0s - loss: 0.1767 - acc: 0.9625WARNING:tensorflow:Can save best model only with val_loss available, skipping.\n",
      "4052/4052 [==============================] - 41s 10ms/step - loss: 0.1767 - acc: 0.9624\n",
      "Epoch 10/50\n",
      "4048/4052 [============================>.] - ETA: 0s - loss: 0.1750 - acc: 0.9626WARNING:tensorflow:Can save best model only with val_loss available, skipping.\n",
      "4052/4052 [==============================] - 40s 10ms/step - loss: 0.1750 - acc: 0.9626\n",
      "Epoch 11/50\n",
      "4050/4052 [============================>.] - ETA: 0s - loss: 0.1726 - acc: 0.9629WARNING:tensorflow:Can save best model only with val_loss available, skipping.\n",
      "4052/4052 [==============================] - 35s 9ms/step - loss: 0.1726 - acc: 0.9629\n",
      "Epoch 12/50\n",
      "4052/4052 [==============================] - ETA: 0s - loss: 0.1685 - acc: 0.9629WARNING:tensorflow:Can save best model only with val_loss available, skipping.\n",
      "4052/4052 [==============================] - 36s 9ms/step - loss: 0.1685 - acc: 0.9629\n",
      "Epoch 13/50\n",
      "4050/4052 [============================>.] - ETA: 0s - loss: 0.1600 - acc: 0.9631WARNING:tensorflow:Can save best model only with val_loss available, skipping.\n",
      "4052/4052 [==============================] - 35s 9ms/step - loss: 0.1600 - acc: 0.9631\n",
      "Epoch 14/50\n",
      "4046/4052 [============================>.] - ETA: 0s - loss: 0.1361 - acc: 0.9629WARNING:tensorflow:Can save best model only with val_loss available, skipping.\n",
      "4052/4052 [==============================] - 37s 9ms/step - loss: 0.1361 - acc: 0.9630\n",
      "Epoch 15/50\n",
      "4047/4052 [============================>.] - ETA: 0s - loss: 0.1138 - acc: 0.9660WARNING:tensorflow:Can save best model only with val_loss available, skipping.\n",
      "4052/4052 [==============================] - 37s 9ms/step - loss: 0.1138 - acc: 0.9661\n",
      "Epoch 16/50\n",
      "4047/4052 [============================>.] - ETA: 0s - loss: 0.1016 - acc: 0.9663WARNING:tensorflow:Can save best model only with val_loss available, skipping.\n",
      "4052/4052 [==============================] - 39s 10ms/step - loss: 0.1015 - acc: 0.9664\n",
      "Epoch 17/50\n",
      "4050/4052 [============================>.] - ETA: 0s - loss: 0.0913 - acc: 0.9643WARNING:tensorflow:Can save best model only with val_loss available, skipping.\n",
      "4052/4052 [==============================] - 41s 10ms/step - loss: 0.0913 - acc: 0.9643\n",
      "Epoch 18/50\n",
      "4052/4052 [==============================] - ETA: 0s - loss: 0.0844 - acc: 0.9616WARNING:tensorflow:Can save best model only with val_loss available, skipping.\n",
      "4052/4052 [==============================] - 40s 10ms/step - loss: 0.0844 - acc: 0.9616\n",
      "Epoch 19/50\n",
      "4051/4052 [============================>.] - ETA: 0s - loss: 0.0784 - acc: 0.9634WARNING:tensorflow:Can save best model only with val_loss available, skipping.\n",
      "4052/4052 [==============================] - 43s 11ms/step - loss: 0.0784 - acc: 0.9634\n",
      "Epoch 20/50\n",
      "4052/4052 [==============================] - ETA: 0s - loss: 0.0705 - acc: 0.9658WARNING:tensorflow:Can save best model only with val_loss available, skipping.\n",
      "4052/4052 [==============================] - 37s 9ms/step - loss: 0.0705 - acc: 0.9658\n",
      "Epoch 21/50\n",
      "4047/4052 [============================>.] - ETA: 0s - loss: 0.0603 - acc: 0.9664WARNING:tensorflow:Can save best model only with val_loss available, skipping.\n",
      "4052/4052 [==============================] - 41s 10ms/step - loss: 0.0603 - acc: 0.9664\n",
      "Epoch 22/50\n",
      "4050/4052 [============================>.] - ETA: 0s - loss: 0.0540 - acc: 0.9667WARNING:tensorflow:Can save best model only with val_loss available, skipping.\n",
      "4052/4052 [==============================] - 40s 10ms/step - loss: 0.0540 - acc: 0.9667\n",
      "Epoch 23/50\n",
      "4049/4052 [============================>.] - ETA: 0s - loss: 0.0503 - acc: 0.9658WARNING:tensorflow:Can save best model only with val_loss available, skipping.\n",
      "4052/4052 [==============================] - 38s 9ms/step - loss: 0.0503 - acc: 0.9659\n",
      "Epoch 24/50\n",
      "4047/4052 [============================>.] - ETA: 0s - loss: 0.0480 - acc: 0.9650WARNING:tensorflow:Can save best model only with val_loss available, skipping.\n",
      "4052/4052 [==============================] - 41s 10ms/step - loss: 0.0480 - acc: 0.9650\n",
      "Epoch 25/50\n",
      "4046/4052 [============================>.] - ETA: 0s - loss: 0.0460 - acc: 0.9654WARNING:tensorflow:Can save best model only with val_loss available, skipping.\n",
      "4052/4052 [==============================] - 45s 11ms/step - loss: 0.0461 - acc: 0.9654\n",
      "Epoch 26/50\n",
      "4048/4052 [============================>.] - ETA: 0s - loss: 0.0443 - acc: 0.9663WARNING:tensorflow:Can save best model only with val_loss available, skipping.\n",
      "4052/4052 [==============================] - 37s 9ms/step - loss: 0.0444 - acc: 0.9663\n",
      "Epoch 27/50\n",
      "4046/4052 [============================>.] - ETA: 0s - loss: 0.0429 - acc: 0.9670WARNING:tensorflow:Can save best model only with val_loss available, skipping.\n",
      "4052/4052 [==============================] - 31s 8ms/step - loss: 0.0429 - acc: 0.9670\n",
      "Epoch 28/50\n",
      " 892/4052 [=====>........................] - ETA: 23s - loss: 0.0417 - acc: 0.9670"
     ]
    }
   ],
   "source": [
    "history2 = model2.fit(shuffled_X_TRAIN, shuffled_Y_TRAIN, epochs=50, callbacks=[cp2])"
   ]
  }
 ],
 "metadata": {
  "kernelspec": {
   "display_name": "Python 3",
   "language": "python",
   "name": "python3"
  },
  "language_info": {
   "codemirror_mode": {
    "name": "ipython",
    "version": 3
   },
   "file_extension": ".py",
   "mimetype": "text/x-python",
   "name": "python",
   "nbconvert_exporter": "python",
   "pygments_lexer": "ipython3",
   "version": "3.11.3"
  },
  "orig_nbformat": 4
 },
 "nbformat": 4,
 "nbformat_minor": 2
}
