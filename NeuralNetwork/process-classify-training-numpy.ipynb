{
 "cells": [
  {
   "cell_type": "code",
   "execution_count": 36,
   "metadata": {},
   "outputs": [],
   "source": [
    "import os\n",
    "import pandas as pd\n",
    "import numpy as np\n",
    "from tensorflow.keras.utils import to_categorical"
   ]
  },
  {
   "cell_type": "code",
   "execution_count": 37,
   "metadata": {},
   "outputs": [],
   "source": [
    "WINDOW_SIZE = 25\n",
    "NUMBER_OF_FEATURES = 4\n",
    "NUMBER_OF_CLASSES = 2\n",
    "\n",
    "MOTION_CLASSES = ['STAND', 'STEPS']\n",
    "MOTIONTYPE_CLASSES = ['SML', 'MED', 'LAR']\n",
    "MOTIONSPEED_CLASSES = ['SLOW', 'AVERAGE', 'FAST']\n",
    "\n",
    "\n",
    "# Get the current working directory\n",
    "CURRENT_DIRECTORY = os.getcwd()\n",
    "# Get the parent directory\n",
    "PARENT_DIRECTORY = os.path.dirname(CURRENT_DIRECTORY)\n",
    "\n",
    "DATA_FOLDER = PARENT_DIRECTORY + '\\\\processed-training-data\\\\4-PROCESSED-DATA\\TRAIN2\\\\'\n",
    "\n",
    "# numpy data folder\n",
    "NUMPY_DATA_FOLDER_FILE_PATH = PARENT_DIRECTORY + '\\\\NeuralNetwork\\\\np-saved-data\\\\'\n",
    "\n",
    "# v0 data (not normalized, use to generate more data)\n",
    "ALL_X_TRAIN_CLASSIFY_MOTION_PATH = PARENT_DIRECTORY + '\\\\NeuralNetwork\\\\np-saved-data\\\\training\\\\ALL-X-TRAIN-CLASSIFY-MOTION-V0.npy'\n",
    "ALL_Y_TRAIN_CLASSIFY_MOTION_PATH = PARENT_DIRECTORY + '\\\\NeuralNetwork\\\\np-saved-data\\\\training\\\\ALL-Y-TRAIN-CLASSIFY-MOTION-V0.npy'"
   ]
  },
  {
   "cell_type": "code",
   "execution_count": 38,
   "metadata": {},
   "outputs": [
    {
     "name": "stdout",
     "output_type": "stream",
     "text": [
      "{'STAND': 0, 'STEPS': 1}\n",
      "{'SML': 0, 'MED': 1, 'LAR': 2}\n",
      "{'SLOW': 0, 'AVERAGE': 1, 'FAST': 2}\n"
     ]
    }
   ],
   "source": [
    "LABEL_TO_CATEGORY_MOTION = {label: category for category, label in enumerate(MOTION_CLASSES)}\n",
    "LABEL_TO_CATEGORY_MOTIONTYPE = {label: category for category, label in enumerate(MOTIONTYPE_CLASSES)}\n",
    "LABEL_TO_CATEGORY_MOTIONSPEED = {label: category for category, label in enumerate(MOTIONSPEED_CLASSES)}\n",
    "\n",
    "print(LABEL_TO_CATEGORY_MOTION)\n",
    "print(LABEL_TO_CATEGORY_MOTIONTYPE)\n",
    "print(LABEL_TO_CATEGORY_MOTIONSPEED)"
   ]
  },
  {
   "cell_type": "code",
   "execution_count": 39,
   "metadata": {},
   "outputs": [
    {
     "name": "stdout",
     "output_type": "stream",
     "text": [
      "['PROC-TRAIN2-STAND1.xlsx', 'PROC-TRAIN2-STAND2.xlsx', 'PROC-TRAIN2-STAND3.xlsx', 'PROC-TRAIN2-STEPS-LR-LAR-100BPM.xlsx', 'PROC-TRAIN2-STEPS-LR-LAR-110BPM.xlsx', 'PROC-TRAIN2-STEPS-LR-LAR-112BPM.xlsx', 'PROC-TRAIN2-STEPS-LR-LAR-120BPM-AUGMENT.xlsx', 'PROC-TRAIN2-STEPS-LR-LAR-124BPM-AUGMENT.xlsx', 'PROC-TRAIN2-STEPS-LR-LAR-160BPM-AUGMENT.xlsx', 'PROC-TRAIN2-STEPS-LR-LAR-164BPM-AUGMENT.xlsx', 'PROC-TRAIN2-STEPS-LR-LAR-196BPM-AUGMENT.xlsx', 'PROC-TRAIN2-STEPS-LR-LAR-200BPM-AUGMENT.xlsx', 'PROC-TRAIN2-STEPS-LR-LAR-220BPM-AUGMENT.xlsx', 'PROC-TRAIN2-STEPS-LR-LAR-224BPM-AUGMENT.xlsx', 'PROC-TRAIN2-STEPS-LR-LAR-30BPM-AUGMENT.xlsx', 'PROC-TRAIN2-STEPS-LR-LAR-31BPM-AUGMENT.xlsx', 'PROC-TRAIN2-STEPS-LR-LAR-40BPM-AUGMENT.xlsx', 'PROC-TRAIN2-STEPS-LR-LAR-41BPM-AUGMENT.xlsx', 'PROC-TRAIN2-STEPS-LR-LAR-49BPM-AUGMENT.xlsx', 'PROC-TRAIN2-STEPS-LR-LAR-50BPM-AUGMENT.xlsx', 'PROC-TRAIN2-STEPS-LR-LAR-55BPM-AUGMENT.xlsx', 'PROC-TRAIN2-STEPS-LR-LAR-56BPM-AUGMENT.xlsx', 'PROC-TRAIN2-STEPS-LR-LAR-60BPM.xlsx', 'PROC-TRAIN2-STEPS-LR-LAR-62BPM.xlsx', 'PROC-TRAIN2-STEPS-LR-LAR-80BPM.xlsx', 'PROC-TRAIN2-STEPS-LR-LAR-82BPM.xlsx', 'PROC-TRAIN2-STEPS-LR-LAR-98BPM.xlsx']\n"
     ]
    }
   ],
   "source": [
    "file_names = [file for file in os.listdir(DATA_FOLDER) if file.endswith('.xlsx') and os.path.isfile(os.path.join(DATA_FOLDER, file))]\n",
    "\n",
    "print(file_names)"
   ]
  },
  {
   "cell_type": "code",
   "execution_count": 40,
   "metadata": {},
   "outputs": [],
   "source": [
    "def normalizeSensorData(sensor_input):\n",
    "    return (sensor_input + 180)/360\n"
   ]
  },
  {
   "cell_type": "code",
   "execution_count": 41,
   "metadata": {},
   "outputs": [],
   "source": [
    "def df2Xy(df, windowSize=5):\n",
    "  X = []\n",
    "  y_Motion= []\n",
    "\n",
    "  # NORMALIZE THE SENSOR DATA\n",
    "  #df[\"L_Pitch_Delta\"] = df[\"L_Pitch_Delta\"].apply(normalizeSensorData)\n",
    "  #df[\"L_Roll_Delta\"] = df[\"L_Roll_Delta\"].apply(normalizeSensorData)\n",
    "  #df[\"R_Pitch_Delta\"] = df[\"R_Pitch_Delta\"].apply(normalizeSensorData)\n",
    "  #df[\"R_Roll_Delta\"] = df[\"R_Roll_Delta\"].apply(normalizeSensorData)\n",
    "\n",
    "  for i in range( len(df) - windowSize + 1):\n",
    "    # inputs: X rows\n",
    "    # form a new input which has size of our windowSize\n",
    "    input_data_list = []\n",
    "\n",
    "    # loop through each row in our windowsize\n",
    "    for j in range(windowSize):\n",
    "        # fetch sensor data for this row\n",
    "        row_values = df.loc[i + j, ['L_Pitch_Delta', 'L_Roll_Delta', 'R_Pitch_Delta', 'R_Roll_Delta']].values.tolist()\n",
    "\n",
    "        # add row values to the input\n",
    "        input_data_list.append(row_values)\n",
    "\n",
    "    # turnn list into array to do arthimetic\n",
    "    input_data_array = np.array(input_data_list)\n",
    "\n",
    "    # remove all negative sinces we want to the total change (we dont care which direction)\n",
    "    input_data_array = np.abs(input_data_array)\n",
    "\n",
    "    # calculate the total change for each sennsor value (TOTAL POSITIVE SENSOR CHANGES)\n",
    "    input_data_array = np.sum(input_data_array, axis=0)\n",
    "\n",
    "    # turn back to list\n",
    "    input_data_list = input_data_array.tolist()\n",
    "\n",
    "    # add our input to our total inputs, marked as X\n",
    "    X.append(input_data_list)\n",
    "\n",
    "  y_Motion = df.iloc[windowSize - 1:, df.columns.get_loc('Class_Motion')].tolist()\n",
    "  #y_MotionType = df.iloc[windowSize - 1:, df.columns.get_loc('Class_MotionType')].tolist()\n",
    "  #y_MotionSpeed = df.iloc[windowSize - 1:, df.columns.get_loc('Class_MotionSpeed')].tolist()\n",
    "\n",
    "\n",
    "  return (np.array(X), np.array(y_Motion))"
   ]
  },
  {
   "cell_type": "code",
   "execution_count": 42,
   "metadata": {},
   "outputs": [],
   "source": [
    "ALL_X_TRAIN_MOTION = np.empty((0, NUMBER_OF_FEATURES))  # List to store all X training data\n",
    "ALL_Y_TRAIN_MOTION = np.empty((0))  # List to store all Y training data"
   ]
  },
  {
   "cell_type": "code",
   "execution_count": 43,
   "metadata": {},
   "outputs": [],
   "source": [
    "def processData(ALL_X_TRAIN_MOTION, ALL_Y_TRAIN_MOTION):\n",
    "    for fileName in file_names:\n",
    "        # Read the Excel file\n",
    "        df = pd.read_excel(DATA_FOLDER + fileName)\n",
    "\n",
    "        xTrain, yTrain_Motion = df2Xy(df, WINDOW_SIZE)\n",
    "        \n",
    "        ALL_X_TRAIN_MOTION = np.concatenate([ALL_X_TRAIN_MOTION, xTrain])\n",
    "        ALL_Y_TRAIN_MOTION = np.concatenate([ALL_Y_TRAIN_MOTION, yTrain_Motion])\n",
    "        \n",
    "        print('xTrain.shape:', xTrain.shape)\n",
    "        print('ALL_X_TRAIN.shape:', ALL_X_TRAIN_MOTION.shape, ' ALL_Y_TRAIN_CURRVEL.shape:', ALL_Y_TRAIN_MOTION.shape)\n",
    "        print('-------------------------------')\n",
    "\n",
    "    # Create the folder if it doesn't exist\n",
    "    if not os.path.exists(NUMPY_DATA_FOLDER_FILE_PATH):\n",
    "        os.makedirs(NUMPY_DATA_FOLDER_FILE_PATH)\n",
    "\n",
    "    # convert to numerical labels (originally text labels)\n",
    "    numerical_motion_label = np.vectorize(LABEL_TO_CATEGORY_MOTION.get)(ALL_Y_TRAIN_MOTION)\n",
    "\n",
    "    # Assuming your numpy array is called 'data_array'\n",
    "    np.save(ALL_X_TRAIN_CLASSIFY_MOTION_PATH, ALL_X_TRAIN_MOTION)\n",
    "    np.save(ALL_Y_TRAIN_CLASSIFY_MOTION_PATH, numerical_motion_label)"
   ]
  },
  {
   "cell_type": "code",
   "execution_count": 44,
   "metadata": {},
   "outputs": [
    {
     "name": "stdout",
     "output_type": "stream",
     "text": [
      "xTrain.shape: (1335, 4)\n",
      "ALL_X_TRAIN.shape: (1335, 4)  ALL_Y_TRAIN_CURRVEL.shape: (1335,)\n",
      "-------------------------------\n",
      "xTrain.shape: (3288, 4)\n",
      "ALL_X_TRAIN.shape: (4623, 4)  ALL_Y_TRAIN_CURRVEL.shape: (4623,)\n",
      "-------------------------------\n",
      "xTrain.shape: (1743, 4)\n",
      "ALL_X_TRAIN.shape: (6366, 4)  ALL_Y_TRAIN_CURRVEL.shape: (6366,)\n",
      "-------------------------------\n",
      "xTrain.shape: (3381, 4)\n",
      "ALL_X_TRAIN.shape: (9747, 4)  ALL_Y_TRAIN_CURRVEL.shape: (9747,)\n",
      "-------------------------------\n",
      "xTrain.shape: (3274, 4)\n",
      "ALL_X_TRAIN.shape: (13021, 4)  ALL_Y_TRAIN_CURRVEL.shape: (13021,)\n",
      "-------------------------------\n",
      "xTrain.shape: (4560, 4)\n",
      "ALL_X_TRAIN.shape: (17581, 4)  ALL_Y_TRAIN_CURRVEL.shape: (17581,)\n",
      "-------------------------------\n",
      "xTrain.shape: (3773, 4)\n",
      "ALL_X_TRAIN.shape: (21354, 4)  ALL_Y_TRAIN_CURRVEL.shape: (21354,)\n",
      "-------------------------------\n",
      "xTrain.shape: (3181, 4)\n",
      "ALL_X_TRAIN.shape: (24535, 4)  ALL_Y_TRAIN_CURRVEL.shape: (24535,)\n",
      "-------------------------------\n",
      "xTrain.shape: (3072, 4)\n",
      "ALL_X_TRAIN.shape: (27607, 4)  ALL_Y_TRAIN_CURRVEL.shape: (27607,)\n",
      "-------------------------------\n",
      "xTrain.shape: (4505, 4)\n",
      "ALL_X_TRAIN.shape: (32112, 4)  ALL_Y_TRAIN_CURRVEL.shape: (32112,)\n",
      "-------------------------------\n",
      "xTrain.shape: (3796, 4)\n",
      "ALL_X_TRAIN.shape: (35908, 4)  ALL_Y_TRAIN_CURRVEL.shape: (35908,)\n",
      "-------------------------------\n",
      "xTrain.shape: (3381, 4)\n",
      "ALL_X_TRAIN.shape: (39289, 4)  ALL_Y_TRAIN_CURRVEL.shape: (39289,)\n",
      "-------------------------------\n",
      "xTrain.shape: (3274, 4)\n",
      "ALL_X_TRAIN.shape: (42563, 4)  ALL_Y_TRAIN_CURRVEL.shape: (42563,)\n",
      "-------------------------------\n",
      "xTrain.shape: (4560, 4)\n",
      "ALL_X_TRAIN.shape: (47123, 4)  ALL_Y_TRAIN_CURRVEL.shape: (47123,)\n",
      "-------------------------------\n",
      "xTrain.shape: (7565, 4)\n",
      "ALL_X_TRAIN.shape: (54688, 4)  ALL_Y_TRAIN_CURRVEL.shape: (54688,)\n",
      "-------------------------------\n"
     ]
    }
   ],
   "source": [
    "if not os.path.exists(ALL_X_TRAIN_CLASSIFY_MOTION_PATH):\n",
    "    processData(ALL_X_TRAIN_MOTION, ALL_Y_TRAIN_MOTION)\n",
    "\n",
    "ALL_X_TRAIN_CLASSIFY_MOTION = np.load(ALL_X_TRAIN_CLASSIFY_MOTION_PATH)\n",
    "ALL_Y_TRAIN_CLASSIFY_MOTION = np.load(ALL_Y_TRAIN_CLASSIFY_MOTION_PATH)\n",
    "\n",
    "print(ALL_X_TRAIN_CLASSIFY_MOTION.shape)\n",
    "print(ALL_Y_TRAIN_CLASSIFY_MOTION.shape)"
   ]
  }
 ],
 "metadata": {
  "kernelspec": {
   "display_name": "Python 3",
   "language": "python",
   "name": "python3"
  },
  "language_info": {
   "codemirror_mode": {
    "name": "ipython",
    "version": 3
   },
   "file_extension": ".py",
   "mimetype": "text/x-python",
   "name": "python",
   "nbconvert_exporter": "python",
   "pygments_lexer": "ipython3",
   "version": "3.11.2"
  },
  "orig_nbformat": 4
 },
 "nbformat": 4,
 "nbformat_minor": 2
}
