{
 "cells": [
  {
   "cell_type": "code",
   "execution_count": 24,
   "metadata": {},
   "outputs": [],
   "source": [
    "import os\n",
    "import pandas as pd\n",
    "import numpy as np\n",
    "from tensorflow.keras.utils import to_categorical"
   ]
  },
  {
   "cell_type": "code",
   "execution_count": 25,
   "metadata": {},
   "outputs": [],
   "source": [
    "WINDOW_SIZE = 25\n",
    "NUMBER_OF_FEATURES = 4\n",
    "NUMBER_OF_CLASSES = 2\n",
    "\n",
    "MOTION_CLASSES = ['STAND', 'STEPS']\n",
    "MOTIONTYPE_CLASSES = ['SML', 'MED', 'LAR']\n",
    "MOTIONSPEED_CLASSES = ['SLOW', 'AVERAGE', 'FAST']\n",
    "\n",
    "\n",
    "# Get the current working directory\n",
    "CURRENT_DIRECTORY = os.getcwd()\n",
    "# Get the parent directory\n",
    "PARENT_DIRECTORY = os.path.dirname(CURRENT_DIRECTORY)\n",
    "\n",
    "DATA_FOLDER = PARENT_DIRECTORY + '\\\\processed-training-data\\\\4-PROCESSED-DATA\\TRAIN2\\\\'\n",
    "\n",
    "# numpy data folder\n",
    "NUMPY_DATA_FOLDER_FILE_PATH = PARENT_DIRECTORY + '\\\\NeuralNetwork\\\\np-saved-data\\\\'\n",
    "\n",
    "# v0 data (not normalized, use to generate more data)\n",
    "ALL_X_TRAIN_CLASSIFY_PATH = PARENT_DIRECTORY + '\\\\NeuralNetwork\\\\np-saved-data\\\\training\\\\ALL-X-TRAIN-CLASSIFY-V0.npy'\n",
    "ALL_Y_TRAIN_CLASSIFY_MOTION_PATH = PARENT_DIRECTORY + '\\\\NeuralNetwork\\\\np-saved-data\\\\training\\\\ALL-Y-TRAIN-CLASSIFY-MOTION-V0.npy'\n",
    "ALL_Y_TRAIN_CLASSIFY_MOTIONTYPE_PATH = PARENT_DIRECTORY + '\\\\NeuralNetwork\\\\np-saved-data\\\\training\\\\ALL-Y-TRAIN-CLASSIFY-MOTIONTYPE-V0.npy'\n",
    "ALL_Y_TRAIN_CLASSIFY_MOTIONSPEED_PATH = PARENT_DIRECTORY + '\\\\NeuralNetwork\\\\np-saved-data\\\\training\\\\ALL-Y-TRAIN-CLASSIFY-MOTIONSPEED-V0.npy'"
   ]
  },
  {
   "cell_type": "code",
   "execution_count": 26,
   "metadata": {},
   "outputs": [
    {
     "name": "stdout",
     "output_type": "stream",
     "text": [
      "{'STAND': 0, 'STEPS': 1}\n",
      "{'SML': 0, 'MED': 1, 'LAR': 2}\n",
      "{'SLOW': 0, 'AVERAGE': 1, 'FAST': 2}\n"
     ]
    }
   ],
   "source": [
    "LABEL_TO_CATEGORY_MOTION = {label: category for category, label in enumerate(MOTION_CLASSES)}\n",
    "LABEL_TO_CATEGORY_MOTIONTYPE = {label: category for category, label in enumerate(MOTIONTYPE_CLASSES)}\n",
    "LABEL_TO_CATEGORY_MOTIONSPEED = {label: category for category, label in enumerate(MOTIONSPEED_CLASSES)}\n",
    "\n",
    "print(LABEL_TO_CATEGORY_MOTION)\n",
    "print(LABEL_TO_CATEGORY_MOTIONTYPE)\n",
    "print(LABEL_TO_CATEGORY_MOTIONSPEED)"
   ]
  },
  {
   "cell_type": "code",
   "execution_count": 27,
   "metadata": {},
   "outputs": [
    {
     "name": "stdout",
     "output_type": "stream",
     "text": [
      "['PROC-TRAIN2-STAND1.xlsx', 'PROC-TRAIN2-STAND2.xlsx', 'PROC-TRAIN2-STAND3.xlsx', 'PROC-TRAIN2-STEPS-LR-LAR-100BPM.xlsx', 'PROC-TRAIN2-STEPS-LR-LAR-110BPM.xlsx', 'PROC-TRAIN2-STEPS-LR-LAR-120BPM-AUGMENT.xlsx', 'PROC-TRAIN2-STEPS-LR-LAR-160BPM-AUGMENT.xlsx', 'PROC-TRAIN2-STEPS-LR-LAR-200BPM-AUGMENT.xlsx', 'PROC-TRAIN2-STEPS-LR-LAR-220BPM-AUGMENT.xlsx', 'PROC-TRAIN2-STEPS-LR-LAR-30BPM-AUGMENT.xlsx', 'PROC-TRAIN2-STEPS-LR-LAR-40BPM-AUGMENT.xlsx', 'PROC-TRAIN2-STEPS-LR-LAR-50BPM-AUGMENT.xlsx', 'PROC-TRAIN2-STEPS-LR-LAR-55BPM-AUGMENT.xlsx', 'PROC-TRAIN2-STEPS-LR-LAR-60BPM.xlsx', 'PROC-TRAIN2-STEPS-LR-LAR-80BPM.xlsx', 'PROC-TRAIN2-STEPS-LR-MED-100BPM.xlsx', 'PROC-TRAIN2-STEPS-LR-MED-110BPM.xlsx', 'PROC-TRAIN2-STEPS-LR-MED-120BPM-AUGMENT.xlsx', 'PROC-TRAIN2-STEPS-LR-MED-160BPM-AUGMENT.xlsx', 'PROC-TRAIN2-STEPS-LR-MED-200BPM-AUGMENT.xlsx', 'PROC-TRAIN2-STEPS-LR-MED-220BPM-AUGMENT.xlsx', 'PROC-TRAIN2-STEPS-LR-MED-30BPM-AUGMENT.xlsx', 'PROC-TRAIN2-STEPS-LR-MED-40BPM-AUGMENT.xlsx', 'PROC-TRAIN2-STEPS-LR-MED-50BPM-AUGMENT.xlsx', 'PROC-TRAIN2-STEPS-LR-MED-55BPM-AUGMENT.xlsx', 'PROC-TRAIN2-STEPS-LR-MED-60BPM.xlsx', 'PROC-TRAIN2-STEPS-LR-MED-80BPM.xlsx']\n"
     ]
    }
   ],
   "source": [
    "file_names = [file for file in os.listdir(DATA_FOLDER) if file.endswith('.xlsx') and os.path.isfile(os.path.join(DATA_FOLDER, file))]\n",
    "\n",
    "print(file_names)"
   ]
  },
  {
   "cell_type": "code",
   "execution_count": 28,
   "metadata": {},
   "outputs": [],
   "source": [
    "def normalizeSensorData(sensor_input):\n",
    "    return (sensor_input + 45)/90\n"
   ]
  },
  {
   "cell_type": "code",
   "execution_count": 29,
   "metadata": {},
   "outputs": [],
   "source": [
    "def df2Xy(df, windowSize=5):\n",
    "  X = []\n",
    "  y_Motion= []\n",
    "  y_MotionType = []\n",
    "  y_MotionSpeed = []\n",
    "\n",
    "  # NORMALIZE THE SENSOR DATA\n",
    "  df[\"L_Pitch_Delta\"] = df[\"L_Pitch_Delta\"].apply(normalizeSensorData)\n",
    "  df[\"L_Roll_Delta\"] = df[\"L_Roll_Delta\"].apply(normalizeSensorData)\n",
    "  df[\"R_Pitch_Delta\"] = df[\"R_Pitch_Delta\"].apply(normalizeSensorData)\n",
    "  df[\"R_Roll_Delta\"] = df[\"R_Roll_Delta\"].apply(normalizeSensorData)\n",
    "\n",
    "  for i in range( len(df) - windowSize + 1):\n",
    "    # inputs: X rows\n",
    "    # form a new input which has size of our windowSize\n",
    "    input = []\n",
    "\n",
    "    # loop through each row in our windowsize\n",
    "    for j in range(windowSize):\n",
    "        # fetch sensor data for this row\n",
    "        row_values = df.loc[i + j, ['L_Pitch_Delta', 'L_Roll_Delta', 'R_Pitch_Delta', 'R_Roll_Delta']].values.tolist()\n",
    "\n",
    "        # add row values to the input\n",
    "        input.append(row_values)\n",
    "\n",
    "    # add our input to our total inputs, marked as X\n",
    "    X.append(input)\n",
    "\n",
    "  y_Motion = df.iloc[windowSize - 1:, df.columns.get_loc('Class_Motion')].tolist()\n",
    "  y_MotionType = df.iloc[windowSize - 1:, df.columns.get_loc('Class_MotionType')].tolist()\n",
    "  y_MotionSpeed = df.iloc[windowSize - 1:, df.columns.get_loc('Class_MotionSpeed')].tolist()\n",
    "\n",
    "\n",
    "  return (np.array(X), np.array(y_Motion), np.array(y_MotionType), np.array(y_MotionSpeed))"
   ]
  },
  {
   "cell_type": "code",
   "execution_count": 30,
   "metadata": {},
   "outputs": [],
   "source": [
    "ALL_X_TRAIN = np.empty((0, WINDOW_SIZE, NUMBER_OF_FEATURES))  # List to store all X training data\n",
    "ALL_Y_TRAIN_MOTION = np.empty((0))  # List to store all Y training data\n",
    "ALL_Y_TRAIN_MOTIONTYPE = np.empty((0))  # List to store all Y training data\n",
    "ALL_Y_TRAIN_MOTIONSPEED = np.empty((0))  # List to store all Y training data"
   ]
  },
  {
   "cell_type": "code",
   "execution_count": 31,
   "metadata": {},
   "outputs": [],
   "source": [
    "def processData(ALL_X_TRAIN, ALL_Y_TRAIN_MOTION, ALL_Y_TRAIN_MOTIONTYPE, ALL_Y_TRAIN_MOTIONSPEED):\n",
    "    for fileName in file_names:\n",
    "        # Read the Excel file\n",
    "        df = pd.read_excel(DATA_FOLDER + fileName)\n",
    "\n",
    "        xTrain, yTrain_Motion, yTrain_MotionType, yTrain_MotionSpeed = df2Xy(df, WINDOW_SIZE)\n",
    "        \n",
    "        ALL_X_TRAIN = np.concatenate([ALL_X_TRAIN, xTrain])\n",
    "        ALL_Y_TRAIN_MOTION = np.concatenate([ALL_Y_TRAIN_MOTION, yTrain_Motion])\n",
    "        ALL_Y_TRAIN_MOTIONTYPE = np.concatenate([ALL_Y_TRAIN_MOTIONTYPE, yTrain_MotionType])\n",
    "        ALL_Y_TRAIN_MOTIONSPEED = np.concatenate([ALL_Y_TRAIN_MOTIONSPEED, yTrain_MotionSpeed])\n",
    "        \n",
    "        print('xTrain.shape:', xTrain.shape)\n",
    "        print('ALL_X_TRAIN.shape:', ALL_X_TRAIN.shape, ' ALL_Y_TRAIN_CURRVEL.shape:', ALL_Y_TRAIN_MOTION.shape)\n",
    "        print('-------------------------------')\n",
    "\n",
    "    # Create the folder if it doesn't exist\n",
    "    if not os.path.exists(NUMPY_DATA_FOLDER_FILE_PATH):\n",
    "        os.makedirs(NUMPY_DATA_FOLDER_FILE_PATH)\n",
    "\n",
    "    # convert to numerical labels (originally text labels)\n",
    "    numerical_motion_label = np.vectorize(LABEL_TO_CATEGORY_MOTION.get)(ALL_Y_TRAIN_MOTION)\n",
    "    numerical_motiontype_label = np.vectorize(LABEL_TO_CATEGORY_MOTIONTYPE.get)(ALL_Y_TRAIN_MOTIONTYPE)\n",
    "    numerical_motionspeed_label = np.vectorize(LABEL_TO_CATEGORY_MOTIONSPEED.get)(ALL_Y_TRAIN_MOTIONSPEED)\n",
    "\n",
    "    # apply one-hot encoding \n",
    "    hot_one_motion = to_categorical(numerical_motion_label, num_classes=len(MOTION_CLASSES))\n",
    "    hot_one_motiontype = to_categorical(numerical_motion_label, num_classes=len(MOTIONTYPE_CLASSES))\n",
    "    hot_one_motionspeed = to_categorical(numerical_motion_label, num_classes=len(MOTIONSPEED_CLASSES))\n",
    "\n",
    "    # Assuming your numpy array is called 'data_array'\n",
    "    np.save(ALL_X_TRAIN_CLASSIFY_PATH, ALL_X_TRAIN)\n",
    "    np.save(ALL_Y_TRAIN_CLASSIFY_MOTION_PATH, hot_one_motion)\n",
    "    np.save(ALL_Y_TRAIN_CLASSIFY_MOTIONTYPE_PATH, hot_one_motiontype)\n",
    "    np.save(ALL_Y_TRAIN_CLASSIFY_MOTIONSPEED_PATH, hot_one_motionspeed)\n"
   ]
  },
  {
   "cell_type": "code",
   "execution_count": 32,
   "metadata": {},
   "outputs": [
    {
     "name": "stdout",
     "output_type": "stream",
     "text": [
      "xTrain.shape: (1335, 25, 4)\n",
      "ALL_X_TRAIN.shape: (1335, 25, 4)  ALL_Y_TRAIN_CURRVEL.shape: (1335,)\n",
      "-------------------------------\n",
      "xTrain.shape: (3288, 25, 4)\n",
      "ALL_X_TRAIN.shape: (4623, 25, 4)  ALL_Y_TRAIN_CURRVEL.shape: (4623,)\n",
      "-------------------------------\n",
      "xTrain.shape: (1743, 25, 4)\n",
      "ALL_X_TRAIN.shape: (6366, 25, 4)  ALL_Y_TRAIN_CURRVEL.shape: (6366,)\n",
      "-------------------------------\n",
      "xTrain.shape: (3381, 25, 4)\n",
      "ALL_X_TRAIN.shape: (9747, 25, 4)  ALL_Y_TRAIN_CURRVEL.shape: (9747,)\n",
      "-------------------------------\n",
      "xTrain.shape: (3274, 25, 4)\n",
      "ALL_X_TRAIN.shape: (13021, 25, 4)  ALL_Y_TRAIN_CURRVEL.shape: (13021,)\n",
      "-------------------------------\n",
      "xTrain.shape: (3773, 25, 4)\n",
      "ALL_X_TRAIN.shape: (16794, 25, 4)  ALL_Y_TRAIN_CURRVEL.shape: (16794,)\n",
      "-------------------------------\n",
      "xTrain.shape: (3072, 25, 4)\n",
      "ALL_X_TRAIN.shape: (19866, 25, 4)  ALL_Y_TRAIN_CURRVEL.shape: (19866,)\n",
      "-------------------------------\n",
      "xTrain.shape: (3381, 25, 4)\n",
      "ALL_X_TRAIN.shape: (23247, 25, 4)  ALL_Y_TRAIN_CURRVEL.shape: (23247,)\n",
      "-------------------------------\n",
      "xTrain.shape: (3274, 25, 4)\n",
      "ALL_X_TRAIN.shape: (26521, 25, 4)  ALL_Y_TRAIN_CURRVEL.shape: (26521,)\n",
      "-------------------------------\n",
      "xTrain.shape: (7565, 25, 4)\n",
      "ALL_X_TRAIN.shape: (34086, 25, 4)  ALL_Y_TRAIN_CURRVEL.shape: (34086,)\n",
      "-------------------------------\n",
      "xTrain.shape: (6164, 25, 4)\n",
      "ALL_X_TRAIN.shape: (40250, 25, 4)  ALL_Y_TRAIN_CURRVEL.shape: (40250,)\n",
      "-------------------------------\n",
      "xTrain.shape: (6782, 25, 4)\n",
      "ALL_X_TRAIN.shape: (47032, 25, 4)  ALL_Y_TRAIN_CURRVEL.shape: (47032,)\n",
      "-------------------------------\n",
      "xTrain.shape: (6568, 25, 4)\n",
      "ALL_X_TRAIN.shape: (53600, 25, 4)  ALL_Y_TRAIN_CURRVEL.shape: (53600,)\n",
      "-------------------------------\n",
      "xTrain.shape: (3773, 25, 4)\n",
      "ALL_X_TRAIN.shape: (57373, 25, 4)  ALL_Y_TRAIN_CURRVEL.shape: (57373,)\n",
      "-------------------------------\n",
      "xTrain.shape: (3072, 25, 4)\n",
      "ALL_X_TRAIN.shape: (60445, 25, 4)  ALL_Y_TRAIN_CURRVEL.shape: (60445,)\n",
      "-------------------------------\n",
      "xTrain.shape: (3796, 25, 4)\n",
      "ALL_X_TRAIN.shape: (64241, 25, 4)  ALL_Y_TRAIN_CURRVEL.shape: (64241,)\n",
      "-------------------------------\n",
      "xTrain.shape: (4560, 25, 4)\n",
      "ALL_X_TRAIN.shape: (68801, 25, 4)  ALL_Y_TRAIN_CURRVEL.shape: (68801,)\n",
      "-------------------------------\n",
      "xTrain.shape: (3181, 25, 4)\n",
      "ALL_X_TRAIN.shape: (71982, 25, 4)  ALL_Y_TRAIN_CURRVEL.shape: (71982,)\n",
      "-------------------------------\n",
      "xTrain.shape: (4505, 25, 4)\n",
      "ALL_X_TRAIN.shape: (76487, 25, 4)  ALL_Y_TRAIN_CURRVEL.shape: (76487,)\n",
      "-------------------------------\n",
      "xTrain.shape: (3796, 25, 4)\n",
      "ALL_X_TRAIN.shape: (80283, 25, 4)  ALL_Y_TRAIN_CURRVEL.shape: (80283,)\n",
      "-------------------------------\n",
      "xTrain.shape: (4560, 25, 4)\n",
      "ALL_X_TRAIN.shape: (84843, 25, 4)  ALL_Y_TRAIN_CURRVEL.shape: (84843,)\n",
      "-------------------------------\n",
      "xTrain.shape: (6382, 25, 4)\n",
      "ALL_X_TRAIN.shape: (91225, 25, 4)  ALL_Y_TRAIN_CURRVEL.shape: (91225,)\n",
      "-------------------------------\n",
      "xTrain.shape: (9030, 25, 4)\n",
      "ALL_X_TRAIN.shape: (100255, 25, 4)  ALL_Y_TRAIN_CURRVEL.shape: (100255,)\n",
      "-------------------------------\n",
      "xTrain.shape: (7613, 25, 4)\n",
      "ALL_X_TRAIN.shape: (107868, 25, 4)  ALL_Y_TRAIN_CURRVEL.shape: (107868,)\n",
      "-------------------------------\n"
     ]
    },
    {
     "ename": "KeyboardInterrupt",
     "evalue": "",
     "output_type": "error",
     "traceback": [
      "\u001b[1;31m---------------------------------------------------------------------------\u001b[0m",
      "\u001b[1;31mKeyboardInterrupt\u001b[0m                         Traceback (most recent call last)",
      "Cell \u001b[1;32mIn[32], line 2\u001b[0m\n\u001b[0;32m      1\u001b[0m \u001b[39mif\u001b[39;00m \u001b[39mnot\u001b[39;00m os\u001b[39m.\u001b[39mpath\u001b[39m.\u001b[39mexists(ALL_X_TRAIN_CLASSIFY_PATH):\n\u001b[1;32m----> 2\u001b[0m     processData(ALL_X_TRAIN, ALL_Y_TRAIN_MOTION, ALL_Y_TRAIN_MOTIONTYPE, ALL_Y_TRAIN_MOTIONSPEED)\n\u001b[0;32m      4\u001b[0m ALL_X_TRAIN_CLASSIFY \u001b[39m=\u001b[39m np\u001b[39m.\u001b[39mload(ALL_X_TRAIN_CLASSIFY_PATH)\n\u001b[0;32m      5\u001b[0m ALL_Y_TRAIN_CLASSIFY_MOTION \u001b[39m=\u001b[39m np\u001b[39m.\u001b[39mload(ALL_Y_TRAIN_CLASSIFY_MOTION_PATH)\n",
      "Cell \u001b[1;32mIn[31], line 6\u001b[0m, in \u001b[0;36mprocessData\u001b[1;34m(ALL_X_TRAIN, ALL_Y_TRAIN_MOTION, ALL_Y_TRAIN_MOTIONTYPE, ALL_Y_TRAIN_MOTIONSPEED)\u001b[0m\n\u001b[0;32m      2\u001b[0m \u001b[39mfor\u001b[39;00m fileName \u001b[39min\u001b[39;00m file_names:\n\u001b[0;32m      3\u001b[0m     \u001b[39m# Read the Excel file\u001b[39;00m\n\u001b[0;32m      4\u001b[0m     df \u001b[39m=\u001b[39m pd\u001b[39m.\u001b[39mread_excel(DATA_FOLDER \u001b[39m+\u001b[39m fileName)\n\u001b[1;32m----> 6\u001b[0m     xTrain, yTrain_Motion, yTrain_MotionType, yTrain_MotionSpeed \u001b[39m=\u001b[39m df2Xy(df, WINDOW_SIZE)\n\u001b[0;32m      8\u001b[0m     ALL_X_TRAIN \u001b[39m=\u001b[39m np\u001b[39m.\u001b[39mconcatenate([ALL_X_TRAIN, xTrain])\n\u001b[0;32m      9\u001b[0m     ALL_Y_TRAIN_MOTION \u001b[39m=\u001b[39m np\u001b[39m.\u001b[39mconcatenate([ALL_Y_TRAIN_MOTION, yTrain_Motion])\n",
      "Cell \u001b[1;32mIn[29], line 21\u001b[0m, in \u001b[0;36mdf2Xy\u001b[1;34m(df, windowSize)\u001b[0m\n\u001b[0;32m     18\u001b[0m \u001b[39m# loop through each row in our windowsize\u001b[39;00m\n\u001b[0;32m     19\u001b[0m \u001b[39mfor\u001b[39;00m j \u001b[39min\u001b[39;00m \u001b[39mrange\u001b[39m(windowSize):\n\u001b[0;32m     20\u001b[0m     \u001b[39m# fetch sensor data for this row\u001b[39;00m\n\u001b[1;32m---> 21\u001b[0m     row_values \u001b[39m=\u001b[39m df\u001b[39m.\u001b[39;49mloc[i \u001b[39m+\u001b[39;49m j, [\u001b[39m'\u001b[39;49m\u001b[39mL_Pitch_Delta\u001b[39;49m\u001b[39m'\u001b[39;49m, \u001b[39m'\u001b[39;49m\u001b[39mL_Roll_Delta\u001b[39;49m\u001b[39m'\u001b[39;49m, \u001b[39m'\u001b[39;49m\u001b[39mR_Pitch_Delta\u001b[39;49m\u001b[39m'\u001b[39;49m, \u001b[39m'\u001b[39;49m\u001b[39mR_Roll_Delta\u001b[39;49m\u001b[39m'\u001b[39;49m]]\u001b[39m.\u001b[39mvalues\u001b[39m.\u001b[39mtolist()\n\u001b[0;32m     23\u001b[0m     \u001b[39m# add row values to the input\u001b[39;00m\n\u001b[0;32m     24\u001b[0m     \u001b[39minput\u001b[39m\u001b[39m.\u001b[39mappend(row_values)\n",
      "File \u001b[1;32mc:\\Users\\KennethDesktop\\AppData\\Local\\Programs\\Python\\Python311\\Lib\\site-packages\\pandas\\core\\indexing.py:1097\u001b[0m, in \u001b[0;36m_LocationIndexer.__getitem__\u001b[1;34m(self, key)\u001b[0m\n\u001b[0;32m   1095\u001b[0m     \u001b[39mif\u001b[39;00m \u001b[39mself\u001b[39m\u001b[39m.\u001b[39m_is_scalar_access(key):\n\u001b[0;32m   1096\u001b[0m         \u001b[39mreturn\u001b[39;00m \u001b[39mself\u001b[39m\u001b[39m.\u001b[39mobj\u001b[39m.\u001b[39m_get_value(\u001b[39m*\u001b[39mkey, takeable\u001b[39m=\u001b[39m\u001b[39mself\u001b[39m\u001b[39m.\u001b[39m_takeable)\n\u001b[1;32m-> 1097\u001b[0m     \u001b[39mreturn\u001b[39;00m \u001b[39mself\u001b[39;49m\u001b[39m.\u001b[39;49m_getitem_tuple(key)\n\u001b[0;32m   1098\u001b[0m \u001b[39melse\u001b[39;00m:\n\u001b[0;32m   1099\u001b[0m     \u001b[39m# we by definition only have the 0th axis\u001b[39;00m\n\u001b[0;32m   1100\u001b[0m     axis \u001b[39m=\u001b[39m \u001b[39mself\u001b[39m\u001b[39m.\u001b[39maxis \u001b[39mor\u001b[39;00m \u001b[39m0\u001b[39m\n",
      "File \u001b[1;32mc:\\Users\\KennethDesktop\\AppData\\Local\\Programs\\Python\\Python311\\Lib\\site-packages\\pandas\\core\\indexing.py:1280\u001b[0m, in \u001b[0;36m_LocIndexer._getitem_tuple\u001b[1;34m(self, tup)\u001b[0m\n\u001b[0;32m   1278\u001b[0m \u001b[39mwith\u001b[39;00m suppress(IndexingError):\n\u001b[0;32m   1279\u001b[0m     tup \u001b[39m=\u001b[39m \u001b[39mself\u001b[39m\u001b[39m.\u001b[39m_expand_ellipsis(tup)\n\u001b[1;32m-> 1280\u001b[0m     \u001b[39mreturn\u001b[39;00m \u001b[39mself\u001b[39;49m\u001b[39m.\u001b[39;49m_getitem_lowerdim(tup)\n\u001b[0;32m   1282\u001b[0m \u001b[39m# no multi-index, so validate all of the indexers\u001b[39;00m\n\u001b[0;32m   1283\u001b[0m tup \u001b[39m=\u001b[39m \u001b[39mself\u001b[39m\u001b[39m.\u001b[39m_validate_tuple_indexer(tup)\n",
      "File \u001b[1;32mc:\\Users\\KennethDesktop\\AppData\\Local\\Programs\\Python\\Python311\\Lib\\site-packages\\pandas\\core\\indexing.py:1024\u001b[0m, in \u001b[0;36m_LocationIndexer._getitem_lowerdim\u001b[1;34m(self, tup)\u001b[0m\n\u001b[0;32m   1022\u001b[0m             \u001b[39mreturn\u001b[39;00m section\n\u001b[0;32m   1023\u001b[0m         \u001b[39m# This is an elided recursive call to iloc/loc\u001b[39;00m\n\u001b[1;32m-> 1024\u001b[0m         \u001b[39mreturn\u001b[39;00m \u001b[39mgetattr\u001b[39;49m(section, \u001b[39mself\u001b[39;49m\u001b[39m.\u001b[39;49mname)[new_key]\n\u001b[0;32m   1026\u001b[0m \u001b[39mraise\u001b[39;00m IndexingError(\u001b[39m\"\u001b[39m\u001b[39mnot applicable\u001b[39m\u001b[39m\"\u001b[39m)\n",
      "File \u001b[1;32mc:\\Users\\KennethDesktop\\AppData\\Local\\Programs\\Python\\Python311\\Lib\\site-packages\\pandas\\core\\indexing.py:1103\u001b[0m, in \u001b[0;36m_LocationIndexer.__getitem__\u001b[1;34m(self, key)\u001b[0m\n\u001b[0;32m   1100\u001b[0m axis \u001b[39m=\u001b[39m \u001b[39mself\u001b[39m\u001b[39m.\u001b[39maxis \u001b[39mor\u001b[39;00m \u001b[39m0\u001b[39m\n\u001b[0;32m   1102\u001b[0m maybe_callable \u001b[39m=\u001b[39m com\u001b[39m.\u001b[39mapply_if_callable(key, \u001b[39mself\u001b[39m\u001b[39m.\u001b[39mobj)\n\u001b[1;32m-> 1103\u001b[0m \u001b[39mreturn\u001b[39;00m \u001b[39mself\u001b[39;49m\u001b[39m.\u001b[39;49m_getitem_axis(maybe_callable, axis\u001b[39m=\u001b[39;49maxis)\n",
      "File \u001b[1;32mc:\\Users\\KennethDesktop\\AppData\\Local\\Programs\\Python\\Python311\\Lib\\site-packages\\pandas\\core\\indexing.py:1332\u001b[0m, in \u001b[0;36m_LocIndexer._getitem_axis\u001b[1;34m(self, key, axis)\u001b[0m\n\u001b[0;32m   1329\u001b[0m     \u001b[39mif\u001b[39;00m \u001b[39mhasattr\u001b[39m(key, \u001b[39m\"\u001b[39m\u001b[39mndim\u001b[39m\u001b[39m\"\u001b[39m) \u001b[39mand\u001b[39;00m key\u001b[39m.\u001b[39mndim \u001b[39m>\u001b[39m \u001b[39m1\u001b[39m:\n\u001b[0;32m   1330\u001b[0m         \u001b[39mraise\u001b[39;00m \u001b[39mValueError\u001b[39;00m(\u001b[39m\"\u001b[39m\u001b[39mCannot index with multidimensional key\u001b[39m\u001b[39m\"\u001b[39m)\n\u001b[1;32m-> 1332\u001b[0m     \u001b[39mreturn\u001b[39;00m \u001b[39mself\u001b[39;49m\u001b[39m.\u001b[39;49m_getitem_iterable(key, axis\u001b[39m=\u001b[39;49maxis)\n\u001b[0;32m   1334\u001b[0m \u001b[39m# nested tuple slicing\u001b[39;00m\n\u001b[0;32m   1335\u001b[0m \u001b[39mif\u001b[39;00m is_nested_tuple(key, labels):\n",
      "File \u001b[1;32mc:\\Users\\KennethDesktop\\AppData\\Local\\Programs\\Python\\Python311\\Lib\\site-packages\\pandas\\core\\indexing.py:1272\u001b[0m, in \u001b[0;36m_LocIndexer._getitem_iterable\u001b[1;34m(self, key, axis)\u001b[0m\n\u001b[0;32m   1269\u001b[0m \u001b[39mself\u001b[39m\u001b[39m.\u001b[39m_validate_key(key, axis)\n\u001b[0;32m   1271\u001b[0m \u001b[39m# A collection of keys\u001b[39;00m\n\u001b[1;32m-> 1272\u001b[0m keyarr, indexer \u001b[39m=\u001b[39m \u001b[39mself\u001b[39;49m\u001b[39m.\u001b[39;49m_get_listlike_indexer(key, axis)\n\u001b[0;32m   1273\u001b[0m \u001b[39mreturn\u001b[39;00m \u001b[39mself\u001b[39m\u001b[39m.\u001b[39mobj\u001b[39m.\u001b[39m_reindex_with_indexers(\n\u001b[0;32m   1274\u001b[0m     {axis: [keyarr, indexer]}, copy\u001b[39m=\u001b[39m\u001b[39mTrue\u001b[39;00m, allow_dups\u001b[39m=\u001b[39m\u001b[39mTrue\u001b[39;00m\n\u001b[0;32m   1275\u001b[0m )\n",
      "File \u001b[1;32mc:\\Users\\KennethDesktop\\AppData\\Local\\Programs\\Python\\Python311\\Lib\\site-packages\\pandas\\core\\indexing.py:1462\u001b[0m, in \u001b[0;36m_LocIndexer._get_listlike_indexer\u001b[1;34m(self, key, axis)\u001b[0m\n\u001b[0;32m   1459\u001b[0m ax \u001b[39m=\u001b[39m \u001b[39mself\u001b[39m\u001b[39m.\u001b[39mobj\u001b[39m.\u001b[39m_get_axis(axis)\n\u001b[0;32m   1460\u001b[0m axis_name \u001b[39m=\u001b[39m \u001b[39mself\u001b[39m\u001b[39m.\u001b[39mobj\u001b[39m.\u001b[39m_get_axis_name(axis)\n\u001b[1;32m-> 1462\u001b[0m keyarr, indexer \u001b[39m=\u001b[39m ax\u001b[39m.\u001b[39;49m_get_indexer_strict(key, axis_name)\n\u001b[0;32m   1464\u001b[0m \u001b[39mreturn\u001b[39;00m keyarr, indexer\n",
      "File \u001b[1;32mc:\\Users\\KennethDesktop\\AppData\\Local\\Programs\\Python\\Python311\\Lib\\site-packages\\pandas\\core\\indexes\\base.py:5876\u001b[0m, in \u001b[0;36mIndex._get_indexer_strict\u001b[1;34m(self, key, axis_name)\u001b[0m\n\u001b[0;32m   5873\u001b[0m \u001b[39melse\u001b[39;00m:\n\u001b[0;32m   5874\u001b[0m     keyarr, indexer, new_indexer \u001b[39m=\u001b[39m \u001b[39mself\u001b[39m\u001b[39m.\u001b[39m_reindex_non_unique(keyarr)\n\u001b[1;32m-> 5876\u001b[0m \u001b[39mself\u001b[39;49m\u001b[39m.\u001b[39;49m_raise_if_missing(keyarr, indexer, axis_name)\n\u001b[0;32m   5878\u001b[0m keyarr \u001b[39m=\u001b[39m \u001b[39mself\u001b[39m\u001b[39m.\u001b[39mtake(indexer)\n\u001b[0;32m   5879\u001b[0m \u001b[39mif\u001b[39;00m \u001b[39misinstance\u001b[39m(key, Index):\n\u001b[0;32m   5880\u001b[0m     \u001b[39m# GH 42790 - Preserve name from an Index\u001b[39;00m\n",
      "File \u001b[1;32mc:\\Users\\KennethDesktop\\AppData\\Local\\Programs\\Python\\Python311\\Lib\\site-packages\\pandas\\core\\indexes\\base.py:5919\u001b[0m, in \u001b[0;36mIndex._raise_if_missing\u001b[1;34m(self, key, indexer, axis_name)\u001b[0m\n\u001b[0;32m   5917\u001b[0m \u001b[39m# Count missing values\u001b[39;00m\n\u001b[0;32m   5918\u001b[0m missing_mask \u001b[39m=\u001b[39m indexer \u001b[39m<\u001b[39m \u001b[39m0\u001b[39m\n\u001b[1;32m-> 5919\u001b[0m nmissing \u001b[39m=\u001b[39m missing_mask\u001b[39m.\u001b[39;49msum()\n\u001b[0;32m   5921\u001b[0m \u001b[39mif\u001b[39;00m nmissing:\n\u001b[0;32m   5922\u001b[0m     \u001b[39m# TODO: remove special-case; this is just to keep exception\u001b[39;00m\n\u001b[0;32m   5923\u001b[0m     \u001b[39m#  message tests from raising while debugging\u001b[39;00m\n\u001b[0;32m   5924\u001b[0m     use_interval_msg \u001b[39m=\u001b[39m is_interval_dtype(\u001b[39mself\u001b[39m\u001b[39m.\u001b[39mdtype) \u001b[39mor\u001b[39;00m (\n\u001b[0;32m   5925\u001b[0m         is_categorical_dtype(\u001b[39mself\u001b[39m\u001b[39m.\u001b[39mdtype)\n\u001b[0;32m   5926\u001b[0m         \u001b[39m# \"Index\" has no attribute \"categories\"  [attr-defined]\u001b[39;00m\n\u001b[1;32m   (...)\u001b[0m\n\u001b[0;32m   5929\u001b[0m         )\n\u001b[0;32m   5930\u001b[0m     )\n",
      "\u001b[1;31mKeyboardInterrupt\u001b[0m: "
     ]
    }
   ],
   "source": [
    "if not os.path.exists(ALL_X_TRAIN_CLASSIFY_PATH):\n",
    "    processData(ALL_X_TRAIN, ALL_Y_TRAIN_MOTION, ALL_Y_TRAIN_MOTIONTYPE, ALL_Y_TRAIN_MOTIONSPEED)\n",
    "\n",
    "ALL_X_TRAIN_CLASSIFY = np.load(ALL_X_TRAIN_CLASSIFY_PATH)\n",
    "ALL_Y_TRAIN_CLASSIFY_MOTION = np.load(ALL_Y_TRAIN_CLASSIFY_MOTION_PATH)\n",
    "ALL_Y_TRAIN_CLASSIFY_MOTIONTYPE = np.load(ALL_Y_TRAIN_CLASSIFY_MOTIONTYPE_PATH)\n",
    "ALL_Y_TRAIN_CLASSIFY_MOTIONSPEED = np.load(ALL_Y_TRAIN_CLASSIFY_MOTIONSPEED_PATH)\n",
    "\n",
    "print(ALL_X_TRAIN_CLASSIFY.shape)\n",
    "print(ALL_Y_TRAIN_CLASSIFY_MOTION.shape)\n",
    "print(ALL_Y_TRAIN_CLASSIFY_MOTIONTYPE.shape)\n",
    "print(ALL_Y_TRAIN_CLASSIFY_MOTIONSPEED.shape)"
   ]
  }
 ],
 "metadata": {
  "kernelspec": {
   "display_name": "Python 3",
   "language": "python",
   "name": "python3"
  },
  "language_info": {
   "codemirror_mode": {
    "name": "ipython",
    "version": 3
   },
   "file_extension": ".py",
   "mimetype": "text/x-python",
   "name": "python",
   "nbconvert_exporter": "python",
   "pygments_lexer": "ipython3",
   "version": "3.11.3"
  },
  "orig_nbformat": 4
 },
 "nbformat": 4,
 "nbformat_minor": 2
}
