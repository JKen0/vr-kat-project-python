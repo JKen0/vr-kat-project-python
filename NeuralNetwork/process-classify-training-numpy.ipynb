{
 "cells": [
  {
   "cell_type": "code",
   "execution_count": 80,
   "metadata": {},
   "outputs": [],
   "source": [
    "import os\n",
    "import pandas as pd\n",
    "import numpy as np"
   ]
  },
  {
   "cell_type": "code",
   "execution_count": 81,
   "metadata": {},
   "outputs": [],
   "source": [
    "WINDOW_SIZE = 25\n",
    "NUMBER_OF_FEATURES = 4\n",
    "NUMBER_OF_CLASSES = 2\n",
    "\n",
    "MOTION_CLASSES = ['STAND', 'STEPS']\n",
    "MOTIONTYPE_CLASSES = ['SML', 'MED', 'LAR']\n",
    "MOTIONSPEED_CLASSES = ['SLOW', 'AVERAGE', 'FAST']\n",
    "\n",
    "\n",
    "# Get the current working directory\n",
    "CURRENT_DIRECTORY = os.getcwd()\n",
    "# Get the parent directory\n",
    "PARENT_DIRECTORY = os.path.dirname(CURRENT_DIRECTORY)\n",
    "\n",
    "DATA_FOLDER = PARENT_DIRECTORY + '\\\\processed-training-data\\\\4-PROCESSED-DATA\\TRAIN2\\\\'\n",
    "\n",
    "# numpy data folder\n",
    "NUMPY_DATA_FOLDER_FILE_PATH = PARENT_DIRECTORY + '\\\\NeuralNetwork\\\\np-saved-data\\\\'\n",
    "\n",
    "# v0 data (not normalized, use to generate more data)\n",
    "ALL_X_TRAIN_CLASSIFY_PATH = PARENT_DIRECTORY + '\\\\NeuralNetwork\\\\np-saved-data\\\\training\\\\ALL-X-TRAIN-CLASSIFY-V0.npy'\n",
    "ALL_Y_TRAIN_CLASSIFY_MOTION_PATH = PARENT_DIRECTORY + '\\\\NeuralNetwork\\\\np-saved-data\\\\training\\\\ALL-Y-TRAIN-CLASSIFY-MOTION-V0.npy'\n",
    "ALL_Y_TRAIN_CLASSIFY_MOTIONTYPE_PATH = PARENT_DIRECTORY + '\\\\NeuralNetwork\\\\np-saved-data\\\\training\\\\ALL-Y-TRAIN-CLASSIFY-MOTIONTYPE-V0.npy'\n",
    "ALL_Y_TRAIN_CLASSIFY_MOTIONSPEED_PATH = PARENT_DIRECTORY + '\\\\NeuralNetwork\\\\np-saved-data\\\\training\\\\ALL-Y-TRAIN-CLASSIFY-MOTIONSPEED-V0.npy'"
   ]
  },
  {
   "cell_type": "code",
   "execution_count": 82,
   "metadata": {},
   "outputs": [],
   "source": [
    "LABEL_TO_CATEGORY_MOTION = {label: category for category, label in enumerate(MOTION_CLASSES)}\n",
    "LABEL_TO_CATEGORY_MOTIONTYPE = {label: category for category, label in enumerate(MOTIONTYPE_CLASSES)}\n",
    "LABEL_TO_CATEGORY_MOTIONSPEED = {label: category for category, label in enumerate(MOTIONSPEED_CLASSES)}"
   ]
  },
  {
   "cell_type": "code",
   "execution_count": 83,
   "metadata": {},
   "outputs": [
    {
     "name": "stdout",
     "output_type": "stream",
     "text": [
      "['PROC-TRAIN2-STAND1.xlsx', 'PROC-TRAIN2-STAND2.xlsx', 'PROC-TRAIN2-STAND3.xlsx', 'PROC-TRAIN2-STEPS-LR-LAR-100BPM.xlsx', 'PROC-TRAIN2-STEPS-LR-LAR-110BPM.xlsx', 'PROC-TRAIN2-STEPS-LR-LAR-120BPM-AUGMENT.xlsx', 'PROC-TRAIN2-STEPS-LR-LAR-160BPM-AUGMENT.xlsx', 'PROC-TRAIN2-STEPS-LR-LAR-200BPM-AUGMENT.xlsx', 'PROC-TRAIN2-STEPS-LR-LAR-220BPM-AUGMENT.xlsx', 'PROC-TRAIN2-STEPS-LR-LAR-30BPM-AUGMENT.xlsx', 'PROC-TRAIN2-STEPS-LR-LAR-40BPM-AUGMENT.xlsx', 'PROC-TRAIN2-STEPS-LR-LAR-50BPM-AUGMENT.xlsx', 'PROC-TRAIN2-STEPS-LR-LAR-55BPM-AUGMENT.xlsx', 'PROC-TRAIN2-STEPS-LR-LAR-60BPM.xlsx', 'PROC-TRAIN2-STEPS-LR-LAR-80BPM.xlsx', 'PROC-TRAIN2-STEPS-LR-MED-100BPM.xlsx', 'PROC-TRAIN2-STEPS-LR-MED-110BPM.xlsx', 'PROC-TRAIN2-STEPS-LR-MED-120BPM-AUGMENT.xlsx', 'PROC-TRAIN2-STEPS-LR-MED-160BPM-AUGMENT.xlsx', 'PROC-TRAIN2-STEPS-LR-MED-200BPM-AUGMENT.xlsx', 'PROC-TRAIN2-STEPS-LR-MED-220BPM-AUGMENT.xlsx', 'PROC-TRAIN2-STEPS-LR-MED-30BPM-AUGMENT.xlsx', 'PROC-TRAIN2-STEPS-LR-MED-40BPM-AUGMENT.xlsx', 'PROC-TRAIN2-STEPS-LR-MED-50BPM-AUGMENT.xlsx', 'PROC-TRAIN2-STEPS-LR-MED-55BPM-AUGMENT.xlsx', 'PROC-TRAIN2-STEPS-LR-MED-60BPM.xlsx', 'PROC-TRAIN2-STEPS-LR-MED-80BPM.xlsx', '~$PROC-TRAIN2-STEPS-LR-MED-100BPM.xlsx']\n"
     ]
    }
   ],
   "source": [
    "file_names = [file for file in os.listdir(DATA_FOLDER) if file.endswith('.xlsx') and os.path.isfile(os.path.join(DATA_FOLDER, file))]\n",
    "\n",
    "print(file_names)"
   ]
  },
  {
   "cell_type": "code",
   "execution_count": 84,
   "metadata": {},
   "outputs": [],
   "source": [
    "def normalizeSensorData(sensor_input):\n",
    "    return (sensor_input + 180)/360\n"
   ]
  },
  {
   "cell_type": "code",
   "execution_count": 85,
   "metadata": {},
   "outputs": [],
   "source": [
    "def df2Xy(df, windowSize=5):\n",
    "  X = []\n",
    "  y_Motion= []\n",
    "  y_MotionType = []\n",
    "  y_MotionSpeed = []\n",
    "\n",
    "  for i in range( len(df) - windowSize + 1):\n",
    "    # inputs: X rows\n",
    "    # form a new input which has size of our windowSize\n",
    "    input = []\n",
    "\n",
    "    # loop through each row in our windowsize\n",
    "    for j in range(windowSize):\n",
    "        # fetch sensor data for this row\n",
    "        row_values = df.loc[i + j, ['L_Pitch', 'L_Roll', 'R_Pitch', 'R_Roll']].values.tolist()\n",
    "\n",
    "        # add row values to the input\n",
    "        input.append(row_values)\n",
    "\n",
    "    # add our input to our total inputs, marked as X\n",
    "    X.append(input)\n",
    "\n",
    "  y_Motion = df.iloc[windowSize - 1:, df.columns.get_loc('Class_Motion')].tolist()\n",
    "  y_MotionType = df.iloc[windowSize - 1:, df.columns.get_loc('Class_MotionType')].tolist()\n",
    "  y_MotionSpeed = df.iloc[windowSize - 1:, df.columns.get_loc('Class_MotionSpeed')].tolist()\n",
    "\n",
    "\n",
    "  return (np.array(X), np.array(y_Motion), np.array(y_MotionType), np.array(y_MotionSpeed))"
   ]
  },
  {
   "cell_type": "code",
   "execution_count": 86,
   "metadata": {},
   "outputs": [],
   "source": [
    "ALL_X_TRAIN = np.empty((0, WINDOW_SIZE, NUMBER_OF_FEATURES))  # List to store all X training data\n",
    "ALL_Y_TRAIN_MOTION = np.empty((0))  # List to store all Y training data\n",
    "ALL_Y_TRAIN_MOTIONTYPE = np.empty((0))  # List to store all Y training data\n",
    "ALL_Y_TRAIN_MOTIONSPEED = np.empty((0))  # List to store all Y training data"
   ]
  },
  {
   "cell_type": "code",
   "execution_count": 87,
   "metadata": {},
   "outputs": [],
   "source": [
    "def processData(ALL_X_TRAIN, ALL_Y_TRAIN_MOTION, ALL_Y_TRAIN_MOTIONTYPE, ALL_Y_TRAIN_MOTIONSPEED):\n",
    "    for fileName in file_names:\n",
    "        # Read the Excel file\n",
    "        df = pd.read_excel(DATA_FOLDER + fileName)\n",
    "\n",
    "        # NORMALIZE THE SENSOR DATA\n",
    "        df[\"L_Pitch\"] = df[\"L_Pitch\"].apply(normalizeSensorData)\n",
    "        df[\"L_Roll\"] = df[\"L_Roll\"].apply(normalizeSensorData)\n",
    "        df[\"R_Pitch\"] = df[\"R_Pitch\"].apply(normalizeSensorData)\n",
    "        df[\"R_Roll\"] = df[\"R_Roll\"].apply(normalizeSensorData)\n",
    "\n",
    "        xTrain, yTrain_Motion, yTrain_MotionType, yTrain_MotionSpeed = df2Xy(df, WINDOW_SIZE)\n",
    "        \n",
    "        ALL_X_TRAIN = np.concatenate([ALL_X_TRAIN, xTrain])\n",
    "        ALL_Y_TRAIN_MOTION = np.concatenate([ALL_Y_TRAIN_MOTION, yTrain_Motion])\n",
    "        ALL_Y_TRAIN_MOTIONTYPE = np.concatenate([ALL_Y_TRAIN_MOTIONTYPE, yTrain_MotionType])\n",
    "        ALL_Y_TRAIN_MOTIONSPEED = np.concatenate([ALL_Y_TRAIN_MOTIONSPEED, yTrain_MotionSpeed])\n",
    "        \n",
    "        print('xTrain.shape:', xTrain.shape)\n",
    "        print('ALL_X_TRAIN.shape:', ALL_X_TRAIN.shape, ' ALL_Y_TRAIN_CURRVEL.shape:', ALL_Y_TRAIN_MOTION.shape)\n",
    "        print('-------------------------------')\n",
    "\n",
    "    # Create the folder if it doesn't exist\n",
    "    if not os.path.exists(NUMPY_DATA_FOLDER_FILE_PATH):\n",
    "        os.makedirs(NUMPY_DATA_FOLDER_FILE_PATH)\n",
    "\n",
    "    # convert to numerical labels (originally text labels)\n",
    "    numerical_motion_label = np.vectorize(LABEL_TO_CATEGORY_MOTION.get)(ALL_Y_TRAIN_MOTION)\n",
    "    numerical_motiontype_label = np.vectorize(LABEL_TO_CATEGORY_MOTIONTYPE.get)(ALL_Y_TRAIN_MOTIONTYPE)\n",
    "    numerical_motionspeed_label = np.vectorize(LABEL_TO_CATEGORY_MOTIONSPEED.get)(ALL_Y_TRAIN_MOTIONSPEED)\n",
    "    \n",
    "\n",
    "    # Assuming your numpy array is called 'data_array'\n",
    "    np.save(ALL_X_TRAIN_CLASSIFY_PATH, ALL_X_TRAIN)\n",
    "    np.save(ALL_Y_TRAIN_CLASSIFY_MOTION_PATH, numerical_motion_label)\n",
    "    np.save(ALL_Y_TRAIN_CLASSIFY_MOTIONTYPE_PATH, numerical_motiontype_label)\n",
    "    np.save(ALL_Y_TRAIN_CLASSIFY_MOTIONSPEED_PATH, numerical_motionspeed_label)\n"
   ]
  },
  {
   "cell_type": "code",
   "execution_count": 88,
   "metadata": {},
   "outputs": [
    {
     "name": "stdout",
     "output_type": "stream",
     "text": [
      "xTrain.shape: (1335, 25, 4)\n",
      "ALL_X_TRAIN.shape: (1335, 25, 4)  ALL_Y_TRAIN_CURRVEL.shape: (1335,)\n",
      "-------------------------------\n",
      "xTrain.shape: (3288, 25, 4)\n",
      "ALL_X_TRAIN.shape: (4623, 25, 4)  ALL_Y_TRAIN_CURRVEL.shape: (4623,)\n",
      "-------------------------------\n",
      "xTrain.shape: (1743, 25, 4)\n",
      "ALL_X_TRAIN.shape: (6366, 25, 4)  ALL_Y_TRAIN_CURRVEL.shape: (6366,)\n",
      "-------------------------------\n",
      "xTrain.shape: (3381, 25, 4)\n",
      "ALL_X_TRAIN.shape: (9747, 25, 4)  ALL_Y_TRAIN_CURRVEL.shape: (9747,)\n",
      "-------------------------------\n",
      "xTrain.shape: (3274, 25, 4)\n",
      "ALL_X_TRAIN.shape: (13021, 25, 4)  ALL_Y_TRAIN_CURRVEL.shape: (13021,)\n",
      "-------------------------------\n",
      "xTrain.shape: (3773, 25, 4)\n",
      "ALL_X_TRAIN.shape: (16794, 25, 4)  ALL_Y_TRAIN_CURRVEL.shape: (16794,)\n",
      "-------------------------------\n",
      "xTrain.shape: (3072, 25, 4)\n",
      "ALL_X_TRAIN.shape: (19866, 25, 4)  ALL_Y_TRAIN_CURRVEL.shape: (19866,)\n",
      "-------------------------------\n",
      "xTrain.shape: (3381, 25, 4)\n",
      "ALL_X_TRAIN.shape: (23247, 25, 4)  ALL_Y_TRAIN_CURRVEL.shape: (23247,)\n",
      "-------------------------------\n",
      "xTrain.shape: (3274, 25, 4)\n",
      "ALL_X_TRAIN.shape: (26521, 25, 4)  ALL_Y_TRAIN_CURRVEL.shape: (26521,)\n",
      "-------------------------------\n",
      "xTrain.shape: (7565, 25, 4)\n",
      "ALL_X_TRAIN.shape: (34086, 25, 4)  ALL_Y_TRAIN_CURRVEL.shape: (34086,)\n",
      "-------------------------------\n",
      "xTrain.shape: (6164, 25, 4)\n",
      "ALL_X_TRAIN.shape: (40250, 25, 4)  ALL_Y_TRAIN_CURRVEL.shape: (40250,)\n",
      "-------------------------------\n",
      "xTrain.shape: (6782, 25, 4)\n",
      "ALL_X_TRAIN.shape: (47032, 25, 4)  ALL_Y_TRAIN_CURRVEL.shape: (47032,)\n",
      "-------------------------------\n",
      "xTrain.shape: (6568, 25, 4)\n",
      "ALL_X_TRAIN.shape: (53600, 25, 4)  ALL_Y_TRAIN_CURRVEL.shape: (53600,)\n",
      "-------------------------------\n"
     ]
    }
   ],
   "source": [
    "if not os.path.exists(ALL_X_TRAIN_CLASSIFY_PATH):\n",
    "    processData(ALL_X_TRAIN, ALL_Y_TRAIN_MOTION, ALL_Y_TRAIN_MOTIONTYPE, ALL_Y_TRAIN_MOTIONSPEED)\n",
    "\n",
    "ALL_X_TRAIN_CLASSIFY = np.load(ALL_X_TRAIN_CLASSIFY_PATH)\n",
    "ALL_Y_TRAIN_CLASSIFY_MOTION = np.load(ALL_Y_TRAIN_CLASSIFY_MOTION_PATH)\n",
    "ALL_Y_TRAIN_CLASSIFY_MOTIONTYPE = np.load(ALL_Y_TRAIN_CLASSIFY_MOTIONTYPE_PATH)\n",
    "ALL_Y_TRAIN_CLASSIFY_MOTIONSPEED = np.load(ALL_Y_TRAIN_CLASSIFY_MOTIONSPEED_PATH)\n",
    "\n",
    "print(ALL_X_TRAIN_CLASSIFY.shape)\n",
    "print(ALL_Y_TRAIN_CLASSIFY_MOTION.shape)\n"
   ]
  }
 ],
 "metadata": {
  "kernelspec": {
   "display_name": "Python 3",
   "language": "python",
   "name": "python3"
  },
  "language_info": {
   "codemirror_mode": {
    "name": "ipython",
    "version": 3
   },
   "file_extension": ".py",
   "mimetype": "text/x-python",
   "name": "python",
   "nbconvert_exporter": "python",
   "pygments_lexer": "ipython3",
   "version": "3.11.3"
  },
  "orig_nbformat": 4
 },
 "nbformat": 4,
 "nbformat_minor": 2
}
