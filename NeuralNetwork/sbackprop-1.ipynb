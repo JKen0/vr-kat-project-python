{
 "cells": [
  {
   "cell_type": "code",
   "execution_count": 11,
   "metadata": {},
   "outputs": [],
   "source": [
    "import os\n",
    "import numpy as np\n",
    "from tensorflow.keras.models import Sequential\n",
    "from tensorflow.keras.layers import LSTM, Dense, InputLayer, Dropout, Flatten\n",
    "from tensorflow.keras.callbacks import ModelCheckpoint\n",
    "from tensorflow.keras.losses import MeanSquaredError, MeanAbsoluteError\n",
    "from tensorflow.keras.metrics import RootMeanSquaredError\n",
    "from tensorflow.keras.optimizers import Adam"
   ]
  },
  {
   "cell_type": "code",
   "execution_count": 12,
   "metadata": {},
   "outputs": [],
   "source": [
    "WINDOW_SIZE = 25\n",
    "NUMBER_OF_FEATURES = 4\n",
    "NUMBER_OF_CLASSES = 2\n",
    "\n",
    "# Get the current working directory\n",
    "CURRENT_DIRECTORY = os.getcwd()\n",
    "\n",
    "ALL_X_TRAINING_DATA_PATH = CURRENT_DIRECTORY + '\\\\np-saved-data\\\\training\\\\ALL-X-TRAIN-NOVEL-V2.npy'\n",
    "ALL_Y_TRAINING_DATA_PATH = CURRENT_DIRECTORY + '\\\\np-saved-data\\\\training\\\\ALL-Y-TRAIN-NOVEL-V2.npy'\n",
    "\n",
    "ALL_X_TEST_DATA_PATH = CURRENT_DIRECTORY + '\\\\np-saved-data\\\\test\\\\ALL-X-TEST-NOVEL-V2.npy'\n",
    "ALL_Y_TEST_DATA_PATH = CURRENT_DIRECTORY + '\\\\np-saved-data\\\\test\\\\ALL-Y-TEST-NOVEL-V2.npy'\n",
    "\n",
    "MODEL_SAVE_PATH =  CURRENT_DIRECTORY + '\\\\models\\\\standard-backprop-1.h5'"
   ]
  },
  {
   "cell_type": "code",
   "execution_count": 4,
   "metadata": {},
   "outputs": [
    {
     "name": "stdout",
     "output_type": "stream",
     "text": [
      "(229679, 10, 4)\n",
      "(128545, 10, 4)\n",
      "(229679, 2)\n",
      "(128545, 2)\n"
     ]
    }
   ],
   "source": [
    "ALL_X_TRAIN_DATA = np.load(ALL_X_TRAINING_DATA_PATH)\n",
    "ALL_Y_TRAIN_DATA = np.load(ALL_Y_TRAINING_DATA_PATH)\n",
    "\n",
    "ALL_X_TEST_DATA = np.load(ALL_X_TEST_DATA_PATH)\n",
    "ALL_Y_TEST_DATA = np.load(ALL_Y_TEST_DATA_PATH)\n",
    "\n",
    "\n",
    "print(ALL_X_TRAIN_DATA.shape)\n",
    "print(ALL_X_TEST_DATA.shape)\n",
    "\n",
    "print(ALL_Y_TRAIN_DATA.shape)\n",
    "print(ALL_Y_TEST_DATA.shape)"
   ]
  },
  {
   "cell_type": "code",
   "execution_count": 5,
   "metadata": {},
   "outputs": [],
   "source": [
    "# Generate random permutation indices\n",
    "random_indices_1 = np.random.permutation(len(ALL_X_TRAIN_DATA))\n",
    "\n",
    "\n",
    "# Shuffle the input features and target labels using the random indices\n",
    "shuffled_X_TRAIN_DATA = ALL_X_TRAIN_DATA[random_indices_1]\n",
    "shuffled_Y_TRAIN_DATA = ALL_Y_TRAIN_DATA[random_indices_1]"
   ]
  },
  {
   "cell_type": "code",
   "execution_count": 6,
   "metadata": {},
   "outputs": [],
   "source": [
    "# Generate random permutation indices\n",
    "random_indices_2 = np.random.permutation(len(ALL_X_TEST_DATA))\n",
    "\n",
    "\n",
    "# Shuffle the input features and target labels using the random indices\n",
    "shuffled_X_TEST_DATA = ALL_X_TEST_DATA[random_indices_2]\n",
    "shuffled_Y_TEST_DATA = ALL_Y_TEST_DATA[random_indices_2]"
   ]
  },
  {
   "cell_type": "code",
   "execution_count": 7,
   "metadata": {},
   "outputs": [
    {
     "name": "stdout",
     "output_type": "stream",
     "text": [
      "Model: \"sequential\"\n",
      "_________________________________________________________________\n",
      " Layer (type)                Output Shape              Param #   \n",
      "=================================================================\n",
      " flatten (Flatten)           (None, 40)                0         \n",
      "                                                                 \n",
      " dense (Dense)               (None, 32)                1312      \n",
      "                                                                 \n",
      " dense_1 (Dense)             (None, 16)                528       \n",
      "                                                                 \n",
      " dense_2 (Dense)             (None, 8)                 136       \n",
      "                                                                 \n",
      " dense_3 (Dense)             (None, 2)                 18        \n",
      "                                                                 \n",
      "=================================================================\n",
      "Total params: 1,994\n",
      "Trainable params: 1,994\n",
      "Non-trainable params: 0\n",
      "_________________________________________________________________\n"
     ]
    }
   ],
   "source": [
    "model2 = Sequential()\n",
    "model2.add(InputLayer((WINDOW_SIZE, NUMBER_OF_FEATURES)))\n",
    "model2.add(Flatten())\n",
    "model2.add(Dense(32, 'relu'))\n",
    "model2.add(Dense(16, 'relu'))\n",
    "model2.add(Dense(8, 'relu'))\n",
    "model2.add(Dense(NUMBER_OF_CLASSES, 'linear'))\n",
    "\n",
    "model2.summary()"
   ]
  },
  {
   "cell_type": "code",
   "execution_count": 13,
   "metadata": {},
   "outputs": [],
   "source": [
    "model2.compile(loss=MeanAbsoluteError(), optimizer=Adam(learning_rate=0.01), metrics=['acc']) #metrics=[RootMeanSquaredError()])"
   ]
  },
  {
   "cell_type": "code",
   "execution_count": 14,
   "metadata": {},
   "outputs": [
    {
     "name": "stdout",
     "output_type": "stream",
     "text": [
      "Epoch 1/20\n",
      "7178/7178 [==============================] - 8s 1ms/step - loss: 0.0022 - acc: 1.0000 - val_loss: 0.0013 - val_acc: 1.0000\n",
      "Epoch 2/20\n",
      "7178/7178 [==============================] - 7s 1ms/step - loss: 9.0869e-04 - acc: 1.0000 - val_loss: 0.0013 - val_acc: 1.0000\n",
      "Epoch 3/20\n",
      "7178/7178 [==============================] - 7s 1ms/step - loss: 6.4525e-04 - acc: 1.0000 - val_loss: 3.8768e-04 - val_acc: 1.0000\n",
      "Epoch 4/20\n",
      "7178/7178 [==============================] - 7s 1ms/step - loss: 6.4532e-04 - acc: 1.0000 - val_loss: 2.9136e-04 - val_acc: 1.0000\n",
      "Epoch 5/20\n",
      "7178/7178 [==============================] - 7s 994us/step - loss: 6.4535e-04 - acc: 1.0000 - val_loss: 1.7949e-04 - val_acc: 1.0000\n",
      "Epoch 6/20\n",
      "7178/7178 [==============================] - 7s 1ms/step - loss: 6.4533e-04 - acc: 1.0000 - val_loss: 3.9125e-04 - val_acc: 1.0000\n",
      "Epoch 7/20\n",
      "7178/7178 [==============================] - 7s 1ms/step - loss: 6.4520e-04 - acc: 1.0000 - val_loss: 8.2367e-04 - val_acc: 1.0000\n",
      "Epoch 8/20\n",
      "7178/7178 [==============================] - 7s 1ms/step - loss: 6.4513e-04 - acc: 1.0000 - val_loss: 0.0011 - val_acc: 1.0000\n",
      "Epoch 9/20\n",
      "7178/7178 [==============================] - 7s 1ms/step - loss: 6.4526e-04 - acc: 1.0000 - val_loss: 9.4848e-04 - val_acc: 1.0000\n",
      "Epoch 10/20\n",
      "7178/7178 [==============================] - 7s 1ms/step - loss: 6.4522e-04 - acc: 1.0000 - val_loss: 7.8605e-04 - val_acc: 1.0000\n",
      "Epoch 11/20\n",
      "7178/7178 [==============================] - 8s 1ms/step - loss: 6.4520e-04 - acc: 1.0000 - val_loss: 6.4485e-04 - val_acc: 1.0000\n",
      "Epoch 12/20\n",
      "7178/7178 [==============================] - 7s 1ms/step - loss: 6.4517e-04 - acc: 1.0000 - val_loss: 8.0745e-04 - val_acc: 1.0000\n",
      "Epoch 13/20\n",
      "7178/7178 [==============================] - 7s 1ms/step - loss: 6.4527e-04 - acc: 1.0000 - val_loss: 9.7870e-05 - val_acc: 1.0000\n",
      "Epoch 14/20\n",
      "7178/7178 [==============================] - 8s 1ms/step - loss: 6.4532e-04 - acc: 1.0000 - val_loss: 2.6234e-04 - val_acc: 1.0000\n",
      "Epoch 15/20\n",
      "7178/7178 [==============================] - 7s 1ms/step - loss: 6.4531e-04 - acc: 1.0000 - val_loss: 5.5179e-04 - val_acc: 1.0000\n",
      "Epoch 16/20\n",
      "7178/7178 [==============================] - 7s 1ms/step - loss: 6.4531e-04 - acc: 1.0000 - val_loss: 7.7653e-04 - val_acc: 1.0000\n",
      "Epoch 17/20\n",
      "7178/7178 [==============================] - 7s 1ms/step - loss: 6.4519e-04 - acc: 1.0000 - val_loss: 9.9808e-04 - val_acc: 1.0000\n",
      "Epoch 18/20\n",
      "7178/7178 [==============================] - 8s 1ms/step - loss: 6.4515e-04 - acc: 1.0000 - val_loss: 9.0647e-04 - val_acc: 1.0000\n",
      "Epoch 19/20\n",
      "7178/7178 [==============================] - 7s 1ms/step - loss: 6.4528e-04 - acc: 1.0000 - val_loss: 4.8459e-04 - val_acc: 1.0000\n",
      "Epoch 20/20\n",
      "7178/7178 [==============================] - 7s 1ms/step - loss: 6.4523e-04 - acc: 1.0000 - val_loss: 4.9618e-04 - val_acc: 1.0000\n"
     ]
    }
   ],
   "source": [
    "history2 = model2.fit(shuffled_X_TRAIN_DATA, shuffled_Y_TRAIN_DATA, validation_data=(shuffled_X_TEST_DATA, shuffled_Y_TEST_DATA), epochs=20)\n",
    "\n",
    "# Save the model to a file\n",
    "model2.save(MODEL_SAVE_PATH)"
   ]
  },
  {
   "cell_type": "code",
   "execution_count": 39,
   "metadata": {},
   "outputs": [],
   "source": []
  }
 ],
 "metadata": {
  "kernelspec": {
   "display_name": "Python 3",
   "language": "python",
   "name": "python3"
  },
  "language_info": {
   "codemirror_mode": {
    "name": "ipython",
    "version": 3
   },
   "file_extension": ".py",
   "mimetype": "text/x-python",
   "name": "python",
   "nbconvert_exporter": "python",
   "pygments_lexer": "ipython3",
   "version": "3.11.3"
  },
  "orig_nbformat": 4
 },
 "nbformat": 4,
 "nbformat_minor": 2
}
