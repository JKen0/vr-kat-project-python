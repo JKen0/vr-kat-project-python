{
 "cells": [
  {
   "cell_type": "code",
   "execution_count": 29,
   "metadata": {},
   "outputs": [],
   "source": [
    "import os\n",
    "import numpy as np\n",
    "from tensorflow.keras.models import Sequential\n",
    "from tensorflow.keras.layers import LSTM, Dense, InputLayer, Dropout, Flatten\n",
    "from tensorflow.keras.callbacks import ModelCheckpoint\n",
    "from tensorflow.keras.losses import MeanSquaredError\n",
    "from tensorflow.keras.metrics import RootMeanSquaredError\n",
    "from tensorflow.keras.optimizers import Adam"
   ]
  },
  {
   "cell_type": "code",
   "execution_count": 38,
   "metadata": {},
   "outputs": [],
   "source": [
    "WINDOW_SIZE = 10\n",
    "NUMBER_OF_FEATURES = 4\n",
    "NUMBER_OF_CLASSES = 2\n",
    "\n",
    "# Get the current working directory\n",
    "CURRENT_DIRECTORY = os.getcwd()\n",
    "\n",
    "ALL_X_TRAINING_DATA_PATH = CURRENT_DIRECTORY + '\\\\np-saved-data\\\\training\\\\ALL-X-TRAIN-NOVEL-V2.npy'\n",
    "ALL_Y_TRAINING_DATA_PATH = CURRENT_DIRECTORY + '\\\\np-saved-data\\\\training\\\\ALL-Y-TRAIN-NOVEL-V2.npy'\n",
    "\n",
    "ALL_X_TEST_DATA_PATH = CURRENT_DIRECTORY + '\\\\np-saved-data\\\\test\\\\ALL-X-TEST-NOVEL-V2.npy'\n",
    "ALL_Y_TEST_DATA_PATH = CURRENT_DIRECTORY + '\\\\np-saved-data\\\\test\\\\ALL-Y-TEST-NOVEL-V2.npy'\n",
    "\n",
    "MODEL_SAVE_PATH =  CURRENT_DIRECTORY + '\\\\models\\\\standard-backprop-1.h5'"
   ]
  },
  {
   "cell_type": "code",
   "execution_count": 27,
   "metadata": {},
   "outputs": [
    {
     "name": "stdout",
     "output_type": "stream",
     "text": [
      "(229679, 10, 4)\n",
      "(128545, 10, 4)\n",
      "(229679, 2)\n",
      "(128545, 2)\n"
     ]
    }
   ],
   "source": [
    "ALL_X_TRAIN_DATA = np.load(ALL_X_TRAINING_DATA_PATH)\n",
    "ALL_Y_TRAIN_DATA = np.load(ALL_Y_TRAINING_DATA_PATH)\n",
    "\n",
    "ALL_X_TEST_DATA = np.load(ALL_X_TEST_DATA_PATH)\n",
    "ALL_Y_TEST_DATA = np.load(ALL_Y_TEST_DATA_PATH)\n",
    "\n",
    "\n",
    "print(ALL_X_TRAIN_DATA.shape)\n",
    "print(ALL_X_TEST_DATA.shape)\n",
    "\n",
    "print(ALL_Y_TRAIN_DATA.shape)\n",
    "print(ALL_Y_TEST_DATA.shape)"
   ]
  },
  {
   "cell_type": "code",
   "execution_count": 9,
   "metadata": {},
   "outputs": [],
   "source": [
    "# Generate random permutation indices\n",
    "random_indices_1 = np.random.permutation(len(ALL_X_TRAIN_DATA))\n",
    "\n",
    "\n",
    "# Shuffle the input features and target labels using the random indices\n",
    "shuffled_X_TRAIN_DATA = ALL_X_TRAIN_DATA[random_indices_1]\n",
    "shuffled_Y_TRAIN_DATA = ALL_Y_TRAIN_DATA[random_indices_1]"
   ]
  },
  {
   "cell_type": "code",
   "execution_count": 10,
   "metadata": {},
   "outputs": [],
   "source": [
    "# Generate random permutation indices\n",
    "random_indices_2 = np.random.permutation(len(ALL_X_TEST_DATA))\n",
    "\n",
    "\n",
    "# Shuffle the input features and target labels using the random indices\n",
    "shuffled_X_TEST_DATA = ALL_X_TEST_DATA[random_indices_2]\n",
    "shuffled_Y_TEST_DATA = ALL_Y_TEST_DATA[random_indices_2]"
   ]
  },
  {
   "cell_type": "code",
   "execution_count": 33,
   "metadata": {},
   "outputs": [
    {
     "name": "stdout",
     "output_type": "stream",
     "text": [
      "Model: \"sequential_6\"\n",
      "_________________________________________________________________\n",
      " Layer (type)                Output Shape              Param #   \n"
     ]
    },
    {
     "name": "stdout",
     "output_type": "stream",
     "text": [
      "=================================================================\n",
      " flatten_1 (Flatten)         (None, 40)                0         \n",
      "                                                                 \n",
      " dense_20 (Dense)            (None, 32)                1312      \n",
      "                                                                 \n",
      " dense_21 (Dense)            (None, 16)                528       \n",
      "                                                                 \n",
      " dense_22 (Dense)            (None, 2)                 34        \n",
      "                                                                 \n",
      "=================================================================\n",
      "Total params: 1,874\n",
      "Trainable params: 1,874\n",
      "Non-trainable params: 0\n",
      "_________________________________________________________________\n"
     ]
    }
   ],
   "source": [
    "model2 = Sequential()\n",
    "model2.add(InputLayer((WINDOW_SIZE, NUMBER_OF_FEATURES)))\n",
    "model2.add(Flatten())\n",
    "model2.add(Dense(32, 'relu'))\n",
    "model2.add(Dense(16, 'relu'))\n",
    "model2.add(Dense(NUMBER_OF_CLASSES, 'linear'))\n",
    "\n",
    "model2.summary()"
   ]
  },
  {
   "cell_type": "code",
   "execution_count": 34,
   "metadata": {},
   "outputs": [],
   "source": [
    "model2.compile(loss=MeanSquaredError(), optimizer=Adam(learning_rate=0.0001), metrics=['acc']) #metrics=[RootMeanSquaredError()])"
   ]
  },
  {
   "cell_type": "code",
   "execution_count": 35,
   "metadata": {},
   "outputs": [
    {
     "name": "stdout",
     "output_type": "stream",
     "text": [
      "Epoch 1/20\n",
      "7178/7178 [==============================] - 8s 1ms/step - loss: 0.0029 - acc: 1.0000 - val_loss: 4.3379e-04 - val_acc: 1.0000\n",
      "Epoch 2/20\n",
      "7178/7178 [==============================] - 7s 1ms/step - loss: 3.0425e-05 - acc: 1.0000 - val_loss: 1.7794e-04 - val_acc: 1.0000\n",
      "Epoch 3/20\n",
      "7178/7178 [==============================] - 7s 1ms/step - loss: 1.1309e-05 - acc: 1.0000 - val_loss: 8.2028e-05 - val_acc: 1.0000\n",
      "Epoch 4/20\n",
      "7178/7178 [==============================] - 7s 1ms/step - loss: 5.6740e-06 - acc: 1.0000 - val_loss: 4.1913e-05 - val_acc: 1.0000\n",
      "Epoch 5/20\n",
      "7178/7178 [==============================] - 8s 1ms/step - loss: 3.1713e-06 - acc: 1.0000 - val_loss: 2.2779e-05 - val_acc: 1.0000\n",
      "Epoch 6/20\n",
      "7178/7178 [==============================] - 8s 1ms/step - loss: 1.9484e-06 - acc: 1.0000 - val_loss: 9.0716e-06 - val_acc: 1.0000\n",
      "Epoch 7/20\n",
      "7178/7178 [==============================] - 8s 1ms/step - loss: 1.2523e-06 - acc: 1.0000 - val_loss: 8.2548e-06 - val_acc: 1.0000\n",
      "Epoch 8/20\n",
      "7178/7178 [==============================] - 8s 1ms/step - loss: 8.4094e-07 - acc: 1.0000 - val_loss: 4.2952e-06 - val_acc: 1.0000\n",
      "Epoch 9/20\n",
      "7178/7178 [==============================] - 7s 1ms/step - loss: 5.8112e-07 - acc: 1.0000 - val_loss: 3.0684e-06 - val_acc: 1.0000\n",
      "Epoch 10/20\n",
      "7178/7178 [==============================] - 8s 1ms/step - loss: 4.1242e-07 - acc: 1.0000 - val_loss: 8.9046e-07 - val_acc: 1.0000\n",
      "Epoch 11/20\n",
      "7178/7178 [==============================] - 8s 1ms/step - loss: 2.9764e-07 - acc: 1.0000 - val_loss: 4.1351e-07 - val_acc: 1.0000\n",
      "Epoch 12/20\n",
      "7178/7178 [==============================] - 7s 1ms/step - loss: 2.1991e-07 - acc: 1.0000 - val_loss: 5.8482e-07 - val_acc: 1.0000\n",
      "Epoch 13/20\n",
      "7178/7178 [==============================] - 8s 1ms/step - loss: 1.4180e-07 - acc: 1.0000 - val_loss: 1.2283e-07 - val_acc: 1.0000\n",
      "Epoch 14/20\n",
      "7178/7178 [==============================] - 7s 1ms/step - loss: 1.0150e-07 - acc: 1.0000 - val_loss: 1.0284e-07 - val_acc: 1.0000\n",
      "Epoch 15/20\n",
      "7178/7178 [==============================] - 8s 1ms/step - loss: 7.5890e-08 - acc: 1.0000 - val_loss: 8.5755e-08 - val_acc: 1.0000\n",
      "Epoch 16/20\n",
      "7178/7178 [==============================] - 8s 1ms/step - loss: 5.8594e-08 - acc: 1.0000 - val_loss: 9.8088e-08 - val_acc: 1.0000\n",
      "Epoch 17/20\n",
      "7178/7178 [==============================] - 8s 1ms/step - loss: 4.3592e-08 - acc: 1.0000 - val_loss: 5.7417e-08 - val_acc: 1.0000\n",
      "Epoch 18/20\n",
      "7178/7178 [==============================] - 8s 1ms/step - loss: 3.2413e-08 - acc: 1.0000 - val_loss: 2.5016e-08 - val_acc: 1.0000\n",
      "Epoch 19/20\n",
      "7178/7178 [==============================] - 9s 1ms/step - loss: 2.5595e-08 - acc: 1.0000 - val_loss: 4.9971e-08 - val_acc: 1.0000\n",
      "Epoch 20/20\n",
      "7178/7178 [==============================] - 7s 1ms/step - loss: 2.0776e-08 - acc: 1.0000 - val_loss: 4.4860e-08 - val_acc: 1.0000\n"
     ]
    }
   ],
   "source": [
    "history2 = model2.fit(shuffled_X_TRAIN_DATA, shuffled_Y_TRAIN_DATA, validation_data=(shuffled_X_TEST_DATA, shuffled_Y_TEST_DATA), epochs=20)\n",
    "\n",
    "# Save the model to a file\n",
    "model2.save(MODEL_SAVE_PATH)"
   ]
  },
  {
   "cell_type": "code",
   "execution_count": 39,
   "metadata": {},
   "outputs": [],
   "source": []
  }
 ],
 "metadata": {
  "kernelspec": {
   "display_name": "Python 3",
   "language": "python",
   "name": "python3"
  },
  "language_info": {
   "codemirror_mode": {
    "name": "ipython",
    "version": 3
   },
   "file_extension": ".py",
   "mimetype": "text/x-python",
   "name": "python",
   "nbconvert_exporter": "python",
   "pygments_lexer": "ipython3",
   "version": "3.11.3"
  },
  "orig_nbformat": 4
 },
 "nbformat": 4,
 "nbformat_minor": 2
}
