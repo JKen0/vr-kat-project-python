{
 "cells": [
  {
   "cell_type": "code",
   "execution_count": 16,
   "metadata": {},
   "outputs": [],
   "source": [
    "import os\n",
    "import numpy as np\n",
    "import json"
   ]
  },
  {
   "cell_type": "code",
   "execution_count": 17,
   "metadata": {},
   "outputs": [],
   "source": [
    "# Get the current working directory\n",
    "CURRENT_DIRECTORY = os.getcwd()\n",
    "# Get the parent directory\n",
    "PARENT_DIRECTORY = os.path.dirname(CURRENT_DIRECTORY)\n",
    "PARENT_DIRECTORY = os.path.dirname(PARENT_DIRECTORY)\n",
    "\n",
    "# Open the config file and load its content into a dictionary\n",
    "config_file = open(PARENT_DIRECTORY + '\\\\config\\\\config.json')\n",
    "CONFIG_DATA = json.load(config_file)\n",
    "\n",
    "# Close the file after loading the data\n",
    "config_file.close()"
   ]
  },
  {
   "cell_type": "code",
   "execution_count": 18,
   "metadata": {},
   "outputs": [],
   "source": [
    "REST_LPITCH = CONFIG_DATA[\"REST_LPITCH\"]\n",
    "REST_LROLL = CONFIG_DATA[\"REST_LROLL\"]\n",
    "REST_RPITCH = CONFIG_DATA[\"REST_RPITCH\"]\n",
    "REST_RROLL = CONFIG_DATA[\"REST_RROLL\"]\n",
    "\n",
    "ALL_X_TRAINING_DATA_PATH = PARENT_DIRECTORY + '\\\\NeuralNetwork\\\\np-saved-data\\\\training\\\\ALL-X-TRAIN-CLASSIFY-MOTIONTYPE-STEPS-V0.npy'\n",
    "ALL_Y_TRAINING_DATA_PATH = PARENT_DIRECTORY + '\\\\NeuralNetwork\\\\np-saved-data\\\\training\\\\ALL-Y-TRAIN-CLASSIFY-MOTIONTYPE-STEPS-V0.npy'\n",
    "ALL_X_TEST_DATA_PATH = PARENT_DIRECTORY + '\\\\NeuralNetwork\\\\np-saved-data\\\\test\\\\ALL-X-TEST-CLASSIFY-MOTIONTYPE-STEPS-V0.npy'\n",
    "ALL_Y_TEST_DATA_PATH = PARENT_DIRECTORY + '\\\\NeuralNetwork\\\\np-saved-data\\\\test\\\\ALL-Y-TEST-CLASSIFY-MOTIONTYPE-STEPS-V0.npy'\n",
    "\n",
    "\n",
    "NEW_ALL_X_TRAINING_DATA_PATH = PARENT_DIRECTORY + '\\\\NeuralNetwork\\\\np-saved-data\\\\training\\\\ALL-X-TRAIN-CLASSIFY-MOTIONTYPE-STEPS-V4.npy'\n",
    "NEW_ALL_Y_TRAINING_DATA_PATH = PARENT_DIRECTORY + '\\\\NeuralNetwork\\\\np-saved-data\\\\training\\\\ALL-Y-TRAIN-CLASSIFY-MOTIONTYPE-STEPS-V4.npy'\n",
    "NEW_ALL_X_TEST_DATA_PATH = PARENT_DIRECTORY + '\\\\NeuralNetwork\\\\np-saved-data\\\\test\\\\ALL-X-TEST-CLASSIFY-MOTIONTYPE-STEPS-V4.npy'\n",
    "NEW_ALL_Y_TEST_DATA_PATH = PARENT_DIRECTORY + '\\\\NeuralNetwork\\\\np-saved-data\\\\test\\\\ALL-Y-TEST-CLASSIFY-MOTIONTYPE-STEPS-V4.npy'\n"
   ]
  },
  {
   "cell_type": "code",
   "execution_count": 19,
   "metadata": {},
   "outputs": [
    {
     "name": "stdout",
     "output_type": "stream",
     "text": [
      "[[18.  3. 43. -1.]\n",
      " [18.  3. 43. -1.]\n",
      " [18.  3. 43. -1.]\n",
      " [18.  3. 43. -1.]\n",
      " [18.  2. 43. -1.]\n",
      " [18.  2. 43. -1.]\n",
      " [18.  2. 43. -1.]\n",
      " [18.  2. 43. -1.]\n",
      " [18.  2. 43. -1.]\n",
      " [19.  2. 43. -1.]]\n"
     ]
    }
   ],
   "source": [
    "ALL_X_TRAIN_DATA = np.load(ALL_X_TRAINING_DATA_PATH)\n",
    "ALL_Y_TRAIN_DATA = np.load(ALL_Y_TRAINING_DATA_PATH)\n",
    "\n",
    "ALL_X_TEST_DATA = np.load(ALL_X_TEST_DATA_PATH)\n",
    "ALL_Y_TEST_DATA = np.load(ALL_Y_TEST_DATA_PATH)\n",
    "\n",
    "print(ALL_X_TRAIN_DATA[0:10, :])"
   ]
  },
  {
   "cell_type": "code",
   "execution_count": 20,
   "metadata": {},
   "outputs": [
    {
     "name": "stdout",
     "output_type": "stream",
     "text": [
      "[[ 0.  0. 26.  1.]\n",
      " [ 0.  0. 26.  1.]\n",
      " [ 0.  0. 26.  1.]\n",
      " [ 0.  0. 26.  1.]\n",
      " [ 0. -1. 26.  1.]\n",
      " [ 0. -1. 26.  1.]\n",
      " [ 0. -1. 26.  1.]\n",
      " [ 0. -1. 26.  1.]\n",
      " [ 0. -1. 26.  1.]\n",
      " [ 1. -1. 26.  1.]]\n"
     ]
    }
   ],
   "source": [
    "ALL_X_TRAIN_DATA[:, 0] = ALL_X_TRAIN_DATA[:, 0] - REST_LPITCH\n",
    "ALL_X_TRAIN_DATA[:, 1] = ALL_X_TRAIN_DATA[:, 1] - REST_LROLL\n",
    "ALL_X_TRAIN_DATA[:, 2] = ALL_X_TRAIN_DATA[:, 2] - REST_RPITCH\n",
    "ALL_X_TRAIN_DATA[:, 3] = ALL_X_TRAIN_DATA[:, 3] - REST_RROLL\n",
    "\n",
    "print(ALL_X_TRAIN_DATA[0:10, :])"
   ]
  },
  {
   "cell_type": "code",
   "execution_count": 21,
   "metadata": {},
   "outputs": [
    {
     "name": "stdout",
     "output_type": "stream",
     "text": [
      "[[24. 10. 26. -1.]\n",
      " [24. 10. 26. -1.]\n",
      " [24. 10. 28. -1.]\n",
      " [24. 10. 28. -1.]\n",
      " [24. 10. 28. -1.]\n",
      " [24. 10. 31. -1.]\n",
      " [24. 10. 36. -1.]\n",
      " [22. 10. 38. -1.]\n",
      " [21.  8. 42. -1.]\n",
      " [19.  3. 42. -1.]]\n",
      "[[ 6.  7.  9.  1.]\n",
      " [ 6.  7.  9.  1.]\n",
      " [ 6.  7. 11.  1.]\n",
      " [ 6.  7. 11.  1.]\n",
      " [ 6.  7. 11.  1.]\n",
      " [ 6.  7. 14.  1.]\n",
      " [ 6.  7. 19.  1.]\n",
      " [ 4.  7. 21.  1.]\n",
      " [ 3.  5. 25.  1.]\n",
      " [ 1.  0. 25.  1.]]\n"
     ]
    }
   ],
   "source": [
    "print(ALL_X_TEST_DATA[0:10, :])\n",
    "\n",
    "ALL_X_TEST_DATA[:, 0] = ALL_X_TEST_DATA[:, 0] - REST_LPITCH\n",
    "ALL_X_TEST_DATA[:, 1] = ALL_X_TEST_DATA[:, 1] - REST_LROLL\n",
    "ALL_X_TEST_DATA[:, 2] = ALL_X_TEST_DATA[:, 2] - REST_RPITCH\n",
    "ALL_X_TEST_DATA[:, 3] = ALL_X_TEST_DATA[:, 3] - REST_RROLL\n",
    "\n",
    "print(ALL_X_TEST_DATA[0:10, :])"
   ]
  },
  {
   "cell_type": "code",
   "execution_count": 22,
   "metadata": {},
   "outputs": [],
   "source": [
    "np.save(NEW_ALL_X_TRAINING_DATA_PATH, ALL_X_TRAIN_DATA)\n",
    "np.save(NEW_ALL_Y_TRAINING_DATA_PATH, ALL_Y_TRAIN_DATA)\n",
    "np.save(NEW_ALL_X_TEST_DATA_PATH, ALL_X_TEST_DATA)\n",
    "np.save(NEW_ALL_Y_TEST_DATA_PATH, ALL_Y_TEST_DATA)"
   ]
  }
 ],
 "metadata": {
  "kernelspec": {
   "display_name": "Python 3",
   "language": "python",
   "name": "python3"
  },
  "language_info": {
   "codemirror_mode": {
    "name": "ipython",
    "version": 3
   },
   "file_extension": ".py",
   "mimetype": "text/x-python",
   "name": "python",
   "nbconvert_exporter": "python",
   "pygments_lexer": "ipython3",
   "version": "3.11.2"
  },
  "orig_nbformat": 4
 },
 "nbformat": 4,
 "nbformat_minor": 2
}
