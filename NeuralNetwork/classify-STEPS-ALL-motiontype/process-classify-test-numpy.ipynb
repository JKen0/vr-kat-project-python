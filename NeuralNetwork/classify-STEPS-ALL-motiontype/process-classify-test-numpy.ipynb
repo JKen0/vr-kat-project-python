{
 "cells": [
  {
   "cell_type": "code",
   "execution_count": 1,
   "metadata": {},
   "outputs": [],
   "source": [
    "import os\n",
    "import pandas as pd\n",
    "import json\n",
    "import numpy as np"
   ]
  },
  {
   "cell_type": "code",
   "execution_count": 2,
   "metadata": {},
   "outputs": [],
   "source": [
    "# Get the current working directory\n",
    "CURRENT_DIRECTORY = os.getcwd()\n",
    "# Get the parent directory\n",
    "PARENT_DIRECTORY = os.path.dirname(CURRENT_DIRECTORY)\n",
    "PARENT_DIRECTORY = os.path.dirname(PARENT_DIRECTORY)\n",
    "\n",
    "# Open the config file and load its content into a dictionary\n",
    "config_file = open(PARENT_DIRECTORY + '\\\\config\\\\config.json')\n",
    "CONFIG_DATA = json.load(config_file)\n",
    "\n",
    "# Close the file after loading the data\n",
    "config_file.close()"
   ]
  },
  {
   "cell_type": "code",
   "execution_count": 3,
   "metadata": {},
   "outputs": [
    {
     "ename": "KeyError",
     "evalue": "'STEPS_PITCH_ROTATION_THRESHOLD'",
     "output_type": "error",
     "traceback": [
      "\u001b[1;31m---------------------------------------------------------------------------\u001b[0m",
      "\u001b[1;31mKeyError\u001b[0m                                  Traceback (most recent call last)",
      "Cell \u001b[1;32mIn[3], line 4\u001b[0m\n\u001b[0;32m      1\u001b[0m WINDOW_SIZE \u001b[39m=\u001b[39m CONFIG_DATA[\u001b[39m'\u001b[39m\u001b[39mWINDOW_SIZE\u001b[39m\u001b[39m'\u001b[39m]\n\u001b[0;32m      2\u001b[0m NUMBER_OF_FEATURES \u001b[39m=\u001b[39m \u001b[39m4\u001b[39m\n\u001b[1;32m----> 4\u001b[0m PITCH_THRESHOLD \u001b[39m=\u001b[39m CONFIG_DATA[\u001b[39m'\u001b[39;49m\u001b[39mSTEPS_PITCH_ROTATION_THRESHOLD\u001b[39;49m\u001b[39m'\u001b[39;49m]\n\u001b[0;32m      6\u001b[0m CLASSIFICATIONS \u001b[39m=\u001b[39m CONFIG_DATA[\u001b[39m'\u001b[39m\u001b[39mCLASSES_MOTIONTYPE\u001b[39m\u001b[39m'\u001b[39m]\n\u001b[0;32m      8\u001b[0m LABEL_COLUMN \u001b[39m=\u001b[39m \u001b[39m'\u001b[39m\u001b[39mClass_MotionType\u001b[39m\u001b[39m'\u001b[39m\n",
      "\u001b[1;31mKeyError\u001b[0m: 'STEPS_PITCH_ROTATION_THRESHOLD'"
     ]
    }
   ],
   "source": [
    "WINDOW_SIZE = CONFIG_DATA['WINDOW_SIZE']\n",
    "NUMBER_OF_FEATURES = 4\n",
    "\n",
    "CLASSIFICATIONS = CONFIG_DATA['CLASSES_MOTIONTYPE']\n",
    "\n",
    "LABEL_COLUMN = 'Class_MotionType'\n",
    "\n",
    "# processed data folder path\n",
    "DATA_FOLDER = PARENT_DIRECTORY + '\\\\processed-training-data\\\\4-PROCESSED-DATA\\\\TEST2\\\\'\n",
    "\n",
    "# save numpy data folder\n",
    "NUMPY_DATA_FOLDER_FILE_PATH = PARENT_DIRECTORY + '\\\\NeuralNetwork\\\\np-saved-data\\\\'\n",
    "\n",
    "# v0 data (not normalized, use to generate more data)\n",
    "ALL_X_TEST_CLASSIFY_PATH = PARENT_DIRECTORY + '\\\\NeuralNetwork\\\\np-saved-data\\\\test\\\\ALL-X-TEST-CLASSIFY-MOTIONTYPE-STEPS-V0.npy'\n",
    "ALL_Y_TEST_CLASSIFY_PATH = PARENT_DIRECTORY + '\\\\NeuralNetwork\\\\np-saved-data\\\\test\\\\ALL-Y-TEST-CLASSIFY-MOTIONTYPE-STEPS-V0.npy'"
   ]
  },
  {
   "cell_type": "code",
   "execution_count": null,
   "metadata": {},
   "outputs": [
    {
     "name": "stdout",
     "output_type": "stream",
     "text": [
      "{'LAR': 0, 'SML': 1}\n"
     ]
    }
   ],
   "source": [
    "LABEL_TO_CATEGORY = {label: category for category, label in enumerate(CLASSIFICATIONS)}\n",
    "\n",
    "print(LABEL_TO_CATEGORY)"
   ]
  },
  {
   "cell_type": "code",
   "execution_count": null,
   "metadata": {},
   "outputs": [
    {
     "name": "stdout",
     "output_type": "stream",
     "text": [
      "['PROC-TEST2-STEPS-LR-LAR-130BPM.xlsx', 'PROC-TEST2-STEPS-LR-LAR-132BPM.xlsx', 'PROC-TEST2-STEPS-LR-LAR-180BPM-AUGMENT.xlsx', 'PROC-TEST2-STEPS-LR-LAR-184BPM-AUGMENT.xlsx', 'PROC-TEST2-STEPS-LR-LAR-196BPM-AUGMENT.xlsx', 'PROC-TEST2-STEPS-LR-LAR-260BPM-AUGMENT.xlsx', 'PROC-TEST2-STEPS-LR-LAR-264BPM-AUGMENT.xlsx', 'PROC-TEST2-STEPS-LR-LAR-45BPM-AUGMENT.xlsx', 'PROC-TEST2-STEPS-LR-LAR-46BPM-AUGMENT.xlsx', 'PROC-TEST2-STEPS-LR-LAR-49BPM-AUGMENT.xlsx', 'PROC-TEST2-STEPS-LR-LAR-65BPM-AUGMENT.xlsx', 'PROC-TEST2-STEPS-LR-LAR-66BPM-AUGMENT.xlsx', 'PROC-TEST2-STEPS-LR-LAR-90BPM.xlsx', 'PROC-TEST2-STEPS-LR-LAR-92BPM.xlsx', 'PROC-TEST2-STEPS-LR-LAR-98BPM.xlsx', 'PROC-TEST2-STEPS-LR-SML-100BPM-AUGMENT.xlsx', 'PROC-TEST2-STEPS-LR-SML-130BPM.xlsx', 'PROC-TEST2-STEPS-LR-SML-180BPM-AUGMENT.xlsx', 'PROC-TEST2-STEPS-LR-SML-25BPM-AUGMENT.xlsx', 'PROC-TEST2-STEPS-LR-SML-260BPM-AUGMENT.xlsx', 'PROC-TEST2-STEPS-LR-SML-45BPM-AUGMENT.xlsx', 'PROC-TEST2-STEPS-LR-SML-50BPM.xlsx', 'PROC-TEST2-STEPS-LR-SML-65BPM-AUGMENT.xlsx', 'PROC-TEST2-STEPS-LR-SML-90BPM.xlsx']\n"
     ]
    }
   ],
   "source": [
    "file_names = [file for file in os.listdir(DATA_FOLDER) if file.endswith('.xlsx') and \"SIDESTEPS\" not in file and \"STEPS\" in file and os.path.isfile(os.path.join(DATA_FOLDER, file))]\n",
    "\n",
    "print(file_names)"
   ]
  },
  {
   "cell_type": "code",
   "execution_count": null,
   "metadata": {},
   "outputs": [],
   "source": [
    "def normalizeSensorData(sensor_input):\n",
    "    return (sensor_input + 180)/360"
   ]
  },
  {
   "cell_type": "code",
   "execution_count": null,
   "metadata": {},
   "outputs": [],
   "source": [
    "def df2Xy(df, windowSize=5):\n",
    "  X = []\n",
    "  y = []\n",
    "\n",
    "  # NORMALIZE THE SENSOR DATA\n",
    "  #df[\"L_Pitch_Delta\"] = df[\"L_Pitch_Delta\"].apply(normalizeSensorData)\n",
    "  #df[\"L_Roll_Delta\"] = df[\"L_Roll_Delta\"].apply(normalizeSensorData)\n",
    "  #df[\"R_Pitch_Delta\"] = df[\"R_Pitch_Delta\"].apply(normalizeSensorData)\n",
    "  #df[\"R_Roll_Delta\"] = df[\"R_Roll_Delta\"].apply(normalizeSensorData)\n",
    "\n",
    "  for i in range( len(df) - windowSize + 1):\n",
    "    # inputs: X rows\n",
    "    # form a new input which has size of our windowSize\n",
    "    input_data_list_readings = []\n",
    "\n",
    "    # loop through each row in our windowsize\n",
    "    for j in range(windowSize):\n",
    "        # fetch sensor data for this row\n",
    "        row_values_readings = df.loc[i + j, ['L_Pitch', 'L_Roll', 'R_Pitch', 'R_Roll']].values.tolist()\n",
    "\n",
    "        # add row values to the input\n",
    "        input_data_list_readings.append(row_values_readings)\n",
    "\n",
    "    # turnn list into array to do arthimetic\n",
    "    raw_sensor_data = np.array(input_data_list_readings)\n",
    "\n",
    "    max_sensor_reading = np.max(raw_sensor_data, axis=0)\n",
    "\n",
    "    input_data_array = np.copy(max_sensor_reading)\n",
    "\n",
    "    if(np.isnan(input_data_array).any() == False):\n",
    "      # turn back to list\n",
    "      input_data_list = input_data_array.tolist()\n",
    "\n",
    "      # add our input to our total inputs, marked as X\n",
    "      X.append(input_data_list)\n",
    "\n",
    "      # outputs: y labels\n",
    "      label = df.loc[i + (windowSize - 1), [LABEL_COLUMN]].values.tolist()\n",
    "\n",
    "      y.append(label)\n",
    "\n",
    "  return (np.array(X), np.array(y))"
   ]
  },
  {
   "cell_type": "code",
   "execution_count": null,
   "metadata": {},
   "outputs": [],
   "source": [
    "ALL_X = np.empty((0, NUMBER_OF_FEATURES))  # List to store all X training data\n",
    "ALL_Y = np.empty((0))  # List to store all Y training data"
   ]
  },
  {
   "cell_type": "code",
   "execution_count": null,
   "metadata": {},
   "outputs": [],
   "source": [
    "def processData(ALL_X, ALL_Y):\n",
    "    for fileName in file_names:\n",
    "        # Read the Excel file\n",
    "        df = pd.read_excel(DATA_FOLDER + fileName)\n",
    "\n",
    "        xTest, yTest = df2Xy(df, WINDOW_SIZE)\n",
    "\n",
    "        yTest = yTest.reshape(-1)\n",
    "        \n",
    "        ALL_X = np.concatenate([ALL_X, xTest])\n",
    "        ALL_Y = np.concatenate([ALL_Y, yTest])\n",
    "        \n",
    "        print('xTest.shape:', xTest.shape)\n",
    "        print('ALL_X.shape:', ALL_X.shape, ' ALL_Y.shape:', ALL_Y.shape)\n",
    "        print('-------------------------------')\n",
    "\n",
    "    # Create the folder if it doesn't exist\n",
    "    if not os.path.exists(NUMPY_DATA_FOLDER_FILE_PATH):\n",
    "        os.makedirs(NUMPY_DATA_FOLDER_FILE_PATH)\n",
    "\n",
    "    # convert to numerical labels (originally text labels)\n",
    "    numerical_label = np.vectorize(LABEL_TO_CATEGORY.get)(ALL_Y)\n",
    "    \n",
    "\n",
    "    # Assuming your numpy array is called 'data_array'\n",
    "    np.save(ALL_X_TEST_CLASSIFY_PATH, ALL_X)\n",
    "    np.save(ALL_Y_TEST_CLASSIFY_PATH, numerical_label)\n"
   ]
  },
  {
   "cell_type": "code",
   "execution_count": null,
   "metadata": {},
   "outputs": [
    {
     "name": "stdout",
     "output_type": "stream",
     "text": [
      "xTest.shape: (3771, 4)\n",
      "ALL_X.shape: (3771, 4)  ALL_Y.shape: (3771,)\n",
      "-------------------------------\n",
      "xTest.shape: (3618, 4)\n",
      "ALL_X.shape: (7389, 4)  ALL_Y.shape: (7389,)\n",
      "-------------------------------\n",
      "xTest.shape: (3582, 4)\n",
      "ALL_X.shape: (10971, 4)  ALL_Y.shape: (10971,)\n",
      "-------------------------------\n",
      "xTest.shape: (3488, 4)\n",
      "ALL_X.shape: (14459, 4)  ALL_Y.shape: (14459,)\n",
      "-------------------------------\n",
      "xTest.shape: (3501, 4)\n",
      "ALL_X.shape: (17960, 4)  ALL_Y.shape: (17960,)\n",
      "-------------------------------\n",
      "xTest.shape: (3771, 4)\n",
      "ALL_X.shape: (21731, 4)  ALL_Y.shape: (21731,)\n",
      "-------------------------------\n",
      "xTest.shape: (3618, 4)\n",
      "ALL_X.shape: (25349, 4)  ALL_Y.shape: (25349,)\n",
      "-------------------------------\n",
      "xTest.shape: (7183, 4)\n",
      "ALL_X.shape: (32532, 4)  ALL_Y.shape: (32532,)\n",
      "-------------------------------\n",
      "xTest.shape: (6995, 4)\n",
      "ALL_X.shape: (39527, 4)  ALL_Y.shape: (39527,)\n",
      "-------------------------------\n",
      "xTest.shape: (7021, 4)\n",
      "ALL_X.shape: (46548, 4)  ALL_Y.shape: (46548,)\n",
      "-------------------------------\n",
      "xTest.shape: (7561, 4)\n",
      "ALL_X.shape: (54109, 4)  ALL_Y.shape: (54109,)\n",
      "-------------------------------\n",
      "xTest.shape: (7255, 4)\n",
      "ALL_X.shape: (61364, 4)  ALL_Y.shape: (61364,)\n",
      "-------------------------------\n",
      "xTest.shape: (3582, 4)\n",
      "ALL_X.shape: (64946, 4)  ALL_Y.shape: (64946,)\n",
      "-------------------------------\n",
      "xTest.shape: (3488, 4)\n",
      "ALL_X.shape: (68434, 4)  ALL_Y.shape: (68434,)\n",
      "-------------------------------\n",
      "xTest.shape: (3501, 4)\n",
      "ALL_X.shape: (71935, 4)  ALL_Y.shape: (71935,)\n",
      "-------------------------------\n",
      "xTest.shape: (4930, 4)\n",
      "ALL_X.shape: (76865, 4)  ALL_Y.shape: (76865,)\n",
      "-------------------------------\n",
      "xTest.shape: (3776, 4)\n",
      "ALL_X.shape: (80641, 4)  ALL_Y.shape: (80641,)\n",
      "-------------------------------\n",
      "xTest.shape: (4549, 4)\n",
      "ALL_X.shape: (85190, 4)  ALL_Y.shape: (85190,)\n",
      "-------------------------------\n",
      "xTest.shape: (9879, 4)\n",
      "ALL_X.shape: (95069, 4)  ALL_Y.shape: (95069,)\n",
      "-------------------------------\n",
      "xTest.shape: (3776, 4)\n",
      "ALL_X.shape: (98845, 4)  ALL_Y.shape: (98845,)\n",
      "-------------------------------\n",
      "xTest.shape: (9117, 4)\n",
      "ALL_X.shape: (107962, 4)  ALL_Y.shape: (107962,)\n",
      "-------------------------------\n",
      "xTest.shape: (4930, 4)\n",
      "ALL_X.shape: (112892, 4)  ALL_Y.shape: (112892,)\n",
      "-------------------------------\n",
      "xTest.shape: (7571, 4)\n",
      "ALL_X.shape: (120463, 4)  ALL_Y.shape: (120463,)\n",
      "-------------------------------\n",
      "xTest.shape: (4549, 4)\n",
      "ALL_X.shape: (125012, 4)  ALL_Y.shape: (125012,)\n",
      "-------------------------------\n"
     ]
    },
    {
     "ename": "ValueError",
     "evalue": "Object arrays cannot be loaded when allow_pickle=False",
     "output_type": "error",
     "traceback": [
      "\u001b[1;31m---------------------------------------------------------------------------\u001b[0m",
      "\u001b[1;31mValueError\u001b[0m                                Traceback (most recent call last)",
      "Cell \u001b[1;32mIn[25], line 4\u001b[0m\n\u001b[0;32m      1\u001b[0m processData(ALL_X, ALL_Y)\n\u001b[0;32m      3\u001b[0m ALL_X_TEST_CLASSIFY \u001b[39m=\u001b[39m np\u001b[39m.\u001b[39mload(ALL_X_TEST_CLASSIFY_PATH)\n\u001b[1;32m----> 4\u001b[0m ALL_Y_TEST_CLASSIFY \u001b[39m=\u001b[39m np\u001b[39m.\u001b[39;49mload(ALL_Y_TEST_CLASSIFY_PATH)\n\u001b[0;32m      6\u001b[0m \u001b[39mprint\u001b[39m(ALL_X_TEST_CLASSIFY\u001b[39m.\u001b[39mshape)\n\u001b[0;32m      7\u001b[0m \u001b[39mprint\u001b[39m(ALL_Y_TEST_CLASSIFY\u001b[39m.\u001b[39mshape)\n",
      "File \u001b[1;32mc:\\Users\\kenne\\AppData\\Local\\Programs\\Python\\Python311\\Lib\\site-packages\\numpy\\lib\\npyio.py:432\u001b[0m, in \u001b[0;36mload\u001b[1;34m(file, mmap_mode, allow_pickle, fix_imports, encoding, max_header_size)\u001b[0m\n\u001b[0;32m    429\u001b[0m         \u001b[39mreturn\u001b[39;00m \u001b[39mformat\u001b[39m\u001b[39m.\u001b[39mopen_memmap(file, mode\u001b[39m=\u001b[39mmmap_mode,\n\u001b[0;32m    430\u001b[0m                                   max_header_size\u001b[39m=\u001b[39mmax_header_size)\n\u001b[0;32m    431\u001b[0m     \u001b[39melse\u001b[39;00m:\n\u001b[1;32m--> 432\u001b[0m         \u001b[39mreturn\u001b[39;00m \u001b[39mformat\u001b[39;49m\u001b[39m.\u001b[39;49mread_array(fid, allow_pickle\u001b[39m=\u001b[39;49mallow_pickle,\n\u001b[0;32m    433\u001b[0m                                  pickle_kwargs\u001b[39m=\u001b[39;49mpickle_kwargs,\n\u001b[0;32m    434\u001b[0m                                  max_header_size\u001b[39m=\u001b[39;49mmax_header_size)\n\u001b[0;32m    435\u001b[0m \u001b[39melse\u001b[39;00m:\n\u001b[0;32m    436\u001b[0m     \u001b[39m# Try a pickle\u001b[39;00m\n\u001b[0;32m    437\u001b[0m     \u001b[39mif\u001b[39;00m \u001b[39mnot\u001b[39;00m allow_pickle:\n",
      "File \u001b[1;32mc:\\Users\\kenne\\AppData\\Local\\Programs\\Python\\Python311\\Lib\\site-packages\\numpy\\lib\\format.py:776\u001b[0m, in \u001b[0;36mread_array\u001b[1;34m(fp, allow_pickle, pickle_kwargs, max_header_size)\u001b[0m\n\u001b[0;32m    773\u001b[0m \u001b[39mif\u001b[39;00m dtype\u001b[39m.\u001b[39mhasobject:\n\u001b[0;32m    774\u001b[0m     \u001b[39m# The array contained Python objects. We need to unpickle the data.\u001b[39;00m\n\u001b[0;32m    775\u001b[0m     \u001b[39mif\u001b[39;00m \u001b[39mnot\u001b[39;00m allow_pickle:\n\u001b[1;32m--> 776\u001b[0m         \u001b[39mraise\u001b[39;00m \u001b[39mValueError\u001b[39;00m(\u001b[39m\"\u001b[39m\u001b[39mObject arrays cannot be loaded when \u001b[39m\u001b[39m\"\u001b[39m\n\u001b[0;32m    777\u001b[0m                          \u001b[39m\"\u001b[39m\u001b[39mallow_pickle=False\u001b[39m\u001b[39m\"\u001b[39m)\n\u001b[0;32m    778\u001b[0m     \u001b[39mif\u001b[39;00m pickle_kwargs \u001b[39mis\u001b[39;00m \u001b[39mNone\u001b[39;00m:\n\u001b[0;32m    779\u001b[0m         pickle_kwargs \u001b[39m=\u001b[39m {}\n",
      "\u001b[1;31mValueError\u001b[0m: Object arrays cannot be loaded when allow_pickle=False"
     ]
    }
   ],
   "source": [
    "processData(ALL_X, ALL_Y)\n",
    "\n",
    "ALL_X_TEST_CLASSIFY = np.load(ALL_X_TEST_CLASSIFY_PATH)\n",
    "ALL_Y_TEST_CLASSIFY = np.load(ALL_Y_TEST_CLASSIFY_PATH, allow_pickle=True)\n",
    "\n",
    "print(ALL_X_TEST_CLASSIFY.shape)\n",
    "print(ALL_Y_TEST_CLASSIFY.shape)"
   ]
  },
  {
   "cell_type": "code",
   "execution_count": null,
   "metadata": {},
   "outputs": [],
   "source": []
  },
  {
   "cell_type": "code",
   "execution_count": null,
   "metadata": {},
   "outputs": [
    {
     "name": "stdout",
     "output_type": "stream",
     "text": [
      "(125012, 4)\n",
      "(125012,)\n"
     ]
    }
   ],
   "source": [
    "print(ALL_X_TEST_CLASSIFY.shape)\n",
    "print(ALL_Y_TEST_CLASSIFY.shape)\n"
   ]
  }
 ],
 "metadata": {
  "kernelspec": {
   "display_name": "Python 3",
   "language": "python",
   "name": "python3"
  },
  "language_info": {
   "codemirror_mode": {
    "name": "ipython",
    "version": 3
   },
   "file_extension": ".py",
   "mimetype": "text/x-python",
   "name": "python",
   "nbconvert_exporter": "python",
   "pygments_lexer": "ipython3",
   "version": "3.11.2"
  },
  "orig_nbformat": 4
 },
 "nbformat": 4,
 "nbformat_minor": 2
}
